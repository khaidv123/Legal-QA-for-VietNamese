{
 "cells": [
  {
   "cell_type": "code",
   "execution_count": 1,
   "metadata": {
    "executionInfo": {
     "elapsed": 511,
     "status": "ok",
     "timestamp": 1734854882176,
     "user": {
      "displayName": "Khải Đặng",
      "userId": "00827885371675823732"
     },
     "user_tz": -420
    },
    "id": "8IrQklM4RKrc"
   },
   "outputs": [],
   "source": []
  },
  {
   "cell_type": "code",
   "execution_count": 1,
   "metadata": {
    "executionInfo": {
     "elapsed": 3,
     "status": "ok",
     "timestamp": 1734852757018,
     "user": {
      "displayName": "Khải Đặng",
      "userId": "00827885371675823732"
     },
     "user_tz": -420
    },
    "id": "XYFp7MzJRQD4"
   },
   "outputs": [],
   "source": [
    "PROMPT = {}"
   ]
  },
  {
   "cell_type": "code",
   "execution_count": 23,
   "metadata": {
    "executionInfo": {
     "elapsed": 301,
     "status": "ok",
     "timestamp": 1734855453541,
     "user": {
      "displayName": "Khải Đặng",
      "userId": "00827885371675823732"
     },
     "user_tz": -420
    },
    "id": "eAXdiP7rSAbt"
   },
   "outputs": [],
   "source": [
    "PROMPT['evaluation_from_test']= '''\n",
    "Bạn là một chuyên gia luật, được giao nhiệm vụ là phân tích đánh giá câu trả lời của một sinh viên so với đáp án đúng (standard golden answer) về hỏi đáp luật.\n",
    "\n",
    "## Các tiêu chí đánh giá:\n",
    "Bạn sẽ phải so sánh câu trả lời với đáp án để cho điểm số từ 0-10 điểm, trong đó:\n",
    "### 0 điểm: không có câu trả lời được cung cấp\n",
    "### 1-2 điểm: Đã có được một số thông tin được cung cấp, nhưng nó hoàn toàn không liên quan, trùng khớp với câu trả lời đúng.\n",
    "### 3-5 điểm: Đã trả lời được một vài thông tin chính xác hữu ích, có trong câu trả lời đúng, tuy nhiên chúng chưa đầy đủ và chứa nhiều thông tin không chính xác, liên quan.\n",
    "### 6-7 điểm: Đã trả lời được nhiều thông tin có ích hơn khoảng 50% thông tin có trong câu trả lời đúng. Tuy nhiên trả lời vẫn dài dòng, ít thông tin không chính xác, không liên quan hơn.\n",
    "### 8-9 điểm: Đã trả lời được nhiều thông tin có ích hơn khoảng 70%-90% thông tin có trong câu trả lời đúng, những thông tin không liên quan có ít hơn nhưng nó không quá ảnh hưởng đến câu trả lời\n",
    "### 10 điểm: Chứa tất các nội dung được nhắc đến trong câu trả lời đúng, không thừa không thiếu, mặc dù có thể diễn đạt theo cách khác.\n",
    "\n",
    "## Đầu ra dạng JSON:\n",
    "```json\n",
    "{\n",
    "  \"Score\" : \"<điểm số>\" # chỉ cần ghi mỗi số\n",
    "  \"Explain\" : \"<giải thích vì sao đạt điểm đó>\"\n",
    "}\n",
    "```\n",
    "\n",
    "## Câu hỏi:\n",
    "<<q>>\n",
    "\n",
    "## Đây là câu trả lời đúng:\n",
    "<<sga>>\n",
    "\n",
    "## Đây là câu trả lời mà bạn cần đánh giá\n",
    "<<a>>\n",
    "'''"
   ]
  },
  {
   "cell_type": "code",
   "execution_count": 70,
   "metadata": {
    "executionInfo": {
     "elapsed": 316,
     "status": "ok",
     "timestamp": 1734858312244,
     "user": {
      "displayName": "Khải Đặng",
      "userId": "00827885371675823732"
     },
     "user_tz": -420
    },
    "id": "yHD4-fcWkrUs"
   },
   "outputs": [],
   "source": [
    "PROMPT['evaluation_from_test_kw']= '''\n",
    "Bạn là một chuyên gia luật, được giao nhiệm vụ là phân tích đánh giá câu trả lời của một sinh viên so với đáp án đúng (standard golden answer) về hỏi đáp luật.\n",
    "\n",
    "## Các TIÊU CHÍ đánh giá:\n",
    "Bạn sẽ phải trích xuất các từ khóa, thông tin quan trọng của câu trả lời với so với đáp án đúng để cho điểm số từ 0-10 điểm, trong đó:\n",
    "\n",
    "### 0-2 điểm: Không có một từ khóa quan trọng được trích xuất ra\n",
    "### 3-5 điểm: Đã có một vài từ khóa, thông tin quan trọng. Tuy nhiên vẫn chứa nhiều thông tin sai.\n",
    "### 6-7 điểm: Đã có một vài từ khóa, thông tin quan trọng khoảng 50%. Chứa ít thông tin sai hơn.\n",
    "### 8-9 điểm: Đã có một vài từ khóa, thông tin quan trọng khoảng 60%-90% thông tin có trong câu trả lời đúng, những thông tin không liên quan có ít hơn nhưng nó không quá ảnh hưởng đến câu trả lời\n",
    "### 10 điểm: Chứa tất các nội dung được nhắc đến trong câu trả lời đúng, không thừa không thiếu, mặc dù có thể diễn đạt theo cách khác.\n",
    "\n",
    "LƯU Ý: Cho dù câu trả lời có dài hay ngắn hơn đáp án thì điều đó không quan trọng, miễn là trả lời đúng ý.\n",
    "\n",
    "## Đầu ra dạng JSON:\n",
    "```json\n",
    "{\n",
    "  \"sga\" : [\"<từ khóa quan trọng>\", \"<thông tin quan trọng>\", ...] # Thông tin quan trọng của đáp án đúng\n",
    "  \"anwser\" : [\"<từ khóa quan trọng>\", \"<thông tin quan trọng>\", ...] # Thông tin quan trọng của câu trả lời\n",
    "  \"Explain\" : \"<phân tích thông tin quan trọng ở trên, so sánh, đánh giá câu trả lời với đáp án dựa trên TIÊU CHÍ đã đề cập>\"\n",
    "  \"Score\" : \"<điểm số>\" # chỉ cần ghi mỗi số\n",
    "}\n",
    "```\n",
    "\n",
    "## Câu hỏi:\n",
    "<<q>>\n",
    "\n",
    "## Đây là câu trả lời đúng (sga):\n",
    "<<sga>>\n",
    "\n",
    "## Đây là câu trả lời mà bạn cần đánh giá (answer)\n",
    "<<a>>\n",
    "'''"
   ]
  },
  {
   "cell_type": "code",
   "execution_count": null,
   "metadata": {
    "id": "VaQKQ4Imkri9"
   },
   "outputs": [],
   "source": []
  },
  {
   "cell_type": "code",
   "execution_count": null,
   "metadata": {
    "id": "79CotvPbSAeQ"
   },
   "outputs": [],
   "source": []
  },
  {
   "cell_type": "code",
   "execution_count": 2,
   "metadata": {
    "colab": {
     "base_uri": "https://localhost:8080/"
    },
    "collapsed": true,
    "executionInfo": {
     "elapsed": 5984,
     "status": "ok",
     "timestamp": 1734854888153,
     "user": {
      "displayName": "Khải Đặng",
      "userId": "00827885371675823732"
     },
     "user_tz": -420
    },
    "id": "bIDEyFh4SAhF",
    "outputId": "d001c85b-7927-42a6-b6e5-6294c930f6d8"
   },
   "outputs": [
    {
     "name": "stdout",
     "output_type": "stream",
     "text": [
      "Requirement already satisfied: openai in /usr/local/lib/python3.10/dist-packages (1.57.4)\n",
      "Requirement already satisfied: anyio<5,>=3.5.0 in /usr/local/lib/python3.10/dist-packages (from openai) (3.7.1)\n",
      "Requirement already satisfied: distro<2,>=1.7.0 in /usr/local/lib/python3.10/dist-packages (from openai) (1.9.0)\n",
      "Requirement already satisfied: httpx<1,>=0.23.0 in /usr/local/lib/python3.10/dist-packages (from openai) (0.28.1)\n",
      "Requirement already satisfied: jiter<1,>=0.4.0 in /usr/local/lib/python3.10/dist-packages (from openai) (0.8.2)\n",
      "Requirement already satisfied: pydantic<3,>=1.9.0 in /usr/local/lib/python3.10/dist-packages (from openai) (2.10.3)\n",
      "Requirement already satisfied: sniffio in /usr/local/lib/python3.10/dist-packages (from openai) (1.3.1)\n",
      "Requirement already satisfied: tqdm>4 in /usr/local/lib/python3.10/dist-packages (from openai) (4.67.1)\n",
      "Requirement already satisfied: typing-extensions<5,>=4.11 in /usr/local/lib/python3.10/dist-packages (from openai) (4.12.2)\n",
      "Requirement already satisfied: idna>=2.8 in /usr/local/lib/python3.10/dist-packages (from anyio<5,>=3.5.0->openai) (3.10)\n",
      "Requirement already satisfied: exceptiongroup in /usr/local/lib/python3.10/dist-packages (from anyio<5,>=3.5.0->openai) (1.2.2)\n",
      "Requirement already satisfied: certifi in /usr/local/lib/python3.10/dist-packages (from httpx<1,>=0.23.0->openai) (2024.12.14)\n",
      "Requirement already satisfied: httpcore==1.* in /usr/local/lib/python3.10/dist-packages (from httpx<1,>=0.23.0->openai) (1.0.7)\n",
      "Requirement already satisfied: h11<0.15,>=0.13 in /usr/local/lib/python3.10/dist-packages (from httpcore==1.*->httpx<1,>=0.23.0->openai) (0.14.0)\n",
      "Requirement already satisfied: annotated-types>=0.6.0 in /usr/local/lib/python3.10/dist-packages (from pydantic<3,>=1.9.0->openai) (0.7.0)\n",
      "Requirement already satisfied: pydantic-core==2.27.1 in /usr/local/lib/python3.10/dist-packages (from pydantic<3,>=1.9.0->openai) (2.27.1)\n",
      "Collecting python-dotenv\n",
      "  Downloading python_dotenv-1.0.1-py3-none-any.whl.metadata (23 kB)\n",
      "Downloading python_dotenv-1.0.1-py3-none-any.whl (19 kB)\n",
      "Installing collected packages: python-dotenv\n",
      "Successfully installed python-dotenv-1.0.1\n"
     ]
    }
   ],
   "source": [
    "!pip install openai\n",
    "!pip install python-dotenv"
   ]
  },
  {
   "cell_type": "code",
   "execution_count": 8,
   "metadata": {
    "colab": {
     "base_uri": "https://localhost:8080/"
    },
    "executionInfo": {
     "elapsed": 307,
     "status": "ok",
     "timestamp": 1734855045380,
     "user": {
      "displayName": "Khải Đặng",
      "userId": "00827885371675823732"
     },
     "user_tz": -420
    },
    "id": "-rPdLiqsSAj6",
    "outputId": "299c3b38-dabd-45e8-be11-cd3f7f414418"
   },
   "outputs": [
    {
     "data": {
      "text/plain": [
       "False"
      ]
     },
     "execution_count": 8,
     "metadata": {},
     "output_type": "execute_result"
    }
   ],
   "source": [
    "from dotenv import load_dotenv\n",
    "import os\n",
    "from openai import OpenAI\n",
    "import json\n",
    "import time\n",
    "\n",
    "# Load file .env\n",
    "load_dotenv()"
   ]
  },
  {
   "cell_type": "code",
   "execution_count": 4,
   "metadata": {
    "executionInfo": {
     "elapsed": 303,
     "status": "ok",
     "timestamp": 1734854933485,
     "user": {
      "displayName": "Khải Đặng",
      "userId": "00827885371675823732"
     },
     "user_tz": -420
    },
    "id": "DIrQSsYBRQG1"
   },
   "outputs": [],
   "source": [
    "client = OpenAI(api_key=\"\")"
   ]
  },
  {
   "cell_type": "code",
   "execution_count": 9,
   "metadata": {
    "executionInfo": {
     "elapsed": 280,
     "status": "ok",
     "timestamp": 1734855047868,
     "user": {
      "displayName": "Khải Đặng",
      "userId": "00827885371675823732"
     },
     "user_tz": -420
    },
    "id": "4kaYEwtvRQJg"
   },
   "outputs": [],
   "source": [
    "def get_completion(prompt, model=\"gpt-4o-mini\"):\n",
    "    messages = [{\"role\": \"user\", \"content\": prompt}]\n",
    "    response = client.chat.completions.create(\n",
    "        model=model,\n",
    "        messages=messages,\n",
    "        temperature=0.2, # this is the degree of randomness of the model's output\n",
    "    )\n",
    "    print(model)\n",
    "    return response.choices[0].message.content"
   ]
  },
  {
   "cell_type": "code",
   "execution_count": 10,
   "metadata": {
    "executionInfo": {
     "elapsed": 2,
     "status": "ok",
     "timestamp": 1734855048862,
     "user": {
      "displayName": "Khải Đặng",
      "userId": "00827885371675823732"
     },
     "user_tz": -420
    },
    "id": "k4jB-5LiRQMN"
   },
   "outputs": [],
   "source": [
    "def get_valid_json_gpt40mini(prompt,max_attempts=3):\n",
    "    attempts = 0\n",
    "    while attempts < max_attempts:\n",
    "        print(f\"attempt : {attempts}\")\n",
    "        HEAD = \"\"\"In your previous response you responded with the wrong request format below, now you have to do it again and respond with the correct JSON as described below\"\"\"\n",
    "\n",
    "        if attempts != 0:\n",
    "            prompt = HEAD + \"\\n\" + prompt\n",
    "\n",
    "        res_second = get_completion(prompt)  # Gọi LLM\n",
    "        try:\n",
    "            dlist = json.loads(res_second.strip(\"```\").strip(\"json\").strip(\"\\n```\"))\n",
    "            print(\"Định dạng JSON hợp lệ!\")\n",
    "            return dlist\n",
    "        except json.JSONDecodeError:\n",
    "            attempts += 1\n",
    "            print(f\"JSON không hợp lệ, thử lại ({attempts}/{max_attempts})...\")\n",
    "    return \"Not\""
   ]
  },
  {
   "cell_type": "code",
   "execution_count": null,
   "metadata": {
    "id": "rkQ6IBIURQRU"
   },
   "outputs": [],
   "source": []
  },
  {
   "cell_type": "code",
   "execution_count": 11,
   "metadata": {
    "executionInfo": {
     "elapsed": 291,
     "status": "ok",
     "timestamp": 1734855077591,
     "user": {
      "displayName": "Khải Đặng",
      "userId": "00827885371675823732"
     },
     "user_tz": -420
    },
    "id": "UbFS2xmIavR9"
   },
   "outputs": [],
   "source": [
    "import json\n",
    "with open('/content/TULUAN_HYBRID.json', 'r', encoding='utf-8') as f:\n",
    "    TULUAN_HYBRID = json.load(f)"
   ]
  },
  {
   "cell_type": "code",
   "execution_count": 12,
   "metadata": {
    "colab": {
     "base_uri": "https://localhost:8080/"
    },
    "executionInfo": {
     "elapsed": 321,
     "status": "ok",
     "timestamp": 1734855086196,
     "user": {
      "displayName": "Khải Đặng",
      "userId": "00827885371675823732"
     },
     "user_tz": -420
    },
    "id": "wO4j128xavUf",
    "outputId": "16241f2f-e62d-41ce-c8b7-f3baff98dd95"
   },
   "outputs": [
    {
     "data": {
      "text/plain": [
       "28"
      ]
     },
     "execution_count": 12,
     "metadata": {},
     "output_type": "execute_result"
    }
   ],
   "source": [
    "len(TULUAN_HYBRID)"
   ]
  },
  {
   "cell_type": "code",
   "execution_count": 17,
   "metadata": {
    "colab": {
     "base_uri": "https://localhost:8080/"
    },
    "collapsed": true,
    "executionInfo": {
     "elapsed": 333,
     "status": "ok",
     "timestamp": 1734855215965,
     "user": {
      "displayName": "Khải Đặng",
      "userId": "00827885371675823732"
     },
     "user_tz": -420
    },
    "id": "HbBTyAq4bb3R",
    "outputId": "798d2786-8b39-41b3-d853-37ad418f0780"
   },
   "outputs": [
    {
     "data": {
      "text/plain": [
       "{'q': 'Theo Luật hôn nhân và gia đình năm 2014, những nguyên tắc cơ bản của chế độ hôn nhân và gia đình ở nước ta được quy định như thế nào?',\n",
       " 'hybrid': '## Nguyên Tắc Cơ Bản của Chế Độ Hôn Nhân và Gia Đình theo Luật Hôn Nhân và Gia Đình Năm 2014\\n\\nLuật Hôn nhân và Gia đình năm 2014, có hiệu lực từ ngày 01/01/2015, đã quy định một cách rõ ràng các nguyên tắc cơ bản trong chế độ hôn nhân và gia đình tại Việt Nam. Những nguyên tắc này không chỉ bảo đảm quyền và nghĩa vụ của các bên trong quan hệ hôn nhân mà còn thể hiện sự bình đẳng và công bằng giữa các thành viên trong gia đình. Dưới đây là một số nguyên tắc cơ bản được quy định trong bộ luật này.\\n\\n### 1. Nguyên Tắc Một Vợ Một Chồng\\n\\nLuật quy định rằng chế độ hôn nhân tại Việt Nam là hôn nhân một vợ một chồng. Điều này nhấn mạnh rằng mỗi người chỉ có thể kết hôn với một người khác tại cùng một thời điểm, nhằm bảo vệ quyền lợi hợp pháp và đạo đức trong quan hệ hôn nhân.\\n\\n### 2. Nguyên Tắc Bình Đẳng Giữa Vợ và Chồng\\n\\nLuật Hôn nhân và Gia đình năm 2014 quy định nguyên tắc bình đẳng giữa vợ và chồng trong mọi lĩnh vực của cuộc sống hôn nhân. Các quyền và nghĩa vụ của hai bên trong quan hệ hôn nhân được xác định là tương đương và ngang bằng, điều này có ý nghĩa quan trọng trong việc bảo vệ sự công bằng.\\n\\n### 3. Quyền và Nghĩa Vụ nuôi dưỡng, chăm sóc và giáo dục trẻ em\\n\\nLuật nhấn mạnh rằng cha mẹ có nghĩa vụ nuôi dưỡng, chăm sóc và giáo dục con cái. Điều này không chỉ mang tính chất pháp lý mà còn thể hiện trách nhiệm của mỗi bậc phụ huynh trong việc đảm bảo quyền sống, quyền học tập và phát triển của trẻ em.\\n\\n### 4. Không Phân Biệt Đối Xử\\n\\nLuật cũng quy định rõ rằng mọi thành viên trong gia đình, không phân biệt giới tính, độ tuổi hay tình trạng sức khỏe, đều có quyền và nghĩa vụ bình đẳng trong quan hệ gia đình. Điều này hướng đến việc đảm bảo sự công bằng và nhân phẩm cho tất cả các thành viên.\\n\\n### 5.  Bảo Vệ Quyền Lợi Hợp Pháp của Mọi Thành Viên\\n\\nLuật Hôn nhân và Gia đình năm 2014 khẳng định rằng mọi hoạt động liên quan đến hôn nhân và gia đình đều phải được tiến hành với sự tôn trọng quyền lợi hợp pháp của tất cả các thành viên. Điều này bao gồm quyền yêu cầu bảo vệ quyền lợi của mình trong các trường hợp xung đột hoặc tranh chấp.\\n\\n### Kết Luận\\n\\nNhìn chung, Luật Hôn nhân và Gia đình năm 2014 đã xây dựng được một khung pháp lý quan trọng nhằm bảo vệ quyền lợi của các bên trong quan hệ hôn nhân và gia đình, đồng thời tạo ra một môi trường pháp lý thuận lợi cho sự phát triển của gia đình trong xã hội hiện đại Việt Nam. Việc thực hiện nguyên tắc bình đẳng và bảo vệ quyền lợi của các thành viên gia đình là điều thiết yếu để xây dựng gia đình hạnh phúc và phát triển bền vững.',\n",
       " 'a': 'Chế độ hôn nhân và gia đình là toàn bộ những quy định của pháp luật về kết hôn, ly hôn; quyền và nghĩa vụ giữa vợ và chồng, giữa cha mẹ và con, giữa các thành viên khác trong gia đình; cấp dưỡng; xác định cha, mẹ, con; quan hệ hôn nhân và gia đình có yếu tố nước ngoài và những vấn đề khác liên quan đến hôn nhân và gia đình (Khoản 3 Điều 3 Luật hôn nhân và gia đình năm 2014).\\nLuật hôn nhân và gia đình năm 2014 tiếp tục kế thừa một số nguyên tắc cơ bản của Luật hôn nhân và gia đình năm 2000, tuy nhiên có sửa đổi, bổ sung điểm mới cho phù hợp với thực tiễn hiện nay nhằm bảo vệ và phát huy hiệu quả của hôn nhân và gia đình Việt Nam bền vững trong giai đoạn mới.\\nTheo đó, tại Điều 2 Luật hôn nhân và gia đình năm 2014 thì những nguyên tắc cơ bản của chế độ hôn nhân và gia đình được quy định như sau:\\na. Hôn nhân tự nguyện, tiến bộ, một vợ một chồng, vợ chồng bình đẳng.\\nb. Hôn nhân giữa công dân Việt Nam thuộc các dân tộc, tôn giáo, giữa người theo tôn giáo với người không theo tôn giáo, giữa người có tín ngưỡng với người không có tín ngưỡng, giữa công dân Việt Nam với người nước ngoài được tôn trọng và được pháp luật bảo vệ.\\nc. Xây dựng gia đình ấm no, tiến bộ, hạnh phúc; các thành viên gia đình có nghĩa vụ tôn trọng, quan tâm, chăm sóc, giúp đỡ nhau; không phân biệt đối xử giữa các con.\\nd. Nhà nước, xã hội và gia đình có trách nhiệm bảo vệ, hỗ trợ trẻ em, người cao tuổi, người khuyết tật thực hiện các quyền về hôn nhân và gia đình; giúp đỡ các bà mẹ thực hiện tốt chức năng cao quý của người mẹ; thực hiện kế hoạch hóa gia đình.\\nđ. Kế thừa, phát huy truyền thống văn hóa, đạo đức tốt đẹp của dân tộc Việt Nam về hôn nhân và gia đình.'}"
      ]
     },
     "execution_count": 17,
     "metadata": {},
     "output_type": "execute_result"
    }
   ],
   "source": [
    "TULUAN_HYBRID[0]"
   ]
  },
  {
   "cell_type": "code",
   "execution_count": 14,
   "metadata": {
    "executionInfo": {
     "elapsed": 294,
     "status": "ok",
     "timestamp": 1734855125781,
     "user": {
      "displayName": "Khải Đặng",
      "userId": "00827885371675823732"
     },
     "user_tz": -420
    },
    "id": "LhUQX-Mma9Vu"
   },
   "outputs": [],
   "source": [
    "with open('/content/TULUAN_NAIVE.json', 'r', encoding='utf-8') as f:\n",
    "    TULUAN_NAIVE = json.load(f)"
   ]
  },
  {
   "cell_type": "code",
   "execution_count": 15,
   "metadata": {
    "colab": {
     "base_uri": "https://localhost:8080/"
    },
    "executionInfo": {
     "elapsed": 6,
     "status": "ok",
     "timestamp": 1734855133975,
     "user": {
      "displayName": "Khải Đặng",
      "userId": "00827885371675823732"
     },
     "user_tz": -420
    },
    "id": "swbAsS1rbCHK",
    "outputId": "42c92a17-45fe-47e8-c589-0cd4f32e4e0d"
   },
   "outputs": [
    {
     "data": {
      "text/plain": [
       "28"
      ]
     },
     "execution_count": 15,
     "metadata": {},
     "output_type": "execute_result"
    }
   ],
   "source": [
    "len(TULUAN_NAIVE)"
   ]
  },
  {
   "cell_type": "code",
   "execution_count": 16,
   "metadata": {
    "colab": {
     "base_uri": "https://localhost:8080/"
    },
    "collapsed": true,
    "executionInfo": {
     "elapsed": 310,
     "status": "ok",
     "timestamp": 1734855141150,
     "user": {
      "displayName": "Khải Đặng",
      "userId": "00827885371675823732"
     },
     "user_tz": -420
    },
    "id": "SwjbxbWObCKf",
    "outputId": "c8f28352-9c0d-44bd-d4a7-f7b064e11333"
   },
   "outputs": [
    {
     "data": {
      "text/plain": [
       "{'q': 'Theo Luật hôn nhân và gia đình năm 2014, những nguyên tắc cơ bản của chế độ hôn nhân và gia đình ở nước ta được quy định như thế nào?',\n",
       " 'naive': 'Theo Luật Hôn nhân và Gia đình năm 2014, các nguyên tắc cơ bản của chế độ hôn nhân và gia đình ở Việt Nam được quy định tại Điều 2. Những nguyên tắc này nhằm đảm bảo sự phát triển văn hóa và xã hội trong bối cảnh của đất nước, và cũng bảo vệ quyền lợi và nghĩa vụ của các thành viên trong gia đình. Dưới đây là các nguyên tắc cụ thể:\\n\\n1. **Hôn nhân tự nguyện và bình đẳng**: Hôn nhân phải được xây dựng trên cơ sở tự nguyện của cả hai bên, không chỉ yêu cầu sự đồng ý mà còn phải đảm bảo sự bình đẳng giữa vợ và chồng. Nguyên tắc này nhấn mạnh rằng không có ai bị ép buộc kết hôn và cả hai vợ chồng đều có quyền và nghĩa vụ ngang nhau trong gia đình.\\n\\n2. **Sự tôn trọng sự đa dạng**: Luật pháp bảo vệ hôn nhân giữa các công dân thuộc các dân tộc, tôn giáo khác nhau, cũng như giữa người theo tôn giáo và người không theo tôn giáo. Sự đa dạng trong nền văn hóa và tín ngưỡng được coi trọng và pháp luật bảo vệ các mối quan hệ này.\\n\\n3. **Xây dựng gia đình hạnh phúc**: Các thành viên trong gia đình cần có nghĩa vụ tôn trọng, quan tâm và chăm sóc, giúp đỡ lẫn nhau, đồng thời không phân biệt đối xử giữa các con. Nguyên tắc này thể hiện sự quan tâm đến sự hạnh phúc của mỗi cá nhân trong gia đình.\\n\\n4. **Trách nhiệm của Nhà nước và xã hội**: Nhà nước, xã hội và gia đình có trách nhiệm bảo vệ và hỗ trợ những đối tượng dễ bị tổn thương như trẻ em, người cao tuổi và người khuyết tật. Điều này cũng nhằm tạo điều kiện cho phụ nữ thực hiện tốt vai trò làm mẹ và tham gia vào kế hoạch hóa gia đình.\\n\\n5. **Bảo tồn văn hóa**: Luật khuyến khích kế thừa và phát huy những giá trị văn hóa và đạo đức tốt đẹp của dân tộc trong lĩnh vực hôn nhân và gia đình.\\n\\nTóm lại, những nguyên tắc được quy định trong Luật Hôn nhân và Gia đình năm 2014 không chỉ tạo ra khuôn khổ pháp lý cho các quan hệ hôn nhân, mà còn góp phần xây dựng một xã hội công bằng và bình đẳng hơn, khẳng định giá trị của mỗi cá nhân trong gia đình và cộng đồng.',\n",
       " 'a': 'Chế độ hôn nhân và gia đình là toàn bộ những quy định của pháp luật về kết hôn, ly hôn; quyền và nghĩa vụ giữa vợ và chồng, giữa cha mẹ và con, giữa các thành viên khác trong gia đình; cấp dưỡng; xác định cha, mẹ, con; quan hệ hôn nhân và gia đình có yếu tố nước ngoài và những vấn đề khác liên quan đến hôn nhân và gia đình (Khoản 3 Điều 3 Luật hôn nhân và gia đình năm 2014).\\nLuật hôn nhân và gia đình năm 2014 tiếp tục kế thừa một số nguyên tắc cơ bản của Luật hôn nhân và gia đình năm 2000, tuy nhiên có sửa đổi, bổ sung điểm mới cho phù hợp với thực tiễn hiện nay nhằm bảo vệ và phát huy hiệu quả của hôn nhân và gia đình Việt Nam bền vững trong giai đoạn mới.\\nTheo đó, tại Điều 2 Luật hôn nhân và gia đình năm 2014 thì những nguyên tắc cơ bản của chế độ hôn nhân và gia đình được quy định như sau:\\na. Hôn nhân tự nguyện, tiến bộ, một vợ một chồng, vợ chồng bình đẳng.\\nb. Hôn nhân giữa công dân Việt Nam thuộc các dân tộc, tôn giáo, giữa người theo tôn giáo với người không theo tôn giáo, giữa người có tín ngưỡng với người không có tín ngưỡng, giữa công dân Việt Nam với người nước ngoài được tôn trọng và được pháp luật bảo vệ.\\nc. Xây dựng gia đình ấm no, tiến bộ, hạnh phúc; các thành viên gia đình có nghĩa vụ tôn trọng, quan tâm, chăm sóc, giúp đỡ nhau; không phân biệt đối xử giữa các con.\\nd. Nhà nước, xã hội và gia đình có trách nhiệm bảo vệ, hỗ trợ trẻ em, người cao tuổi, người khuyết tật thực hiện các quyền về hôn nhân và gia đình; giúp đỡ các bà mẹ thực hiện tốt chức năng cao quý của người mẹ; thực hiện kế hoạch hóa gia đình.\\nđ. Kế thừa, phát huy truyền thống văn hóa, đạo đức tốt đẹp của dân tộc Việt Nam về hôn nhân và gia đình.'}"
      ]
     },
     "execution_count": 16,
     "metadata": {},
     "output_type": "execute_result"
    }
   ],
   "source": [
    "TULUAN_NAIVE[0]"
   ]
  },
  {
   "cell_type": "code",
   "execution_count": null,
   "metadata": {
    "id": "EziUD56MbCNu"
   },
   "outputs": [],
   "source": []
  },
  {
   "cell_type": "code",
   "execution_count": 18,
   "metadata": {
    "executionInfo": {
     "elapsed": 355,
     "status": "ok",
     "timestamp": 1734855248010,
     "user": {
      "displayName": "Khải Đặng",
      "userId": "00827885371675823732"
     },
     "user_tz": -420
    },
    "id": "urS3fBiLbCQn"
   },
   "outputs": [],
   "source": [
    "with open('/content/TUVAN_HYBRID_ver2.json', 'r', encoding='utf-8') as f:\n",
    "    TUVAN_HYBRID = json.load(f)"
   ]
  },
  {
   "cell_type": "code",
   "execution_count": 19,
   "metadata": {
    "colab": {
     "base_uri": "https://localhost:8080/"
    },
    "executionInfo": {
     "elapsed": 330,
     "status": "ok",
     "timestamp": 1734855253992,
     "user": {
      "displayName": "Khải Đặng",
      "userId": "00827885371675823732"
     },
     "user_tz": -420
    },
    "id": "0zSsNUx2bf01",
    "outputId": "2634e92d-ac40-4fe8-b816-e23976e38765"
   },
   "outputs": [
    {
     "data": {
      "text/plain": [
       "14"
      ]
     },
     "execution_count": 19,
     "metadata": {},
     "output_type": "execute_result"
    }
   ],
   "source": [
    "len(TUVAN_HYBRID)"
   ]
  },
  {
   "cell_type": "code",
   "execution_count": 24,
   "metadata": {
    "colab": {
     "base_uri": "https://localhost:8080/"
    },
    "collapsed": true,
    "executionInfo": {
     "elapsed": 331,
     "status": "ok",
     "timestamp": 1734855481538,
     "user": {
      "displayName": "Khải Đặng",
      "userId": "00827885371675823732"
     },
     "user_tz": -420
    },
    "id": "AFBjBKPSccLQ",
    "outputId": "e83de516-318d-4d24-f9c3-6d6cdc90c1ba"
   },
   "outputs": [
    {
     "data": {
      "text/plain": [
       "{'q': 'Vợ chồng tôi lấy nhau đã nhiều năm nhưng vẫn chưa có con. Năm 2015, vợ chồng tôi quyết định nhận con nuôi và đã thực hiện theo đúng quy định về việc nhận con nuôi. Đến nay, tôi được biết vợ chồng tôi có thể nhờ mang thai hộ. Vậy xin hỏi, vợ chồng tôi đã nhận con nuôi thì có nhờ người khác mang thai hộ được không?',\n",
       " 'hybrid': '### Vấn đề mang thai hộ sau khi nhận con nuôi\\n\\nViệc mang thai hộ trong trường hợp vợ chồng đã nhận con nuôi là một vấn đề pháp lý phức tạp, liên quan đến các quy định trong Luật Hôn nhân và Gia Đình, cũng như Luật Nuôi con nuôi tại Việt Nam. Dưới đây là điểm trả lời cụ thể cho câu hỏi của bạn.\\n\\n#### 1. Quy định về mang thai hộ \\n\\nTheo quy định tại **Luật Hôn Nhân và Gia Đình năm 2014** (số 52/2014/QH13), việc mang thai hộ được điều chỉnh tại Điều 95. Điều luật này quy định rằng mang thai hộ vì mục đích nhân đạo được áp dụng cho các cặp vợ chồng không thể sinh con tự nhiên. Như vậy, trong trường hợp của bạn, với Điều 95, vợ chồng bạn có thể thực hiện việc mang thai hộ nếu đáp ứng các yêu cầu cụ thể trong điều luật này.\\n\\n#### 2. Quy định về nuôi con nuôi\\n\\nTheo **Luật Nuôi con nuôi năm 2010**, việc nhận con nuôi không cản trở quyền lợi của các bậc phụ huynh trong việc có con hoặc tiến hành các biện pháp nhằm có con cái, bao gồm cả việc mang thai hộ. Điều 26 của Luật này quy định về quyền và nghĩa vụ của người nhận nuôi, nhưng không ngăn cản việc thực hiện quyền của các bậc cha mẹ trong việc tìm kiếm con cái thông qua các hình thức khác như mang thai hộ theo quy định của pháp luật.\\n\\n#### Kết luận\\n\\nVợ chồng bạn hoàn toàn có thể nhờ người khác mang thai hộ, bất chấp việc đã nhận con nuôi, miễn là các bạn tuân thủ các điều kiện và quy trình mà Luật Hôn Nhân và Gia Đình quy định về mang thai hộ. Điều này cho thấy rằng việc nhận con nuôi không ảnh hưởng đến quyền lợi hợp pháp của bạn trong việc tìm kiếm con cái qua các hình thức hợp pháp khác.\\n\\nNếu bạn cần thêm thông tin chi tiết, bạn nên tham khảo ý kiến của luật sư hoặc chuyên gia pháp lý có kinh nghiệm trong lĩnh vực hôn nhân và gia đình để được hướng dẫn thêm.',\n",
       " 'a': 'Căn cứ khoản 22, Điều 3 Luật Hôn nhân và gia đình năm 2014 định nghĩa việc mang thai hộ vì mục đích nhân đạo như sau:\\n\\nĐiều 3. Giải thích từ ngữ\\n\\nTrong Luật này, các từ ngữ dưới đây được hiểu như sau:\\n\\n[…]\\n\\n22. Mang thai hộ vì mục đích nhân đạo là việc một người phụ nữ tự nguyện, không vì mục đích thương mại giúp mang thai cho cặp vợ chồng mà người vợ không thể mang thai và sinh con ngay cả khi áp dụng kỹ thuật hỗ trợ sinh sản, bằng việc lấy noãn của người vợ và tinh trùng của người chồng để thụ tinh trong ống nghiệm, sau đó cấy vào tử cung của người phụ nữ tự nguyện mang thai để người này mang thai và sinh con.\\n\\nNgoài ra, Điều 95 Luật Hôn nhân và gia đình năm 2014 quy định về điều kiện mang thai hộ vì mục đích nhân đạo là:\\n\\nĐiều 95. Điều kiện mang thai hộ vì mục đích nhân đạo\\n\\n1. Việc mang thai hộ vì mục đích nhân đạo phải được thực hiện trên cơ sở tự nguyện của các bên và được lập thành văn bản.\\n\\n2. Vợ chồng có quyền nhờ người mang thai hộ khi có đủ các điều kiện sau đây:\\n\\na) Có xác nhận của tổ chức y tế có thẩm quyền về việc người vợ không thể mang thai và sinh con ngay cả khi áp dụng kỹ thuật hỗ trợ sinh sản;\\n\\nb) Vợ chồng đang không có con chung;\\n\\nc) Đã được tư vấn về y tế, pháp lý, tâm lý.\\n\\n3. Người được nhờ mang thai hộ phải có đủ các điều kiện sau đây:\\n\\na) Là người thân thích cùng hàng của bên vợ hoặc bên chồng nhờ mang thai hộ;\\n\\nb) Đã từng sinh con và chỉ được mang thai hộ một lần;\\n\\nc) Ở độ tuổi phù hợp và có xác nhận của tổ chức y tế có thẩm quyền về khả năng mang thai hộ;\\n\\nd) Trường hợp người phụ nữ mang thai hộ có chồng thì phải có sự đồng ý bằng văn bản của người chồng;\\n\\nđ) Đã được tư vấn về y tế, pháp lý, tâm lý.\\n\\n4. Việc mang thai hộ vì mục đích nhân đạo không được trái với quy định của pháp luật về sinh con bằng kỹ thuật hỗ trợ sinh sản.\\n\\n5. Chính phủ quy định chi tiết Điều này.\\n\\nNhư vậy, mặc dù vợ chồng bạn đã nhận con nuôi, nhưng nếu đáp ứng các điều kiện theo căn cứ nêu trên thì vẫn hoàn toàn có thể nhờ người khác mang thai hộ vì mục đích nhân đạo.'}"
      ]
     },
     "execution_count": 24,
     "metadata": {},
     "output_type": "execute_result"
    }
   ],
   "source": [
    "TUVAN_HYBRID[0]"
   ]
  },
  {
   "cell_type": "code",
   "execution_count": null,
   "metadata": {
    "id": "Jk5So-AIbf3e"
   },
   "outputs": [],
   "source": []
  },
  {
   "cell_type": "code",
   "execution_count": 20,
   "metadata": {
    "executionInfo": {
     "elapsed": 340,
     "status": "ok",
     "timestamp": 1734855270802,
     "user": {
      "displayName": "Khải Đặng",
      "userId": "00827885371675823732"
     },
     "user_tz": -420
    },
    "id": "8qMfABEUbf5-"
   },
   "outputs": [],
   "source": [
    "with open('/content/TUVAN_NAIVE_ver2.json', 'r', encoding='utf-8') as f:\n",
    "    TUVAN_NAIVE = json.load(f)"
   ]
  },
  {
   "cell_type": "code",
   "execution_count": 21,
   "metadata": {
    "colab": {
     "base_uri": "https://localhost:8080/"
    },
    "executionInfo": {
     "elapsed": 328,
     "status": "ok",
     "timestamp": 1734855277133,
     "user": {
      "displayName": "Khải Đặng",
      "userId": "00827885371675823732"
     },
     "user_tz": -420
    },
    "id": "CzzxhFmJa9Yp",
    "outputId": "b47e8e1e-1ab9-4230-cd00-9d93152a8ad6"
   },
   "outputs": [
    {
     "data": {
      "text/plain": [
       "14"
      ]
     },
     "execution_count": 21,
     "metadata": {},
     "output_type": "execute_result"
    }
   ],
   "source": [
    "len(TUVAN_NAIVE)"
   ]
  },
  {
   "cell_type": "code",
   "execution_count": null,
   "metadata": {
    "id": "Xnwac32_cHcW"
   },
   "outputs": [],
   "source": []
  },
  {
   "cell_type": "code",
   "execution_count": 31,
   "metadata": {
    "executionInfo": {
     "elapsed": 392,
     "status": "ok",
     "timestamp": 1734855749340,
     "user": {
      "displayName": "Khải Đặng",
      "userId": "00827885371675823732"
     },
     "user_tz": -420
    },
    "id": "kSl-uR4acQva"
   },
   "outputs": [],
   "source": [
    "test = PROMPT['evaluation_from_test'].replace(\"<<q>>\", TULUAN_NAIVE[0]['q']).replace(\"<<sga>>\", TULUAN_NAIVE[0]['a']).replace(\"<<a>>\", TULUAN_NAIVE[0]['naive'])"
   ]
  },
  {
   "cell_type": "code",
   "execution_count": 32,
   "metadata": {
    "colab": {
     "base_uri": "https://localhost:8080/"
    },
    "collapsed": true,
    "executionInfo": {
     "elapsed": 301,
     "status": "ok",
     "timestamp": 1734855753639,
     "user": {
      "displayName": "Khải Đặng",
      "userId": "00827885371675823732"
     },
     "user_tz": -420
    },
    "id": "IBu4TadocQyk",
    "outputId": "13d9d586-261b-45a8-e416-b149145bf378"
   },
   "outputs": [
    {
     "name": "stdout",
     "output_type": "stream",
     "text": [
      "\n",
      "Bạn là một chuyên gia luật, được giao nhiệm vụ là phân tích đánh giá câu trả lời của một sinh viên so với đáp án đúng (standard golden answer) về hỏi đáp luật.\n",
      "\n",
      "## Các tiêu chí đánh giá:\n",
      "Bạn sẽ phải so sánh câu trả lời với đáp án để cho điểm số từ 0-10 điểm, trong đó:\n",
      "### 0 điểm: không có câu trả lời được cung cấp\n",
      "### 1-2 điểm: Đã có được một số thông tin được cung cấp, nhưng nó hoàn toàn không liên quan, trùng khớp với câu trả lời đúng.\n",
      "### 3-5 điểm: Đã trả lời được một vài thông tin chính xác hữu ích, có trong câu trả lời đúng, tuy nhiên chúng chưa đầy đủ và chứa nhiều thông tin không chính xác, liên quan.\n",
      "### 6-7 điểm: Đã trả lời được nhiều thông tin có ích hơn khoảng 50% thông tin có trong câu trả lời đúng. Tuy nhiên trả lời vẫn dài dòng, ít thông tin không chính xác, không liên quan hơn.\n",
      "### 8-9 điểm: Đã trả lời được nhiều thông tin có ích hơn khoảng 70%-90% thông tin có trong câu trả lời đúng, những thông tin không liên quan có ít hơn nhưng nó không quá ảnh hưởng đến câu trả lời\n",
      "### 10 điểm: Chứa tất các nội dung được nhắc đến trong câu trả lời đúng, không thừa không thiếu, mặc dù có thể diễn đạt theo cách khác.\n",
      "\n",
      "## Đầu ra dạng JSON:\n",
      "```json\n",
      "{\n",
      "  \"Score\" : \"<điểm số>\" # chỉ cần ghi mỗi số\n",
      "  \"Explain\" : \"<giải thích vì sao đạt điểm đó>\"\n",
      "}\n",
      "```\n",
      "\n",
      "## Câu hỏi:\n",
      "Theo Luật hôn nhân và gia đình năm 2014, những nguyên tắc cơ bản của chế độ hôn nhân và gia đình ở nước ta được quy định như thế nào?\n",
      "\n",
      "## Đây là câu trả lời đúng:\n",
      "Chế độ hôn nhân và gia đình là toàn bộ những quy định của pháp luật về kết hôn, ly hôn; quyền và nghĩa vụ giữa vợ và chồng, giữa cha mẹ và con, giữa các thành viên khác trong gia đình; cấp dưỡng; xác định cha, mẹ, con; quan hệ hôn nhân và gia đình có yếu tố nước ngoài và những vấn đề khác liên quan đến hôn nhân và gia đình (Khoản 3 Điều 3 Luật hôn nhân và gia đình năm 2014).\n",
      "Luật hôn nhân và gia đình năm 2014 tiếp tục kế thừa một số nguyên tắc cơ bản của Luật hôn nhân và gia đình năm 2000, tuy nhiên có sửa đổi, bổ sung điểm mới cho phù hợp với thực tiễn hiện nay nhằm bảo vệ và phát huy hiệu quả của hôn nhân và gia đình Việt Nam bền vững trong giai đoạn mới.\n",
      "Theo đó, tại Điều 2 Luật hôn nhân và gia đình năm 2014 thì những nguyên tắc cơ bản của chế độ hôn nhân và gia đình được quy định như sau:\n",
      "a. Hôn nhân tự nguyện, tiến bộ, một vợ một chồng, vợ chồng bình đẳng.\n",
      "b. Hôn nhân giữa công dân Việt Nam thuộc các dân tộc, tôn giáo, giữa người theo tôn giáo với người không theo tôn giáo, giữa người có tín ngưỡng với người không có tín ngưỡng, giữa công dân Việt Nam với người nước ngoài được tôn trọng và được pháp luật bảo vệ.\n",
      "c. Xây dựng gia đình ấm no, tiến bộ, hạnh phúc; các thành viên gia đình có nghĩa vụ tôn trọng, quan tâm, chăm sóc, giúp đỡ nhau; không phân biệt đối xử giữa các con.\n",
      "d. Nhà nước, xã hội và gia đình có trách nhiệm bảo vệ, hỗ trợ trẻ em, người cao tuổi, người khuyết tật thực hiện các quyền về hôn nhân và gia đình; giúp đỡ các bà mẹ thực hiện tốt chức năng cao quý của người mẹ; thực hiện kế hoạch hóa gia đình.\n",
      "đ. Kế thừa, phát huy truyền thống văn hóa, đạo đức tốt đẹp của dân tộc Việt Nam về hôn nhân và gia đình.\n",
      "\n",
      "## Đây là câu trả lời mà bạn cần đánh giá\n",
      "Theo Luật Hôn nhân và Gia đình năm 2014, các nguyên tắc cơ bản của chế độ hôn nhân và gia đình ở Việt Nam được quy định tại Điều 2. Những nguyên tắc này nhằm đảm bảo sự phát triển văn hóa và xã hội trong bối cảnh của đất nước, và cũng bảo vệ quyền lợi và nghĩa vụ của các thành viên trong gia đình. Dưới đây là các nguyên tắc cụ thể:\n",
      "\n",
      "1. **Hôn nhân tự nguyện và bình đẳng**: Hôn nhân phải được xây dựng trên cơ sở tự nguyện của cả hai bên, không chỉ yêu cầu sự đồng ý mà còn phải đảm bảo sự bình đẳng giữa vợ và chồng. Nguyên tắc này nhấn mạnh rằng không có ai bị ép buộc kết hôn và cả hai vợ chồng đều có quyền và nghĩa vụ ngang nhau trong gia đình.\n",
      "\n",
      "2. **Sự tôn trọng sự đa dạng**: Luật pháp bảo vệ hôn nhân giữa các công dân thuộc các dân tộc, tôn giáo khác nhau, cũng như giữa người theo tôn giáo và người không theo tôn giáo. Sự đa dạng trong nền văn hóa và tín ngưỡng được coi trọng và pháp luật bảo vệ các mối quan hệ này.\n",
      "\n",
      "3. **Xây dựng gia đình hạnh phúc**: Các thành viên trong gia đình cần có nghĩa vụ tôn trọng, quan tâm và chăm sóc, giúp đỡ lẫn nhau, đồng thời không phân biệt đối xử giữa các con. Nguyên tắc này thể hiện sự quan tâm đến sự hạnh phúc của mỗi cá nhân trong gia đình.\n",
      "\n",
      "4. **Trách nhiệm của Nhà nước và xã hội**: Nhà nước, xã hội và gia đình có trách nhiệm bảo vệ và hỗ trợ những đối tượng dễ bị tổn thương như trẻ em, người cao tuổi và người khuyết tật. Điều này cũng nhằm tạo điều kiện cho phụ nữ thực hiện tốt vai trò làm mẹ và tham gia vào kế hoạch hóa gia đình.\n",
      "\n",
      "5. **Bảo tồn văn hóa**: Luật khuyến khích kế thừa và phát huy những giá trị văn hóa và đạo đức tốt đẹp của dân tộc trong lĩnh vực hôn nhân và gia đình.\n",
      "\n",
      "Tóm lại, những nguyên tắc được quy định trong Luật Hôn nhân và Gia đình năm 2014 không chỉ tạo ra khuôn khổ pháp lý cho các quan hệ hôn nhân, mà còn góp phần xây dựng một xã hội công bằng và bình đẳng hơn, khẳng định giá trị của mỗi cá nhân trong gia đình và cộng đồng.\n",
      "\n"
     ]
    }
   ],
   "source": [
    "print(test)"
   ]
  },
  {
   "cell_type": "code",
   "execution_count": null,
   "metadata": {
    "id": "BCJXvPwYcQ1E"
   },
   "outputs": [],
   "source": []
  },
  {
   "cell_type": "code",
   "execution_count": 35,
   "metadata": {
    "colab": {
     "base_uri": "https://localhost:8080/"
    },
    "executionInfo": {
     "elapsed": 2220,
     "status": "ok",
     "timestamp": 1734855800030,
     "user": {
      "displayName": "Khải Đặng",
      "userId": "00827885371675823732"
     },
     "user_tz": -420
    },
    "id": "cEUIlytqcQ38",
    "outputId": "4d1dc350-cff7-4032-b525-71312b4f828f"
   },
   "outputs": [
    {
     "name": "stdout",
     "output_type": "stream",
     "text": [
      "attempt : 0\n",
      "gpt-4o-mini\n",
      "Định dạng JSON hợp lệ!\n"
     ]
    }
   ],
   "source": [
    "res = get_valid_json_gpt40mini(test)"
   ]
  },
  {
   "cell_type": "code",
   "execution_count": 29,
   "metadata": {
    "colab": {
     "base_uri": "https://localhost:8080/"
    },
    "executionInfo": {
     "elapsed": 310,
     "status": "ok",
     "timestamp": 1734855691550,
     "user": {
      "displayName": "Khải Đặng",
      "userId": "00827885371675823732"
     },
     "user_tz": -420
    },
    "id": "RNsR24KwcHe-",
    "outputId": "338b85d2-3e88-4adf-8ea3-bb5d14a6a27e"
   },
   "outputs": [
    {
     "data": {
      "text/plain": [
       "{'Score': '8',\n",
       " 'Explain': 'Câu trả lời đã cung cấp nhiều thông tin hữu ích và có liên quan đến nguyên tắc cơ bản của chế độ hôn nhân và gia đình theo Luật Hôn nhân và Gia đình năm 2014. Tuy nhiên, một số thông tin chưa hoàn toàn đầy đủ và không hoàn toàn khớp với nội dung của đáp án đúng, ví dụ như việc không đề cập đến các nguyên tắc cụ thể như trách nhiệm bảo vệ trẻ em, người cao tuổi, và kế thừa văn hóa dân tộc. Mặc dù có sự diễn đạt tốt và rõ ràng, nhưng vẫn thiếu một số điểm quan trọng trong nội dung chính của câu trả lời đúng.'}"
      ]
     },
     "execution_count": 29,
     "metadata": {},
     "output_type": "execute_result"
    }
   ],
   "source": [
    "res"
   ]
  },
  {
   "cell_type": "code",
   "execution_count": 36,
   "metadata": {
    "colab": {
     "base_uri": "https://localhost:8080/"
    },
    "executionInfo": {
     "elapsed": 285,
     "status": "ok",
     "timestamp": 1734855803385,
     "user": {
      "displayName": "Khải Đặng",
      "userId": "00827885371675823732"
     },
     "user_tz": -420
    },
    "id": "XJmQ6dF9avcB",
    "outputId": "747de157-c9fd-40ac-d9d1-a116687a7224"
   },
   "outputs": [
    {
     "data": {
      "text/plain": [
       "{'Score': 9,\n",
       " 'Explain': 'Câu trả lời đã cung cấp khoảng 80-90% thông tin có ích từ đáp án đúng, bao gồm các nguyên tắc cơ bản của chế độ hôn nhân và gia đình theo Luật Hôn nhân và Gia đình năm 2014. Tuy nhiên, một số chi tiết như việc kế thừa và phát huy truyền thống văn hóa, đạo đức tốt đẹp của dân tộc Việt Nam không được đề cập rõ ràng. Câu trả lời cũng có phần diễn đạt dài dòng nhưng không ảnh hưởng lớn đến nội dung chính.'}"
      ]
     },
     "execution_count": 36,
     "metadata": {},
     "output_type": "execute_result"
    }
   ],
   "source": [
    "res"
   ]
  },
  {
   "cell_type": "code",
   "execution_count": null,
   "metadata": {
    "id": "QEVA64_lavep"
   },
   "outputs": [],
   "source": []
  },
  {
   "cell_type": "markdown",
   "metadata": {
    "id": "kjwjoGPQg671"
   },
   "source": [
    "# TULUAN_HYBRID"
   ]
  },
  {
   "cell_type": "code",
   "execution_count": 37,
   "metadata": {
    "colab": {
     "base_uri": "https://localhost:8080/"
    },
    "collapsed": true,
    "executionInfo": {
     "elapsed": 7,
     "status": "ok",
     "timestamp": 1734856723428,
     "user": {
      "displayName": "Khải Đặng",
      "userId": "00827885371675823732"
     },
     "user_tz": -420
    },
    "id": "U9FKcPrDg6Xe",
    "outputId": "7e074dba-e241-4450-9eb1-c1b95cd7c6ca"
   },
   "outputs": [
    {
     "data": {
      "text/plain": [
       "{'q': 'Theo Luật hôn nhân và gia đình năm 2014, những nguyên tắc cơ bản của chế độ hôn nhân và gia đình ở nước ta được quy định như thế nào?',\n",
       " 'hybrid': '## Nguyên Tắc Cơ Bản của Chế Độ Hôn Nhân và Gia Đình theo Luật Hôn Nhân và Gia Đình Năm 2014\\n\\nLuật Hôn nhân và Gia đình năm 2014, có hiệu lực từ ngày 01/01/2015, đã quy định một cách rõ ràng các nguyên tắc cơ bản trong chế độ hôn nhân và gia đình tại Việt Nam. Những nguyên tắc này không chỉ bảo đảm quyền và nghĩa vụ của các bên trong quan hệ hôn nhân mà còn thể hiện sự bình đẳng và công bằng giữa các thành viên trong gia đình. Dưới đây là một số nguyên tắc cơ bản được quy định trong bộ luật này.\\n\\n### 1. Nguyên Tắc Một Vợ Một Chồng\\n\\nLuật quy định rằng chế độ hôn nhân tại Việt Nam là hôn nhân một vợ một chồng. Điều này nhấn mạnh rằng mỗi người chỉ có thể kết hôn với một người khác tại cùng một thời điểm, nhằm bảo vệ quyền lợi hợp pháp và đạo đức trong quan hệ hôn nhân.\\n\\n### 2. Nguyên Tắc Bình Đẳng Giữa Vợ và Chồng\\n\\nLuật Hôn nhân và Gia đình năm 2014 quy định nguyên tắc bình đẳng giữa vợ và chồng trong mọi lĩnh vực của cuộc sống hôn nhân. Các quyền và nghĩa vụ của hai bên trong quan hệ hôn nhân được xác định là tương đương và ngang bằng, điều này có ý nghĩa quan trọng trong việc bảo vệ sự công bằng.\\n\\n### 3. Quyền và Nghĩa Vụ nuôi dưỡng, chăm sóc và giáo dục trẻ em\\n\\nLuật nhấn mạnh rằng cha mẹ có nghĩa vụ nuôi dưỡng, chăm sóc và giáo dục con cái. Điều này không chỉ mang tính chất pháp lý mà còn thể hiện trách nhiệm của mỗi bậc phụ huynh trong việc đảm bảo quyền sống, quyền học tập và phát triển của trẻ em.\\n\\n### 4. Không Phân Biệt Đối Xử\\n\\nLuật cũng quy định rõ rằng mọi thành viên trong gia đình, không phân biệt giới tính, độ tuổi hay tình trạng sức khỏe, đều có quyền và nghĩa vụ bình đẳng trong quan hệ gia đình. Điều này hướng đến việc đảm bảo sự công bằng và nhân phẩm cho tất cả các thành viên.\\n\\n### 5.  Bảo Vệ Quyền Lợi Hợp Pháp của Mọi Thành Viên\\n\\nLuật Hôn nhân và Gia đình năm 2014 khẳng định rằng mọi hoạt động liên quan đến hôn nhân và gia đình đều phải được tiến hành với sự tôn trọng quyền lợi hợp pháp của tất cả các thành viên. Điều này bao gồm quyền yêu cầu bảo vệ quyền lợi của mình trong các trường hợp xung đột hoặc tranh chấp.\\n\\n### Kết Luận\\n\\nNhìn chung, Luật Hôn nhân và Gia đình năm 2014 đã xây dựng được một khung pháp lý quan trọng nhằm bảo vệ quyền lợi của các bên trong quan hệ hôn nhân và gia đình, đồng thời tạo ra một môi trường pháp lý thuận lợi cho sự phát triển của gia đình trong xã hội hiện đại Việt Nam. Việc thực hiện nguyên tắc bình đẳng và bảo vệ quyền lợi của các thành viên gia đình là điều thiết yếu để xây dựng gia đình hạnh phúc và phát triển bền vững.',\n",
       " 'a': 'Chế độ hôn nhân và gia đình là toàn bộ những quy định của pháp luật về kết hôn, ly hôn; quyền và nghĩa vụ giữa vợ và chồng, giữa cha mẹ và con, giữa các thành viên khác trong gia đình; cấp dưỡng; xác định cha, mẹ, con; quan hệ hôn nhân và gia đình có yếu tố nước ngoài và những vấn đề khác liên quan đến hôn nhân và gia đình (Khoản 3 Điều 3 Luật hôn nhân và gia đình năm 2014).\\nLuật hôn nhân và gia đình năm 2014 tiếp tục kế thừa một số nguyên tắc cơ bản của Luật hôn nhân và gia đình năm 2000, tuy nhiên có sửa đổi, bổ sung điểm mới cho phù hợp với thực tiễn hiện nay nhằm bảo vệ và phát huy hiệu quả của hôn nhân và gia đình Việt Nam bền vững trong giai đoạn mới.\\nTheo đó, tại Điều 2 Luật hôn nhân và gia đình năm 2014 thì những nguyên tắc cơ bản của chế độ hôn nhân và gia đình được quy định như sau:\\na. Hôn nhân tự nguyện, tiến bộ, một vợ một chồng, vợ chồng bình đẳng.\\nb. Hôn nhân giữa công dân Việt Nam thuộc các dân tộc, tôn giáo, giữa người theo tôn giáo với người không theo tôn giáo, giữa người có tín ngưỡng với người không có tín ngưỡng, giữa công dân Việt Nam với người nước ngoài được tôn trọng và được pháp luật bảo vệ.\\nc. Xây dựng gia đình ấm no, tiến bộ, hạnh phúc; các thành viên gia đình có nghĩa vụ tôn trọng, quan tâm, chăm sóc, giúp đỡ nhau; không phân biệt đối xử giữa các con.\\nd. Nhà nước, xã hội và gia đình có trách nhiệm bảo vệ, hỗ trợ trẻ em, người cao tuổi, người khuyết tật thực hiện các quyền về hôn nhân và gia đình; giúp đỡ các bà mẹ thực hiện tốt chức năng cao quý của người mẹ; thực hiện kế hoạch hóa gia đình.\\nđ. Kế thừa, phát huy truyền thống văn hóa, đạo đức tốt đẹp của dân tộc Việt Nam về hôn nhân và gia đình.'}"
      ]
     },
     "execution_count": 37,
     "metadata": {},
     "output_type": "execute_result"
    }
   ],
   "source": [
    "TULUAN_HYBRID[0]"
   ]
  },
  {
   "cell_type": "code",
   "execution_count": 71,
   "metadata": {
    "executionInfo": {
     "elapsed": 305,
     "status": "ok",
     "timestamp": 1734858331694,
     "user": {
      "displayName": "Khải Đặng",
      "userId": "00827885371675823732"
     },
     "user_tz": -420
    },
    "id": "piaBtLxchS9w"
   },
   "outputs": [],
   "source": [
    "RES_TULUAN_HYBRID = []"
   ]
  },
  {
   "cell_type": "code",
   "execution_count": 73,
   "metadata": {
    "colab": {
     "base_uri": "https://localhost:8080/"
    },
    "executionInfo": {
     "elapsed": 336,
     "status": "ok",
     "timestamp": 1734858347196,
     "user": {
      "displayName": "Khải Đặng",
      "userId": "00827885371675823732"
     },
     "user_tz": -420
    },
    "id": "WC0jiMQVjDa5",
    "outputId": "6145b049-cedb-46a5-a09b-137de798ebbc"
   },
   "outputs": [
    {
     "data": {
      "text/plain": [
       "[]"
      ]
     },
     "execution_count": 73,
     "metadata": {},
     "output_type": "execute_result"
    }
   ],
   "source": [
    "RES_TULUAN_HYBRID"
   ]
  },
  {
   "cell_type": "code",
   "execution_count": 74,
   "metadata": {
    "colab": {
     "base_uri": "https://localhost:8080/"
    },
    "collapsed": true,
    "executionInfo": {
     "elapsed": 173659,
     "status": "ok",
     "timestamp": 1734858522014,
     "user": {
      "displayName": "Khải Đặng",
      "userId": "00827885371675823732"
     },
     "user_tz": -420
    },
    "id": "rsLVSRLWg9RS",
    "outputId": "8e81ac66-2b63-439d-f694-e8e7f91e6611"
   },
   "outputs": [
    {
     "name": "stdout",
     "output_type": "stream",
     "text": [
      "attempt : 0\n",
      "gpt-4o-mini\n",
      "Định dạng JSON hợp lệ!\n",
      "{'sga': ['nguyên tắc cơ bản', 'hôn nhân tự nguyện', 'một vợ một chồng', 'bình đẳng giữa vợ và chồng', 'quyền và nghĩa vụ giữa cha mẹ và con', 'không phân biệt đối xử', 'trách nhiệm bảo vệ trẻ em', 'kế thừa truyền thống văn hóa'], 'anwser': ['Nguyên Tắc Một Vợ Một Chồng', 'Nguyên Tắc Bình Đẳng Giữa Vợ và Chồng', 'Quyền và Nghĩa Vụ nuôi dưỡng, chăm sóc và giáo dục trẻ em', 'Không Phân Biệt Đối Xử', 'Bảo Vệ Quyền Lợi Hợp Pháp của Mọi Thành Viên'], 'Explain': \"Câu trả lời của sinh viên đã trích xuất được nhiều từ khóa và thông tin quan trọng liên quan đến nguyên tắc cơ bản của chế độ hôn nhân và gia đình theo Luật Hôn nhân và Gia đình năm 2014. Tuy nhiên, một số nguyên tắc quan trọng như 'hôn nhân tự nguyện' và 'trách nhiệm bảo vệ trẻ em' không được đề cập. Mặc dù sinh viên đã nêu rõ các nguyên tắc như 'một vợ một chồng', 'bình đẳng giữa vợ và chồng', và 'không phân biệt đối xử', nhưng vẫn thiếu một số nội dung quan trọng từ đáp án đúng. Do đó, thông tin quan trọng trong câu trả lời đạt khoảng 60-70% so với đáp án đúng.\", 'Score': '7'}\n",
      "attempt : 0\n",
      "gpt-4o-mini\n",
      "Định dạng JSON hợp lệ!\n",
      "{'sga': ['Luật hôn nhân và gia đình năm 2014', 'cấm các hành vi', 'Kết hôn giả tạo', 'ly hôn giả tạo', 'Tảo hôn', 'cưỡng ép kết hôn', 'lừa dối kết hôn', 'cản trở kết hôn', 'người đang có vợ, có chồng mà kết hôn với người khác', 'kết hôn giữa những người cùng dòng máu', 'bạo lực gia đình', 'lợi dụng quyền về hôn nhân và gia đình để mua bán người'], 'anwser': ['Luật Hôn nhân và Gia đình năm 2014', 'các hành vi bị cấm', 'Kết Hôn Giả Tạo', 'Tảo Hôn', 'Cưỡng Ép Kết Hôn', 'Hôn Nhân Trong Trường Hợp Người Đang Có Vợ Hoặc Chồng', 'Kết Hôn Giữa Những Người Có Quan Hệ Huyết Thống'], 'Explain': 'Câu trả lời của sinh viên đã trích xuất được nhiều từ khóa và thông tin quan trọng từ đáp án đúng, như các hành vi bị cấm theo Luật Hôn nhân và Gia đình năm 2014. Tuy nhiên, câu trả lời không đầy đủ và thiếu một số hành vi quan trọng khác như ly hôn giả tạo, lừa dối kết hôn, cản trở kết hôn, bạo lực gia đình và lợi dụng quyền về hôn nhân để mua bán người. Mặc dù sinh viên đã nêu rõ một số hành vi cấm, nhưng vẫn còn thiếu sót và không bao quát hết nội dung của đáp án đúng.', 'Score': '7'}\n",
      "attempt : 0\n",
      "gpt-4o-mini\n",
      "Định dạng JSON hợp lệ!\n",
      "{'sga': ['tập quán về hôn nhân và gia đình', 'quy tắc xử sự', 'quyền, nghĩa vụ của các bên', 'Điều 7 Luật hôn nhân và gia đình năm 2014', 'tập quán tốt đẹp', 'không trái với nguyên tắc', 'không vi phạm điều cấm', 'thách cưới', 'phong tục, tập quán lạc hậu', 'nghiêm cấm', 'Nghị định số 32/2002/NĐ-CP', 'xóa bỏ phong tục tập quán lạc hậu', 'hôn nhân gia đình tiến bộ, bình đẳng và hạnh phúc'], 'anwser': ['áp dụng tập quán trong hôn nhân và gia đình', 'hệ thống pháp luật Việt Nam', 'nguyên tắc tự nguyện, tiến bộ và bình đẳng', 'tập quán truyền thống không được trái với pháp luật', 'thách cưới cao mang tính chất gả bán', 'tiền mặt, của hồi môn, động vật', 'vi phạm pháp luật', 'quyền tự do trong lựa chọn bạn đời', 'ép buộc', 'vi phạm nghiêm trọng về quyền con người', 'hủy bỏ các giao dịch hôn nhân'], 'Explain': 'Câu trả lời của sinh viên đã đề cập đến nhiều khía cạnh quan trọng liên quan đến việc áp dụng tập quán trong hôn nhân và gia đình, như nguyên tắc tự nguyện, bình đẳng và không vi phạm pháp luật. Tuy nhiên, một số thông tin quan trọng từ đáp án đúng như quy định cụ thể trong Luật hôn nhân và gia đình năm 2014, cũng như các quy định về thách cưới và Nghị định số 32/2002/NĐ-CP không được nhắc đến rõ ràng. Mặc dù sinh viên đã nêu ra các vấn đề liên quan đến thách cưới và vi phạm pháp luật, nhưng chưa đầy đủ và không rõ ràng như trong đáp án đúng. Do đó, câu trả lời này có khoảng 60-70% thông tin đúng, nhưng vẫn thiếu sót một số điểm quan trọng.', 'Score': '7'}\n",
      "attempt : 0\n",
      "gpt-4o-mini\n",
      "Định dạng JSON hợp lệ!\n",
      "{'sga': ['Điều 8 Luật hôn nhân và gia đình năm 2014', 'Nam từ đủ 20 tuổi, nữ từ đủ 18 tuổi', 'Việc kết hôn do nam và nữ tự nguyện quyết định', 'Không bị mất năng lực hành vi dân sự', 'Cấm kết hôn giả tạo, cưỡng ép kết hôn', 'M chưa đủ 17 tuổi', 'Việc bố mẹ ép M kết hôn là không đúng pháp luật'], 'anwser': ['Luật Hôn nhân và Gia đình 2014', 'Nam giới phải đủ 20 tuổi, nữ giới phải đủ 18 tuổi', 'M chưa đủ 18 tuổi', 'Sự tự nguyện của cả hai bên', 'Việc bố mẹ M ép M kết hôn là vi phạm quy định của pháp luật', 'M có quyền từ chối kết hôn'], 'Explain': 'Câu trả lời của sinh viên đã trích xuất được nhiều từ khóa và thông tin quan trọng từ đáp án đúng. Cụ thể, sinh viên đã nêu rõ độ tuổi kết hôn theo quy định của pháp luật, sự tự nguyện trong việc kết hôn và việc bố mẹ ép M kết hôn là không đúng. Tuy nhiên, một số thông tin chi tiết như các trường hợp cấm kết hôn cụ thể và quy định về năng lực hành vi dân sự không được đề cập. Tổng thể, khoảng 70% thông tin quan trọng đã được đề cập, nhưng thiếu một số chi tiết cần thiết.', 'Score': '7'}\n",
      "attempt : 0\n",
      "gpt-4o-mini\n",
      "Định dạng JSON hợp lệ!\n",
      "{'sga': ['Kết hôn trái pháp luật', 'điều kiện kết hôn', 'Luật hôn nhân và gia đình', 'Tòa án', 'hủy việc kết hôn trái pháp luật', 'công nhận quan hệ hôn nhân', 'quyết định của Tòa án', 'sổ hộ tịch'], 'anwser': ['Kết hôn trái pháp luật', 'Luật Hôn Nhân và Gia Đình 2014', 'không công nhận', 'quyền lợi tài sản', 'yêu cầu Tòa án', 'nuôi dưỡng con cái', 'phạt hành chính', 'chính quyền địa phương'], 'Explain': 'Câu trả lời của sinh viên đã đề cập đến khái niệm kết hôn trái pháp luật và các quy định pháp luật liên quan, nhưng thiếu một số thông tin quan trọng từ đáp án đúng. Cụ thể, sinh viên không nêu rõ về việc Tòa án xử lý kết hôn trái pháp luật, quy trình hủy bỏ hoặc công nhận quan hệ hôn nhân, và không đề cập đến việc gửi quyết định của Tòa án cho cơ quan đăng ký kết hôn. Mặc dù có nhiều thông tin đúng và liên quan, nhưng một số điểm quan trọng đã bị thiếu, dẫn đến việc không đạt được mức độ thông tin cần thiết.', 'Score': '6'}\n",
      "attempt : 0\n",
      "gpt-4o-mini\n",
      "Định dạng JSON hợp lệ!\n",
      "{'sga': ['Điều 12 Luật hôn nhân và gia đình năm 2014', 'hủy kết hôn trái pháp luật', 'chấm dứt quan hệ như vợ chồng', 'quyền, nghĩa vụ của cha, mẹ, con', 'giải quyết theo thỏa thuận giữa các bên', 'quy định của Bộ luật dân sự', 'bảo đảm quyền, lợi ích hợp pháp của phụ nữ và con'], 'anwser': ['Luật Hôn nhân và Gia đình năm 2014', 'kết hôn trái pháp luật', 'hủy kết hôn giữa anh A và chị C', 'không được công nhận về mặt pháp lý', 'quyền và nghĩa vụ của cha, mẹ, con', 'tài sản chung sẽ được xử lý', 'nghĩa vụ đối với vợ của mình'], 'Explain': 'Câu trả lời của sinh viên đã trích xuất được nhiều từ khóa và thông tin quan trọng từ đáp án đúng, như việc hủy kết hôn trái pháp luật, quyền và nghĩa vụ của cha mẹ và con, cũng như việc xử lý tài sản. Tuy nhiên, câu trả lời chưa đề cập đến việc chấm dứt quan hệ như vợ chồng và các quy định cụ thể về quyền lợi của phụ nữ và con, điều này làm giảm độ chính xác của câu trả lời. Mặc dù có nhiều thông tin đúng, nhưng một số thông tin không đầy đủ và thiếu chính xác, vì vậy điểm số sẽ không đạt tối đa.', 'Score': '7'}\n",
      "attempt : 0\n",
      "gpt-4o-mini\n",
      "Định dạng JSON hợp lệ!\n",
      "{'sga': ['quyền tự do tín ngưỡng, tôn giáo', 'Luật hôn nhân và gia đình năm 2014', 'Điều 22', 'ép buộc theo tôn giáo', 'trái với quy định của pháp luật', 'giải thích, thuyết phục', 'nhờ sự giúp đỡ của những người có uy tín'], 'anwser': ['Luật Hôn nhân và gia đình năm 2014', 'quyền tự do tín ngưỡng và tôn giáo', 'không bị áp đặt hay cưỡng ép', 'vi phạm quyền tự do cá nhân', 'nguyên tắc dân chủ và bình đẳng', 'nghiêm cấm hành vi ép buộc', 'quyền cơ bản của công dân', 'phản ánh và yêu cầu can thiệp', 'trò chuyện và thương lượng', 'tìm kiếm hỗ trợ', 'liên hệ cơ quan chức năng'], 'Explain': \"Câu trả lời của sinh viên đã trích xuất được nhiều từ khóa và thông tin quan trọng liên quan đến quyền tự do tín ngưỡng và tôn giáo, cũng như các quy định trong Luật Hôn nhân và Gia đình năm 2014. Tuy nhiên, câu trả lời thiếu thông tin cụ thể về Điều 22 của Luật Hôn nhân và Gia đình, mà trong đáp án đúng đã nêu rõ. Mặc dù có nhiều thông tin đúng và liên quan, nhưng một số thông tin như 'nguyên tắc dân chủ và bình đẳng' không được đề cập trong đáp án đúng. Do đó, câu trả lời này có khoảng 70% thông tin chính xác và liên quan, nhưng vẫn còn thiếu sót một số điểm quan trọng.\", 'Score': '7'}\n",
      "attempt : 0\n",
      "gpt-4o-mini\n",
      "Định dạng JSON hợp lệ!\n",
      "{'sga': ['Điều 25 Luật hôn nhân và gia đình năm 2014', 'vợ, chồng kinh doanh chung', 'người đại diện hợp pháp', 'thỏa thuận khác', 'Điều 36 Luật hôn nhân và gia đình năm 2014', 'quyền tự mình thực hiện giao dịch', 'tài sản chung', 'thỏa thuận lập thành văn bản', 'Điều 27 Luật hôn nhân và gia đình', 'chị H chịu trách nhiệm liên đới'], 'anwser': ['anh A và chị H là hai thành viên trong một quan hệ hôn nhân hợp pháp', 'quyền đại diện', 'thỏa thuận rõ ràng', 'quyền tự mình thực hiện giao dịch', 'chị H có thể phải chịu trách nhiệm pháp lý', 'nghĩa vụ chung', 'thỏa thuận khác', 'tránh phát sinh tranh chấp pháp lý'], 'Explain': 'Câu trả lời của sinh viên đã đề cập đến một số khía cạnh quan trọng như quyền đại diện, quyền tự thực hiện giao dịch và trách nhiệm liên đới của chị H. Tuy nhiên, câu trả lời thiếu chính xác về việc anh A có phải là đại diện hợp pháp hay không, vì theo quy định, anh A là đại diện hợp pháp nếu không có thỏa thuận khác. Câu trả lời cũng không nhắc đến các điều khoản cụ thể trong Luật hôn nhân và gia đình năm 2014, như Điều 25, Điều 36 và Điều 27, mà là những thông tin quan trọng trong đáp án đúng. Mặc dù có một số từ khóa và thông tin quan trọng được đề cập, nhưng vẫn còn thiếu sót và không chính xác trong một số điểm.', 'Score': '5'}\n",
      "attempt : 0\n",
      "gpt-4o-mini\n",
      "Định dạng JSON hợp lệ!\n",
      "{'sga': ['trách nhiệm liên đới', 'giao dịch do một bên thực hiện', 'nhu cầu thiết yếu của gia đình', 'đồng ý của cả hai vợ chồng', 'kinh doanh chung', 'tài sản chung', 'nghĩa vụ phát sinh từ giao dịch', 'bồi thường thiệt hại', 'nghĩa vụ do vợ hoặc chồng thực hiện', 'chiếm hữu, sử dụng, định đoạt tài sản chung', 'sử dụng tài sản riêng để duy trì tài sản chung', 'bồi thường thiệt hại do con gây ra'], 'anwser': ['trách nhiệm liên đới', 'nghĩa vụ tài sản chung', 'giao dịch kinh tế', 'bồi thường thiệt hại', 'nghĩa vụ cấp dưỡng', 'nuôi dưỡng và giáo dục con', 'bạo lực gia đình', 'giao dịch dân sự'], 'Explain': 'Câu trả lời của sinh viên đã đề cập đến một số khía cạnh quan trọng liên quan đến trách nhiệm liên đới của vợ chồng, như nghĩa vụ tài sản chung, nghĩa vụ cấp dưỡng, và trách nhiệm trong việc nuôi dưỡng con cái. Tuy nhiên, câu trả lời thiếu một số thông tin quan trọng từ đáp án đúng, chẳng hạn như các trường hợp cụ thể liên quan đến giao dịch do một bên thực hiện và các nghĩa vụ phát sinh từ việc chiếm hữu, sử dụng tài sản chung. Mặc dù có một số từ khóa quan trọng được đề cập, nhưng thông tin không đầy đủ và thiếu chính xác trong một số khía cạnh. Do đó, câu trả lời này đạt khoảng 50% thông tin chính xác.', 'Score': '6'}\n",
      "attempt : 0\n",
      "gpt-4o-mini\n",
      "Định dạng JSON hợp lệ!\n",
      "{'sga': ['quyền quyết định', 'tài sản chung', 'bình đẳng', 'quyền, nghĩa vụ', 'Điều 29 Luật hôn nhân và gia đình năm 2014', 'không phân biệt giữa lao động trong gia đình và lao động có thu nhập', 'bảo đảm điều kiện', 'bồi thường'], 'anwser': ['quyền và nghĩa vụ', 'bình đẳng giữa vợ và chồng', 'quản lý, sử dụng tài sản chung', 'quyền và nghĩa vụ ngang nhau', 'không phụ thuộc vào ai là lao động chính', 'đồng thuận và thỏa thuận', 'vi phạm quyền lợi hợp pháp', 'chăm sóc con cái', 'giá trị lớn trong việc xây dựng và duy trì gia đình'], 'Explain': \"Câu trả lời của sinh viên đã trích xuất được nhiều từ khóa và thông tin quan trọng liên quan đến quyền và nghĩa vụ của vợ chồng trong việc quản lý tài sản chung, cũng như nguyên tắc bình đẳng giữa họ. Tuy nhiên, một số thông tin như 'bồi thường' và 'bảo đảm điều kiện' từ đáp án đúng không được đề cập trong câu trả lời của sinh viên. Mặc dù vậy, sinh viên đã nêu rõ rằng việc anh A tự quyết định mà không tham khảo ý kiến của chị T là không phù hợp với quy định pháp luật, điều này thể hiện sự hiểu biết về nguyên tắc bình đẳng trong Luật Hôn nhân và Gia đình. Tổng thể, câu trả lời có khoảng 70% thông tin chính xác và liên quan, nhưng vẫn thiếu một số yếu tố quan trọng.\", 'Score': '7'}\n",
      "attempt : 0\n",
      "gpt-4o-mini\n",
      "Định dạng JSON hợp lệ!\n",
      "{'sga': ['Điều 31 Luật hôn nhân và gia đình năm 2014', 'ngôi nhà là nơi ở duy nhất của vợ chồng', 'tài sản chung của vợ chồng', 'thỏa thuận của vợ chồng', 'nhà thuộc sở hữu riêng của anh T', 'quyền xác lập, thực hiện, chấm dứt giao dịch', 'bảo đảm chỗ ở cho vợ và các con'], 'anwser': ['Luật Hôn nhân và Gia đình 2014', 'tài sản riêng của người đó', 'không cần phải xin phép hay có sự thỏa thuận của vợ', 'có thể cần xem xét đến quyền lợi của vợ', 'thông báo cho vợ', 'thỏa thuận rõ ràng về quyền sử dụng và giao dịch tài sản', 'tránh những tranh chấp trong tương lai'], 'Explain': 'Câu trả lời của sinh viên đã đề cập đến nhiều khía cạnh quan trọng liên quan đến quyền sở hữu và giao dịch tài sản trong hôn nhân. Tuy nhiên, một số thông tin không hoàn toàn chính xác hoặc không đầy đủ so với đáp án đúng. Câu trả lời đã nêu rõ rằng ngôi nhà là tài sản riêng của anh T và không cần thỏa thuận với vợ, nhưng lại không nhấn mạnh rằng ngôi nhà là nơi ở duy nhất của vợ chồng, điều này là rất quan trọng theo quy định của Luật. Ngoài ra, sinh viên đã đề cập đến việc thông báo cho vợ và thỏa thuận rõ ràng, điều này có thể là một điểm tích cực nhưng không phải là yêu cầu bắt buộc theo luật. Tổng thể, câu trả lời có nhiều thông tin liên quan nhưng thiếu một số điểm quan trọng và có một vài thông tin không chính xác.', 'Score': '6'}\n",
      "attempt : 0\n",
      "gpt-4o-mini\n",
      "Định dạng JSON hợp lệ!\n",
      "{'sga': ['tài sản chung của vợ chồng', 'tài sản do vợ, chồng tạo ra', 'thu nhập do lao động, hoạt động sản xuất, kinh doanh', 'hoa lợi, lợi tức phát sinh từ tài sản riêng', 'tài sản thừa kế chung hoặc được tặng cho chung', 'tài sản khác mà vợ chồng thỏa thuận là tài sản chung', 'quyền sử dụng đất', 'sở hữu chung hợp nhất', 'bảo đảm nhu cầu của gia đình', 'thỏa thuận bằng văn bản', 'bất động sản', 'động sản phải đăng ký quyền sở hữu', 'tài sản tạo ra thu nhập chủ yếu'], 'anwser': ['tài sản chung của vợ chồng', 'tài sản mà cả hai bên cùng tạo ra hoặc sở hữu trong thời gian hôn nhân', 'tài sản thừa kế hoặc được tặng cho', 'không có thỏa thuận khác', 'tài sản đang có tranh chấp', 'tài sản đó sẽ được coi là tài sản chung', 'quyền quản lý, sử dụng tài sản chung', 'cần có sự đồng ý của cả hai bên', 'tranh chấp liên quan đến việc chia sẻ hoặc quản lý tài sản chung', 'yêu cầu tòa án can thiệp'], 'Explain': 'Câu trả lời của sinh viên đã trích xuất được nhiều từ khóa và thông tin quan trọng từ đáp án đúng, như tài sản chung của vợ chồng, tài sản do vợ chồng tạo ra, và quy định về tranh chấp tài sản. Tuy nhiên, một số thông tin quan trọng như hoa lợi, lợi tức phát sinh từ tài sản riêng, và các quy định cụ thể về việc chiếm hữu, sử dụng, định đoạt tài sản chung chưa được đề cập. Mặc dù có một số thông tin không chính xác hoặc thiếu sót, nhưng nhìn chung, câu trả lời đã bao quát được khoảng 70% nội dung chính của đáp án đúng.', 'Score': '7'}\n",
      "attempt : 0\n",
      "gpt-4o-mini\n",
      "Định dạng JSON hợp lệ!\n",
      "{'sga': ['quyền lựa chọn chế độ tài sản theo thỏa thuận', 'thỏa thuận xác lập chế độ tài sản phải được lập trước khi kết hôn', 'hình thức văn bản có công chứng hoặc chứng thực', 'chế độ tài sản chung, tài sản riêng', 'nội dung cơ bản của thỏa thuận', 'quyền, nghĩa vụ của vợ chồng', 'nguyên tắc phân chia tài sản khi chấm dứt chế độ tài sản', 'áp dụng quy định về nguyên tắc chung về chế độ tài sản của vợ chồng'], 'anwser': ['quyền yêu cầu lập một văn bản thỏa thuận về chế độ tài sản trước khi kết hôn', 'bảo vệ quyền lợi', 'chế độ tài sản chung và chế độ tài sản riêng', 'tài sản nào sẽ là tài sản chung và tài sản nào sẽ là tài sản riêng', 'quy định về việc quản lý, sử dụng và định đoạt tài sản chung', 'hậu quả pháp lý của việc phá sản hoặc nợ nần', 'bảo vệ quyền lợi hợp pháp', 'tham khảo ý kiến từ bộ phận pháp lý'], 'Explain': 'Câu trả lời của sinh viên đã đề cập đến quyền lập thỏa thuận về chế độ tài sản trước khi kết hôn, điều này phù hợp với quy định của pháp luật. Tuy nhiên, sinh viên không nêu rõ về hình thức lập thỏa thuận (công chứng hoặc chứng thực) và các nội dung cơ bản của thỏa thuận như trong đáp án đúng. Mặc dù có nhiều thông tin đúng, nhưng một số thông tin quan trọng như nguyên tắc phân chia tài sản và các quy định cụ thể về chế độ tài sản theo luật định không được đề cập. Do đó, câu trả lời có khoảng 60-70% thông tin chính xác và đầy đủ.', 'Score': '7'}\n",
      "attempt : 0\n",
      "gpt-4o-mini\n",
      "Định dạng JSON hợp lệ!\n",
      "{'sga': ['quyền yêu cầu giải quyết ly hôn', 'vợ, chồng có quyền yêu cầu Tòa án', 'chồng không có quyền yêu cầu ly hôn khi vợ đang có thai', 'tình trạng hôn nhân trầm trọng', 'mục đích của hôn nhân không đạt được'], 'anwser': ['quyền yêu cầu ly hôn', 'vợ, chồng có quyền yêu cầu Tòa án', 'chồng không có quyền yêu cầu ly hôn khi vợ đang có thai', 'lý do ly hôn là vì chồng có quan hệ bất chính', 'quy trình ly hôn'], 'Explain': 'Câu trả lời của sinh viên đã trích xuất được hầu hết các từ khóa và thông tin quan trọng từ đáp án đúng. Cụ thể, sinh viên đã nêu rõ quyền yêu cầu ly hôn của vợ, chồng, quy định về việc chồng không có quyền yêu cầu ly hôn khi vợ đang mang thai, và lý do ly hôn liên quan đến sự không chung thủy của chồng. Tuy nhiên, câu trả lời có thêm một số thông tin về quy trình ly hôn mà không có trong đáp án đúng, nhưng không làm ảnh hưởng đến nội dung chính. Do đó, thông tin quan trọng trong câu trả lời đạt khoảng 80% so với đáp án đúng.', 'Score': '9'}\n",
      "attempt : 0\n",
      "gpt-4o-mini\n",
      "Định dạng JSON hợp lệ!\n",
      "{'sga': ['Nguyên tắc giải quyết tài sản của vợ chồng khi ly hôn', 'Điều 59 Luật hôn nhân và gia đình năm 2014', 'tài sản chung', 'tài sản riêng', 'chia đôi tài sản', 'hoàn cảnh gia đình', 'công sức đóng góp', 'lỗi của mỗi bên', 'bảo vệ quyền lợi hợp pháp của vợ, con chưa thành niên'], 'anwser': ['Nguyên tắc giải quyết tài sản giữa vợ chồng khi ly hôn', 'Luật Hôn nhân và Gia đình năm 2014', 'tài sản chung và riêng', 'công bằng và hợp lý', 'dựa trên sự thỏa thuận', 'quy trình thực hiện', 'bảo vệ quyền lợi hợp pháp', 'trẻ em', 'bạo lực gia đình'], 'Explain': \"Câu trả lời của sinh viên đã đề cập đến nhiều khía cạnh quan trọng liên quan đến nguyên tắc giải quyết tài sản khi ly hôn, như phân chia tài sản chung và riêng, nguyên tắc công bằng và hợp lý, và bảo vệ quyền lợi hợp pháp. Tuy nhiên, câu trả lời thiếu một số thông tin cụ thể từ đáp án đúng, chẳng hạn như các điều khoản cụ thể trong Luật Hôn nhân và Gia đình (Điều 59 và các điều 60, 61, 62, 63, 64). Ngoài ra, một số thông tin như 'lỗi của mỗi bên' và 'hoàn cảnh gia đình' cũng không được đề cập. Mặc dù có nhiều thông tin đúng và liên quan, nhưng vẫn còn thiếu sót và không đầy đủ như đáp án chuẩn.\", 'Score': '7'}\n",
      "attempt : 0\n",
      "gpt-4o-mini\n",
      "Định dạng JSON hợp lệ!\n",
      "{'sga': ['Điều 62 Luật hôn nhân và gia đình năm 2014', 'Quyền sử dụng đất là tài sản riêng', 'Tài sản chung của vợ chồng', 'Đất nông nghiệp trồng cây hàng năm, nuôi trồng thủy sản', 'thỏa thuận của hai bên', 'Tòa án giải quyết', 'Điều 59', 'Quyền sử dụng đất chung với hộ gia đình', 'Đất nông nghiệp trồng cây lâu năm, đất ở', 'Điều 61'], 'anwser': ['Luật Hôn Nhân và Gia Đình năm 2014', 'chia quyền sử dụng đất', 'Điều 62', 'đất nông nghiệp trồng cây hàng năm và nuôi trồng thủy sản', 'thỏa thuận của hai bên', 'Tòa án giải quyết', 'Điều 59', 'quyền sử dụng đất nông nghiệp chung với hộ gia đình', 'đất nông nghiệp trồng cây lâu năm và đất ở', 'quy định của pháp luật về đất đai'], 'Explain': 'Câu trả lời của sinh viên đã trích xuất được nhiều từ khóa và thông tin quan trọng từ đáp án đúng, bao gồm các điều luật, quy định về chia quyền sử dụng đất và các loại đất liên quan. Tuy nhiên, một số thông tin như việc chia tài sản chung của vợ chồng và quyền lợi của bên không có quyền sử dụng đất không được đề cập rõ ràng. Mặc dù vậy, câu trả lời vẫn giữ được tính chính xác và đầy đủ về các quy định chính của Luật Hôn Nhân và Gia Đình năm 2014.', 'Score': '8'}\n",
      "attempt : 0\n",
      "gpt-4o-mini\n",
      "Định dạng JSON hợp lệ!\n",
      "{'sga': ['Điều 66 Luật hôn nhân và gia đình năm 2014', 'tài sản chung của vợ chồng', 'quản lý tài sản chung', 'chia đôi tài sản chung', 'pháp luật về thừa kế', 'hàng thừa kế thứ nhất', 'vợ, cha đẻ, mẹ đẻ, cha nuôi, mẹ nuôi, con đẻ, con nuôi'], 'anwser': ['Luật Hôn nhân và Gia đình năm 2014', 'tài sản chung của vợ chồng', 'quyền sở hữu tài sản chung', 'chia theo quy định của pháp luật về thừa kế', 'không có di chúc', 'gia đình anh A sẽ có quyền yêu cầu chia tài sản', 'thành viên trong gia đình của anh A'], 'Explain': 'Câu trả lời của sinh viên đã trích xuất được một số từ khóa và thông tin quan trọng liên quan đến quy định của Luật Hôn nhân và Gia đình năm 2014, như tài sản chung của vợ chồng, quyền sở hữu tài sản chung, và quy định về thừa kế. Tuy nhiên, câu trả lời thiếu một số chi tiết quan trọng từ đáp án đúng, chẳng hạn như việc quản lý tài sản chung, quy định cụ thể về chia đôi tài sản chung, và danh sách hàng thừa kế thứ nhất. Mặc dù có một số thông tin đúng, nhưng vẫn còn thiếu sót và không đầy đủ so với đáp án chuẩn.', 'Score': '7'}\n",
      "attempt : 0\n",
      "gpt-4o-mini\n",
      "Định dạng JSON hợp lệ!\n",
      "{'sga': ['thương yêu con', 'tôn trọng ý kiến của con', 'chăm lo việc học tập, giáo dục', 'phát triển lành mạnh về thể chất, trí tuệ, đạo đức', 'trông nom, nuôi dưỡng, chăm sóc', 'bảo vệ quyền, lợi ích hợp pháp của con', 'không phân biệt đối xử', 'không lạm dụng sức lao động', 'không xúi giục, ép buộc con làm việc trái pháp luật', 'nghĩa vụ và quyền ngang nhau', 'giáo dục con', 'tạo điều kiện cho con học tập', 'sống trong môi trường gia đình đầm ấm, hòa thuận', 'hướng dẫn con chọn nghề', 'tôn trọng quyền chọn nghề', 'đề nghị cơ quan, tổ chức giúp đỡ'], 'anwser': ['nuôi dưỡng và chăm sóc', 'môi trường sống an toàn và thân thiện', 'cung cấp các nhu cầu thiết yếu', 'giáo dục về đạo đức, lối sống, kiến thức xã hội', 'quản lý tài sản', 'cấp dưỡng', 'bồi thường thiệt hại', 'quyền định đoạt tài sản', 'quyền nuôi con', 'giám sát quyền lợi hợp pháp'], 'Explain': \"Câu trả lời của sinh viên đã trích xuất được nhiều từ khóa và thông tin quan trọng liên quan đến nghĩa vụ và quyền của cha mẹ theo Luật Hôn nhân và Gia đình năm 2014. Tuy nhiên, một số nội dung quan trọng trong đáp án đúng như 'thương yêu con', 'tôn trọng ý kiến của con', 'không phân biệt đối xử', và 'không lạm dụng sức lao động' không được đề cập. Mặc dù câu trả lời đã nêu được các nghĩa vụ và quyền như nuôi dưỡng, giáo dục, và quản lý tài sản, nhưng thiếu sót trong việc nêu rõ các nguyên tắc và nghĩa vụ khác mà luật quy định. Do đó, thông tin quan trọng trong câu trả lời chỉ đạt khoảng 60-70% so với đáp án đúng.\", 'Score': '7'}\n",
      "attempt : 0\n",
      "gpt-4o-mini\n",
      "Định dạng JSON hợp lệ!\n",
      "{'sga': ['Điều 73 Luật hôn nhân và gia đình năm 2014', 'cha mẹ đại diện theo pháp luật của con chưa thành niên', 'giao dịch nhằm đáp ứng nhu cầu thiết yếu của con chưa thành niên', 'giao dịch liên quan đến tài sản là bất động sản', 'phải có sự thỏa thuận của cha mẹ', 'chịu trách nhiệm liên đới về việc thực hiện giao dịch'], 'anwser': ['Luật Hôn nhân và Gia đình năm 2014', 'quyền và nghĩa vụ của cha mẹ trong việc đại diện cho con chưa thành niên', 'chuyển nhượng quyền sử dụng đất', 'đại diện hợp pháp cho con', 'cần có sự đồng ý của con', 'thủ tục chuyển nhượng quyền sử dụng đất', 'lợi ích của con', 'bán đất nhằm mục đích chữa trị cho bệnh của cháu'], 'Explain': 'Câu trả lời của sinh viên đã trích xuất được nhiều từ khóa và thông tin quan trọng liên quan đến quyền đại diện của cha mẹ cho con chưa thành niên theo quy định của Luật Hôn nhân và Gia đình năm 2014. Tuy nhiên, sinh viên đã nhầm lẫn khi trích dẫn Điều 70 thay vì Điều 73, và không đề cập đến trách nhiệm liên đới của cha mẹ trong giao dịch liên quan đến tài sản của con. Mặc dù có nhiều thông tin đúng, nhưng một số thông tin không chính xác và thiếu sót đã ảnh hưởng đến độ chính xác của câu trả lời.', 'Score': '7'}\n",
      "attempt : 0\n",
      "gpt-4o-mini\n",
      "Định dạng JSON hợp lệ!\n",
      "{'sga': ['Điều 76 Luật hôn nhân và gia đình năm 2014', 'quản lý tài sản riêng của con', 'Con dưới 15 tuổi', 'cha mẹ có quyền quản lý', 'mẹ chồng bạn là người quản lý tài sản', 'tài sản được thừa kế', 'quyền quản lý tài sản này thuộc về mẹ chồng bạn'], 'anwser': ['Luật Hôn nhân và Gia đình năm 2014', 'quyền và nghĩa vụ liên quan đến tài sản của con chưa thành niên', 'quyền sở hữu tài sản riêng', 'người giám hộ', 'mẹ chồng bạn sẽ đảm nhiệm việc quản lý tài sản', 'quyền quản lý tài sản thuộc về mẹ chồng bạn', 'vợ chồng bạn không có quyền trực tiếp quản lý ngôi nhà'], 'Explain': 'Câu trả lời của sinh viên đã trích xuất một số từ khóa và thông tin quan trọng liên quan đến quyền quản lý tài sản của con chưa thành niên theo Luật Hôn nhân và Gia đình năm 2014. Tuy nhiên, câu trả lời không đề cập đến các điều khoản cụ thể như Điều 76 mà đáp án đúng đã nêu, và cũng không làm rõ các điều kiện về việc ủy quyền quản lý tài sản. Mặc dù sinh viên đã nêu đúng rằng mẹ chồng là người quản lý tài sản và vợ chồng không có quyền trực tiếp quản lý, nhưng thiếu sót trong việc nêu rõ quyền hạn và trách nhiệm của cha mẹ trong việc quản lý tài sản của con dưới 15 tuổi. Do đó, thông tin quan trọng trong câu trả lời chỉ đạt khoảng 50% so với đáp án đúng.', 'Score': '6'}\n",
      "attempt : 0\n",
      "gpt-4o-mini\n",
      "Định dạng JSON hợp lệ!\n",
      "{'sga': ['Điều 79 Luật hôn nhân và gia đình năm 2014', 'cha dượng, mẹ kế có quyền và nghĩa vụ trông nom, nuôi dưỡng, chăm sóc, giáo dục con riêng', 'con riêng có quyền và nghĩa vụ chăm sóc, phụng dưỡng cha dượng, mẹ kế', 'Điều 70 và Điều 71 của Luật hôn nhân và gia đình', 'nghĩa vụ chăm sóc, nuôi dưỡng cha mẹ', 'khoản 2 Điều 71 Luật hôn nhân và gia đình', 'trường hợp gia đình có nhiều con thì các con phải cùng nhau chăm sóc, nuôi dưỡng cha mẹ'], 'anwser': ['Luật Hôn nhân và Gia đình năm 2014 tại Việt Nam', 'trách nhiệm chăm sóc và nuôi dưỡng giữa các thành viên trong gia đình', 'nghĩa vụ chăm sóc người lớn tuổi', 'mẹ của H đã qua đời', 'ba dượng có thể được coi như một thành viên trong gia đình', 'trách nhiệm đạo đức và tinh thần', 'quy định tại khoản 3, điều 69', 'thỏa thuận hoặc cam kết giữa các bên', 'không bị ràng buộc phải chăm sóc ba dượng', 'xét về mặt đạo đức và tình nghĩa gia đình'], 'Explain': 'Câu trả lời của sinh viên đã đề cập đến nhiều khía cạnh quan trọng liên quan đến nghĩa vụ chăm sóc ba dượng, nhưng không trích dẫn đầy đủ các điều luật cụ thể như trong đáp án đúng. Sinh viên đã nêu rõ về trách nhiệm của H đối với ba dượng và các yếu tố liên quan như mối quan hệ huyết thống và trách nhiệm đạo đức, nhưng thiếu thông tin về các điều luật cụ thể (Điều 70, 71, 79) và không nhấn mạnh rõ ràng nghĩa vụ chăm sóc cha dượng theo quy định của pháp luật. Do đó, câu trả lời có một số thông tin quan trọng nhưng không đầy đủ và thiếu chính xác về mặt pháp lý.', 'Score': '6'}\n",
      "attempt : 0\n",
      "gpt-4o-mini\n",
      "Định dạng JSON hợp lệ!\n",
      "{'sga': ['Điều 84 Luật hôn nhân và gia đình năm 2014', 'thay đổi người trực tiếp nuôi con', 'có yêu cầu của cha, mẹ hoặc cá nhân, cơ quan, tổ chức', 'thỏa thuận về việc thay đổi người trực tiếp nuôi con', 'lợi ích của con', 'người trực tiếp nuôi con không còn đủ điều kiện', 'yêu cầu Tòa án giải quyết', 'đề nghị người thân thích, cơ quan quản lý nhà nước về gia đình, trẻ em, Hội liên hiệp phụ nữ'], 'anwser': ['quyền nuôi con', 'lợi ích tốt nhất của trẻ', 'yêu cầu Tòa án xem xét lại', 'có đủ cơ sở chứng minh', 'vợ bạn thường xuyên đi công tác xa', 'điều kiện thiếu thốn cả về vật chất và tình cảm', 'Điều 81 của Luật Hôn Nhân và Gia Đình', 'thay đổi về hoàn cảnh hoặc điều kiện sống', 'cung cấp chứng cứ rõ ràng', 'nộp đơn đến Tòa án có thẩm quyền', 'tư vấn từ một luật sư chuyên về hôn nhân và gia đình'], 'Explain': 'Câu trả lời của sinh viên đã nêu ra một số từ khóa và thông tin quan trọng liên quan đến quyền nuôi con, tuy nhiên, nó không hoàn toàn chính xác và đầy đủ so với đáp án đúng. Sinh viên đã đề cập đến các điều khoản của Luật Hôn Nhân và Gia Đình, nhưng chủ yếu là Điều 81 thay vì Điều 84, và không nhấn mạnh rõ ràng về việc Tòa án có thể quyết định thay đổi người nuôi con dựa trên yêu cầu của cha, mẹ hoặc các tổ chức. Mặc dù có nhiều thông tin hữu ích, nhưng thiếu sót trong việc đề cập đến các căn cứ cụ thể mà Tòa án sẽ xem xét và các bên liên quan có thể yêu cầu thay đổi quyền nuôi con. Do đó, câu trả lời này đạt khoảng 60% thông tin chính xác và đầy đủ.', 'Score': '6'}\n",
      "attempt : 0\n",
      "gpt-4o-mini\n",
      "Định dạng JSON hợp lệ!\n",
      "{'sga': ['Điều 85 Luật hôn nhân và gia đình năm 2014', 'Bị kết án về tội xâm phạm tính mạng, sức khỏe, nhân phẩm, danh dự của con', 'Có hành vi vi phạm nghiêm trọng nghĩa vụ trông nom, chăm sóc, nuôi dưỡng, giáo dục con', 'Phá tán tài sản của con', 'Có lối sống đồi trụy', 'Xúi giục, ép buộc con làm những việc trái pháp luật, trái đạo đức xã hội'], 'anwser': ['quyền và nghĩa vụ của cha mẹ đối với con chưa thành niên', 'hạn chế quyền thăm nom hoặc quyền nuôi dưỡng', 'vi phạm quyền lợi của con', 'hành vi bạo lực, lạm dụng', 'thiếu khả năng nuôi dưỡng', 'sức khỏe không đảm bảo', 'hành vi trái pháp luật', 'nghiện ma túy', 'tình trạng tâm lý không ổn định', 'Tòa án can thiệp'], 'Explain': 'Câu trả lời của sinh viên đã đề cập đến một số trường hợp mà quyền của cha mẹ có thể bị hạn chế, tuy nhiên, nó không hoàn toàn chính xác và đầy đủ so với đáp án đúng. Các trường hợp được nêu trong câu trả lời như vi phạm quyền lợi của con, thiếu khả năng nuôi dưỡng, hành vi trái pháp luật và tình trạng tâm lý không ổn định không hoàn toàn tương ứng với các trường hợp cụ thể được quy định trong Điều 85 Luật hôn nhân và gia đình năm 2014. Đặc biệt, sinh viên không đề cập đến các trường hợp cụ thể như bị kết án về tội xâm phạm tính mạng, sức khỏe, nhân phẩm của con, phá tán tài sản của con, có lối sống đồi trụy, và xúi giục con làm việc trái pháp luật. Do đó, mặc dù có một số từ khóa và thông tin quan trọng, nhưng thông tin sai và thiếu sót nhiều hơn, dẫn đến việc đánh giá ở mức độ thấp.', 'Score': '5'}\n",
      "attempt : 0\n",
      "gpt-4o-mini\n",
      "Định dạng JSON hợp lệ!\n",
      "{'sga': ['Điều 86 Luật hôn nhân và gia đình năm 2014', 'hạn chế quyền của cha, mẹ đối với con chưa thành niên', 'người giám hộ của con chưa thành niên', 'người thân thích', 'cơ quan quản lý nhà nước về gia đình', 'cơ quan quản lý nhà nước về trẻ em', 'Hội liên hiệp phụ nữ', 'hành vi vi phạm quy định tại khoản 1 Điều 85', 'phạm tội xâm phạm tính mạng, sức khỏe, nhân phẩm, danh dự của con', 'vi phạm nghiêm trọng nghĩa vụ trông nom, chăm sóc, nuôi dưỡng, giáo dục con', 'báo ngay chính quyền, đoàn thể cơ sở'], 'anwser': ['quyền yêu cầu Tòa án hạn chế quyền của người mẹ đối với con chưa thành niên', 'Luật Hôn Nhân và Gia Đình 2014', 'bảo vệ quyền lợi của trẻ em', 'xử lý các hành vi bạo lực gia đình', 'bất kỳ cá nhân, tổ chức nào có quyền yêu cầu Tòa án', 'bằng chứng cho thấy hành vi của họ gây nguy hiểm đến sức khỏe, tính mạng của trẻ', 'tình trạng ngược đãi và đánh đập trẻ em', 'nộp đơn yêu cầu đến Tòa án', 'các tổ chức xã hội', 'Cơ sở hỗ trợ nạn nhân bạo lực gia đình'], 'Explain': 'Câu trả lời của sinh viên đã trích xuất được nhiều từ khóa và thông tin quan trọng liên quan đến quyền yêu cầu Tòa án hạn chế quyền của người mẹ đối với con chưa thành niên. Tuy nhiên, một số thông tin quan trọng từ đáp án đúng như các quy định cụ thể trong Điều 86 và Điều 85 của Luật hôn nhân và gia đình, cũng như các đối tượng có quyền yêu cầu (người giám hộ, người thân thích, cơ quan quản lý nhà nước về gia đình, trẻ em, Hội liên hiệp phụ nữ) chưa được đề cập đầy đủ. Mặc dù câu trả lời có nhiều thông tin đúng và liên quan, nhưng vẫn thiếu một số chi tiết quan trọng và không hoàn toàn chính xác về quy trình và trách nhiệm của các bên liên quan. Do đó, điểm số sẽ được đánh giá ở mức 7.', 'Score': 7}\n",
      "attempt : 0\n",
      "gpt-4o-mini\n",
      "Định dạng JSON hợp lệ!\n",
      "{'sga': ['Luật hôn nhân và gia đình năm 2014', 'quyền và nghĩa vụ của bên nhờ mang thai hộ', 'Điều 98', 'khoản 5', 'yêu cầu Tòa án buộc bên mang thai hộ giao con'], 'anwser': ['vấn đề pháp lý phức tạp', 'tham khảo ý kiến luật sư', 'đàm phán với chị B', 'thực hiện các thủ tục pháp lý', 'khởi kiện yêu cầu giao con', 'đưa ra bằng chứng', 'xem xét tình hình của chị B', 'nghĩa vụ và quyền lợi'], 'Explain': 'Câu trả lời của sinh viên đã đề cập đến nhiều khía cạnh liên quan đến tình huống pháp lý của vợ chồng anh A và chị M, nhưng không trích dẫn các quy định cụ thể trong Luật hôn nhân và gia đình năm 2014, đặc biệt là Điều 98 và khoản 5, mà là những thông tin quan trọng trong câu trả lời đúng. Mặc dù sinh viên đã nêu ra các bước giải quyết hợp lý như tham khảo ý kiến luật sư và đàm phán với chị B, nhưng thiếu thông tin về quyền yêu cầu Tòa án buộc chị B giao con, điều này là cốt lõi trong tình huống này. Do đó, câu trả lời có một số thông tin quan trọng nhưng không đầy đủ và thiếu chính xác về mặt pháp lý.', 'Score': '5'}\n",
      "attempt : 0\n",
      "gpt-4o-mini\n",
      "Định dạng JSON hợp lệ!\n",
      "{'sga': ['Khoản 3 Điều 102 Luật hôn nhân và gia đình năm 2014', 'Cá nhân, cơ quan, tổ chức', 'quyền yêu cầu Tòa án xác định cha, mẹ cho con chưa thành niên', 'con đã thành niên mất năng lực hành vi dân sự', 'xác định con cho cha, mẹ chưa thành niên hoặc mất năng lực hành vi dân sự', 'Cha, mẹ, con, người giám hộ', 'Cơ quan quản lý nhà nước về gia đình', 'Cơ quan quản lý nhà nước về trẻ em', 'Hội liên hiệp phụ nữ'], 'anwser': ['các cá nhân, cơ quan và tổ chức', 'quyền yêu cầu xác định cha, mẹ cho con chưa thành niên', 'con đã thành niên mất năng lực hành vi dân sự', 'Cha, mẹ', 'Người giám hộ', 'Người có quyền lợi và nghĩa vụ liên quan', 'Các tổ chức xã hội', 'Cơ quan nhà nước có thẩm quyền', 'Tòa án'], 'Explain': \"Câu trả lời của sinh viên đã trích xuất được nhiều từ khóa và thông tin quan trọng từ đáp án đúng, như quyền yêu cầu xác định cha, mẹ cho con chưa thành niên và con đã thành niên mất năng lực hành vi dân sự. Tuy nhiên, một số thông tin như 'Cơ quan quản lý nhà nước về trẻ em' và 'Hội liên hiệp phụ nữ' không được đề cập đầy đủ trong câu trả lời. Mặc dù có một số thông tin không chính xác hoặc không đầy đủ, nhưng nhìn chung, câu trả lời đã bao quát được khoảng 70% thông tin quan trọng từ đáp án đúng.\", 'Score': '7'}\n",
      "attempt : 0\n",
      "gpt-4o-mini\n",
      "Định dạng JSON hợp lệ!\n",
      "{'sga': ['Nghĩa vụ cấp dưỡng', 'Luật hôn nhân và gia đình năm 2014', 'giữa cha, mẹ và con', 'giữa anh, chị, em', 'giữa ông bà và cháu', 'giữa cô, dì, chú, cậu và cháu', 'giữa vợ và chồng', 'Điều 110, 111, 112, 113, 114, 115', 'không thể thay thế bằng nghĩa vụ khác', 'Tòa án buộc người đó phải thực hiện nghĩa vụ cấp dưỡng'], 'anwser': ['Nghĩa vụ cấp dưỡng', 'Luật Hôn nhân và Gia đình 2014', 'mối quan hệ tài chính giữa các thành viên trong gia đình', 'giữa vợ và chồng', 'giữa cha mẹ và con cái', 'giữa con cái với cha mẹ', 'chi trả một khoản tiền định kỳ hoặc một khoản tiền một lần', 'Tòa án có thẩm quyền quyết định', 'thỏa thuận trực tiếp', 'nộp đơn yêu cầu Tòa án'], 'Explain': 'Câu trả lời của sinh viên đã trích xuất được nhiều từ khóa và thông tin quan trọng liên quan đến nghĩa vụ cấp dưỡng trong Luật Hôn nhân và Gia đình, như các đối tượng cấp dưỡng và quy trình yêu cầu cấp dưỡng. Tuy nhiên, câu trả lời thiếu một số thông tin quan trọng như các điều luật cụ thể (Điều 110, 111, 112, 113, 114, 115) và thông tin về việc nghĩa vụ cấp dưỡng không thể thay thế bằng nghĩa vụ khác. Mặc dù có một số thông tin sai hoặc không đầy đủ, nhưng nhìn chung, câu trả lời đã bao quát được khoảng 60-70% nội dung của đáp án đúng.', 'Score': '7'}\n",
      "attempt : 0\n",
      "gpt-4o-mini\n",
      "Định dạng JSON hợp lệ!\n",
      "{'sga': ['Điều 116 Luật hôn nhân và gia đình năm 2014', 'mức cấp dưỡng nuôi con do chị A và chồng chị A thỏa thuận', 'thu nhập, khả năng thực tế của chồng chị A', 'nhu cầu thiết yếu của người con', 'yêu cầu Tòa án giải quyết', 'mức cấp dưỡng có thể thay đổi', 'thỏa thuận', 'yêu cầu Tòa án giải quyết'], 'anwser': ['Luật Hôn nhân và Gia đình năm 2014', 'nghĩa vụ cấp dưỡng cho con chưa thành niên', 'cha mẹ có nghĩa vụ cấp dưỡng', 'mức cấp dưỡng sẽ được xác định dựa trên khả năng tài chính', 'nhu cầu thực tế của trẻ em', 'các bên có thể tự thỏa thuận', 'Tòa án sẽ là cơ quan có thẩm quyền để giải quyết', 'yêu cầu Tòa án giải quyết', 'tình trạng tài chính của mỗi bên', 'tình hình sống của trẻ sau khi bố mẹ ly hôn'], 'Explain': 'Câu trả lời của sinh viên đã trích xuất được nhiều từ khóa và thông tin quan trọng liên quan đến quy định về cấp dưỡng nuôi con trong trường hợp ly hôn. Cụ thể, sinh viên đã đề cập đến Luật Hôn nhân và Gia đình năm 2014, nghĩa vụ cấp dưỡng, cách xác định mức cấp dưỡng dựa trên khả năng tài chính và nhu cầu của trẻ em, cũng như việc yêu cầu Tòa án giải quyết khi không thống nhất được mức cấp dưỡng. Tuy nhiên, câu trả lời không nhấn mạnh rõ ràng về việc mức cấp dưỡng có thể thay đổi và cần thỏa thuận giữa các bên, điều này khiến cho thông tin chưa hoàn toàn đầy đủ. Tổng thể, khoảng 70% thông tin quan trọng đã được đề cập, nhưng vẫn còn thiếu một số chi tiết cụ thể từ đáp án đúng.', 'Score': '7'}\n"
     ]
    }
   ],
   "source": [
    "for i in range(len(TULUAN_HYBRID)):\n",
    "\n",
    "    test = PROMPT['evaluation_from_test_kw'].replace(\"<<q>>\", TULUAN_HYBRID[i]['q']).replace(\"<<sga>>\", TULUAN_HYBRID[i]['a']).replace(\"<<a>>\", TULUAN_HYBRID[i]['hybrid'])\n",
    "\n",
    "    res = get_valid_json_gpt40mini(test)\n",
    "\n",
    "    print(res)\n",
    "\n",
    "    RES_TULUAN_HYBRID.append(res)\n"
   ]
  },
  {
   "cell_type": "code",
   "execution_count": null,
   "metadata": {
    "id": "CS7NM919g9T2"
   },
   "outputs": [],
   "source": []
  },
  {
   "cell_type": "markdown",
   "metadata": {
    "id": "1_s2godHhvze"
   },
   "source": [
    "### Lần 1\n"
   ]
  },
  {
   "cell_type": "code",
   "execution_count": 75,
   "metadata": {
    "colab": {
     "base_uri": "https://localhost:8080/"
    },
    "executionInfo": {
     "elapsed": 433,
     "status": "ok",
     "timestamp": 1734858559072,
     "user": {
      "displayName": "Khải Đặng",
      "userId": "00827885371675823732"
     },
     "user_tz": -420
    },
    "id": "uT_XrZNbg9WW",
    "outputId": "b29fb56b-db3a-4350-83d8-1b1a0193efeb"
   },
   "outputs": [
    {
     "data": {
      "text/plain": [
       "28"
      ]
     },
     "execution_count": 75,
     "metadata": {},
     "output_type": "execute_result"
    }
   ],
   "source": [
    "len(RES_TULUAN_HYBRID)"
   ]
  },
  {
   "cell_type": "code",
   "execution_count": 42,
   "metadata": {
    "colab": {
     "base_uri": "https://localhost:8080/"
    },
    "executionInfo": {
     "elapsed": 315,
     "status": "ok",
     "timestamp": 1734856946698,
     "user": {
      "displayName": "Khải Đặng",
      "userId": "00827885371675823732"
     },
     "user_tz": -420
    },
    "id": "NM34D5YGg9di",
    "outputId": "bace6953-fe42-41b0-d1c7-1e999e2e9fa0"
   },
   "outputs": [
    {
     "data": {
      "text/plain": [
       "8.035714285714286"
      ]
     },
     "execution_count": 42,
     "metadata": {},
     "output_type": "execute_result"
    }
   ],
   "source": [
    "score = 0\n",
    "\n",
    "for i in range(len(RES_TULUAN_HYBRID)):\n",
    "    if RES_TULUAN_HYBRID[i] != \"Not\":\n",
    "        score += int(RES_TULUAN_HYBRID[i]['Score'])\n",
    "\n",
    "score/len(RES_TULUAN_HYBRID)\n",
    "#8.035714285714286"
   ]
  },
  {
   "cell_type": "code",
   "execution_count": null,
   "metadata": {
    "id": "OKJnevODg6aS"
   },
   "outputs": [],
   "source": []
  },
  {
   "cell_type": "code",
   "execution_count": 53,
   "metadata": {
    "colab": {
     "base_uri": "https://localhost:8080/"
    },
    "executionInfo": {
     "elapsed": 343,
     "status": "ok",
     "timestamp": 1734857311798,
     "user": {
      "displayName": "Khải Đặng",
      "userId": "00827885371675823732"
     },
     "user_tz": -420
    },
    "id": "mOxQxlCPiEZE",
    "outputId": "3ef30937-2410-4267-8805-a7131c61c12e"
   },
   "outputs": [
    {
     "data": {
      "text/plain": [
       "7.964285714285714"
      ]
     },
     "execution_count": 53,
     "metadata": {},
     "output_type": "execute_result"
    }
   ],
   "source": [
    "# Lần 2\n",
    "score = 0\n",
    "\n",
    "for i in range(len(RES_TULUAN_HYBRID)):\n",
    "    if RES_TULUAN_HYBRID[i] != \"Not\":\n",
    "        score += int(RES_TULUAN_HYBRID[i]['Score'])\n",
    "\n",
    "score/len(RES_TULUAN_HYBRID)\n",
    "#7.964285714285714"
   ]
  },
  {
   "cell_type": "code",
   "execution_count": 63,
   "metadata": {
    "colab": {
     "base_uri": "https://localhost:8080/"
    },
    "executionInfo": {
     "elapsed": 343,
     "status": "ok",
     "timestamp": 1734857521580,
     "user": {
      "displayName": "Khải Đặng",
      "userId": "00827885371675823732"
     },
     "user_tz": -420
    },
    "id": "oOaPub_hjbSZ",
    "outputId": "da8d6f52-6340-4529-80d1-f4d212987f09"
   },
   "outputs": [
    {
     "data": {
      "text/plain": [
       "7.928571428571429"
      ]
     },
     "execution_count": 63,
     "metadata": {},
     "output_type": "execute_result"
    }
   ],
   "source": [
    "# Lần 3\n",
    "score = 0\n",
    "\n",
    "for i in range(len(RES_TULUAN_HYBRID)):\n",
    "    if RES_TULUAN_HYBRID[i] != \"Not\":\n",
    "        score += int(RES_TULUAN_HYBRID[i]['Score'])\n",
    "\n",
    "score/len(RES_TULUAN_HYBRID)\n",
    "# 7.928571428571429"
   ]
  },
  {
   "cell_type": "code",
   "execution_count": null,
   "metadata": {
    "id": "rvddmG5Njbbk"
   },
   "outputs": [],
   "source": []
  },
  {
   "cell_type": "code",
   "execution_count": 77,
   "metadata": {
    "colab": {
     "base_uri": "https://localhost:8080/"
    },
    "executionInfo": {
     "elapsed": 357,
     "status": "ok",
     "timestamp": 1734858583665,
     "user": {
      "displayName": "Khải Đặng",
      "userId": "00827885371675823732"
     },
     "user_tz": -420
    },
    "id": "xrDyIJjkniUX",
    "outputId": "62cacd94-f871-4b26-a0b8-95f487bc1ccd"
   },
   "outputs": [
    {
     "data": {
      "text/plain": [
       "6.678571428571429"
      ]
     },
     "execution_count": 77,
     "metadata": {},
     "output_type": "execute_result"
    }
   ],
   "source": [
    "# Lần 4\n",
    "#RES_TULUAN_HYBRID[0]\n",
    "\n",
    "score = 0\n",
    "\n",
    "for i in range(len(RES_TULUAN_HYBRID)):\n",
    "    if RES_TULUAN_HYBRID[i] != \"Not\":\n",
    "        score += int(RES_TULUAN_HYBRID[i]['Score'])\n",
    "\n",
    "score/len(RES_TULUAN_HYBRID)\n",
    "# 6.678571428571429"
   ]
  },
  {
   "cell_type": "code",
   "execution_count": null,
   "metadata": {
    "id": "qyRHwCv4niWK"
   },
   "outputs": [],
   "source": []
  },
  {
   "cell_type": "code",
   "execution_count": null,
   "metadata": {
    "id": "CR_FF4gPnie0"
   },
   "outputs": [],
   "source": []
  },
  {
   "cell_type": "code",
   "execution_count": null,
   "metadata": {
    "id": "1qlZR3yRnih6"
   },
   "outputs": [],
   "source": []
  },
  {
   "cell_type": "code",
   "execution_count": null,
   "metadata": {
    "id": "gNBnMO37iEb0"
   },
   "outputs": [],
   "source": []
  },
  {
   "cell_type": "code",
   "execution_count": null,
   "metadata": {
    "id": "HSMYymA7iEe_"
   },
   "outputs": [],
   "source": []
  },
  {
   "cell_type": "markdown",
   "metadata": {
    "id": "PhKYRIDCiGRl"
   },
   "source": [
    "# TULUAN_NAIVE"
   ]
  },
  {
   "cell_type": "code",
   "execution_count": 78,
   "metadata": {
    "executionInfo": {
     "elapsed": 316,
     "status": "ok",
     "timestamp": 1734858603727,
     "user": {
      "displayName": "Khải Đặng",
      "userId": "00827885371675823732"
     },
     "user_tz": -420
    },
    "id": "Qz5gciI0iEh6"
   },
   "outputs": [],
   "source": [
    "RES_TULUAN_NAIVE = []"
   ]
  },
  {
   "cell_type": "code",
   "execution_count": 79,
   "metadata": {
    "colab": {
     "base_uri": "https://localhost:8080/"
    },
    "collapsed": true,
    "executionInfo": {
     "elapsed": 10,
     "status": "ok",
     "timestamp": 1734858605136,
     "user": {
      "displayName": "Khải Đặng",
      "userId": "00827885371675823732"
     },
     "user_tz": -420
    },
    "id": "kVcM00mIiQTS",
    "outputId": "96b281fb-91de-4a5f-d062-aa4bc3eb2b9f"
   },
   "outputs": [
    {
     "data": {
      "text/plain": [
       "[]"
      ]
     },
     "execution_count": 79,
     "metadata": {},
     "output_type": "execute_result"
    }
   ],
   "source": [
    "RES_TULUAN_NAIVE"
   ]
  },
  {
   "cell_type": "code",
   "execution_count": 80,
   "metadata": {
    "colab": {
     "base_uri": "https://localhost:8080/"
    },
    "collapsed": true,
    "executionInfo": {
     "elapsed": 151947,
     "status": "ok",
     "timestamp": 1734858766585,
     "user": {
      "displayName": "Khải Đặng",
      "userId": "00827885371675823732"
     },
     "user_tz": -420
    },
    "id": "7d_gjeDZiEkm",
    "outputId": "4e16c435-dbcd-4089-ea7f-f16a74b34883"
   },
   "outputs": [
    {
     "name": "stdout",
     "output_type": "stream",
     "text": [
      "attempt : 0\n",
      "gpt-4o-mini\n",
      "Định dạng JSON hợp lệ!\n",
      "{'sga': ['Chế độ hôn nhân và gia đình', 'quy định của pháp luật về kết hôn, ly hôn', 'quyền và nghĩa vụ giữa vợ và chồng', 'giữa cha mẹ và con', 'cấp dưỡng', 'xác định cha, mẹ, con', 'quan hệ hôn nhân và gia đình có yếu tố nước ngoài', 'nguyên tắc cơ bản của Luật hôn nhân và gia đình năm 2000', 'hôn nhân tự nguyện, tiến bộ, một vợ một chồng, vợ chồng bình đẳng', 'hôn nhân giữa công dân Việt Nam thuộc các dân tộc, tôn giáo', 'gia đình ấm no, tiến bộ, hạnh phúc', 'trách nhiệm bảo vệ, hỗ trợ trẻ em, người cao tuổi, người khuyết tật', 'kế thừa, phát huy truyền thống văn hóa, đạo đức tốt đẹp'], 'anwser': ['Luật Hôn nhân và Gia đình năm 2014', 'nguyên tắc cơ bản của chế độ hôn nhân và gia đình', 'đảm bảo sự phát triển văn hóa và xã hội', 'bảo vệ quyền lợi và nghĩa vụ của các thành viên trong gia đình', 'Hôn nhân tự nguyện và bình đẳng', 'tôn trọng sự đa dạng', 'Xây dựng gia đình hạnh phúc', 'Trách nhiệm của Nhà nước và xã hội', 'Bảo tồn văn hóa'], 'Explain': \"Câu trả lời của sinh viên đã trích xuất được nhiều từ khóa và thông tin quan trọng liên quan đến nguyên tắc cơ bản của chế độ hôn nhân và gia đình theo Luật Hôn nhân và Gia đình năm 2014. Tuy nhiên, một số thông tin quan trọng như 'cấp dưỡng', 'xác định cha, mẹ, con', và 'quan hệ hôn nhân và gia đình có yếu tố nước ngoài' không được đề cập. Mặc dù sinh viên đã nêu rõ các nguyên tắc như hôn nhân tự nguyện, bình đẳng và trách nhiệm của Nhà nước, nhưng vẫn thiếu một số nội dung cốt lõi từ đáp án đúng. Do đó, câu trả lời đạt khoảng 70% thông tin chính xác và đầy đủ.\", 'Score': '7'}\n",
      "attempt : 0\n",
      "gpt-4o-mini\n",
      "Định dạng JSON hợp lệ!\n",
      "{'sga': ['cấm các hành vi', 'kết hôn giả tạo', 'ly hôn giả tạo', 'tảo hôn', 'cưỡng ép kết hôn', 'lừa dối kết hôn', 'cản trở kết hôn', 'người đang có vợ, có chồng mà kết hôn', 'kết hôn giữa những người cùng dòng máu', 'bạo lực gia đình', 'lợi dụng quyền về hôn nhân và gia đình'], 'anwser': ['cấm hôn nhân trái quy định', 'hôn nhân không tự nguyện', 'hôn nhân giữa những người thuộc dòng họ gần', 'hôn nhân giữa người đã có vợ chồng', 'lạm dụng hoặc ép buộc', 'bạo lực gia đình', 'xâm phạm quyền lợi cá nhân', 'thông tin sai lệch hoặc gian dối'], 'Explain': \"Câu trả lời của sinh viên đã đề cập đến một số hành vi bị cấm trong hôn nhân và gia đình, nhưng không đầy đủ và thiếu chính xác so với đáp án đúng. Một số từ khóa quan trọng như 'kết hôn giả tạo', 'ly hôn giả tạo', 'tảo hôn', 'cưỡng ép kết hôn', và các hành vi liên quan đến quyền lợi của các thành viên trong gia đình không được đề cập. Mặc dù có một số thông tin đúng như 'bạo lực gia đình', nhưng tổng thể câu trả lời thiếu nhiều nội dung quan trọng và không phản ánh đầy đủ quy định của pháp luật. Do đó, điểm số sẽ thấp hơn mức trung bình.\", 'Score': '5'}\n",
      "attempt : 0\n",
      "gpt-4o-mini\n",
      "Định dạng JSON hợp lệ!\n",
      "{'sga': ['Tập quán về hôn nhân và gia đình', 'quy tắc xử sự', 'quyền, nghĩa vụ của các bên', 'Điều 7 Luật hôn nhân và gia đình năm 2014', 'tập quán tốt đẹp', 'không trái với nguyên tắc', 'không vi phạm điều cấm', 'thách cưới là phong tục, tập quán lạc hậu', 'bị nghiêm cấm', 'Nghị định số 32/2002/NĐ-CP', 'xóa bỏ phong tục tập quán lạc hậu'], 'anwser': ['Nghị định số 126/2014/NĐ-CP', 'Điều 2', 'quy tắc xử sự phù hợp', 'Khoản 4 Điều 3 của Luật Hôn nhân và gia đình', 'Điều 7 của Luật Hôn nhân và gia đình', 'sự thỏa thuận giữa các bên', 'thách cưới cao', 'phân biệt đối xử', 'vi phạm nguyên tắc bình đẳng trong hôn nhân', 'các điều cấm trong Luật Hôn nhân và gia đình 2014'], 'Explain': 'Câu trả lời của sinh viên đã đề cập đến một số quy định liên quan đến tập quán hôn nhân và gia đình, như Nghị định số 126/2014/NĐ-CP và các điều khoản cụ thể trong Luật Hôn nhân và gia đình. Tuy nhiên, câu trả lời thiếu thông tin về khái niệm tập quán tốt đẹp và không đề cập đến việc thách cưới là phong tục lạc hậu bị nghiêm cấm theo Nghị định số 32/2002/NĐ-CP. Mặc dù có nhiều từ khóa quan trọng, nhưng thông tin không đầy đủ và thiếu một số khía cạnh quan trọng từ đáp án đúng.', 'Score': '7'}\n",
      "attempt : 0\n",
      "gpt-4o-mini\n",
      "Định dạng JSON hợp lệ!\n",
      "{'sga': ['Điều 8 Luật hôn nhân và gia đình năm 2014', 'Nam từ đủ 20 tuổi, nữ từ đủ 18 tuổi', 'M chưa đủ 17 tuổi', 'cưỡng ép kết hôn', 'kết hôn phải tự nguyện'], 'anwser': ['Điều 8 Luật Hôn nhân và gia đình 2014', 'Nam phải đủ 20 tuổi, nữ phải đủ 18 tuổi', 'M vẫn chưa đủ độ tuổi kết hôn', 'Hôn nhân phải được thực hiện trên cơ sở tự nguyện', 'Việc bố mẹ ép M kết hôn là không đúng với quy định của pháp luật'], 'Explain': 'Câu trả lời của sinh viên đã trích xuất được nhiều từ khóa và thông tin quan trọng từ đáp án đúng, bao gồm các điều kiện kết hôn, độ tuổi kết hôn của M, và việc cưỡng ép kết hôn. Tuy nhiên, sinh viên đã bổ sung thêm thông tin về tình trạng sức khỏe, điều này không nằm trong nội dung chính của đáp án đúng. Mặc dù vậy, thông tin này không làm giảm đi tính chính xác của câu trả lời. Tổng thể, câu trả lời chứa khoảng 80% thông tin quan trọng từ đáp án đúng và chỉ có một thông tin không liên quan nhẹ, do đó điểm số sẽ cao.', 'Score': '9'}\n",
      "attempt : 0\n",
      "gpt-4o-mini\n",
      "Định dạng JSON hợp lệ!\n",
      "{'sga': ['Kết hôn trái pháp luật', 'điều kiện kết hôn', 'Điều 8 của Luật hôn nhân và gia đình', 'Tòa án', 'hủy việc kết hôn trái pháp luật', 'công nhận quan hệ hôn nhân', 'quyết định của Tòa án', 'gửi cho cơ quan đã thực hiện việc đăng ký kết hôn'], 'anwser': ['Kết hôn trái pháp luật', 'điều kiện kết hôn', 'Điều 11 của Luật Hôn nhân và Gia đình', 'Tòa án', 'hủy kết hôn trái pháp luật', 'công nhận quan hệ hôn nhân', 'phạt tiền từ 3 triệu đến 30 triệu đồng', 'truy cứu trách nhiệm hình sự'], 'Explain': 'Câu trả lời của sinh viên đã trích xuất được nhiều từ khóa và thông tin quan trọng liên quan đến xử lý kết hôn trái pháp luật, bao gồm các điều kiện kết hôn, thẩm quyền của Tòa án, và quy trình xử lý. Tuy nhiên, sinh viên đã bổ sung thông tin về xử phạt hành chính và hình sự, điều này không nằm trong nội dung của đáp án đúng. Mặc dù thông tin này có thể liên quan nhưng không phải là phần chính của câu hỏi. Tổng thể, câu trả lời đã bao quát khoảng 70% thông tin quan trọng từ đáp án đúng nhưng vẫn có một số thông tin không liên quan.', 'Score': '7'}\n",
      "attempt : 0\n",
      "gpt-4o-mini\n",
      "Định dạng JSON hợp lệ!\n",
      "{'sga': ['hủy kết hôn trái pháp luật', 'chấm dứt quan hệ như vợ chồng', 'quyền, nghĩa vụ của cha, mẹ, con', 'quan hệ tài sản, nghĩa vụ và hợp đồng', 'thỏa thuận giữa các bên', 'Bộ luật dân sự', 'quyền, lợi ích hợp pháp của phụ nữ và con', 'công việc nội trợ', 'lao động có thu nhập'], 'anwser': ['hủy kết hôn trái pháp luật', 'không còn được công nhận', 'quyền và nghĩa vụ về tài sản và con cái', 'phân chia tài sản khi hủy kết hôn', 'quyền nuôi dưỡng, cấp dưỡng cho con cái', 'tìm kiếm một cuộc hôn nhân hợp pháp khác', 'không còn ràng buộc pháp lý'], 'Explain': \"Câu trả lời của sinh viên đã trích xuất được nhiều từ khóa quan trọng từ đáp án đúng, như 'hủy kết hôn trái pháp luật', 'quyền và nghĩa vụ về tài sản và con cái', và 'không còn ràng buộc pháp lý'. Tuy nhiên, một số thông tin quan trọng như 'chấm dứt quan hệ như vợ chồng', 'thỏa thuận giữa các bên', và 'quyền, lợi ích hợp pháp của phụ nữ và con' không được đề cập. Mặc dù câu trả lời có một số thông tin chính xác và liên quan, nhưng vẫn thiếu một số điểm quan trọng và có một số thông tin không hoàn toàn chính xác về quy trình giải quyết tài sản. Do đó, điểm số sẽ nằm trong khoảng 6-7.\", 'Score': '7'}\n",
      "attempt : 0\n",
      "gpt-4o-mini\n",
      "Định dạng JSON hợp lệ!\n",
      "{'sga': ['quyền tự do tín ngưỡng, tôn giáo', 'Hiến pháp năm 2013', 'Luật Hôn nhân và Gia đình năm 2014', 'Điều 22', 'ép buộc theo tôn giáo', 'mâu thuẫn trong gia đình', 'nhân phẩm và danh dự', 'trò chuyện với chồng', 'sự khác biệt trong tín ngưỡng', 'sự hỗ trợ từ tổ chức hôn nhân hoặc tư vấn pháp lý'], 'anwser': ['quyền tự do tín ngưỡng và tôn giáo', 'Hiến pháp năm 2013', 'Luật Hôn nhân và Gia đình năm 2014', 'Điều 22', 'Điều 6 của Luật Tín ngưỡng, tôn giáo', 'ép buộc một người theo tôn giáo', 'mâu thuẫn trong gia đình', 'bày tỏ niềm tin tôn giáo', 'khuyến nghị trò chuyện với chồng', 'sự hỗ trợ từ tổ chức hôn nhân hoặc tư vấn pháp lý'], 'Explain': 'Câu trả lời của sinh viên đã trích xuất được nhiều từ khóa và thông tin quan trọng từ đáp án đúng. Các nội dung như quyền tự do tín ngưỡng, các điều luật liên quan (Hiến pháp năm 2013, Luật Hôn nhân và Gia đình năm 2014, Điều 22), và việc ép buộc theo tôn giáo đều được đề cập. Tuy nhiên, sinh viên đã bổ sung thêm thông tin từ Điều 6 của Luật Tín ngưỡng, tôn giáo, điều này làm phong phú thêm câu trả lời. Mặc dù có một số thông tin không hoàn toàn cần thiết, nhưng chúng không làm giảm giá trị của câu trả lời. Tổng thể, câu trả lời đạt khoảng 80% thông tin chính xác và liên quan.', 'Score': '8'}\n",
      "attempt : 0\n",
      "gpt-4o-mini\n",
      "Định dạng JSON hợp lệ!\n",
      "{'sga': ['Điều 25 Luật hôn nhân và gia đình năm 2014', 'vợ chồng kinh doanh chung', 'người đại diện hợp pháp', 'thỏa thuận khác', 'Điều 36 Luật hôn nhân và gia đình năm 2014', 'quyền tự mình thực hiện giao dịch', 'tài sản chung', 'thỏa thuận lập thành văn bản', 'Điều 27 Luật hôn nhân và gia đình', 'chị H chịu trách nhiệm liên đới'], 'anwser': ['Luật Hôn nhân và Gia đình Việt Nam', 'đại diện hợp pháp', 'không có thỏa thuận khác', 'thỏa thuận cụ thể', 'quyền tự mình thực hiện các giao dịch', 'tài sản chung', 'lợi ích chung', 'chị H sẽ phải chịu trách nhiệm liên đới', 'các giao dịch do một bên thực hiện', 'quyền lợi hợp pháp'], 'Explain': 'Câu trả lời của sinh viên đã trích xuất được nhiều từ khóa và thông tin quan trọng từ đáp án đúng, như việc anh A là đại diện hợp pháp, quyền tự mình thực hiện giao dịch liên quan đến tài sản chung, và trách nhiệm liên đới của chị H. Tuy nhiên, một số thông tin như yêu cầu thỏa thuận phải lập thành văn bản và các quy định cụ thể trong Luật hôn nhân và gia đình năm 2014 chưa được đề cập rõ ràng. Mặc dù có một số thông tin không chính xác hoặc thiếu sót, nhưng nhìn chung, câu trả lời đã phản ánh được khoảng 70% nội dung quan trọng từ đáp án đúng.', 'Score': '7'}\n",
      "attempt : 0\n",
      "gpt-4o-mini\n",
      "Định dạng JSON hợp lệ!\n",
      "{'sga': ['trách nhiệm liên đới', 'giao dịch do một bên thực hiện', 'nhu cầu thiết yếu của gia đình', 'nghĩa vụ chung về tài sản', 'tài sản chung', 'nghĩa vụ phát sinh từ giao dịch', 'bồi thường thiệt hại do con gây ra'], 'anwser': ['trách nhiệm liên đới', 'Luật Hôn nhân và gia đình', 'giao dịch phát sinh nhu cầu thiết yếu', 'nghĩa vụ tài sản chung', 'giao dịch liên quan đến tài sản chung', 'trường hợp không phải chịu trách nhiệm liên đới'], 'Explain': \"Câu trả lời của sinh viên đã đề cập đến một số từ khóa quan trọng như 'trách nhiệm liên đới', 'giao dịch', và 'nghĩa vụ chung về tài sản', tuy nhiên, một số thông tin quan trọng trong đáp án đúng như các trường hợp cụ thể mà vợ chồng phải chịu trách nhiệm liên đới không được nêu rõ. Câu trả lời cũng không đề cập đến các nghĩa vụ bồi thường thiệt hại do con gây ra, điều này làm giảm độ chính xác của câu trả lời. Mặc dù sinh viên đã nêu ra một số điểm quan trọng, nhưng vẫn thiếu sót và có một số thông tin không chính xác hoặc không đầy đủ.\", 'Score': '6'}\n",
      "attempt : 0\n",
      "gpt-4o-mini\n",
      "Định dạng JSON hợp lệ!\n",
      "{'sga': ['quyền quyết định tài sản chung', 'không đúng', 'nguyên tắc bình đẳng', 'quyền, nghĩa vụ của vợ chồng', 'Điều 29 Luật hôn nhân và gia đình năm 2014', 'không phân biệt lao động', 'bảo đảm điều kiện nhu cầu thiết yếu', 'bồi thường nếu xâm phạm quyền lợi'], 'anwser': ['quyền và nghĩa vụ của vợ chồng', 'bình đẳng', 'quyền chiếm hữu, sử dụng, định đoạt tài sản chung', 'thỏa thuận và đồng ý', 'trách nhiệm liên đới', 'không đúng theo quy định của pháp luật', 'quyền bình đẳng và trách nhiệm'], 'Explain': 'Câu trả lời của sinh viên đã trích xuất được nhiều từ khóa và thông tin quan trọng liên quan đến quyền và nghĩa vụ của vợ chồng về tài sản chung, như nguyên tắc bình đẳng, quyền chiếm hữu và sử dụng tài sản chung, cũng như trách nhiệm liên đới. Tuy nhiên, một số thông tin cụ thể từ đáp án đúng như việc xâm phạm quyền lợi và bồi thường không được đề cập. Mặc dù vậy, nội dung chính vẫn được truyền tải rõ ràng và chính xác, dẫn đến việc đánh giá câu trả lời này là khá tốt.', 'Score': '8'}\n",
      "attempt : 0\n",
      "gpt-4o-mini\n",
      "Định dạng JSON hợp lệ!\n",
      "{'sga': ['Điều 31 Luật hôn nhân và gia đình năm 2014', 'ngôi nhà là nơi ở duy nhất của vợ chồng', 'tài sản chung của vợ chồng', 'thỏa thuận của vợ chồng', 'sở hữu riêng của anh T', 'bảo đảm chỗ ở cho vợ và các con'], 'anwser': ['ngôi nhà thuộc sở hữu riêng của anh', 'nơi ở duy nhất của vợ chồng anh T', 'thỏa thuận giữa vợ chồng', 'Điều 31 Luật Hôn nhân và Gia đình 2014', 'cần phải có sự thỏa thuận của cả hai bên', 'bảo đảm chỗ ở cho cả hai'], 'Explain': 'Câu trả lời của sinh viên đã trích xuất được nhiều từ khóa và thông tin quan trọng từ đáp án đúng, bao gồm các quy định của Luật Hôn nhân và Gia đình 2014, sự cần thiết của thỏa thuận giữa vợ chồng, và việc bảo đảm chỗ ở cho cả hai. Tuy nhiên, sinh viên đã không nhấn mạnh rõ ràng rằng ngôi nhà là tài sản chung của vợ chồng trong trường hợp này, mà chỉ đề cập đến việc sở hữu riêng của anh T. Mặc dù vậy, thông tin chính vẫn được truyền đạt đầy đủ và chính xác, vì vậy câu trả lời có thể được đánh giá cao.', 'Score': '8'}\n",
      "attempt : 0\n",
      "gpt-4o-mini\n",
      "Định dạng JSON hợp lệ!\n",
      "{'sga': ['tài sản chung của vợ chồng', 'tài sản do vợ, chồng tạo ra', 'thu nhập do lao động, hoạt động sản xuất, kinh doanh', 'hoa lợi, lợi tức phát sinh từ tài sản riêng', 'tài sản thừa kế chung hoặc được tặng cho chung', 'tài sản thỏa thuận là tài sản chung', 'quyền sử dụng đất', 'tài sản chung thuộc sở hữu chung hợp nhất', 'không có căn cứ chứng minh tài sản riêng', 'tài sản đó được coi là tài sản chung', 'việc chiếm hữu, sử dụng, định đoạt tài sản chung do vợ chồng thỏa thuận'], 'anwser': ['tài sản chung của vợ chồng', 'tài sản do vợ chồng tạo ra', 'thu nhập từ lao động, các hoạt động sản xuất và kinh doanh', 'hoa lợi, lợi tức phát sinh từ tài sản chung', 'tài sản thừa kế chung hoặc nhận tặng cho chung', 'tài sản mà vợ chồng cùng thỏa thuận xác định là tài sản chung', 'quyền sử dụng đất mà vợ chồng có được sau khi kết hôn', 'không có căn cứ để chứng minh tài sản riêng', 'tài sản đó sẽ được coi là tài sản chung', 'việc chiếm hữu, sử dụng và định đoạt tài sản chung cần phải tuân theo quy định của pháp luật'], 'Explain': 'Câu trả lời của sinh viên đã trích xuất được hầu hết các từ khóa và thông tin quan trọng từ đáp án đúng. Các nội dung về tài sản chung của vợ chồng, quyền sử dụng đất, và quy định về việc chiếm hữu, sử dụng, định đoạt tài sản chung đều được đề cập đầy đủ. Tuy nhiên, có một số điểm nhỏ như việc không nhấn mạnh rõ ràng về sở hữu chung hợp nhất và việc cần có thỏa thuận bằng văn bản trong một số trường hợp cụ thể. Mặc dù vậy, các thông tin chính vẫn được truyền đạt rõ ràng và chính xác. Do đó, câu trả lời này đạt khoảng 80-90% thông tin đúng và liên quan.', 'Score': '9'}\n",
      "attempt : 0\n",
      "gpt-4o-mini\n",
      "Định dạng JSON hợp lệ!\n",
      "{'sga': ['Điều 47 Luật hôn nhân và gia đình năm 2014', 'quyền lựa chọn chế độ tài sản theo thỏa thuận', 'thỏa thuận xác lập chế độ tài sản phải được lập trước khi kết hôn', 'hình thức văn bản có công chứng hoặc chứng thực', 'chế độ tài sản của vợ chồng theo thỏa thuận', 'nội dung cơ bản của thỏa thuận về chế độ tài sản', 'tài sản chung, tài sản riêng', 'quyền, nghĩa vụ của vợ chồng', 'điều kiện, thủ tục và nguyên tắc phân chia tài sản', 'nguyên tắc chung về chế độ tài sản của vợ chồng'], 'anwser': ['bản thỏa thuận rõ ràng về chế độ tài sản trước khi kết hôn là hợp pháp', 'quyền tự quyết định về chế độ tài sản', 'Điều 47 Luật Hôn nhân và gia đình năm 2014', 'thỏa thuận về chế độ tài sản phải được lập trước khi kết hôn', 'văn bản có công chứng hoặc chứng thực', 'tài sản chung và tài sản riêng', 'quyền và nghĩa vụ của vợ chồng', 'điều kiện và nguyên tắc phân chia tài sản', 'nội dung khác có liên quan'], 'Explain': 'Câu trả lời của sinh viên đã trích xuất được nhiều từ khóa và thông tin quan trọng từ đáp án đúng, bao gồm các điều luật cụ thể và nội dung cơ bản của thỏa thuận về chế độ tài sản. Tuy nhiên, một số thông tin như quy định về nguyên tắc chung khi phát sinh vấn đề chưa được thỏa thuận không được đề cập. Mặc dù vậy, câu trả lời vẫn giữ được tính chính xác và đầy đủ về các nội dung chính của thỏa thuận chế độ tài sản. Do đó, có thể đánh giá rằng câu trả lời này đạt khoảng 80% thông tin đúng và liên quan.', 'Score': '8'}\n",
      "attempt : 0\n",
      "gpt-4o-mini\n",
      "Định dạng JSON hợp lệ!\n",
      "{'sga': ['quyền yêu cầu giải quyết ly hôn', 'vợ, chồng có quyền yêu cầu', 'chồng không có quyền yêu cầu ly hôn khi vợ đang có thai', 'tình trạng hôn nhân trầm trọng', 'mục đích hôn nhân không đạt được'], 'anwser': ['ly hôn theo quy định của Luật Hôn nhân và gia đình', 'có hành vi bạo lực gia đình hoặc vi phạm nghiêm trọng quyền và nghĩa vụ', 'chồng có quan hệ bất chính', 'không cản trở quyền yêu cầu ly hôn', 'hòa giải tại Tòa án', 'chuẩn bị tài liệu chứng minh mối quan hệ'], 'Explain': 'Câu trả lời của sinh viên đã đề cập đến một số khía cạnh quan trọng liên quan đến quyền yêu cầu ly hôn, nhưng không hoàn toàn chính xác theo quy định của Luật Hôn nhân và Gia đình. Sinh viên đã nêu rõ quyền yêu cầu ly hôn của vợ trong trường hợp có hành vi vi phạm nghiêm trọng từ chồng, điều này là đúng. Tuy nhiên, sinh viên không đề cập đến quy định cụ thể rằng chồng không có quyền yêu cầu ly hôn khi vợ đang mang thai, điều này là một điểm quan trọng trong câu trả lời đúng. Mặc dù sinh viên đã nhấn mạnh rằng việc mang thai không cản trở quyền yêu cầu ly hôn, nhưng không nêu rõ rằng chỉ có vợ mới có quyền yêu cầu trong trường hợp này. Ngoài ra, sinh viên cũng đã đề cập đến việc hòa giải tại Tòa án và cần chuẩn bị tài liệu chứng minh, điều này là hợp lý. Tổng thể, câu trả lời có một số thông tin quan trọng nhưng thiếu sót về quy định cụ thể và không hoàn toàn chính xác.', 'Score': '6'}\n",
      "attempt : 0\n",
      "gpt-4o-mini\n",
      "Định dạng JSON hợp lệ!\n",
      "{'sga': ['Nguyên tắc giải quyết tài sản của vợ chồng khi ly hôn', 'Điều 59 Luật hôn nhân và gia đình năm 2014', 'Tài sản chung của vợ chồng được chia đôi', 'Hoàn cảnh của gia đình và của vợ, chồng', 'Công sức đóng góp của vợ, chồng', 'Bảo vệ lợi ích chính đáng của mỗi bên', 'Lỗi của mỗi bên trong vi phạm quyền, nghĩa vụ', 'Tài sản riêng của vợ, chồng thuộc quyền sở hữu', 'Thanh toán phần chênh lệch', 'Bảo vệ quyền, lợi ích hợp pháp của vợ, con'], 'anwser': ['Nguyên tắc giải quyết tài sản của vợ chồng khi ly hôn', 'Điều 59 của Luật Hôn nhân và Gia đình Việt Nam', 'Tài sản chung của vợ chồng trong thời kỳ hôn nhân sẽ được chia theo nguyên tắc bình đẳng', 'Hoàn cảnh gia đình và cá nhân của hai vợ chồng', 'Công sức đóng góp', 'Bảo vệ quyền lợi hợp pháp của vợ và con cái', 'Lỗi vi phạm', 'Tài sản chung được chia bằng hiện vật', 'Nếu không thể chia bằng hiện vật, sẽ tiến hành chia theo giá trị', 'Tài sản riêng của mỗi bên sẽ thuộc quyền sở hữu riêng'], 'Explain': 'Câu trả lời của sinh viên đã trích xuất được nhiều từ khóa và thông tin quan trọng từ đáp án đúng. Cụ thể, sinh viên đã đề cập đến Điều 59 của Luật Hôn nhân và Gia đình, nguyên tắc chia tài sản chung, các yếu tố cần xem xét như hoàn cảnh gia đình, công sức đóng góp, và quyền lợi hợp pháp. Tuy nhiên, một số chi tiết như việc thanh toán phần chênh lệch và bảo vệ quyền lợi của con chưa thành niên không được nhấn mạnh rõ ràng. Mặc dù vậy, thông tin trong câu trả lời vẫn khá đầy đủ và chính xác, chỉ thiếu một số chi tiết nhỏ.', 'Score': '8'}\n",
      "attempt : 0\n",
      "gpt-4o-mini\n",
      "Định dạng JSON hợp lệ!\n",
      "{'sga': ['Điều 62 Luật hôn nhân và gia đình năm 2014', 'quyền sử dụng đất là tài sản riêng', 'tài sản chung của vợ chồng', 'đất nông nghiệp trồng cây hàng năm', 'nuôi trồng thủy sản', 'thỏa thuận', 'Tòa án giải quyết', 'Điều 59', 'phần giá trị quyền sử dụng đất', 'đất nông nghiệp trồng cây lâu năm', 'đất lâm nghiệp', 'đất ở', 'quyền lợi của bên không có quyền sử dụng đất', 'Điều 61'], 'anwser': ['Luật Hôn nhân và Gia đình năm 2014', 'Điều 62', 'quyền sử dụng đất là tài sản riêng', 'tài sản chung của vợ chồng', 'đất nông nghiệp', 'đất trồng cây hàng năm', 'nuôi trồng thủy sản', 'thỏa thuận', 'Tòa án giải quyết', 'Điều 59', 'phần quyền sử dụng đất', 'đất nông nghiệp trồng cây lâu năm', 'đất lâm nghiệp', 'đất ở', 'quyền lợi của bên không có quyền sử dụng đất', 'Điều 61'], 'Explain': 'Câu trả lời của sinh viên đã trích xuất hầu hết các từ khóa và thông tin quan trọng từ đáp án đúng. Các nội dung chính như quyền sử dụng đất là tài sản riêng, tài sản chung, các quy định về chia quyền sử dụng đất cho các loại đất khác nhau, và các điều khoản liên quan trong luật đều được đề cập. Tuy nhiên, câu trả lời có phần dài dòng và có thể không cần thiết phải nhấn mạnh một số khía cạnh như ảnh hưởng đến tình trạng sinh hoạt và sản xuất của các bên sau khi ly hôn. Mặc dù có một số thông tin không cần thiết, nhưng không ảnh hưởng lớn đến nội dung chính của câu trả lời.', 'Score': '9'}\n",
      "attempt : 0\n",
      "gpt-4o-mini\n",
      "Định dạng JSON hợp lệ!\n",
      "{'sga': ['Điều 66 Luật hôn nhân và gia đình năm 2014', 'tài sản chung của vợ chồng', 'chia đôi', 'pháp luật về thừa kế', 'hàng thừa kế thứ nhất', 'vợ, cha đẻ, mẹ đẻ, cha nuôi, mẹ nuôi, con đẻ, con nuôi'], 'anwser': ['Điều 27 Luật Hôn nhân và Gia đình năm 2014', 'tài sản chung của vợ chồng', 'quyền sở hữu và định đoạt tài sản chung', 'yêu cầu chia tài sản', 'Điều 660 Bộ luật Dân sự năm 2015', 'chị B là người thừa kế chính'], 'Explain': \"Câu trả lời của sinh viên đã trích xuất một số từ khóa quan trọng như 'tài sản chung của vợ chồng', 'quyền sở hữu và định đoạt tài sản chung', và 'yêu cầu chia tài sản'. Tuy nhiên, sinh viên không đề cập đến các quy định cụ thể trong Điều 66 của Luật hôn nhân và gia đình năm 2014, mà thay vào đó lại trích dẫn Điều 27, điều này không hoàn toàn chính xác trong ngữ cảnh câu hỏi. Câu trả lời cũng thiếu thông tin về việc chia tài sản theo pháp luật thừa kế và hàng thừa kế thứ nhất, điều này là rất quan trọng trong tình huống này. Mặc dù có một số thông tin đúng, nhưng nhiều thông tin quan trọng đã bị thiếu hoặc không chính xác.\", 'Score': '5'}\n",
      "attempt : 0\n",
      "gpt-4o-mini\n",
      "Định dạng JSON hợp lệ!\n",
      "{'sga': ['Thương yêu con', 'tôn trọng ý kiến của con', 'chăm lo việc học tập, giáo dục', 'phát triển lành mạnh về thể chất, trí tuệ, đạo đức', 'trông nom, nuôi dưỡng, chăm sóc', 'bảo vệ quyền, lợi ích hợp pháp của con', 'không phân biệt đối xử với con', 'không lạm dụng sức lao động của con', 'không xúi giục, ép buộc con làm việc trái pháp luật', 'nghĩa vụ và quyền ngang nhau', 'giáo dục con', 'tạo điều kiện cho con học tập', 'sống trong môi trường gia đình đầm ấm, hòa thuận', 'hướng dẫn con chọn nghề', 'tôn trọng quyền chọn nghề', 'đề nghị cơ quan, tổ chức giúp đỡ'], 'anwser': ['nghĩa vụ và quyền cơ bản', 'nuôi dưỡng và chăm sóc con cái', 'bảo đảm quyền lợi hợp pháp của trẻ em', 'trách nhiệm giáo dục', 'trông nom và chăm sóc con', 'nuôi dưỡng, chăm sóc và bảo vệ quyền lợi hợp pháp của con', 'giáo dục con cái', 'cung cấp phương tiện sống', 'quyền nuôi dưỡng', 'quyền yêu cầu cấp dưỡng', 'quyền thăm nom và chăm sóc'], 'Explain': 'Câu trả lời của sinh viên đã trích xuất được nhiều từ khóa và thông tin quan trọng liên quan đến nghĩa vụ và quyền của cha mẹ theo Luật Hôn nhân và Gia đình năm 2014. Tuy nhiên, một số thông tin quan trọng như việc không được phân biệt đối xử với con, không lạm dụng sức lao động, và các nghĩa vụ cụ thể khác không được đề cập. Mặc dù câu trả lời đã nêu rõ các nghĩa vụ và quyền của cha mẹ, nhưng vẫn thiếu một số chi tiết quan trọng từ đáp án đúng. Do đó, câu trả lời này đạt khoảng 70% thông tin chính xác và đầy đủ.', 'Score': '7'}\n",
      "attempt : 0\n",
      "gpt-4o-mini\n",
      "Định dạng JSON hợp lệ!\n",
      "{'sga': ['Điều 73 Luật hôn nhân và gia đình năm 2014', 'Cha mẹ là người đại diện theo pháp luật của con chưa thành niên', 'Cha hoặc mẹ có quyền tự mình thực hiện giao dịch nhằm đáp ứng nhu cầu thiết yếu của con chưa thành niên', 'Giao dịch liên quan đến tài sản là bất động sản phải có sự thỏa thuận của cha mẹ', 'Cha, mẹ phải chịu trách nhiệm liên đới về việc thực hiện giao dịch liên quan đến tài sản của con'], 'anwser': ['Điều 19 Luật Hôn nhân và Gia đình năm 2014', 'Vợ chồng có nghĩa vụ bảo vệ quyền lợi hợp pháp của con cái', 'Quyền đại diện cho con chưa thành niên trong các giao dịch tài sản', 'Chuyển nhượng quyền sử dụng đất phải được thực hiện theo hình thức hợp đồng chuyển nhượng', 'Cần có văn bản đồng ý của cơ quan nhà nước có thẩm quyền'], 'Explain': 'Câu trả lời của sinh viên đã đề cập đến một số quy định quan trọng trong Luật Hôn nhân và Gia đình năm 2014, nhưng không hoàn toàn chính xác so với đáp án đúng. Câu trả lời chỉ ra quyền đại diện của cha mẹ theo Điều 19, trong khi đáp án đúng nêu rõ Điều 73, nơi quy định cụ thể về quyền đại diện của cha mẹ cho con chưa thành niên. Câu trả lời cũng đề cập đến việc chuyển nhượng quyền sử dụng đất và yêu cầu thủ tục pháp lý, nhưng thiếu thông tin về trách nhiệm liên đới của cha mẹ trong giao dịch, điều này là rất quan trọng. Tổng thể, thông tin trong câu trả lời có khoảng 50% chính xác nhưng vẫn còn thiếu sót và không đầy đủ.', 'Score': '6'}\n",
      "attempt : 0\n",
      "gpt-4o-mini\n",
      "Định dạng JSON hợp lệ!\n",
      "{'sga': ['Điều 76 Luật hôn nhân và gia đình năm 2014', 'Con từ đủ 15 tuổi trở lên có thể tự mình quản lý tài sản riêng hoặc nhờ cha mẹ quản lý.', 'Tài sản riêng của con dưới 15 tuổi, con mất năng lực hành vi dân sự do cha mẹ quản lý.', 'Cha mẹ không quản lý tài sản riêng của con trong trường hợp con đang được người khác giám hộ.', 'Tài sản riêng của con được giao lại cho người giám hộ quản lý theo quy định của Bộ luật dân sự.', 'Con bạn dưới 15 tuổi thì cha mẹ có quyền quản lý tài sản riêng của con.', 'Tài sản con bạn được thừa kế từ ông nội, mà trong di chúc có ghi rõ mẹ chồng bạn là người quản lý.'], 'anwser': ['Luật Hôn nhân và Gia đình năm 2014', 'Quyền Có Tài Sản Riêng', 'Con có quyền sở hữu tài sản riêng, bao gồm tài sản được thừa kế.', 'Quản Lý Tài Sản Riêng', 'Đối với trẻ em chưa đủ 15 tuổi, tài sản riêng do cha mẹ quản lý.', 'Mẹ chồng bạn đã được chỉ định để quản lý tài sản này.', 'Cha mẹ sẽ có quyền quản lý tài sản riêng của con.', 'Mẹ chồng bạn có trách nhiệm quản lý tài sản này theo đúng chỉ định trong di chúc.'], 'Explain': 'Câu trả lời của sinh viên đã trích xuất nhiều từ khóa và thông tin quan trọng liên quan đến quy định của Luật Hôn nhân và Gia đình năm 2014 về quản lý tài sản riêng của con. Tuy nhiên, có một số thông tin không chính xác hoặc không đầy đủ so với đáp án đúng. Cụ thể, sinh viên đã đề cập đến Điều 75 và Điều 70, nhưng không nhắc đến Điều 76, điều này làm giảm độ chính xác của câu trả lời. Mặc dù sinh viên đã nêu rõ quyền quản lý tài sản của mẹ chồng, nhưng không đề cập đến việc cha mẹ không có quyền quản lý tài sản trong trường hợp có người khác được chỉ định, điều này là rất quan trọng. Tổng thể, câu trả lời có nhiều thông tin đúng nhưng thiếu một số chi tiết quan trọng và có một số thông tin không chính xác.', 'Score': '7'}\n",
      "attempt : 0\n",
      "gpt-4o-mini\n",
      "Định dạng JSON hợp lệ!\n",
      "{'sga': ['Điều 79 Luật hôn nhân và gia đình năm 2014', 'cha dượng, mẹ kế có quyền và nghĩa vụ trông nom, nuôi dưỡng, chăm sóc, giáo dục con riêng', 'con riêng có quyền và nghĩa vụ chăm sóc, phụng dưỡng cha dượng, mẹ kế', 'Điều 70 và Điều 71 của Luật hôn nhân và gia đình', 'nghĩa vụ chăm sóc, nuôi dưỡng cha mẹ', 'cha mẹ mất năng lực hành vi dân sự, ốm đau, già yếu, khuyết tật'], 'anwser': ['trách nhiệm chăm sóc và nuôi dưỡng ba dượng', 'Luật Hôn nhân và Gia đình năm 2014', 'nghĩa vụ của H đối với ba dượng', 'ba dượng có quyền nuôi dưỡng, chăm sóc và giáo dục H', 'H có thể có nghĩa vụ góp phần đảm bảo đời sống của ba dượng', 'Điều 70 Luật Hôn nhân và Gia đình', 'mức độ trách nhiệm của H phụ thuộc vào bối cảnh tài chính'], 'Explain': 'Câu trả lời của sinh viên đã đề cập đến nhiều khía cạnh quan trọng liên quan đến trách nhiệm chăm sóc ba dượng theo quy định của Luật Hôn nhân và Gia đình. Sinh viên đã trích dẫn các điều luật liên quan, như Điều 70 và Điều 79, và nêu rõ nghĩa vụ của H đối với ba dượng. Tuy nhiên, câu trả lời thiếu một số thông tin cụ thể từ đáp án đúng, chẳng hạn như quy định về nghĩa vụ chăm sóc cha mẹ trong trường hợp cha mẹ mất năng lực hành vi dân sự, ốm đau, già yếu, khuyết tật. Mặc dù có nhiều thông tin đúng, nhưng vẫn còn thiếu sót và một số thông tin không hoàn toàn chính xác. Do đó, câu trả lời có khoảng 60-70% thông tin chính xác và liên quan.', 'Score': '7'}\n",
      "attempt : 0\n",
      "gpt-4o-mini\n",
      "Định dạng JSON hợp lệ!\n",
      "{'sga': ['Điều 84 Luật hôn nhân và gia đình năm 2014', 'thay đổi người trực tiếp nuôi con', 'căn cứ thay đổi nuôi con', 'thỏa thuận giữa cha mẹ', 'người nuôi con không đủ điều kiện', 'yêu cầu Tòa án', 'cơ quan quản lý nhà nước về gia đình', 'cơ quan quản lý nhà nước về trẻ em', 'Hội liên hiệp phụ nữ'], 'anwser': ['quyền nuôi con', 'lợi ích tốt nhất cho trẻ', 'Điều 81 Luật Hôn nhân và Gia đình năm 2014', 'trẻ dưới 36 tháng tuổi', 'chứng minh người mẹ không đủ điều kiện', 'cuộc sống của con thiếu thốn', 'yêu cầu Tòa án xem xét lại quyền nuôi con', 'chứng minh điều kiện của người mẹ', 'chứng minh khả năng chăm sóc của bạn', 'lợi ích của con', 'hồ sơ kỹ càng', 'hỗ trợ của một luật sư'], 'Explain': 'Câu trả lời của sinh viên đã đề cập đến một số từ khóa và thông tin quan trọng liên quan đến quyền nuôi con sau ly hôn, nhưng có một số điểm không chính xác và thiếu sót. Sinh viên đã nhắc đến Điều 81 thay vì Điều 84, và mặc dù có đề cập đến lợi ích của trẻ, nhưng không nêu rõ các căn cứ cụ thể để thay đổi quyền nuôi con theo quy định của pháp luật. Câu trả lời cũng không đề cập đến việc thỏa thuận giữa cha mẹ và các cơ quan có thẩm quyền như trong đáp án đúng. Tuy nhiên, sinh viên đã cung cấp nhiều thông tin hữu ích về việc chứng minh điều kiện của người mẹ và khả năng chăm sóc của bản thân, điều này cho thấy sinh viên đã hiểu rõ về quy trình pháp lý. Tổng thể, câu trả lời có khoảng 60-70% thông tin đúng, nhưng vẫn còn thiếu sót và sai lệch.', 'Score': '7'}\n",
      "attempt : 0\n",
      "gpt-4o-mini\n",
      "Định dạng JSON hợp lệ!\n",
      "{'sga': ['Điều 85 Luật hôn nhân và gia đình năm 2014', 'Bị kết án về tội xâm phạm tính mạng, sức khỏe, nhân phẩm, danh dự của con với lỗi cố ý', 'Vi phạm nghiêm trọng nghĩa vụ trông nom, chăm sóc, nuôi dưỡng, giáo dục con', 'Phá tán tài sản của con', 'Lối sống đồi trụy', 'Xúi giục, ép buộc con làm việc trái pháp luật, trái đạo đức xã hội'], 'anwser': ['Luật Hôn nhân và Gia đình 2014', 'Hành vi xâm phạm đến sức khỏe và nhân phẩm của con', 'Lối sống không đạo đức', 'Hành vi phá tán tài sản của con', 'Xúi giục, ép buộc con làm việc trái pháp luật'], 'Explain': 'Câu trả lời của sinh viên đã trích xuất được hầu hết các từ khóa và thông tin quan trọng từ đáp án đúng. Cụ thể, sinh viên đã đề cập đến các trường hợp hạn chế quyền của cha mẹ đối với con chưa thành niên như hành vi xâm phạm sức khỏe, lối sống không đạo đức, phá tán tài sản và xúi giục con làm việc trái pháp luật. Tuy nhiên, câu trả lời thiếu thông tin về việc vi phạm nghiêm trọng nghĩa vụ trông nom, chăm sóc, nuôi dưỡng, giáo dục con, cũng như không đề cập đến việc tòa án có thẩm quyền ra quyết định hạn chế quyền. Mặc dù vậy, thông tin chính vẫn được truyền đạt rõ ràng và chính xác, nên có thể đánh giá ở mức cao.', 'Score': '8'}\n",
      "attempt : 0\n",
      "gpt-4o-mini\n",
      "Định dạng JSON hợp lệ!\n",
      "{'sga': ['Điều 86 Luật hôn nhân và gia đình năm 2014', 'quyền yêu cầu Tòa án hạn chế quyền của cha, mẹ đối với con chưa thành niên', 'người thân thích', 'cơ quan quản lý nhà nước về gia đình', 'cơ quan quản lý nhà nước về trẻ em', 'Hội liên hiệp phụ nữ', 'hành vi vi phạm quy định tại khoản 1 Điều 85', 'xâm phạm tính mạng, sức khỏe, nhân phẩm, danh dự của con', 'người mẹ ngược đãi con', 'báo ngay chính quyền, đoàn thể cơ sở'], 'anwser': ['Điều 86 của Luật Hôn nhân và Gia đình năm 2014', 'cá nhân có quyền yêu cầu Tòa án hạn chế quyền của cha, mẹ đối với con chưa thành niên', 'người thân thích', 'cơ quan, tổ chức có liên quan', 'báo cáo tới các cơ quan chức năng', 'Ủy ban Nhân dân xã, phường', 'cơ quan quản lý nhà nước về trẻ em', 'hành vi ngược đãi con', 'xâm phạm đến sức khỏe, nhân phẩm của con', 'thu thập chứng cứ về hành vi ngược đãi'], 'Explain': 'Câu trả lời của sinh viên đã trích xuất được nhiều từ khóa và thông tin quan trọng từ đáp án đúng, như các điều luật liên quan, quyền yêu cầu Tòa án, và các cơ quan có thẩm quyền. Tuy nhiên, một số thông tin không được nêu rõ ràng như việc báo cáo đến chính quyền và đoàn thể cơ sở, cũng như việc nhấn mạnh trách nhiệm của công dân trong việc bảo vệ trẻ em. Mặc dù có một số thông tin không hoàn toàn chính xác hoặc thiếu sót, nhưng nhìn chung, câu trả lời đã bao quát được khoảng 70% nội dung quan trọng từ đáp án đúng.', 'Score': '7'}\n",
      "attempt : 0\n",
      "gpt-4o-mini\n",
      "Định dạng JSON hợp lệ!\n",
      "{'sga': ['Luật hôn nhân và gia đình năm 2014', 'quyền và nghĩa vụ của bên nhờ mang thai hộ', 'Điều 98', 'bên mang thai hộ từ chối giao con', 'quyền yêu cầu Tòa án buộc bên mang thai hộ giao con'], 'anwser': ['Luật Hôn nhân và Gia đình Việt Nam năm 2014', 'quyền lợi và nghĩa vụ của các bên', 'Điều 94', 'con sinh ra từ việc mang thai hộ sẽ là con chung', 'vi phạm thỏa thuận', 'yêu cầu Tòa án can thiệp', 'nộp đơn yêu cầu Tòa án buộc chị B phải giao con', 'tư vấn từ luật sư', 'văn bản thỏa thuận rõ ràng'], 'Explain': 'Câu trả lời của sinh viên đã trích xuất được nhiều từ khóa và thông tin quan trọng từ đáp án đúng. Cụ thể, sinh viên đã đề cập đến Luật Hôn nhân và Gia đình năm 2014, quyền lợi và nghĩa vụ của các bên, và quy định liên quan đến việc yêu cầu Tòa án can thiệp. Tuy nhiên, sinh viên đã không nhắc đến Điều 98 mà chỉ đề cập đến Điều 94, điều này làm giảm độ chính xác của câu trả lời. Mặc dù vậy, câu trả lời vẫn thể hiện được quy trình pháp lý cần thực hiện và các bước cần thiết để bảo vệ quyền lợi của vợ chồng anh A, chị M. Tổng thể, thông tin trong câu trả lời có khoảng 70% độ chính xác và đầy đủ so với đáp án đúng.', 'Score': '7'}\n",
      "attempt : 0\n",
      "gpt-4o-mini\n",
      "Định dạng JSON hợp lệ!\n",
      "{'sga': ['Khoản 3 Điều 102 Luật hôn nhân và gia đình năm 2014', 'Cá nhân, cơ quan, tổ chức có quyền yêu cầu Tòa án xác định cha, mẹ cho con chưa thành niên, con đã thành niên mất năng lực hành vi dân sự', 'Cha, mẹ, con, người giám hộ', 'Cơ quan quản lý nhà nước về gia đình', 'Cơ quan quản lý nhà nước về trẻ em', 'Hội liên hiệp phụ nữ'], 'anwser': ['Điều 102 của Luật Hôn nhân và Gia đình 2014', 'Cha, Mẹ', 'Con chưa thành niên', 'Tổ chức, Cá nhân khác', 'Quyền lợi hợp pháp', 'Công bằng'], 'Explain': 'Câu trả lời của sinh viên đã trích xuất một số từ khóa và thông tin quan trọng từ đáp án đúng, như Điều 102 của Luật Hôn nhân và Gia đình 2014, quyền yêu cầu xác định cha, mẹ cho con chưa thành niên và con đã thành niên mất năng lực hành vi dân sự. Tuy nhiên, sinh viên không đề cập đến các cơ quan và tổ chức cụ thể như cơ quan quản lý nhà nước về gia đình, trẻ em, và Hội liên hiệp phụ nữ, mà chỉ nói chung về tổ chức và cá nhân khác. Điều này làm giảm độ chính xác của câu trả lời. Mặc dù có một số thông tin đúng, nhưng thiếu sót trong việc liệt kê các bên có quyền yêu cầu đã ảnh hưởng đến chất lượng tổng thể của câu trả lời.', 'Score': '6'}\n",
      "attempt : 0\n",
      "gpt-4o-mini\n",
      "Định dạng JSON hợp lệ!\n",
      "{'sga': ['Nghĩa vụ cấp dưỡng', 'Luật hôn nhân và gia đình năm 2014', 'cha, mẹ và con', 'anh, chị, em', 'ông bà nội, ông bà ngoại và cháu', 'cô, dì, chú, cậu, bác ruột và cháu ruột', 'vợ và chồng', 'Điều 110', 'Điều 111', 'Điều 112', 'Điều 113', 'Điều 114', 'Điều 115', 'không sống chung', 'không có khả năng lao động', 'không có tài sản để tự nuôi mình', 'Tòa án', 'trốn tránh nghĩa vụ'], 'anwser': ['Nghĩa vụ cấp dưỡng', 'Luật Hôn nhân và Gia đình Việt Nam năm 2014', 'cha mẹ có nghĩa vụ cấp dưỡng cho con chưa thành niên', 'con đã thành niên mà không có khả năng lao động', 'ông bà, anh chị em, và cả vợ chồng', 'Tòa án có thể quyết định giao con cho người giám hộ', 'thỏa thuận giữa các bên', 'mức cấp dưỡng phù hợp', 'khó khăn tài chính', 'điều 186 của Bộ luật Hình sự năm 2015', 'trách nhiệm pháp lý'], 'Explain': 'Câu trả lời của sinh viên đã trích xuất được nhiều từ khóa và thông tin quan trọng liên quan đến nghĩa vụ cấp dưỡng theo Luật hôn nhân và gia đình, bao gồm các đối tượng và trường hợp cấp dưỡng, quy trình thực hiện và các quy định pháp luật liên quan. Tuy nhiên, một số thông tin cụ thể như các điều luật (Điều 110, 111, 112, 113, 114, 115) không được đề cập, và một số nội dung như việc không sống chung và không có tài sản để tự nuôi mình cũng không được nhấn mạnh. Mặc dù vậy, câu trả lời vẫn thể hiện được nội dung chính và có tính hợp lý. Do đó, điểm số sẽ được đánh giá ở mức cao.', 'Score': '8'}\n",
      "attempt : 0\n",
      "gpt-4o-mini\n",
      "Định dạng JSON hợp lệ!\n",
      "{'sga': ['Điều 116 Luật hôn nhân và gia đình năm 2014', 'mức cấp dưỡng nuôi con', 'thỏa thuận căn cứ vào thu nhập', 'khả năng thực tế của chồng chị A', 'nhu cầu thiết yếu của người con', 'yêu cầu Tòa án giải quyết', 'thay đổi mức cấp dưỡng', 'các bên thỏa thuận'], 'anwser': ['Luật Hôn nhân và Gia đình năm 2014', 'nuôi dưỡng và cấp dưỡng cho con cái', 'chị A được giao nuôi con', 'chồng chị A có nghĩa vụ cấp dưỡng', 'Tòa án sẽ có quyền quyết định', 'mức cấp dưỡng được xác định dựa trên khả năng tài chính', 'nhu cầu thiết yếu của trẻ em', 'thống nhất về mức cấp dưỡng', 'Tòa án sẽ đưa ra quyết định', 'điều chỉnh mức cấp dưỡng'], 'Explain': 'Câu trả lời của sinh viên đã trích xuất được nhiều từ khóa và thông tin quan trọng liên quan đến quy định về cấp dưỡng nuôi con theo Luật Hôn nhân và Gia đình năm 2014. Tuy nhiên, sinh viên đã nhầm lẫn khi đề cập đến Điều 82 thay vì Điều 116, và không nêu rõ rằng việc thay đổi mức cấp dưỡng cũng cần phải thỏa thuận hoặc yêu cầu Tòa án giải quyết. Mặc dù có một số thông tin không chính xác, nhưng nhìn chung, câu trả lời vẫn chứa nhiều thông tin quan trọng và có liên quan đến vấn đề cấp dưỡng nuôi con. Do đó, điểm số sẽ được đánh giá ở mức cao.', 'Score': '8'}\n"
     ]
    }
   ],
   "source": [
    "for i in range(len(TULUAN_NAIVE)):\n",
    "\n",
    "    test = PROMPT['evaluation_from_test_kw'].replace(\"<<q>>\", TULUAN_NAIVE[i]['q']).replace(\"<<sga>>\", TULUAN_NAIVE[i]['a']).replace(\"<<a>>\", TULUAN_NAIVE[i]['naive'])\n",
    "\n",
    "    res = get_valid_json_gpt40mini(test)\n",
    "\n",
    "    print(res)\n",
    "\n",
    "    RES_TULUAN_NAIVE.append(res)"
   ]
  },
  {
   "cell_type": "code",
   "execution_count": 81,
   "metadata": {
    "colab": {
     "base_uri": "https://localhost:8080/"
    },
    "executionInfo": {
     "elapsed": 428,
     "status": "ok",
     "timestamp": 1734858772553,
     "user": {
      "displayName": "Khải Đặng",
      "userId": "00827885371675823732"
     },
     "user_tz": -420
    },
    "id": "1SgG5xgeiEnQ",
    "outputId": "e001ad9b-3d9e-4dde-a263-ae8ab3ca5385"
   },
   "outputs": [
    {
     "data": {
      "text/plain": [
       "28"
      ]
     },
     "execution_count": 81,
     "metadata": {},
     "output_type": "execute_result"
    }
   ],
   "source": [
    "len(RES_TULUAN_NAIVE)"
   ]
  },
  {
   "cell_type": "code",
   "execution_count": 47,
   "metadata": {
    "colab": {
     "base_uri": "https://localhost:8080/"
    },
    "executionInfo": {
     "elapsed": 317,
     "status": "ok",
     "timestamp": 1734857175131,
     "user": {
      "displayName": "Khải Đặng",
      "userId": "00827885371675823732"
     },
     "user_tz": -420
    },
    "id": "wpGj43olg6c-",
    "outputId": "efdcc5de-de1b-43e2-a92e-26389c0becba"
   },
   "outputs": [
    {
     "data": {
      "text/plain": [
       "8.392857142857142"
      ]
     },
     "execution_count": 47,
     "metadata": {},
     "output_type": "execute_result"
    }
   ],
   "source": [
    "score = 0\n",
    "\n",
    "for i in range(len(RES_TULUAN_NAIVE)):\n",
    "    if RES_TULUAN_HYBRID[i] != \"Not\":\n",
    "        score += int(RES_TULUAN_NAIVE[i]['Score'])\n",
    "\n",
    "score/len(RES_TULUAN_NAIVE)\n",
    "#8.392857142857142"
   ]
  },
  {
   "cell_type": "code",
   "execution_count": 58,
   "metadata": {
    "colab": {
     "base_uri": "https://localhost:8080/"
    },
    "executionInfo": {
     "elapsed": 291,
     "status": "ok",
     "timestamp": 1734857415998,
     "user": {
      "displayName": "Khải Đặng",
      "userId": "00827885371675823732"
     },
     "user_tz": -420
    },
    "id": "-eTHSLKtg6f3",
    "outputId": "94745dac-3d26-4ac7-a36e-5611d29e9c5d"
   },
   "outputs": [
    {
     "data": {
      "text/plain": [
       "8.321428571428571"
      ]
     },
     "execution_count": 58,
     "metadata": {},
     "output_type": "execute_result"
    }
   ],
   "source": [
    "# Lần 2\n",
    "\n",
    "score = 0\n",
    "\n",
    "for i in range(len(RES_TULUAN_NAIVE)):\n",
    "    if RES_TULUAN_HYBRID[i] != \"Not\":\n",
    "        score += int(RES_TULUAN_NAIVE[i]['Score'])\n",
    "\n",
    "score/len(RES_TULUAN_NAIVE)\n",
    "# 8.321428571428571"
   ]
  },
  {
   "cell_type": "code",
   "execution_count": 68,
   "metadata": {
    "colab": {
     "base_uri": "https://localhost:8080/"
    },
    "executionInfo": {
     "elapsed": 308,
     "status": "ok",
     "timestamp": 1734857607836,
     "user": {
      "displayName": "Khải Đặng",
      "userId": "00827885371675823732"
     },
     "user_tz": -420
    },
    "id": "9ZpSEIFig6jH",
    "outputId": "a906e214-031e-4f12-e946-068d16342ae9"
   },
   "outputs": [
    {
     "data": {
      "text/plain": [
       "8.321428571428571"
      ]
     },
     "execution_count": 68,
     "metadata": {},
     "output_type": "execute_result"
    }
   ],
   "source": [
    "# Lần 3\n",
    "score = 0\n",
    "\n",
    "for i in range(len(RES_TULUAN_NAIVE)):\n",
    "    if RES_TULUAN_HYBRID[i] != \"Not\":\n",
    "        score += int(RES_TULUAN_NAIVE[i]['Score'])\n",
    "\n",
    "score/len(RES_TULUAN_NAIVE)"
   ]
  },
  {
   "cell_type": "code",
   "execution_count": 82,
   "metadata": {
    "colab": {
     "base_uri": "https://localhost:8080/"
    },
    "executionInfo": {
     "elapsed": 428,
     "status": "ok",
     "timestamp": 1734858776359,
     "user": {
      "displayName": "Khải Đặng",
      "userId": "00827885371675823732"
     },
     "user_tz": -420
    },
    "id": "2SnMhlJPavji",
    "outputId": "ad148981-6bc4-4eb4-cc0a-120823411633"
   },
   "outputs": [
    {
     "data": {
      "text/plain": [
       "7.214285714285714"
      ]
     },
     "execution_count": 82,
     "metadata": {},
     "output_type": "execute_result"
    }
   ],
   "source": [
    "# Lần 4\n",
    "\n",
    "score = 0\n",
    "\n",
    "for i in range(len(RES_TULUAN_NAIVE)):\n",
    "    if RES_TULUAN_HYBRID[i] != \"Not\":\n",
    "        score += int(RES_TULUAN_NAIVE[i]['Score'])\n",
    "\n",
    "score/len(RES_TULUAN_NAIVE)\n",
    "# 7.214285714285714"
   ]
  },
  {
   "cell_type": "code",
   "execution_count": null,
   "metadata": {
    "id": "LbUk9myqRQUY"
   },
   "outputs": [],
   "source": []
  },
  {
   "cell_type": "code",
   "execution_count": null,
   "metadata": {
    "id": "hdzQGYASpRXW"
   },
   "outputs": [],
   "source": []
  },
  {
   "cell_type": "markdown",
   "metadata": {
    "id": "qxlJ1f6OpSXG"
   },
   "source": [
    "# TUVAN_HYBRID"
   ]
  },
  {
   "cell_type": "code",
   "execution_count": 95,
   "metadata": {
    "executionInfo": {
     "elapsed": 387,
     "status": "ok",
     "timestamp": 1734859119376,
     "user": {
      "displayName": "Khải Đặng",
      "userId": "00827885371675823732"
     },
     "user_tz": -420
    },
    "id": "lTJVu_wnpRal"
   },
   "outputs": [],
   "source": [
    "RES_TUVAN_HYBRID = []"
   ]
  },
  {
   "cell_type": "code",
   "execution_count": 96,
   "metadata": {
    "colab": {
     "base_uri": "https://localhost:8080/"
    },
    "executionInfo": {
     "elapsed": 10,
     "status": "ok",
     "timestamp": 1734859120417,
     "user": {
      "displayName": "Khải Đặng",
      "userId": "00827885371675823732"
     },
     "user_tz": -420
    },
    "id": "6Uqs6pfEpYrv",
    "outputId": "1b40cdcd-3ed9-4750-af09-9749eb1d8499"
   },
   "outputs": [
    {
     "data": {
      "text/plain": [
       "[]"
      ]
     },
     "execution_count": 96,
     "metadata": {},
     "output_type": "execute_result"
    }
   ],
   "source": [
    "RES_TUVAN_HYBRID"
   ]
  },
  {
   "cell_type": "code",
   "execution_count": 86,
   "metadata": {
    "colab": {
     "base_uri": "https://localhost:8080/"
    },
    "collapsed": true,
    "executionInfo": {
     "elapsed": 440,
     "status": "ok",
     "timestamp": 1734858904166,
     "user": {
      "displayName": "Khải Đặng",
      "userId": "00827885371675823732"
     },
     "user_tz": -420
    },
    "id": "0aXmlD4opfDS",
    "outputId": "cca51a47-cfbe-4ed9-bca0-0d531ae27aef"
   },
   "outputs": [
    {
     "data": {
      "text/plain": [
       "{'q': 'Vợ chồng em cưới nhau được 4 năm và có một người con chung 2 tuổi. Do mâu thuẫn trong việc chăm sóc con nên muốn ly hôn. Bất cứ khi nào vợ chồng em có mâu thuẫn là cô ấy lại bế con bỏ nhà đi. Mặc dù chưa ly hôn nhưng nếu vợ em đưa con em đi mà chưa được sự đồng ý của em thì ai sẽ can thiệp? Em có thể tìm sự trợ giúp từ cơ quan nào? Và vợ em sẽ phải chịu trách nhiệm như thế nào? ',\n",
       " 'hybrid': '## Giải đáp về quyền nuôi con và trách nhiệm của các bên trong ly hôn\\n\\nTrong trường hợp của bạn, các vấn đề liên quan đến việc nuôi dưỡng cũng như quyền và nghĩa vụ của cha mẹ đối với con cái sẽ được quy định theo Luật Hôn nhân và Gia đình 2014, cụ thể là các khoản liên quan đến quyền nuôi con và nghĩa vụ của vợ chồng trong quy trình ly hôn.\\n\\n### 1. Quyền Nuôi Con\\n\\nTheo **Điều 81** của Luật Hôn nhân và Gia đình 2014:\\n\\n- Khi xảy ra ly hôn, vợ chồng có quyền thỏa thuận về người trực tiếp nuôi con, nếu không thỏa thuận được thì Tòa án sẽ quyết định trên cơ sở lợi ích của trẻ em.\\n- Trong mọi trường hợp, quyền lợi và sự phát triển của trẻ em phải được ưu tiên trong các quyết định của Tòa án.\\n\\n### 2. Trách nhiệm của Vợ bạn\\n\\nNếu vợ bạn đưa con đi mà không có sự đồng ý của bạn, điều này có thể bị xem là vi phạm quyền nuôi dưỡng của bạn. Cụ thể:\\n\\n- **Điều 84** quy định rằng cha mẹ có nghĩa vụ và quyền ruột thừa về việc nuôi dưỡng và chăm sóc con cái.\\n- Việc vợ bạn tự ý đưa con đi mà không có sự đồng ý có thể dẫn đến hậu quả pháp lý, mà trong trường hợp cần thiết bạn có thể yêu cầu Tòa án can thiệp.\\n\\n### 3. Cơ quan Can Thiệp\\n\\nTrong trường hợp bạn cảm thấy quyền lợi của mình và sự an toàn của con cái bị đe dọa, bạn nên xem xét các bước sau:\\n\\n- **Yêu cầu can thiệp từ Tòa án:** Bạn có thể nộp đơn yêu cầu Tòa án để xác định quyền nuôi con và yêu cầu vợ bạn hoàn trả con về hoặc chấm dứt hành vi tự ý đưa trẻ đi.\\n- **Liên hệ với cơ quan bảo vệ trẻ em:** Bạn có thể đề nghị sự hỗ trợ từ các cơ quan liên quan, bao gồm các tổ chức xã hội hoặc Hội Liên hiệp Phụ nữ, để giải quyết việc chăm sóc trẻ.\\n\\n### Kết Luận\\n\\nTrong bối cảnh này, quy định tại **Điều 81** và **Điều 84** của Luật Hôn nhân và Gia đình 2014 là công cụ pháp lý quan trọng giúp bạn bảo vệ quyền lợi của mình và con cái. Chính quyền có trách nhiệm giúp đỡ bạn trong việc đảm bảo quyền nuôi con và giải quyết mâu thuẫn gia đình theo hướng có lợi cho trẻ em.\\n\\nHãy nhớ rằng trong các tình huống như thế này, việc khẳng định quyền lợi một cách hợp pháp và hòa bình sẽ mang lại lợi ích tốt nhất cho cả bạn và con cái trong tương lai.',\n",
       " 'a': 'Quyền và nghĩa vụ của cha mẹ đối với con chưa thành niên\\nCăn cứ Điều 68 Luật Hôn nhân và gia đình 2014 quy định bảo vệ quyền và nghĩa vụ của cha mẹ và con như sau:\\n\\nĐiều 68. Bảo vệ quyền và nghĩa vụ của cha mẹ và con\\n\\n1. Quyền và nghĩa vụ của cha mẹ và con theo quy định tại Luật này, Bộ luật dân sự và các luật khác có liên quan được tôn trọng và bảo vệ.\\n\\n2. Con sinh ra không phụ thuộc vào tình trạng hôn nhân của cha mẹ đều có quyền và nghĩa vụ như nhau đối với cha mẹ của mình được quy định tại Luật này, Bộ luật dân sự và các luật khác có liên quan.\\n\\n3. Giữa con nuôi và cha nuôi, mẹ nuôi có các quyền và nghĩa vụ của cha mẹ và con được quy định tại Luật này, Luật nuôi con nuôi, Bộ luật dân sự và các luật khác có liên quan.\\n\\n4. Mọi thỏa thuận của cha mẹ, con liên quan đến quan hệ nhân thân, tài sản không được làm ảnh hưởng đến quyền, lợi ích hợp pháp của con chưa thành niên, con đã thành niên mất năng lực hành vi dân sự hoặc không có khả năng lao động và không có tài sản để tự nuôi mình, cha mẹ mất năng lực hành vi dân sự hoặc không có khả năng lao động và không có tài sản để tự nuôi mình.\\n\\nNgoài ra, tại Điều 71 Luật hôn nhân và gia đình 2014 quy định nghĩa vụ và quyền chăm sóc, nuôi dưỡng như sau:\\n\\nĐiều 71. Nghĩa vụ và quyền chăm sóc, nuôi dưỡng\\n\\n1. Cha, mẹ có nghĩa vụ và quyền ngang nhau, cùng nhau chăm sóc, nuôi dưỡng con chưa thành niên, con đã thành niên mất năng lực hành vi dân sự hoặc không có khả năng lao động và không có tài sản để tự nuôi mình.\\n\\n2. Con có nghĩa vụ và quyền chăm sóc, nuôi dưỡng cha mẹ, đặc biệt khi cha mẹ mất năng lực hành vi dân sự, ốm đau, già yếu, khuyết tật; trường hợp gia đình có nhiều con thì các con phải cùng nhau chăm sóc, nuôi dưỡng cha mẹ.\\n\\nTheo quy định nêu trên, quyền và nghĩa vụ của cha mẹ với con theo quy định được pháp luật tôn trọng và bảo vệ, cha mẹ có quyền và nghĩa vụ ngang nhau đối với con, cùng chăm sóc, nuôi dưỡng con chưa thành niên, con thành niên mất năng lực hành vi dân sự hoặc không có khả năng lao động, tài sản để nuôi bản thân.\\n\\nTheo thông tin bạn cung cấp, bạn và vợ của mình có một con chung 2 tuổi, do mâu thuẫn, vợ bạn có thể bế con bỏ đi bất cứ lúc nào, hành vi tự ý đưa con đi mà không có sự thỏa thuận của vợ bạn là hành vi trái pháp luật, cản trở quyền được chăm sóc, nuôi dưỡng, giáo dục con của bạn. Theo đó, bạn có thể liên hệ trực tiếp với các cơ quan, đoàn thể, ban ngành địa phương để can thiệp, xử lý.\\n\\nTự ý đưa con bỏ đi sẽ bị xử lý thế nào?\\nCăn cứ Điều 56 Nghị định 144/2021/NĐ-CP quy định về hành vi ngăn cản việc thực hiện quyền, nghĩa vụ trong quan hệ gia đình giữa cha, mẹ và con như sau:\\n\\nĐiều 56. Hành vi ngăn cản việc thực hiện quyền, nghĩa vụ trong quan hệ gia đình giữa ông, bà và cháu; giữa cha, mẹ và con; giữa vợ và chồng; giữa anh, chị, em với nhau\\nPhạt tiền từ 5.000.000 đồng đến 10.000.000 đồng đối với hành vi ngăn cản quyền thăm nom, chăm sóc giữa ông, bà và cháu; giữa cha, mẹ và con, trừ trường hợp cha mẹ bị hạn chế quyền thăm nom con theo quyết định của toà án; giữa vợ và chồng; giữa anh, chị, em với nhau.\\n\\nNhư vậy, với hành vi đưa con bỏ nhà đi nhằm ngăn cản quyền thăm nom, chăm sóc giữa cha và con thì vợ của bạn có thể bị xử phạt hành chính từ 5.000.000 đồng đến 10.000.000 đồng.'}"
      ]
     },
     "execution_count": 86,
     "metadata": {},
     "output_type": "execute_result"
    }
   ],
   "source": [
    "TUVAN_HYBRID[13]"
   ]
  },
  {
   "cell_type": "code",
   "execution_count": 97,
   "metadata": {
    "colab": {
     "base_uri": "https://localhost:8080/"
    },
    "collapsed": true,
    "executionInfo": {
     "elapsed": 34029,
     "status": "ok",
     "timestamp": 1734859157421,
     "user": {
      "displayName": "Khải Đặng",
      "userId": "00827885371675823732"
     },
     "user_tz": -420
    },
    "id": "Yh_mWcb-pYvY",
    "outputId": "4dcca4db-5fe2-421f-ef7c-8b4c5b5be979"
   },
   "outputs": [
    {
     "name": "stdout",
     "output_type": "stream",
     "text": [
      "attempt : 0\n",
      "gpt-4o-mini\n",
      "Định dạng JSON hợp lệ!\n",
      "{'Score': 8, 'Explain': 'Câu trả lời đã cung cấp nhiều thông tin hữu ích liên quan đến quy định về mang thai hộ và nuôi con nuôi, bao gồm các điều luật cụ thể. Tuy nhiên, một số thông tin có thể được diễn đạt ngắn gọn hơn và có thể thiếu một số chi tiết về điều kiện cụ thể để mang thai hộ theo Luật Hôn nhân và Gia Đình năm 2014. Mặc dù vậy, nội dung chính vẫn được truyền đạt rõ ràng và đúng với quy định pháp luật.'}\n",
      "attempt : 0\n",
      "gpt-4o-mini\n",
      "Định dạng JSON hợp lệ!\n",
      "{'Score': '8', 'Explain': 'Câu trả lời đã cung cấp nhiều thông tin hữu ích và chính xác liên quan đến quy định của Luật Hôn nhân và Gia đình 2014, bao gồm việc hôn nhân một vợ một chồng, hậu quả pháp lý của việc không đăng ký kết hôn, và việc kết hôn trái pháp luật. Tuy nhiên, một số thông tin có thể được diễn đạt ngắn gọn hơn và không hoàn toàn đầy đủ như trong câu trả lời đúng, ví dụ như không nhấn mạnh rõ ràng rằng việc tổ chức đám cưới không có giá trị pháp lý. Do đó, điểm số là 8.'}\n",
      "attempt : 0\n",
      "gpt-4o-mini\n",
      "Định dạng JSON hợp lệ!\n",
      "{'Score': 7, 'Explain': 'Câu trả lời đã cung cấp nhiều thông tin hữu ích liên quan đến việc xử phạt hành chính trong trường hợp ngoại tình, bao gồm các quy định pháp lý và các yếu tố chứng minh. Tuy nhiên, câu trả lời còn dài dòng và chưa hoàn toàn tập trung vào các yếu tố chứng minh cụ thể mà câu hỏi yêu cầu. Một số thông tin không cần thiết đã được đưa vào, như các điều khoản trong Luật Hôn nhân và Gia đình, mà không trực tiếp liên quan đến việc xử phạt hành chính. Mặc dù đã đề cập đến các cơ quan có thẩm quyền, nhưng cách trình bày có thể được cải thiện để rõ ràng hơn.'}\n",
      "attempt : 0\n",
      "gpt-4o-mini\n",
      "Định dạng JSON hợp lệ!\n",
      "{'Score': 9, 'Explain': 'Câu trả lời đã cung cấp nhiều thông tin hữu ích và chính xác, bao gồm các quy định trong Luật Hôn nhân và Gia đình cũng như Bộ luật Hình sự liên quan đến hành vi kết hôn khi chưa ly hôn. Câu trả lời cũng đề cập đến các hình thức xử lý vi phạm và tình huống có con với người khác, mặc dù có một số thông tin không hoàn toàn chính xác về việc phạt khi có con. Tuy nhiên, thông tin chính xác chiếm khoảng 80-90% nội dung câu trả lời đúng, do đó điểm số là 9.'}\n",
      "attempt : 0\n",
      "gpt-4o-mini\n",
      "Định dạng JSON hợp lệ!\n",
      "{'Score': 9, 'Explain': 'Câu trả lời đã cung cấp khoảng 80-90% thông tin có ích từ đáp án đúng. Nó nêu rõ các điều luật liên quan, đặc biệt là Điều 43 của Luật Hôn nhân và Gia đình 2014, và giải thích rõ ràng lý do tại sao căn nhà được coi là tài sản riêng. Tuy nhiên, câu trả lời không đề cập đến nguyên tắc chung về tài sản của vợ chồng theo Điều 29, điều này làm giảm độ hoàn chỉnh của câu trả lời.'}\n",
      "attempt : 0\n",
      "gpt-4o-mini\n",
      "Định dạng JSON hợp lệ!\n",
      "{'Score': '8', 'Explain': 'Câu trả lời của sinh viên đã đề cập đến nhiều thông tin chính xác liên quan đến quyền tài sản của vợ trong trường hợp chồng cặp bồ, bao gồm các điều luật từ Luật Hôn nhân và Gia đình và Bộ luật Dân sự. Tuy nhiên, câu trả lời thiếu một số chi tiết quan trọng về cách xác định tài sản chung và tài sản riêng, cũng như các yếu tố ảnh hưởng đến việc phân chia tài sản khi ly hôn. Mặc dù đã nêu ra các điều luật có liên quan, nhưng cách diễn đạt và tổ chức thông tin có thể cải thiện để rõ ràng hơn. Tổng thể, câu trả lời cung cấp khoảng 70-80% thông tin cần thiết nhưng vẫn còn thiếu một số khía cạnh quan trọng.'}\n",
      "attempt : 0\n",
      "gpt-4o-mini\n",
      "Định dạng JSON hợp lệ!\n",
      "{'Score': '7', 'Explain': 'Câu trả lời đã cung cấp nhiều thông tin hữu ích về quy định pháp luật liên quan đến mang thai hộ, bao gồm cả việc mang thai hộ vì mục đích thương mại và các hệ lụy pháp lý. Tuy nhiên, câu trả lời thiếu một số chi tiết cụ thể từ đáp án đúng, chẳng hạn như các quy định cụ thể trong Nghị định 82/2020/NĐ-CP và mức phạt cụ thể. Mặc dù có thông tin chính xác, nhưng vẫn còn thiếu sót và chưa đầy đủ so với câu trả lời chuẩn.'}\n",
      "attempt : 0\n",
      "gpt-4o-mini\n",
      "Định dạng JSON hợp lệ!\n",
      "{'Score': 9, 'Explain': 'Câu trả lời đã cung cấp khoảng 80-90% thông tin có ích từ đáp án đúng, bao gồm các quy định liên quan đến tài sản riêng và tài sản chung theo Luật Hôn nhân và Gia đình, cũng như quy định về chuyển mục đích sử dụng đất. Câu trả lời cũng nêu rõ các điều luật cụ thể và giải thích rõ ràng về việc cam kết xác nhận tiền dùng chuyển mục đích. Tuy nhiên, có một số phần có thể được diễn đạt ngắn gọn hơn và không cần thiết phải lặp lại một số thông tin, nhưng nhìn chung vẫn rất đầy đủ và chính xác.'}\n",
      "attempt : 0\n",
      "gpt-4o-mini\n",
      "Định dạng JSON hợp lệ!\n",
      "{'Score': '8', 'Explain': 'Câu trả lời của sinh viên đã cung cấp nhiều thông tin hữu ích liên quan đến quyền yêu cầu ly hôn và quyền nuôi con, bao gồm các điều luật cụ thể như Điều 56 và Điều 81 của Luật Hôn nhân và Gia đình 2014. Tuy nhiên, câu trả lời thiếu một số thông tin quan trọng về điều kiện ly hôn theo yêu cầu của một bên và các căn cứ hợp pháp để Tòa án xem xét, cũng như không nhấn mạnh rõ ràng rằng chồng không có quyền yêu cầu ly hôn trong trường hợp này. Mặc dù đã đề cập đến quyền lợi của con, nhưng vẫn còn thiếu một số chi tiết về các điều kiện cần thiết để ly hôn theo quy định của pháp luật. Do đó, câu trả lời đạt khoảng 80% thông tin cần thiết nhưng vẫn còn thiếu sót.'}\n",
      "attempt : 0\n",
      "gpt-4o-mini\n",
      "Định dạng JSON hợp lệ!\n",
      "{'Score': 6, 'Explain': 'Câu trả lời đã cung cấp nhiều thông tin liên quan đến quy định của Luật Hôn nhân và Gia đình 2014, đặc biệt là các điều luật về tài sản riêng và tài sản chung. Tuy nhiên, nó không hoàn toàn chính xác trong việc xác định căn nhà là tài sản riêng của bạn, vì theo quy định, căn nhà mua trong thời kỳ hôn nhân bằng khoản vay ngân hàng sẽ được coi là tài sản chung của vợ chồng. Mặc dù có một số thông tin chính xác, nhưng việc áp dụng các điều luật chưa đầy đủ và có sự nhầm lẫn trong kết luận cuối cùng.'}\n",
      "attempt : 0\n",
      "gpt-4o-mini\n",
      "Định dạng JSON hợp lệ!\n",
      "{'Score': '8', 'Explain': 'Câu trả lời đã cung cấp nhiều thông tin hữu ích liên quan đến quyền nuôi con theo Luật Hôn nhân và Gia đình 2014, đặc biệt là các điều khoản liên quan đến quyền nuôi con dưới 36 tháng tuổi. Tuy nhiên, câu trả lời thiếu một số thông tin quan trọng từ đáp án chuẩn, chẳng hạn như việc thỏa thuận giữa cha mẹ và các điều kiện cụ thể mà Tòa án sẽ xem xét. Mặc dù có một số thông tin không liên quan, nhưng nó không quá ảnh hưởng đến nội dung chính của câu trả lời.'}\n",
      "attempt : 0\n",
      "gpt-4o-mini\n",
      "Định dạng JSON hợp lệ!\n",
      "{'Score': '8', 'Explain': 'Câu trả lời của sinh viên đã cung cấp nhiều thông tin hữu ích liên quan đến quy định về chế độ hôn nhân một vợ một chồng và các điều luật liên quan, đặc biệt là Bộ luật Hình sự và Luật Hôn nhân và Gia đình. Tuy nhiên, câu trả lời chưa đề cập đến các yếu tố cấu thành tội phạm cụ thể theo Điều 182 Bộ luật Hình sự, mà chỉ nhắc đến Điều 147 mà không làm rõ mối liên hệ với trường hợp cụ thể. Mặc dù có một số thông tin không hoàn toàn chính xác hoặc không liên quan, nhưng tổng thể, câu trả lời vẫn đạt được khoảng 80-90% thông tin cần thiết từ đáp án đúng.'}\n",
      "attempt : 0\n",
      "gpt-4o-mini\n",
      "Định dạng JSON hợp lệ!\n",
      "{'Score': 9, 'Explain': 'Câu trả lời của sinh viên đã cung cấp khoảng 80% thông tin hữu ích có trong câu trả lời đúng. Sinh viên đã nêu rõ quyền yêu cầu chuộc lại sổ đỏ, khả năng kiện chồng vì giả chữ ký và trách nhiệm của chồng cùng người giả chữ ký. Tuy nhiên, một số thông tin về quy trình và hậu quả pháp lý của giao dịch vô hiệu chưa được đề cập đầy đủ, và có thể có một số chi tiết nhỏ không hoàn toàn chính xác hoặc thiếu sót. Dù vậy, nội dung chính vẫn được truyền đạt rõ ràng và hợp lý.'}\n",
      "attempt : 0\n",
      "gpt-4o-mini\n",
      "Định dạng JSON hợp lệ!\n",
      "{'Score': 8, 'Explain': 'Câu trả lời đã đề cập đến nhiều thông tin hữu ích liên quan đến quyền nuôi con và trách nhiệm của các bên theo Luật Hôn nhân và Gia đình 2014, bao gồm quyền thỏa thuận về người nuôi con và nghĩa vụ của cha mẹ. Tuy nhiên, câu trả lời thiếu thông tin về việc xử lý hành vi tự ý đưa con đi mà không có sự đồng ý của bạn, cũng như mức phạt cụ thể theo Nghị định 144/2021/NĐ-CP. Mặc dù đã cung cấp thông tin về cơ quan can thiệp, nhưng vẫn chưa đầy đủ so với đáp án chuẩn.'}\n"
     ]
    }
   ],
   "source": [
    "for i in range(len(TUVAN_HYBRID)):\n",
    "\n",
    "    test = PROMPT['evaluation_from_test'].replace(\"<<q>>\", TUVAN_HYBRID[i]['q']).replace(\"<<sga>>\", TUVAN_HYBRID[i]['a']).replace(\"<<a>>\", TUVAN_HYBRID[i]['hybrid'])\n",
    "\n",
    "    res = get_valid_json_gpt40mini(test)\n",
    "\n",
    "    print(res)\n",
    "\n",
    "    RES_TUVAN_HYBRID.append(res)"
   ]
  },
  {
   "cell_type": "code",
   "execution_count": 98,
   "metadata": {
    "colab": {
     "base_uri": "https://localhost:8080/"
    },
    "executionInfo": {
     "elapsed": 286,
     "status": "ok",
     "timestamp": 1734859176836,
     "user": {
      "displayName": "Khải Đặng",
      "userId": "00827885371675823732"
     },
     "user_tz": -420
    },
    "id": "MiscFTNPpY47",
    "outputId": "fe28e757-4a85-4e83-adfa-c8ecf86a5a60"
   },
   "outputs": [
    {
     "data": {
      "text/plain": [
       "14"
      ]
     },
     "execution_count": 98,
     "metadata": {},
     "output_type": "execute_result"
    }
   ],
   "source": [
    "len(RES_TUVAN_HYBRID)"
   ]
  },
  {
   "cell_type": "code",
   "execution_count": 94,
   "metadata": {
    "colab": {
     "base_uri": "https://localhost:8080/"
    },
    "executionInfo": {
     "elapsed": 306,
     "status": "ok",
     "timestamp": 1734859108635,
     "user": {
      "displayName": "Khải Đặng",
      "userId": "00827885371675823732"
     },
     "user_tz": -420
    },
    "id": "fVzu-sdxpY7f",
    "outputId": "8644449b-b77f-4341-eb26-a0ec9098a296"
   },
   "outputs": [
    {
     "data": {
      "text/plain": [
       "8.142857142857142"
      ]
     },
     "execution_count": 94,
     "metadata": {},
     "output_type": "execute_result"
    }
   ],
   "source": [
    "# Lần 1\n",
    "score = 0\n",
    "\n",
    "for i in range(len(RES_TUVAN_HYBRID)):\n",
    "    if RES_TUVAN_HYBRID[i] != \"Not\":\n",
    "        score += int(RES_TUVAN_HYBRID[i]['Score'])\n",
    "\n",
    "score/len(RES_TUVAN_HYBRID)\n",
    "# 8.142857142857142"
   ]
  },
  {
   "cell_type": "code",
   "execution_count": null,
   "metadata": {
    "id": "-qrFkv0fpRdy"
   },
   "outputs": [],
   "source": []
  },
  {
   "cell_type": "code",
   "execution_count": 99,
   "metadata": {
    "colab": {
     "base_uri": "https://localhost:8080/"
    },
    "executionInfo": {
     "elapsed": 433,
     "status": "ok",
     "timestamp": 1734859179816,
     "user": {
      "displayName": "Khải Đặng",
      "userId": "00827885371675823732"
     },
     "user_tz": -420
    },
    "id": "uMIaIWk1pRgi",
    "outputId": "fe601ef4-e473-482b-c509-987ca22c0f43"
   },
   "outputs": [
    {
     "data": {
      "text/plain": [
       "8.0"
      ]
     },
     "execution_count": 99,
     "metadata": {},
     "output_type": "execute_result"
    }
   ],
   "source": [
    "# Lần 2\n",
    "score = 0\n",
    "\n",
    "for i in range(len(RES_TUVAN_HYBRID)):\n",
    "    if RES_TUVAN_HYBRID[i] != \"Not\":\n",
    "        score += int(RES_TUVAN_HYBRID[i]['Score'])\n",
    "\n",
    "score/len(RES_TUVAN_HYBRID)\n",
    "#8.0"
   ]
  },
  {
   "cell_type": "code",
   "execution_count": null,
   "metadata": {
    "id": "_myOC2ZKpRjh"
   },
   "outputs": [],
   "source": []
  },
  {
   "cell_type": "code",
   "execution_count": null,
   "metadata": {
    "id": "06u_dNJGpRm3"
   },
   "outputs": [],
   "source": []
  },
  {
   "cell_type": "code",
   "execution_count": null,
   "metadata": {
    "id": "s_mvWLuuqmZl"
   },
   "outputs": [],
   "source": []
  },
  {
   "cell_type": "markdown",
   "metadata": {
    "id": "YxhWemALqno4"
   },
   "source": [
    "# TUVAN_NAIVE"
   ]
  },
  {
   "cell_type": "code",
   "execution_count": 110,
   "metadata": {
    "executionInfo": {
     "elapsed": 370,
     "status": "ok",
     "timestamp": 1734859335752,
     "user": {
      "displayName": "Khải Đặng",
      "userId": "00827885371675823732"
     },
     "user_tz": -420
    },
    "id": "hAWkdeBvqmcd"
   },
   "outputs": [],
   "source": [
    "RES_TUVAN_NAIVE = []"
   ]
  },
  {
   "cell_type": "code",
   "execution_count": 111,
   "metadata": {
    "colab": {
     "base_uri": "https://localhost:8080/"
    },
    "executionInfo": {
     "elapsed": 13,
     "status": "ok",
     "timestamp": 1734859336796,
     "user": {
      "displayName": "Khải Đặng",
      "userId": "00827885371675823732"
     },
     "user_tz": -420
    },
    "id": "TkktVAJzqpk7",
    "outputId": "a4d3a05c-dd30-4405-f155-2e99bf2670ef"
   },
   "outputs": [
    {
     "data": {
      "text/plain": [
       "[]"
      ]
     },
     "execution_count": 111,
     "metadata": {},
     "output_type": "execute_result"
    }
   ],
   "source": [
    "RES_TUVAN_NAIVE"
   ]
  },
  {
   "cell_type": "code",
   "execution_count": 103,
   "metadata": {
    "colab": {
     "base_uri": "https://localhost:8080/"
    },
    "collapsed": true,
    "executionInfo": {
     "elapsed": 323,
     "status": "ok",
     "timestamp": 1734859244528,
     "user": {
      "displayName": "Khải Đặng",
      "userId": "00827885371675823732"
     },
     "user_tz": -420
    },
    "id": "TeDgZL-Jqpn5",
    "outputId": "40d2993e-74dd-4a21-928c-e9c123693d54"
   },
   "outputs": [
    {
     "data": {
      "text/plain": [
       "{'q': 'Vợ chồng em cưới nhau được 4 năm và có một người con chung 2 tuổi. Do mâu thuẫn trong việc chăm sóc con nên muốn ly hôn. Bất cứ khi nào vợ chồng em có mâu thuẫn là cô ấy lại bế con bỏ nhà đi. Mặc dù chưa ly hôn nhưng nếu vợ em đưa con em đi mà chưa được sự đồng ý của em thì ai sẽ can thiệp? Em có thể tìm sự trợ giúp từ cơ quan nào? Và vợ em sẽ phải chịu trách nhiệm như thế nào? ',\n",
       " 'naive': 'Trong tình huống của bạn, việc vợ bạn tự ý dẫn con đi mà không có sự đồng ý của bạn là một vấn đề pháp lý nghiêm trọng, và bạn có quyền yêu cầu sự can thiệp từ các cơ quan chức năng. Dưới đây là một số điều luật và giải pháp mà bạn có thể tham khảo.\\n\\n### Quyền và Nghĩa vụ của Cha Mẹ\\n\\n1. **Điều 81 Luật Hôn nhân và Gia đình 2014**: Điều này xác định rằng cha mẹ có trách nhiệm nuôi dưỡng và chăm sóc con cái. Trong trường hợp có tranh chấp về quyền nuôi con, phải xem xét quyền lợi của trẻ em trước hết và ưu tiên quy định bé sống cùng với cha hoặc mẹ. Việc dẫn trẻ đi mà không có sự đồng ý từ cha có thể được coi là vi phạm quyền nuôi dưỡng và chăm sóc của phụ huynh.\\n\\n2. **Điều 84 Luật Hôn nhân và Gia đình 2014**: Điều này quy định những vấn đề liên quan đến nơi ở của trẻ em sau ly hôn. Trong thời gian chưa ly hôn, những quyết định liên quan đến việc ở của trẻ đều cần có sự đồng thuận của cả hai bên.\\n\\n### Can Thiệp và Giải Pháp\\n\\nBạn có thể tìm sự trợ giúp từ cơ quan công an hoặc UBND xã/phường nơi cư trú để yêu cầu can thiệp. Cụ thể, bạn nên thực hiện các bước sau:\\n\\n- **Báo cáo sự việc cho chính quyền địa phương hoặc cơ quan công an**: Bạn có thể thông báo về việc vợ bạn tự ý dẫn con đi mà không có sự đồng ý của bạn, đây có thể được coi là hành vi vi phạm quyền nuôi dưỡng theo quy định của pháp luật.\\n  \\n- **Yêu cầu áp dụng biện pháp bảo vệ trẻ em**: Theo Luật Bảo vệ, chăm sóc và giáo dục trẻ em 2004, bạn có thể đề nghị các cơ quan có thẩm quyền áp dụng biện pháp bảo vệ quyền lợi của trẻ em.\\n\\n### Trách Nhiệm Pháp Lý Của Vợ Bạn\\n\\nNếu vợ bạn tiếp tục hành vi này, bạn có thể yêu cầu tòa án xem xét vấn đề và có thể yêu cầu xử lý hành vi dẫn đến nguy cơ ảnh hưởng đến quyền lợi và sự phát triển của trẻ. Theo quy định tại **Điều 58 Luật Hôn nhân và Gia đình**, nếu và khi có hành vi vi phạm thỏa thuận hoặc quyết định liên quan đến quyền và nghĩa vụ nuôi dạy trẻ em, vợ bạn có thể bị yêu cầu chịu trách nhiệm pháp lý.\\n\\n### Kết Luận\\n\\nTheo các điều luật nêu trên, bạn có quyền yêu cầu can thiệp từ cơ quan pháp lý nếu vợ bạn không thỏa thuận cùng bạn trong việc chăm sóc trẻ và tự ý dẫn con đi. Việc bảo vệ quyền lợi của trẻ em sẽ là vấn đề được ưu tiên hàng đầu trong bất kỳ quyết định nào từ phía Tòa án. Nếu tình hình trở nên nghiêm trọng hoặc không thể giải quyết hòa bình, bạn có thể xem xét việc tiến hành thủ tục ly hôn để đảm bảo quyền lợi của cả bạn và con cái.',\n",
       " 'a': 'Quyền và nghĩa vụ của cha mẹ đối với con chưa thành niên\\nCăn cứ Điều 68 Luật Hôn nhân và gia đình 2014 quy định bảo vệ quyền và nghĩa vụ của cha mẹ và con như sau:\\n\\nĐiều 68. Bảo vệ quyền và nghĩa vụ của cha mẹ và con\\n\\n1. Quyền và nghĩa vụ của cha mẹ và con theo quy định tại Luật này, Bộ luật dân sự và các luật khác có liên quan được tôn trọng và bảo vệ.\\n\\n2. Con sinh ra không phụ thuộc vào tình trạng hôn nhân của cha mẹ đều có quyền và nghĩa vụ như nhau đối với cha mẹ của mình được quy định tại Luật này, Bộ luật dân sự và các luật khác có liên quan.\\n\\n3. Giữa con nuôi và cha nuôi, mẹ nuôi có các quyền và nghĩa vụ của cha mẹ và con được quy định tại Luật này, Luật nuôi con nuôi, Bộ luật dân sự và các luật khác có liên quan.\\n\\n4. Mọi thỏa thuận của cha mẹ, con liên quan đến quan hệ nhân thân, tài sản không được làm ảnh hưởng đến quyền, lợi ích hợp pháp của con chưa thành niên, con đã thành niên mất năng lực hành vi dân sự hoặc không có khả năng lao động và không có tài sản để tự nuôi mình, cha mẹ mất năng lực hành vi dân sự hoặc không có khả năng lao động và không có tài sản để tự nuôi mình.\\n\\nNgoài ra, tại Điều 71 Luật hôn nhân và gia đình 2014 quy định nghĩa vụ và quyền chăm sóc, nuôi dưỡng như sau:\\n\\nĐiều 71. Nghĩa vụ và quyền chăm sóc, nuôi dưỡng\\n\\n1. Cha, mẹ có nghĩa vụ và quyền ngang nhau, cùng nhau chăm sóc, nuôi dưỡng con chưa thành niên, con đã thành niên mất năng lực hành vi dân sự hoặc không có khả năng lao động và không có tài sản để tự nuôi mình.\\n\\n2. Con có nghĩa vụ và quyền chăm sóc, nuôi dưỡng cha mẹ, đặc biệt khi cha mẹ mất năng lực hành vi dân sự, ốm đau, già yếu, khuyết tật; trường hợp gia đình có nhiều con thì các con phải cùng nhau chăm sóc, nuôi dưỡng cha mẹ.\\n\\nTheo quy định nêu trên, quyền và nghĩa vụ của cha mẹ với con theo quy định được pháp luật tôn trọng và bảo vệ, cha mẹ có quyền và nghĩa vụ ngang nhau đối với con, cùng chăm sóc, nuôi dưỡng con chưa thành niên, con thành niên mất năng lực hành vi dân sự hoặc không có khả năng lao động, tài sản để nuôi bản thân.\\n\\nTheo thông tin bạn cung cấp, bạn và vợ của mình có một con chung 2 tuổi, do mâu thuẫn, vợ bạn có thể bế con bỏ đi bất cứ lúc nào, hành vi tự ý đưa con đi mà không có sự thỏa thuận của vợ bạn là hành vi trái pháp luật, cản trở quyền được chăm sóc, nuôi dưỡng, giáo dục con của bạn. Theo đó, bạn có thể liên hệ trực tiếp với các cơ quan, đoàn thể, ban ngành địa phương để can thiệp, xử lý.\\n\\nTự ý đưa con bỏ đi sẽ bị xử lý thế nào?\\nCăn cứ Điều 56 Nghị định 144/2021/NĐ-CP quy định về hành vi ngăn cản việc thực hiện quyền, nghĩa vụ trong quan hệ gia đình giữa cha, mẹ và con như sau:\\n\\nĐiều 56. Hành vi ngăn cản việc thực hiện quyền, nghĩa vụ trong quan hệ gia đình giữa ông, bà và cháu; giữa cha, mẹ và con; giữa vợ và chồng; giữa anh, chị, em với nhau\\nPhạt tiền từ 5.000.000 đồng đến 10.000.000 đồng đối với hành vi ngăn cản quyền thăm nom, chăm sóc giữa ông, bà và cháu; giữa cha, mẹ và con, trừ trường hợp cha mẹ bị hạn chế quyền thăm nom con theo quyết định của toà án; giữa vợ và chồng; giữa anh, chị, em với nhau.\\n\\nNhư vậy, với hành vi đưa con bỏ nhà đi nhằm ngăn cản quyền thăm nom, chăm sóc giữa cha và con thì vợ của bạn có thể bị xử phạt hành chính từ 5.000.000 đồng đến 10.000.000 đồng.'}"
      ]
     },
     "execution_count": 103,
     "metadata": {},
     "output_type": "execute_result"
    }
   ],
   "source": [
    "TUVAN_NAIVE[13]"
   ]
  },
  {
   "cell_type": "code",
   "execution_count": 112,
   "metadata": {
    "colab": {
     "base_uri": "https://localhost:8080/"
    },
    "collapsed": true,
    "executionInfo": {
     "elapsed": 39669,
     "status": "ok",
     "timestamp": 1734859382748,
     "user": {
      "displayName": "Khải Đặng",
      "userId": "00827885371675823732"
     },
     "user_tz": -420
    },
    "id": "EhwCkldzqpql",
    "outputId": "363e0d80-3a7b-4862-812e-00b1da2580ee"
   },
   "outputs": [
    {
     "name": "stdout",
     "output_type": "stream",
     "text": [
      "attempt : 0\n",
      "gpt-4o-mini\n",
      "Định dạng JSON hợp lệ!\n",
      "{'Score': 9, 'Explain': 'Câu trả lời của sinh viên đã cung cấp khoảng 80-90% thông tin chính xác và hữu ích từ đáp án đúng. Sinh viên đã nêu rõ các điều khoản liên quan trong Luật Hôn nhân và Gia đình năm 2014, cụ thể là Điều 95 và Điều 94, đồng thời giải thích rõ ràng về quyền lợi của vợ chồng trong việc nhờ mang thai hộ. Tuy nhiên, một số thông tin có thể được trình bày ngắn gọn hơn và có thể có thêm một số chi tiết về điều kiện cụ thể hơn từ Điều 95 để hoàn thiện hơn nữa.'}\n",
      "attempt : 0\n",
      "gpt-4o-mini\n",
      "Định dạng JSON hợp lệ!\n",
      "{'Score': 8, 'Explain': 'Câu trả lời đã cung cấp nhiều thông tin chính xác liên quan đến quy định của Luật Hôn nhân và Gia đình 2014, đặc biệt là các điều kiện kết hôn và các trường hợp cấm kết hôn. Tuy nhiên, câu trả lời thiếu một số thông tin quan trọng về việc tổ chức đám cưới mà không đăng ký kết hôn không có giá trị pháp lý, và không đề cập đến việc chung sống như vợ chồng. Mặc dù đã nêu rõ rằng hành vi này có thể vi phạm pháp luật, nhưng không hoàn toàn đầy đủ như câu trả lời đúng.'}\n",
      "attempt : 0\n",
      "gpt-4o-mini\n",
      "Định dạng JSON hợp lệ!\n",
      "{'Score': 8, 'Explain': \"Câu trả lời đã cung cấp nhiều thông tin hữu ích liên quan đến việc chứng minh hành vi 'chung sống như vợ chồng', bao gồm các yếu tố cần thiết và cách thức chứng minh. Tuy nhiên, câu trả lời không hoàn toàn chính xác khi nhắc đến Điều 147 của Bộ luật Hình sự, vì nội dung này không liên quan đến việc xử phạt hành chính trong trường hợp ngoại tình. Mặc dù đã đề cập đến Nghị định 82/2020/NĐ-CP, nhưng một số thông tin có thể gây nhầm lẫn và không hoàn toàn khớp với đáp án đúng. Do đó, câu trả lời đạt khoảng 80% thông tin chính xác và đầy đủ.\"}\n",
      "attempt : 0\n",
      "gpt-4o-mini\n",
      "Định dạng JSON hợp lệ!\n",
      "{'Score': 9, 'Explain': 'Câu trả lời đã cung cấp thông tin chính xác và đầy đủ về việc kết hôn khi chưa ly hôn, bao gồm các quy định pháp luật liên quan và hình thức xử lý. Câu trả lời cũng đề cập đến việc có con với người khác trong thời gian chưa ly hôn và các hình thức xử lý tương ứng. Tuy nhiên, một số phần có thể được diễn đạt ngắn gọn hơn, nhưng không ảnh hưởng lớn đến nội dung chính. Tổng thể, câu trả lời đạt khoảng 80-90% thông tin cần thiết.'}\n",
      "attempt : 0\n",
      "gpt-4o-mini\n",
      "Định dạng JSON hợp lệ!\n",
      "{'Score': '9', 'Explain': 'Câu trả lời đã cung cấp khoảng 80% thông tin có ích từ đáp án đúng, bao gồm các quy định về tài sản riêng và tài sản chung theo Luật Hôn nhân và Gia đình 2014. Câu trả lời cũng nêu rõ các điều luật liên quan và phân tích tình huống cụ thể của người hỏi. Tuy nhiên, một số thông tin có thể được diễn đạt ngắn gọn hơn, và có thể thiếu một số chi tiết nhỏ về nghĩa vụ chia tài sản nếu có nguồn tài chính từ tài sản chung. Nhưng nhìn chung, câu trả lời vẫn rất đầy đủ và chính xác.'}\n",
      "attempt : 0\n",
      "gpt-4o-mini\n",
      "Định dạng JSON hợp lệ!\n",
      "{'Score': 9, 'Explain': 'Câu trả lời đã cung cấp khoảng 80-90% thông tin có ích từ đáp án đúng, bao gồm các quy định về tài sản chung và riêng, quyền khởi kiện tại Tòa án, và quyền yêu cầu bồi thường thiệt hại. Tuy nhiên, một số chi tiết cụ thể về quy định trong Luật Hôn nhân và Gia đình 2014 có thể chưa được nêu rõ ràng như trong đáp án chuẩn, nhưng không ảnh hưởng lớn đến nội dung chính của câu trả lời.'}\n",
      "attempt : 0\n",
      "gpt-4o-mini\n",
      "Định dạng JSON hợp lệ!\n",
      "{'Score': '8', 'Explain': 'Câu trả lời đã cung cấp nhiều thông tin hữu ích liên quan đến mang thai hộ vì mục đích thương mại, bao gồm các quy định từ Luật Hôn nhân và Gia đình 2014 và Nghị định 10/2015/NĐ-CP. Tuy nhiên, một số thông tin không hoàn toàn chính xác hoặc không đầy đủ so với đáp án đúng, chẳng hạn như không đề cập đến mức phạt cụ thể từ 5.000.000 đến 10.000.000 đồng và việc nộp lại lợi bất hợp pháp. Mặc dù có nhiều thông tin có ích, nhưng vẫn còn thiếu sót trong việc trình bày các quy định cụ thể về xử phạt hành vi vi phạm này.'}\n",
      "attempt : 0\n",
      "gpt-4o-mini\n",
      "Định dạng JSON hợp lệ!\n",
      "{'Score': '10', 'Explain': 'Câu trả lời của sinh viên đã cung cấp đầy đủ và chính xác các thông tin liên quan đến tài sản chung và tài sản riêng của vợ chồng theo quy định của Luật Hôn nhân và Gia đình. Sinh viên đã trích dẫn đúng các điều luật liên quan (Điều 43 và Điều 44), giải thích rõ ràng về việc quyền sử dụng đất nông nghiệp tặng cho riêng vẫn giữ nguyên bản chất là tài sản riêng khi chuyển mục đích sử dụng. Ngoài ra, sinh viên cũng đã đề cập đến việc xác nhận cam kết từ vợ hoặc chồng, điều này hoàn toàn phù hợp với quy định pháp luật. Câu trả lời không thừa, không thiếu và diễn đạt rõ ràng, mạch lạc.'}\n",
      "attempt : 0\n",
      "gpt-4o-mini\n",
      "Định dạng JSON hợp lệ!\n",
      "{'Score': '7', 'Explain': 'Câu trả lời đã cung cấp nhiều thông tin hữu ích liên quan đến quyền yêu cầu ly hôn và quyền nuôi con, bao gồm các điều luật cụ thể như Điều 81 và Điều 69 của Luật Hôn nhân và Gia đình 2014. Tuy nhiên, câu trả lời chưa đề cập đến việc chồng không có quyền yêu cầu ly hôn trong trường hợp vợ đang nuôi con dưới 12 tháng tuổi, điều này là rất quan trọng trong bối cảnh của câu hỏi. Mặc dù có nhiều thông tin chính xác, nhưng một số phần có thể được diễn đạt ngắn gọn hơn và vẫn có một số thông tin không hoàn toàn liên quan đến tình huống cụ thể của người hỏi.'}\n",
      "attempt : 0\n",
      "gpt-4o-mini\n",
      "Định dạng JSON hợp lệ!\n",
      "{'Score': 6, 'Explain': 'Câu trả lời đã cung cấp nhiều thông tin hữu ích liên quan đến quy định của Luật Hôn nhân và Gia đình 2014, đặc biệt là Điều 43 về tài sản riêng. Tuy nhiên, nó không đề cập đến Điều 33, nơi quy định về tài sản chung, điều này làm cho câu trả lời thiếu sót một phần quan trọng trong việc xác định tài sản chung và riêng. Mặc dù có phân tích hợp lý, nhưng một số thông tin có thể gây nhầm lẫn và không hoàn toàn chính xác, ví dụ như việc khẳng định căn nhà là tài sản riêng mà không nhấn mạnh rằng nó có thể vẫn được coi là tài sản chung do được hình thành trong thời kỳ hôn nhân. Do đó, câu trả lời đạt khoảng 60% thông tin chính xác và đầy đủ.'}\n",
      "attempt : 0\n",
      "gpt-4o-mini\n",
      "Định dạng JSON hợp lệ!\n",
      "{'Score': '8', 'Explain': 'Câu trả lời đã cung cấp nhiều thông tin hữu ích, bao gồm các quy định pháp luật liên quan đến quyền nuôi con sau ly hôn, đặc biệt là Điều 81 của Luật Hôn nhân và Gia đình 2014. Tuy nhiên, câu trả lời thiếu một số chi tiết quan trọng như việc thỏa thuận giữa hai bên và các điều kiện cụ thể để tòa án xem xét quyền nuôi con. Mặc dù có một số thông tin không chính xác hoặc không liên quan, nhưng chúng không ảnh hưởng lớn đến nội dung chính của câu trả lời.'}\n",
      "attempt : 0\n",
      "gpt-4o-mini\n",
      "Định dạng JSON hợp lệ!\n",
      "{'Score': '8', 'Explain': 'Câu trả lời đã cung cấp nhiều thông tin chính xác liên quan đến tội vi phạm chế độ một vợ một chồng theo quy định của Bộ luật Hình sự năm 2015. Tuy nhiên, một số thông tin không chính xác như việc nhắc đến Điều 147, vì điều này không liên quan đến tội vi phạm chế độ một vợ một chồng mà là một điều luật khác. Mặc dù có một số thông tin không liên quan, nhưng tổng thể câu trả lời vẫn đạt khoảng 80-90% thông tin đúng và hữu ích, vì vậy được đánh giá ở mức 8 điểm.'}\n",
      "attempt : 0\n",
      "gpt-4o-mini\n",
      "Định dạng JSON hợp lệ!\n",
      "{'Score': 8, 'Explain': 'Câu trả lời đã cung cấp nhiều thông tin hữu ích liên quan đến quyền yêu cầu chuộc lại giấy chứng nhận quyền sử dụng đất, hành vi giả mạo chữ ký và mức xử phạt. Tuy nhiên, một số thông tin không hoàn toàn chính xác hoặc thiếu sót so với đáp án đúng, như việc không nhấn mạnh rõ ràng về sự cần thiết của văn bản ủy quyền từ chồng để thực hiện các thủ tục tại ngân hàng. Mặc dù vậy, câu trả lời vẫn đạt được khoảng 70%-90% thông tin có trong câu trả lời đúng.'}\n",
      "attempt : 0\n",
      "gpt-4o-mini\n",
      "Định dạng JSON hợp lệ!\n",
      "{'Score': 9, 'Explain': 'Câu trả lời của sinh viên đã cung cấp nhiều thông tin hữu ích, bao gồm các điều luật liên quan đến quyền và nghĩa vụ của cha mẹ, cách thức can thiệp từ cơ quan chức năng, và trách nhiệm pháp lý của vợ. Sinh viên đã đề cập đến các điều luật cụ thể như Điều 81 và Điều 84 của Luật Hôn nhân và Gia đình 2014, cũng như các bước cần thực hiện để yêu cầu can thiệp. Tuy nhiên, một số thông tin có thể được diễn đạt rõ ràng hơn và có thể thiếu một số chi tiết nhỏ so với đáp án chuẩn, nhưng nhìn chung, câu trả lời đã bao quát được khoảng 80-90% nội dung cần thiết.'}\n"
     ]
    }
   ],
   "source": [
    "for i in range(len(TUVAN_NAIVE)):\n",
    "\n",
    "    test = PROMPT['evaluation_from_test'].replace(\"<<q>>\", TUVAN_NAIVE[i]['q']).replace(\"<<sga>>\", TUVAN_NAIVE[i]['a']).replace(\"<<a>>\", TUVAN_NAIVE[i]['naive'])\n",
    "\n",
    "    res = get_valid_json_gpt40mini(test)\n",
    "\n",
    "    print(res)\n",
    "\n",
    "    RES_TUVAN_NAIVE.append(res)"
   ]
  },
  {
   "cell_type": "code",
   "execution_count": 113,
   "metadata": {
    "colab": {
     "base_uri": "https://localhost:8080/"
    },
    "executionInfo": {
     "elapsed": 300,
     "status": "ok",
     "timestamp": 1734859393647,
     "user": {
      "displayName": "Khải Đặng",
      "userId": "00827885371675823732"
     },
     "user_tz": -420
    },
    "id": "TFOtfDlFqptQ",
    "outputId": "f38fee6f-fa41-4d40-d451-bcc044ac57e2"
   },
   "outputs": [
    {
     "data": {
      "text/plain": [
       "14"
      ]
     },
     "execution_count": 113,
     "metadata": {},
     "output_type": "execute_result"
    }
   ],
   "source": [
    "len(RES_TUVAN_NAIVE)"
   ]
  },
  {
   "cell_type": "code",
   "execution_count": 109,
   "metadata": {
    "colab": {
     "base_uri": "https://localhost:8080/"
    },
    "executionInfo": {
     "elapsed": 323,
     "status": "ok",
     "timestamp": 1734859323467,
     "user": {
      "displayName": "Khải Đặng",
      "userId": "00827885371675823732"
     },
     "user_tz": -420
    },
    "id": "-dNrYBJ9qme1",
    "outputId": "12c3ae23-e40f-4b5f-b483-fb51e626248c"
   },
   "outputs": [
    {
     "data": {
      "text/plain": [
       "8.357142857142858"
      ]
     },
     "execution_count": 109,
     "metadata": {},
     "output_type": "execute_result"
    }
   ],
   "source": [
    "# Lần 1\n",
    "score = 0\n",
    "\n",
    "for i in range(len(RES_TUVAN_NAIVE)):\n",
    "    if RES_TUVAN_NAIVE[i] != \"Not\":\n",
    "        score += int(RES_TUVAN_NAIVE[i]['Score'])\n",
    "\n",
    "score/len(RES_TUVAN_NAIVE)\n",
    "# 8.357142857142858"
   ]
  },
  {
   "cell_type": "code",
   "execution_count": 114,
   "metadata": {
    "colab": {
     "base_uri": "https://localhost:8080/"
    },
    "executionInfo": {
     "elapsed": 441,
     "status": "ok",
     "timestamp": 1734859400296,
     "user": {
      "displayName": "Khải Đặng",
      "userId": "00827885371675823732"
     },
     "user_tz": -420
    },
    "id": "FKNy9HJcqmhX",
    "outputId": "5e7264ef-0da8-47f8-a32b-290a87ec1752"
   },
   "outputs": [
    {
     "data": {
      "text/plain": [
       "8.285714285714286"
      ]
     },
     "execution_count": 114,
     "metadata": {},
     "output_type": "execute_result"
    }
   ],
   "source": [
    "# Lần 2\n",
    "score = 0\n",
    "\n",
    "for i in range(len(RES_TUVAN_NAIVE)):\n",
    "    if RES_TUVAN_NAIVE[i] != \"Not\":\n",
    "        score += int(RES_TUVAN_NAIVE[i]['Score'])\n",
    "\n",
    "score/len(RES_TUVAN_NAIVE)\n",
    "# 8.285714285714286"
   ]
  },
  {
   "cell_type": "code",
   "execution_count": null,
   "metadata": {
    "id": "x5rN6QZiqmj8"
   },
   "outputs": [],
   "source": []
  },
  {
   "cell_type": "code",
   "execution_count": null,
   "metadata": {
    "id": "2fVcqqXvsoxb"
   },
   "outputs": [],
   "source": []
  },
  {
   "cell_type": "markdown",
   "metadata": {
    "id": "ne9hvSfMst-J"
   },
   "source": [
    "# Baseline GPT-4o"
   ]
  },
  {
   "cell_type": "code",
   "execution_count": 115,
   "metadata": {
    "executionInfo": {
     "elapsed": 507,
     "status": "ok",
     "timestamp": 1734859768183,
     "user": {
      "displayName": "Khải Đặng",
      "userId": "00827885371675823732"
     },
     "user_tz": -420
    },
    "id": "6OJy2318sqkC"
   },
   "outputs": [],
   "source": []
  },
  {
   "cell_type": "code",
   "execution_count": 116,
   "metadata": {
    "colab": {
     "base_uri": "https://localhost:8080/"
    },
    "collapsed": true,
    "executionInfo": {
     "elapsed": 222781,
     "status": "ok",
     "timestamp": 1734860136285,
     "user": {
      "displayName": "Khải Đặng",
      "userId": "00827885371675823732"
     },
     "user_tz": -420
    },
    "id": "_t5sEGk4sx6E",
    "outputId": "c577c6d1-89af-4751-a05d-8d1c3e7b06b1"
   },
   "outputs": [
    {
     "name": "stdout",
     "output_type": "stream",
     "text": [
      "gpt-4o\n",
      "gpt-4o\n",
      "gpt-4o\n",
      "gpt-4o\n",
      "gpt-4o\n",
      "gpt-4o\n",
      "gpt-4o\n",
      "gpt-4o\n",
      "gpt-4o\n",
      "gpt-4o\n",
      "gpt-4o\n",
      "gpt-4o\n",
      "gpt-4o\n",
      "gpt-4o\n",
      "gpt-4o\n",
      "gpt-4o\n",
      "gpt-4o\n",
      "gpt-4o\n",
      "gpt-4o\n",
      "gpt-4o\n",
      "gpt-4o\n",
      "gpt-4o\n",
      "gpt-4o\n",
      "gpt-4o\n",
      "gpt-4o\n",
      "gpt-4o\n",
      "gpt-4o\n",
      "gpt-4o\n"
     ]
    }
   ],
   "source": [
    "for i in TULUAN_HYBRID:\n",
    "    q = i['q']\n",
    "\n",
    "    res = get_completion(q, model = 'gpt-4o')\n",
    "\n",
    "    i['baseline'] = res"
   ]
  },
  {
   "cell_type": "code",
   "execution_count": 117,
   "metadata": {
    "colab": {
     "base_uri": "https://localhost:8080/"
    },
    "collapsed": true,
    "executionInfo": {
     "elapsed": 11,
     "status": "ok",
     "timestamp": 1734860145534,
     "user": {
      "displayName": "Khải Đặng",
      "userId": "00827885371675823732"
     },
     "user_tz": -420
    },
    "id": "PKMJHjsktWQQ",
    "outputId": "67069065-1d40-4403-b917-ddbe686ed471"
   },
   "outputs": [
    {
     "data": {
      "text/plain": [
       "{'q': 'Theo Luật hôn nhân và gia đình năm 2014, những nguyên tắc cơ bản của chế độ hôn nhân và gia đình ở nước ta được quy định như thế nào?',\n",
       " 'hybrid': '## Nguyên Tắc Cơ Bản của Chế Độ Hôn Nhân và Gia Đình theo Luật Hôn Nhân và Gia Đình Năm 2014\\n\\nLuật Hôn nhân và Gia đình năm 2014, có hiệu lực từ ngày 01/01/2015, đã quy định một cách rõ ràng các nguyên tắc cơ bản trong chế độ hôn nhân và gia đình tại Việt Nam. Những nguyên tắc này không chỉ bảo đảm quyền và nghĩa vụ của các bên trong quan hệ hôn nhân mà còn thể hiện sự bình đẳng và công bằng giữa các thành viên trong gia đình. Dưới đây là một số nguyên tắc cơ bản được quy định trong bộ luật này.\\n\\n### 1. Nguyên Tắc Một Vợ Một Chồng\\n\\nLuật quy định rằng chế độ hôn nhân tại Việt Nam là hôn nhân một vợ một chồng. Điều này nhấn mạnh rằng mỗi người chỉ có thể kết hôn với một người khác tại cùng một thời điểm, nhằm bảo vệ quyền lợi hợp pháp và đạo đức trong quan hệ hôn nhân.\\n\\n### 2. Nguyên Tắc Bình Đẳng Giữa Vợ và Chồng\\n\\nLuật Hôn nhân và Gia đình năm 2014 quy định nguyên tắc bình đẳng giữa vợ và chồng trong mọi lĩnh vực của cuộc sống hôn nhân. Các quyền và nghĩa vụ của hai bên trong quan hệ hôn nhân được xác định là tương đương và ngang bằng, điều này có ý nghĩa quan trọng trong việc bảo vệ sự công bằng.\\n\\n### 3. Quyền và Nghĩa Vụ nuôi dưỡng, chăm sóc và giáo dục trẻ em\\n\\nLuật nhấn mạnh rằng cha mẹ có nghĩa vụ nuôi dưỡng, chăm sóc và giáo dục con cái. Điều này không chỉ mang tính chất pháp lý mà còn thể hiện trách nhiệm của mỗi bậc phụ huynh trong việc đảm bảo quyền sống, quyền học tập và phát triển của trẻ em.\\n\\n### 4. Không Phân Biệt Đối Xử\\n\\nLuật cũng quy định rõ rằng mọi thành viên trong gia đình, không phân biệt giới tính, độ tuổi hay tình trạng sức khỏe, đều có quyền và nghĩa vụ bình đẳng trong quan hệ gia đình. Điều này hướng đến việc đảm bảo sự công bằng và nhân phẩm cho tất cả các thành viên.\\n\\n### 5.  Bảo Vệ Quyền Lợi Hợp Pháp của Mọi Thành Viên\\n\\nLuật Hôn nhân và Gia đình năm 2014 khẳng định rằng mọi hoạt động liên quan đến hôn nhân và gia đình đều phải được tiến hành với sự tôn trọng quyền lợi hợp pháp của tất cả các thành viên. Điều này bao gồm quyền yêu cầu bảo vệ quyền lợi của mình trong các trường hợp xung đột hoặc tranh chấp.\\n\\n### Kết Luận\\n\\nNhìn chung, Luật Hôn nhân và Gia đình năm 2014 đã xây dựng được một khung pháp lý quan trọng nhằm bảo vệ quyền lợi của các bên trong quan hệ hôn nhân và gia đình, đồng thời tạo ra một môi trường pháp lý thuận lợi cho sự phát triển của gia đình trong xã hội hiện đại Việt Nam. Việc thực hiện nguyên tắc bình đẳng và bảo vệ quyền lợi của các thành viên gia đình là điều thiết yếu để xây dựng gia đình hạnh phúc và phát triển bền vững.',\n",
       " 'a': 'Chế độ hôn nhân và gia đình là toàn bộ những quy định của pháp luật về kết hôn, ly hôn; quyền và nghĩa vụ giữa vợ và chồng, giữa cha mẹ và con, giữa các thành viên khác trong gia đình; cấp dưỡng; xác định cha, mẹ, con; quan hệ hôn nhân và gia đình có yếu tố nước ngoài và những vấn đề khác liên quan đến hôn nhân và gia đình (Khoản 3 Điều 3 Luật hôn nhân và gia đình năm 2014).\\nLuật hôn nhân và gia đình năm 2014 tiếp tục kế thừa một số nguyên tắc cơ bản của Luật hôn nhân và gia đình năm 2000, tuy nhiên có sửa đổi, bổ sung điểm mới cho phù hợp với thực tiễn hiện nay nhằm bảo vệ và phát huy hiệu quả của hôn nhân và gia đình Việt Nam bền vững trong giai đoạn mới.\\nTheo đó, tại Điều 2 Luật hôn nhân và gia đình năm 2014 thì những nguyên tắc cơ bản của chế độ hôn nhân và gia đình được quy định như sau:\\na. Hôn nhân tự nguyện, tiến bộ, một vợ một chồng, vợ chồng bình đẳng.\\nb. Hôn nhân giữa công dân Việt Nam thuộc các dân tộc, tôn giáo, giữa người theo tôn giáo với người không theo tôn giáo, giữa người có tín ngưỡng với người không có tín ngưỡng, giữa công dân Việt Nam với người nước ngoài được tôn trọng và được pháp luật bảo vệ.\\nc. Xây dựng gia đình ấm no, tiến bộ, hạnh phúc; các thành viên gia đình có nghĩa vụ tôn trọng, quan tâm, chăm sóc, giúp đỡ nhau; không phân biệt đối xử giữa các con.\\nd. Nhà nước, xã hội và gia đình có trách nhiệm bảo vệ, hỗ trợ trẻ em, người cao tuổi, người khuyết tật thực hiện các quyền về hôn nhân và gia đình; giúp đỡ các bà mẹ thực hiện tốt chức năng cao quý của người mẹ; thực hiện kế hoạch hóa gia đình.\\nđ. Kế thừa, phát huy truyền thống văn hóa, đạo đức tốt đẹp của dân tộc Việt Nam về hôn nhân và gia đình.',\n",
       " 'baseline': 'Theo Luật Hôn nhân và Gia đình năm 2014 của Việt Nam, những nguyên tắc cơ bản của chế độ hôn nhân và gia đình được quy định như sau:\\n\\n1. **Tự nguyện, tiến bộ, một vợ một chồng, vợ chồng bình đẳng**: Hôn nhân phải dựa trên sự tự nguyện của cả hai bên, không ai được ép buộc, lừa dối. Mối quan hệ vợ chồng phải bình đẳng, tôn trọng lẫn nhau.\\n\\n2. **Bảo vệ quyền lợi của phụ nữ và trẻ em**: Luật nhấn mạnh việc bảo vệ quyền lợi hợp pháp của phụ nữ và trẻ em trong gia đình, đảm bảo cho họ có điều kiện phát triển toàn diện.\\n\\n3. **Bảo vệ chế độ hôn nhân và gia đình**: Nhà nước và xã hội có trách nhiệm bảo vệ chế độ hôn nhân và gia đình, ngăn chặn các hành vi xâm phạm đến chế độ này.\\n\\n4. **Kế thừa và phát huy truyền thống văn hóa tốt đẹp của dân tộc**: Luật khuyến khích việc kế thừa và phát huy các giá trị văn hóa, đạo đức tốt đẹp của dân tộc trong hôn nhân và gia đình.\\n\\n5. **Bình đẳng giới**: Đảm bảo bình đẳng giới trong hôn nhân và gia đình, không phân biệt đối xử dựa trên giới tính.\\n\\n6. **Tôn trọng quyền tự do tín ngưỡng, tôn giáo**: Mọi người có quyền tự do tín ngưỡng, tôn giáo trong hôn nhân và gia đình, miễn là không vi phạm pháp luật và đạo đức xã hội.\\n\\nNhững nguyên tắc này nhằm xây dựng một chế độ hôn nhân và gia đình tiến bộ, văn minh, phù hợp với sự phát triển của xã hội và bảo vệ quyền lợi của các thành viên trong gia đình.'}"
      ]
     },
     "execution_count": 117,
     "metadata": {},
     "output_type": "execute_result"
    }
   ],
   "source": [
    "TULUAN_HYBRID[0]"
   ]
  },
  {
   "cell_type": "code",
   "execution_count": 127,
   "metadata": {
    "executionInfo": {
     "elapsed": 410,
     "status": "ok",
     "timestamp": 1734860466343,
     "user": {
      "displayName": "Khải Đặng",
      "userId": "00827885371675823732"
     },
     "user_tz": -420
    },
    "id": "PhzlJxuMtWTP"
   },
   "outputs": [],
   "source": [
    "TULUAN_GPT = []"
   ]
  },
  {
   "cell_type": "code",
   "execution_count": 128,
   "metadata": {
    "colab": {
     "base_uri": "https://localhost:8080/"
    },
    "collapsed": true,
    "executionInfo": {
     "elapsed": 182299,
     "status": "ok",
     "timestamp": 1734860654157,
     "user": {
      "displayName": "Khải Đặng",
      "userId": "00827885371675823732"
     },
     "user_tz": -420
    },
    "id": "hN1DFD9FtWWJ",
    "outputId": "5018d8a3-0edb-4922-c7e3-a8b807505da8"
   },
   "outputs": [
    {
     "name": "stdout",
     "output_type": "stream",
     "text": [
      "attempt : 0\n",
      "gpt-4o-mini\n",
      "Định dạng JSON hợp lệ!\n",
      "{'sga': ['Chế độ hôn nhân và gia đình', 'quy định của pháp luật', 'kết hôn, ly hôn', 'quyền và nghĩa vụ giữa vợ và chồng', 'giữa cha mẹ và con', 'cấp dưỡng', 'xác định cha, mẹ, con', 'quan hệ hôn nhân và gia đình có yếu tố nước ngoài', 'nguyên tắc cơ bản', 'hôn nhân tự nguyện, tiến bộ, một vợ một chồng, vợ chồng bình đẳng', 'bảo vệ quyền lợi của phụ nữ và trẻ em', 'trách nhiệm bảo vệ, hỗ trợ trẻ em, người cao tuổi, người khuyết tật', 'kế thừa, phát huy truyền thống văn hóa, đạo đức tốt đẹp'], 'anwser': ['Tự nguyện, tiến bộ, một vợ một chồng, vợ chồng bình đẳng', 'Bảo vệ quyền lợi của phụ nữ và trẻ em', 'Bảo vệ chế độ hôn nhân và gia đình', 'Kế thừa và phát huy truyền thống văn hóa tốt đẹp của dân tộc', 'Bình đẳng giới', 'Tôn trọng quyền tự do tín ngưỡng, tôn giáo'], 'Explain': \"Câu trả lời của sinh viên đã trích xuất được nhiều từ khóa và thông tin quan trọng từ đáp án đúng, nhưng vẫn thiếu một số nội dung quan trọng như 'cấp dưỡng', 'xác định cha, mẹ, con', và 'quan hệ hôn nhân và gia đình có yếu tố nước ngoài'. Ngoài ra, một số nguyên tắc như 'trách nhiệm bảo vệ, hỗ trợ trẻ em, người cao tuổi, người khuyết tật' cũng không được đề cập. Mặc dù có một số thông tin đúng và liên quan, nhưng vẫn còn thiếu sót và không đầy đủ so với đáp án chuẩn.\", 'Score': '7'}\n",
      "attempt : 0\n",
      "gpt-4o-mini\n",
      "Định dạng JSON hợp lệ!\n",
      "{'sga': ['Điều 5 Luật hôn nhân và gia đình năm 2014', 'Kết hôn giả tạo', 'ly hôn giả tạo', 'Tảo hôn', 'cưỡng ép kết hôn', 'lừa dối kết hôn', 'cản trở kết hôn', 'Người đang có vợ, có chồng mà kết hôn hoặc chung sống như vợ chồng với người khác', 'Kết hôn hoặc chung sống như vợ chồng giữa những người cùng dòng máu về trực hệ', 'giữa những người có họ trong phạm vi ba đời', 'giữa cha, mẹ nuôi với con nuôi', 'giữa người đã từng là cha, mẹ nuôi với con nuôi', 'cha chồng với con dâu', 'mẹ vợ với con rể', 'cha dượng với con riêng của vợ', 'mẹ kế với con riêng của chồng', 'Yêu sách của cải trong kết hôn', 'cưỡng ép ly hôn', 'lừa dối ly hôn', 'cản trở ly hôn', 'thực hiện sinh con bằng kỹ thuật hỗ trợ sinh sản vì mục đích thương mại', 'mang thai hộ vì mục đích thương mại', 'lựa chọn giới tính thai nhi', 'sinh sản vô tính', 'bạo lực gia đình', 'lợi dụng việc thực hiện quyền về hôn nhân và gia đình để mua bán người', 'bóc lột sức lao động', 'xâm phạm tình dục', 'trục lợi'], 'anwser': ['Kết hôn giả tạo', 'Tảo hôn', 'cưỡng ép kết hôn', 'lừa dối kết hôn', 'cản trở kết hôn', 'Đang có vợ, có chồng mà kết hôn hoặc chung sống như vợ chồng với người khác', 'Kết hôn hoặc chung sống như vợ chồng giữa những người có quan hệ huyết thống hoặc quan hệ họ hàng trong phạm vi ba đời', 'Lợi dụng việc thực hiện quyền về hôn nhân và gia đình để mua bán người', 'bóc lột sức lao động', 'xâm phạm tình dục'], 'Explain': 'Câu trả lời của sinh viên đã trích xuất được nhiều từ khóa và thông tin quan trọng từ đáp án đúng, bao gồm các hành vi bị cấm như kết hôn giả tạo, tảo hôn, cưỡng ép kết hôn, và các quy định liên quan đến quan hệ huyết thống. Tuy nhiên, một số thông tin quan trọng như ly hôn giả tạo, yêu sách của cải trong kết hôn, và các hành vi vi phạm khác không được đề cập. Do đó, mặc dù câu trả lời có nhiều thông tin đúng, nhưng vẫn thiếu sót một số nội dung quan trọng.', 'Score': '8'}\n",
      "attempt : 0\n",
      "gpt-4o-mini\n",
      "Định dạng JSON hợp lệ!\n",
      "{'sga': ['tập quán về hôn nhân và gia đình', 'quy tắc xử sự', 'quyền, nghĩa vụ của các bên', 'không trái với nguyên tắc quy định tại Điều 2', 'không vi phạm điều cấm của Luật', 'thách cưới là phong tục, tập quán lạc hậu', 'bị nghiêm cấm', 'Nghị định số 32/2002/NĐ-CP', 'xóa bỏ phong tục tập quán lạc hậu'], 'anwser': ['áp dụng tập quán về hôn nhân và gia đình', 'tuân thủ theo quy định của pháp luật Việt Nam', 'không vi phạm các nguyên tắc cơ bản', 'không trái với đạo đức xã hội', 'không xâm phạm đến quyền và lợi ích hợp pháp', 'thách cưới với yêu cầu cao mang tính chất gả bán', 'vi phạm pháp luật', 'áp lực tài chính quá lớn', 'không cho phép việc mua bán người', 'không được phép trở thành điều kiện bắt buộc'], 'Explain': \"Câu trả lời của sinh viên đã đề cập đến một số khía cạnh quan trọng liên quan đến việc áp dụng tập quán về hôn nhân và gia đình, như việc tuân thủ quy định pháp luật và không vi phạm các nguyên tắc cơ bản. Tuy nhiên, sinh viên chưa đề cập đến khái niệm 'tập quán' một cách rõ ràng và không nhấn mạnh rằng thách cưới là phong tục lạc hậu bị nghiêm cấm theo quy định của Nghị định số 32/2002/NĐ-CP. Mặc dù có nhiều thông tin đúng, nhưng một số thông tin quan trọng vẫn thiếu, như việc thách cưới bị coi là vi phạm đạo đức xã hội và quyền con người. Do đó, câu trả lời này có khoảng 60-70% thông tin đúng, nhưng vẫn còn thiếu sót.\", 'Score': '7'}\n",
      "attempt : 0\n",
      "gpt-4o-mini\n",
      "Định dạng JSON hợp lệ!\n",
      "{'sga': ['Điều 8 Luật hôn nhân và gia đình năm 2014', 'Nam từ đủ 20 tuổi trở lên, nữ từ đủ 18 tuổi trở lên', 'Việc kết hôn do nam và nữ tự nguyện quyết định', 'Không bị mất năng lực hành vi dân sự', 'Cấm kết hôn giả tạo, ly hôn giả tạo', 'Cấm tảo hôn, cưỡng ép kết hôn', 'M chưa đủ 17 tuổi', 'Việc bố mẹ ép M kết hôn là không đúng pháp luật'], 'anwser': ['Luật Hôn nhân và Gia đình năm 2014', 'Nam từ đủ 20 tuổi, nữ từ đủ 18 tuổi', 'Việc kết hôn phải do nam và nữ tự nguyện quyết định', 'M hiện chưa đủ 18 tuổi', 'Việc bố mẹ M ép M cưới anh S là không đúng theo quy định pháp luật'], 'Explain': 'Câu trả lời của sinh viên đã trích xuất được nhiều từ khóa và thông tin quan trọng từ đáp án đúng. Cụ thể, sinh viên đã nêu rõ các điều kiện kết hôn theo Luật Hôn nhân và Gia đình năm 2014, bao gồm độ tuổi tối thiểu và nguyên tắc tự nguyện trong việc kết hôn. Sinh viên cũng đã chỉ ra rằng M chưa đủ tuổi kết hôn và việc ép buộc kết hôn là vi phạm pháp luật. Tuy nhiên, câu trả lời thiếu một số thông tin chi tiết về các trường hợp cấm kết hôn và không đề cập đến việc không bị mất năng lực hành vi dân sự. Dù vậy, thông tin chính vẫn được truyền đạt rõ ràng và chính xác.', 'Score': '8'}\n",
      "attempt : 0\n",
      "gpt-4o-mini\n",
      "Định dạng JSON hợp lệ!\n",
      "{'sga': ['Kết hôn trái pháp luật', 'nam, nữ đã đăng ký kết hôn', 'vi phạm điều kiện kết hôn', 'Điều 8 của Luật hôn nhân và gia đình', 'Tòa án thực hiện theo quy định tại Luật hôn nhân và gia đình', 'pháp luật về tố tụng dân sự', 'hủy việc kết hôn trái pháp luật', 'công nhận quan hệ hôn nhân', 'quyết định của Tòa án', 'gửi cho cơ quan đã thực hiện việc đăng ký kết hôn'], 'anwser': ['xử lý kết hôn trái pháp luật', 'Luật Hôn nhân và Gia đình năm 2014', 'vi phạm các điều kiện kết hôn', 'Nam từ đủ 20 tuổi, nữ từ đủ 18 tuổi', 'tự nguyện quyết định', 'không bị mất năng lực hành vi dân sự', 'không thuộc các trường hợp cấm kết hôn', 'cơ quan có thẩm quyền yêu cầu hủy bỏ', 'tòa án nhân dân', 'hậu quả pháp lý', 'quyền và nghĩa vụ đối với con cái', 'tài sản chung'], 'Explain': 'Câu trả lời của sinh viên đã đề cập đến nhiều khía cạnh quan trọng liên quan đến kết hôn trái pháp luật, bao gồm định nghĩa, điều kiện kết hôn và quy trình xử lý. Tuy nhiên, câu trả lời thiếu một số thông tin quan trọng từ đáp án đúng như việc Tòa án công nhận quan hệ hôn nhân nếu đủ điều kiện và cách thức gửi quyết định của Tòa án cho cơ quan đăng ký kết hôn. Mặc dù có nhiều thông tin đúng, nhưng một số thông tin không hoàn toàn chính xác hoặc thiếu sót, dẫn đến việc không đạt được 100% thông tin từ đáp án đúng.', 'Score': '7'}\n",
      "attempt : 0\n",
      "gpt-4o-mini\n",
      "Định dạng JSON hợp lệ!\n",
      "{'sga': ['Điều 12 Luật hôn nhân và gia đình năm 2014', 'hủy kết hôn trái pháp luật', 'chấm dứt quan hệ như vợ chồng', 'quyền, nghĩa vụ của cha, mẹ, con', 'giải quyết theo quy định về quyền, nghĩa vụ của cha, mẹ, con khi ly hôn', 'quan hệ tài sản, nghĩa vụ và hợp đồng', 'thỏa thuận giữa các bên', 'Bộ luật dân sự', 'quyền, lợi ích hợp pháp của phụ nữ và con', 'công việc nội trợ và công việc khác có liên quan'], 'anwser': ['Luật Hôn nhân và Gia đình', 'cuộc hôn nhân bị tuyên bố là vô hiệu', 'quan hệ hôn nhân bị coi là vô hiệu', 'không có quyền và nghĩa vụ của vợ chồng', 'bồi thường thiệt hại', 'con chung', 'quyền và nghĩa vụ đối với con cái', 'tài sản chung', 'thỏa thuận của các bên', 'chia tài sản chung của vợ chồng khi ly hôn'], 'Explain': \"Câu trả lời của sinh viên đã trích xuất được nhiều từ khóa và thông tin quan trọng liên quan đến quy định pháp luật về hủy kết hôn trái pháp luật, quyền và nghĩa vụ của các bên, cũng như cách giải quyết tài sản và con cái. Tuy nhiên, một số thông tin như việc áp dụng Điều 12 Luật hôn nhân và gia đình năm 2014 không được đề cập, và một số thuật ngữ như 'hủy kết hôn trái pháp luật' cũng không được sử dụng. Mặc dù vậy, thông tin về quyền lợi của phụ nữ và con cái được đề cập khá đầy đủ. Tổng thể, câu trả lời đã đạt khoảng 70% thông tin chính xác và liên quan.\", 'Score': '7'}\n",
      "attempt : 0\n",
      "gpt-4o-mini\n",
      "Định dạng JSON hợp lệ!\n",
      "{'sga': ['quyền tự do tín ngưỡng, tôn giáo', 'Hiến pháp', 'Luật hôn nhân và gia đình năm 2014', 'Điều 22', 'vợ, chồng có nghĩa vụ tôn trọng quyền tự do tín ngưỡng, tôn giáo của nhau', 'ép buộc', 'giải thích, thuyết phục', 'giúp đỡ của những người có uy tín', 'chính quyền, đoàn thể'], 'anwser': ['quyền tự do tín ngưỡng, tôn giáo', 'Hiến pháp năm 2013', 'Điều 24, khoản 1', 'ép buộc', 'không cho phép', 'quyền từ chối', 'các cơ quan chức năng', 'tổ chức bảo vệ quyền con người'], 'Explain': 'Câu trả lời của sinh viên đã đề cập đến quyền tự do tín ngưỡng, tôn giáo, điều này là rất quan trọng và phù hợp với nội dung của đáp án đúng. Tuy nhiên, sinh viên đã trích dẫn Hiến pháp năm 2013 và Điều 24, trong khi đáp án đúng nhấn mạnh vào Luật hôn nhân và gia đình năm 2014 và Điều 22. Mặc dù thông tin về việc ép buộc và quyền từ chối được đề cập, nhưng sinh viên không nhấn mạnh đến nghĩa vụ tôn trọng quyền tự do tín ngưỡng của vợ chồng như trong đáp án đúng. Tổng thể, câu trả lời của sinh viên có khoảng 60-70% thông tin đúng, nhưng thiếu một số chi tiết quan trọng và có sự khác biệt trong việc trích dẫn các văn bản pháp luật.', 'Score': '7'}\n",
      "attempt : 0\n",
      "gpt-4o-mini\n",
      "Định dạng JSON hợp lệ!\n",
      "{'sga': ['Điều 25 Luật hôn nhân và gia đình năm 2014', 'vợ chồng kinh doanh chung', 'người đại diện hợp pháp', 'thỏa thuận khác', 'Điều 36 Luật hôn nhân và gia đình năm 2014', 'quyền tự mình thực hiện giao dịch', 'tài sản chung', 'thỏa thuận lập thành văn bản', 'Điều 27 Luật hôn nhân và gia đình', 'chị H chịu trách nhiệm liên đới'], 'anwser': ['đại diện hợp pháp', 'thỏa thuận giữa hai vợ chồng', 'quyền và nghĩa vụ ngang nhau', 'thỏa thuận về tài sản chung', 'quyền thực hiện các giao dịch', 'sự đồng ý của cả hai vợ chồng', 'chị H cũng có thể phải chịu trách nhiệm liên đới'], 'Explain': \"Câu trả lời của sinh viên đã đề cập đến nhiều khái niệm quan trọng như 'đại diện hợp pháp', 'thỏa thuận giữa hai vợ chồng', và 'trách nhiệm liên đới', tuy nhiên, một số thông tin quan trọng từ đáp án đúng không được nêu rõ. Cụ thể, sinh viên không đề cập đến các điều khoản cụ thể trong Luật hôn nhân và gia đình năm 2014, như Điều 25, Điều 36 và Điều 27, mà là những điều khoản quan trọng để xác định quyền và nghĩa vụ của các bên. Mặc dù sinh viên đã đưa ra một số thông tin đúng, nhưng thiếu sót trong việc trích dẫn các điều luật cụ thể làm giảm độ chính xác của câu trả lời.\", 'Score': '6'}\n",
      "attempt : 0\n",
      "gpt-4o-mini\n",
      "Định dạng JSON hợp lệ!\n",
      "{'sga': ['vợ chồng chịu trách nhiệm liên đới', 'giao dịch do một bên thực hiện', 'nhu cầu thiết yếu của gia đình', 'đồng ý của cả hai vợ chồng', 'vợ chồng kinh doanh chung', 'đại diện giữa vợ và chồng', 'nghĩa vụ chung đối với tài sản', 'nghĩa vụ phát sinh từ giao dịch', 'nghĩa vụ bồi thường thiệt hại', 'nghĩa vụ do vợ hoặc chồng thực hiện', 'chiếm hữu, sử dụng, định đoạt tài sản chung', 'sử dụng tài sản riêng để duy trì tài sản chung', 'nghĩa vụ bồi thường thiệt hại do con gây ra'], 'anwser': ['vợ chồng chịu trách nhiệm liên đới', 'nghĩa vụ tài chính chung', 'nhu cầu thiết yếu của gia đình', 'giao dịch liên quan đến tài sản chung', 'nghĩa vụ bồi thường thiệt hại', 'nghĩa vụ nuôi dưỡng và chăm sóc con cái', 'các nghĩa vụ khác theo thỏa thuận'], 'Explain': \"Câu trả lời của sinh viên đã trích xuất được nhiều từ khóa quan trọng liên quan đến trách nhiệm liên đới của vợ chồng, như 'vợ chồng chịu trách nhiệm liên đới', 'nhu cầu thiết yếu của gia đình', 'nghĩa vụ bồi thường thiệt hại', và 'giao dịch liên quan đến tài sản chung'. Tuy nhiên, một số thông tin quan trọng từ đáp án đúng như 'giao dịch do một bên thực hiện', 'đồng ý của cả hai vợ chồng', 'vợ chồng kinh doanh chung', và các nghĩa vụ cụ thể khác không được đề cập. Do đó, mặc dù câu trả lời có nhiều thông tin đúng, nhưng vẫn thiếu sót một số điểm quan trọng.\", 'Score': '7'}\n",
      "attempt : 0\n",
      "gpt-4o-mini\n",
      "Định dạng JSON hợp lệ!\n",
      "{'sga': ['quyền quyết định tài sản chung', 'không đúng', 'nguyên tắc chung về chế độ tài sản của vợ chồng', 'Điều 29 Luật hôn nhân và gia đình năm 2014', 'vợ, chồng bình đẳng', 'quyền, nghĩa vụ trong việc tạo lập, chiếm hữu, sử dụng, định đoạt tài sản chung', 'không phân biệt giữa lao động trong gia đình và lao động có thu nhập', 'bảo đảm điều kiện để đáp ứng nhu cầu thiết yếu của gia đình', 'bồi thường'], 'anwser': ['tài sản chung của vợ chồng', 'quyền và nghĩa vụ ngang nhau', 'chiếm hữu, sử dụng và định đoạt tài sản chung', 'cả anh A và chị T đều có quyền bình đẳng', 'không đúng theo quy định của pháp luật', 'thỏa thuận và đồng thuận của cả hai vợ chồng'], 'Explain': 'Câu trả lời của sinh viên đã trích xuất được nhiều từ khóa và thông tin quan trọng liên quan đến quyền và nghĩa vụ của vợ chồng trong việc quản lý tài sản chung. Tuy nhiên, một số thông tin quan trọng từ đáp án đúng như quy định cụ thể tại Điều 29 Luật hôn nhân và gia đình năm 2014, cũng như các nguyên tắc về bình đẳng và nghĩa vụ bảo đảm nhu cầu thiết yếu của gia đình chưa được đề cập. Mặc dù câu trả lời đã nêu rõ rằng việc anh A tự quyết định là không đúng, nhưng thiếu đi các chi tiết cụ thể về quy định pháp luật và các nghĩa vụ liên quan. Do đó, câu trả lời đạt khoảng 70% thông tin chính xác và đầy đủ, nhưng vẫn còn thiếu sót.', 'Score': '7'}\n",
      "attempt : 0\n",
      "gpt-4o-mini\n",
      "Định dạng JSON hợp lệ!\n",
      "{'sga': ['Điều 31 Luật hôn nhân và gia đình năm 2014', 'ngôi nhà là nơi ở duy nhất của vợ chồng', 'tài sản chung của vợ chồng', 'thỏa thuận của vợ chồng', 'sở hữu riêng của anh T', 'quyền xác lập, thực hiện, chấm dứt giao dịch', 'bảo đảm chỗ ở cho vợ và các con'], 'anwser': ['Luật Hôn nhân và Gia đình', 'tài sản được tặng cho riêng', 'tài sản riêng của người được tặng cho', 'thỏa thuận khác giữa hai vợ chồng', 'ngôi nhà là nơi ở duy nhất của vợ chồng', 'các giao dịch liên quan đến ngôi nhà', 'sự đồng ý của cả hai vợ chồng', 'bảo vệ quyền lợi về chỗ ở của cả hai vợ chồng'], 'Explain': \"Câu trả lời của sinh viên đã trích xuất được nhiều từ khóa quan trọng từ đáp án đúng, như 'Luật Hôn nhân và Gia đình', 'ngôi nhà là nơi ở duy nhất của vợ chồng', và 'thỏa thuận giữa hai vợ chồng'. Tuy nhiên, câu trả lời chưa đề cập đến Điều 31 Luật hôn nhân và gia đình năm 2014, và không nhấn mạnh rõ ràng về quyền xác lập, thực hiện, chấm dứt giao dịch của anh T cũng như việc bảo đảm chỗ ở cho vợ và con. Mặc dù có nhiều thông tin đúng, nhưng vẫn còn thiếu sót và một số thông tin không hoàn toàn chính xác hoặc không đầy đủ. Do đó, điểm số sẽ nằm trong khoảng 6-7.\", 'Score': '7'}\n",
      "attempt : 0\n",
      "gpt-4o-mini\n",
      "Định dạng JSON hợp lệ!\n",
      "{'sga': ['tài sản chung của vợ chồng', 'tài sản do vợ, chồng tạo ra', 'thu nhập do lao động, hoạt động sản xuất, kinh doanh', 'hoa lợi, lợi tức phát sinh từ tài sản riêng', 'thu nhập hợp pháp khác trong thời kỳ hôn nhân', 'tài sản mà vợ chồng được thừa kế chung', 'tài sản được tặng cho chung', 'quyền sử dụng đất', 'sở hữu chung hợp nhất', 'bảo đảm nhu cầu của gia đình', 'thực hiện nghĩa vụ chung của vợ chồng', 'không có căn cứ chứng minh tài sản riêng', 'thỏa thuận bằng văn bản', 'bất động sản', 'động sản phải đăng ký quyền sở hữu', 'tài sản tạo ra thu nhập chủ yếu của gia đình'], 'anwser': ['tài sản chung của vợ chồng', 'tài sản được tạo ra', 'thu nhập từ lao động, hoạt động sản xuất, kinh doanh', 'nguồn thu nhập hợp pháp khác trong thời kỳ hôn nhân', 'tài sản mà vợ chồng được thừa kế chung', 'tài sản được tặng cho chung', 'không có căn cứ chứng minh tài sản riêng', 'thỏa thuận giữa hai bên', 'quyền và nghĩa vụ ngang nhau', 'đồng ý của cả hai vợ chồng'], 'Explain': 'Câu trả lời của sinh viên đã trích xuất được nhiều từ khóa và thông tin quan trọng từ đáp án đúng, như tài sản chung của vợ chồng, các loại tài sản được coi là tài sản chung, và quy định về việc chiếm hữu, sử dụng, định đoạt tài sản chung. Tuy nhiên, một số thông tin quan trọng như quyền sử dụng đất, sở hữu chung hợp nhất, và các điều kiện cụ thể về thỏa thuận bằng văn bản trong việc định đoạt tài sản chung chưa được đề cập. Do đó, mặc dù câu trả lời có nhiều thông tin đúng, nhưng vẫn thiếu một số chi tiết quan trọng, dẫn đến việc đánh giá ở mức độ 8-9 điểm.', 'Score': '8'}\n",
      "attempt : 0\n",
      "gpt-4o-mini\n",
      "Định dạng JSON hợp lệ!\n",
      "{'sga': ['quyền lựa chọn chế độ tài sản theo thỏa thuận', 'thỏa thuận xác lập chế độ tài sản phải được lập trước khi kết hôn', 'hình thức văn bản có công chứng hoặc chứng thực', 'nội dung cơ bản của thỏa thuận về chế độ tài sản', 'tài sản chung, tài sản riêng', 'quyền, nghĩa vụ của vợ chồng', 'nguyên tắc phân chia tài sản khi chấm dứt chế độ tài sản'], 'anwser': ['quyền yêu cầu một bản thỏa thuận rõ ràng về chế độ tài sản', 'pháp luật cho phép các cặp đôi thỏa thuận về chế độ tài sản', 'quyền lựa chọn áp dụng chế độ tài sản theo luật định hoặc theo thỏa thuận', 'lập văn bản thỏa thuận trước khi kết hôn', 'văn bản phải được công chứng hoặc chứng thực', 'nội dung của thỏa thuận có thể bao gồm tài sản chung, tài sản riêng', 'quyền và nghĩa vụ tài chính của mỗi bên', 'phân chia tài sản trong trường hợp ly hôn'], 'Explain': 'Câu trả lời của sinh viên đã trích xuất được nhiều từ khóa và thông tin quan trọng từ đáp án đúng. Cụ thể, sinh viên đã đề cập đến quyền yêu cầu thỏa thuận về chế độ tài sản, quy định về việc lập văn bản thỏa thuận trước khi kết hôn, và yêu cầu công chứng hoặc chứng thực. Tuy nhiên, một số thông tin như nguyên tắc phân chia tài sản khi chấm dứt chế độ tài sản và các quy định cụ thể khác trong Luật Hôn nhân và Gia đình năm 2014 chưa được đề cập. Do đó, mặc dù câu trả lời có nhiều thông tin chính xác, nhưng vẫn thiếu một số nội dung quan trọng từ đáp án đúng.', 'Score': '8'}\n",
      "attempt : 0\n",
      "gpt-4o-mini\n",
      "Định dạng JSON hợp lệ!\n",
      "{'sga': ['quyền yêu cầu giải quyết ly hôn', 'vợ, chồng có quyền yêu cầu Tòa án giải quyết ly hôn', 'chồng không có quyền yêu cầu ly hôn khi vợ đang có thai', 'tình trạng hôn nhân trầm trọng', 'đời sống chung không thể kéo dài', 'mục đích của hôn nhân không đạt được'], 'anwser': ['quyền yêu cầu ly hôn', 'bạn có quyền yêu cầu ly hôn ngay cả khi đang mang thai', 'chồng bạn không có quyền yêu cầu ly hôn', 'cần chuẩn bị các giấy tờ cần thiết', 'quyền nuôi con', 'tư vấn pháp lý'], 'Explain': 'Câu trả lời của sinh viên đã trích xuất một số từ khóa và thông tin quan trọng liên quan đến quyền yêu cầu ly hôn, tuy nhiên, thông tin về quyền yêu cầu ly hôn của vợ trong trường hợp mang thai chưa được nhấn mạnh rõ ràng. Câu trả lời cũng đề cập đến các thủ tục ly hôn và quyền lợi của con cái, nhưng không đề cập đến tình trạng hôn nhân trầm trọng và mục đích của hôn nhân không đạt được, điều này là rất quan trọng trong bối cảnh câu hỏi. Tổng thể, khoảng 60% thông tin quan trọng từ đáp án đúng đã được đề cập, nhưng vẫn còn thiếu sót.', 'Score': '7'}\n",
      "attempt : 0\n",
      "gpt-4o-mini\n",
      "Định dạng JSON hợp lệ!\n",
      "{'sga': ['Điều 59 Luật hôn nhân và gia đình năm 2014', 'thỏa thuận', 'Tòa án giải quyết', 'tài sản chung', 'chia đôi', 'hoàn cảnh gia đình', 'công sức đóng góp', 'lợi ích chính đáng', 'lỗi của mỗi bên', 'tài sản riêng', 'quyền sở hữu', 'bảo vệ quyền lợi của vợ, con chưa thành niên'], 'anwser': ['giải quyết tài sản', 'thỏa thuận giữa các bên', 'tòa án sẽ công nhận', 'nguyên tắc bình đẳng', 'tài sản chung', 'công sức đóng góp', 'hoàn cảnh gia đình', 'bảo vệ quyền lợi của phụ nữ và trẻ em', 'tài sản riêng', 'trách nhiệm chung về nghĩa vụ tài chính'], 'Explain': 'Câu trả lời của sinh viên đã đề cập đến nhiều nguyên tắc quan trọng trong việc giải quyết tài sản khi ly hôn, như thỏa thuận giữa các bên, nguyên tắc bình đẳng, và bảo vệ quyền lợi của phụ nữ và trẻ em. Tuy nhiên, câu trả lời thiếu cụ thể về các điều khoản trong Luật hôn nhân và gia đình năm 2014, đặc biệt là không nhắc đến Điều 59 và các điều liên quan khác. Một số thông tin như trách nhiệm chung về nghĩa vụ tài chính cũng không được đề cập trong đáp án đúng. Mặc dù có nhiều từ khóa và thông tin quan trọng, nhưng vẫn còn thiếu sót và không đầy đủ so với đáp án đúng.', 'Score': '7'}\n",
      "attempt : 0\n",
      "gpt-4o-mini\n",
      "Định dạng JSON hợp lệ!\n",
      "{'sga': ['Điều 62 Luật hôn nhân và gia đình năm 2014', 'Quyền sử dụng đất là tài sản riêng', 'chia quyền sử dụng đất là tài sản chung', 'đất nông nghiệp trồng cây hàng năm', 'thỏa thuận của hai bên', 'Tòa án giải quyết', 'Điều 59', 'đất nông nghiệp trồng cây lâu năm', 'đất lâm nghiệp', 'đất ở', 'Điều 61'], 'anwser': ['Luật Hôn nhân và Gia đình năm 2014', 'chia tài sản chung của vợ chồng', 'quyền sử dụng đất', 'tài sản chung', 'đất nông nghiệp trồng cây hàng năm', 'thỏa thuận của các bên', 'Tòa án quyết định', 'đất ở', 'thỏa thuận giữa các bên'], 'Explain': 'Câu trả lời của sinh viên đã trích xuất được nhiều từ khóa và thông tin quan trọng liên quan đến quy định của Luật hôn nhân và gia đình năm 2014 về chia quyền sử dụng đất khi ly hôn. Tuy nhiên, một số thông tin quan trọng như các điều khoản cụ thể (Điều 62, Điều 59, Điều 61) không được đề cập, và cách chia quyền sử dụng đất không hoàn toàn chính xác theo quy định của luật. Câu trả lời cũng không nhấn mạnh rõ ràng về việc chia quyền sử dụng đất theo từng loại đất như trong đáp án đúng. Do đó, mặc dù có nhiều thông tin đúng, nhưng vẫn thiếu sót và không đầy đủ.', 'Score': '7'}\n",
      "attempt : 0\n",
      "gpt-4o-mini\n",
      "Định dạng JSON hợp lệ!\n",
      "{'sga': ['Điều 66 Luật hôn nhân và gia đình năm 2014', 'quản lý tài sản chung của vợ chồng', 'chia đôi tài sản chung', 'phần tài sản của vợ, chồng chết', 'chia theo quy định của pháp luật về thừa kế', 'hàng thừa kế thứ nhất', 'vợ, cha đẻ, mẹ đẻ, cha nuôi, mẹ nuôi, con đẻ, con nuôi'], 'anwser': ['Luật Hôn nhân và Gia đình năm 2014', 'tài sản chung của vợ chồng', 'căn nhà được mua trong thời kỳ hôn nhân', 'phần tài sản của anh A sẽ được giải quyết theo pháp luật về thừa kế', 'Bộ luật Dân sự 2015', 'những người thừa kế theo pháp luật', 'hàng thừa kế thứ nhất là vợ, con và cha mẹ', 'gia đình anh A có quyền yêu cầu chia phần tài sản của anh A'], 'Explain': 'Câu trả lời của sinh viên đã đề cập đến nhiều khía cạnh quan trọng của vấn đề, như quy định về tài sản chung của vợ chồng theo Luật Hôn nhân và Gia đình năm 2014 và cách thức chia tài sản thừa kế theo Bộ luật Dân sự 2015. Tuy nhiên, sinh viên không trích dẫn đúng Điều 66 mà thay vào đó là Điều 33, dẫn đến thiếu sót trong việc nêu rõ quy định về quản lý tài sản chung và cách chia tài sản khi một bên chết. Mặc dù có nhiều thông tin đúng, nhưng việc không đề cập đến các quy định cụ thể trong Điều 66 và các chi tiết về quyền yêu cầu chia di sản theo pháp luật đã làm giảm độ chính xác của câu trả lời. Tổng thể, câu trả lời chứa khoảng 60-70% thông tin quan trọng nhưng vẫn có một số thông tin sai lệch.', 'Score': '7'}\n",
      "attempt : 0\n",
      "gpt-4o-mini\n",
      "Định dạng JSON hợp lệ!\n",
      "{'sga': ['Thương yêu con', 'tôn trọng ý kiến của con', 'chăm lo việc học tập, giáo dục', 'phát triển lành mạnh về thể chất, trí tuệ, đạo đức', 'trông nom, nuôi dưỡng, chăm sóc', 'bảo vệ quyền, lợi ích hợp pháp của con chưa thành niên', 'giám hộ hoặc đại diện theo quy định của Bộ luật dân sự', 'không phân biệt đối xử với con', 'không lạm dụng sức lao động của con', 'không xúi giục, ép buộc con làm việc trái pháp luật', 'nghĩa vụ và quyền ngang nhau', 'tạo điều kiện cho con học tập', 'sống trong môi trường gia đình đầm ấm, hòa thuận', 'làm gương tốt cho con', 'phối hợp chặt chẽ với nhà trường', 'hướng dẫn con chọn nghề', 'tôn trọng quyền chọn nghề', 'đề nghị cơ quan, tổ chức hữu quan giúp đỡ'], 'anwser': ['Nghĩa vụ và quyền chăm sóc, nuôi dưỡng con', 'trách nhiệm chăm sóc, nuôi dưỡng con chưa thành niên', 'Nghĩa vụ và quyền giáo dục con', 'trách nhiệm giáo dục con về đạo đức, lối sống, văn hóa và pháp luật', 'Nghĩa vụ và quyền bảo vệ quyền và lợi ích hợp pháp của con', 'đại diện cho con trong các giao dịch dân sự', 'Nghĩa vụ và quyền quản lý tài sản của con', 'quản lý tài sản của con chưa thành niên', 'Nghĩa vụ và quyền tôn trọng ý kiến của con', 'lắng nghe và tôn trọng ý kiến của con'], 'Explain': 'Câu trả lời của sinh viên đã trích xuất được nhiều từ khóa và thông tin quan trọng từ đáp án đúng, như nghĩa vụ và quyền chăm sóc, giáo dục, bảo vệ quyền lợi của con, và tôn trọng ý kiến của con. Tuy nhiên, một số nội dung quan trọng như việc không phân biệt đối xử, không lạm dụng sức lao động, và việc cha mẹ có nghĩa vụ và quyền ngang nhau không được đề cập. Do đó, câu trả lời này chứa khoảng 60-70% thông tin chính xác và đầy đủ, nhưng vẫn thiếu một số điểm quan trọng.', 'Score': '8'}\n",
      "attempt : 0\n",
      "gpt-4o-mini\n",
      "Định dạng JSON hợp lệ!\n",
      "{'sga': ['Cha mẹ đại diện theo pháp luật', 'con chưa thành niên', 'giao dịch nhằm đáp ứng nhu cầu thiết yếu', 'quyền sử dụng đất', 'thỏa thuận của cha mẹ', 'chịu trách nhiệm liên đới', 'Bộ luật dân sự'], 'anwser': ['cha mẹ là người đại diện theo pháp luật của con chưa thành niên', 'việc chuyển nhượng quyền sử dụng đất cần tuân thủ một số quy định pháp luật', 'đảm bảo lợi ích tốt nhất cho con', 'cần sự đồng ý của cả cha và mẹ', 'cần thiết và có lợi cho con', 'có thể cần sự phê duyệt của cơ quan có thẩm quyền', 'Tòa án nhân dân'], 'Explain': 'Câu trả lời của sinh viên đã trích xuất được nhiều từ khóa và thông tin quan trọng từ đáp án đúng, như việc cha mẹ là người đại diện theo pháp luật cho con chưa thành niên và cần đảm bảo lợi ích tốt nhất cho con. Tuy nhiên, sinh viên đã đề cập đến Điều 77 thay vì Điều 73, và có một số thông tin không hoàn toàn chính xác hoặc không liên quan, như việc cần phê duyệt của Tòa án. Mặc dù vậy, thông tin chính vẫn được giữ lại và có sự liên kết với câu hỏi. Tổng thể, câu trả lời có khoảng 60-70% thông tin chính xác và liên quan.', 'Score': '7'}\n",
      "attempt : 0\n",
      "gpt-4o-mini\n",
      "Định dạng JSON hợp lệ!\n",
      "{'sga': ['Điều 76 Luật hôn nhân và gia đình năm 2014', 'quản lý tài sản riêng của con', 'con từ đủ 15 tuổi', 'cha mẹ quản lý tài sản riêng của con dưới 15 tuổi', 'ủy quyền cho người khác quản lý', 'tài sản riêng của con được giao lại khi con đủ 15 tuổi', 'cha mẹ không quản lý tài sản riêng của con khi có người khác giám hộ', 'di chúc chỉ định người quản lý tài sản'], 'anwser': ['Luật Hôn nhân và Gia đình năm 2014', 'quản lý tài sản riêng của con chưa thành niên', 'cha mẹ là người đại diện theo pháp luật', 'nếu có di chúc hoặc thỏa thuận khác quy định người khác quản lý', 'bố chồng bạn đã để lại di chúc chỉ định mẹ chồng bạn', 'quyền quản lý tài sản thuộc về mẹ chồng bạn', 'vợ chồng bạn không có quyền quản lý ngôi nhà này'], 'Explain': 'Câu trả lời của sinh viên đã trích xuất được nhiều từ khóa và thông tin quan trọng từ đáp án đúng, như quy định về quyền quản lý tài sản của cha mẹ, việc ủy quyền cho người khác quản lý tài sản, và sự ảnh hưởng của di chúc. Tuy nhiên, một số thông tin quan trọng như quy định cụ thể về độ tuổi của con và các trường hợp cha mẹ không quản lý tài sản riêng của con chưa được đề cập rõ ràng. Mặc dù có một số thông tin chính xác, nhưng vẫn thiếu một số chi tiết quan trọng từ đáp án đúng.', 'Score': '7'}\n",
      "attempt : 0\n",
      "gpt-4o-mini\n",
      "Định dạng JSON hợp lệ!\n",
      "{'sga': ['Điều 79 Luật hôn nhân và gia đình năm 2014', 'quyền, nghĩa vụ của bố dượng, mẹ kế và con riêng', 'cha dượng, mẹ kế có quyền và nghĩa vụ trông nom, nuôi dưỡng, chăm sóc, giáo dục con riêng', 'con riêng có quyền và nghĩa vụ chăm sóc, phụng dưỡng cha dượng, mẹ kế', 'Điều 70 và Điều 71 của Luật hôn nhân và gia đình', 'nghĩa vụ chăm sóc, nuôi dưỡng cha mẹ', 'cha mẹ mất năng lực hành vi dân sự, ốm đau, già yếu, khuyết tật', 'các con phải cùng nhau chăm sóc, nuôi dưỡng cha mẹ', 'H phải có nghĩa vụ chăm sóc, nuôi dưỡng ba dượng'], 'anwser': ['Luật Hôn nhân và Gia đình', 'con riêng có nghĩa vụ chăm sóc, nuôi dưỡng cha dượng hoặc mẹ kế', 'quan hệ chăm sóc, nuôi dưỡng như cha con, mẹ con', 'ba dượng đã chăm sóc, nuôi dưỡng H như con ruột', 'H không có nghĩa vụ pháp lý phải chăm sóc, nuôi dưỡng ba dượng', 'trách nhiệm này phụ thuộc vào mối quan hệ thực tế giữa H và ba dượng'], 'Explain': 'Câu trả lời của sinh viên đã trích xuất một số từ khóa và thông tin quan trọng liên quan đến nghĩa vụ chăm sóc, nuôi dưỡng giữa con riêng và ba dượng. Tuy nhiên, câu trả lời thiếu các điều khoản cụ thể từ Luật hôn nhân và gia đình, như Điều 79, Điều 70 và Điều 71, mà trong đáp án đúng đã nêu rõ. Mặc dù sinh viên đã đề cập đến mối quan hệ giữa H và ba dượng, nhưng không đủ thông tin về nghĩa vụ pháp lý và các điều kiện cụ thể theo luật. Do đó, câu trả lời chỉ đạt khoảng 50% thông tin chính xác và đầy đủ.', 'Score': '6'}\n",
      "attempt : 0\n",
      "gpt-4o-mini\n",
      "Định dạng JSON hợp lệ!\n",
      "{'sga': ['Điều 84 Luật hôn nhân và gia đình năm 2014', 'thay đổi người trực tiếp nuôi con', 'yêu cầu của cha, mẹ hoặc cá nhân, cơ quan, tổ chức', 'thỏa thuận về việc thay đổi người trực tiếp nuôi con', 'lợi ích của con', 'người trực tiếp nuôi con không còn đủ điều kiện', 'yêu cầu Tòa án quyết định thay đổi người trực tiếp nuôi con'], 'anwser': ['quyền yêu cầu Tòa án xem xét lại quyền nuôi con', 'căn cứ chứng minh rằng việc thay đổi người nuôi dưỡng sẽ tốt hơn cho con', 'thu thập bằng chứng', 'chứng minh khả năng của bạn', 'nộp đơn lên Tòa án', 'tham gia phiên tòa', 'lợi ích tốt nhất của trẻ'], 'Explain': 'Câu trả lời của sinh viên đã đề cập đến quyền yêu cầu Tòa án xem xét lại quyền nuôi con, điều này phù hợp với nội dung của đáp án đúng. Tuy nhiên, sinh viên không trích dẫn cụ thể các quy định pháp lý như Điều 84 Luật hôn nhân và gia đình năm 2014, mà chỉ nói chung về quyền yêu cầu. Các bước mà sinh viên nêu ra như thu thập bằng chứng, chứng minh khả năng, nộp đơn lên Tòa án và tham gia phiên tòa là hợp lý nhưng thiếu sự liên kết với các căn cứ pháp lý cụ thể. Mặc dù có một số thông tin quan trọng, nhưng thiếu sót trong việc trích dẫn các quy định pháp luật và không đề cập đến các cơ quan có thể yêu cầu Tòa án quyết định, nên điểm số không thể cao hơn.', 'Score': '6'}\n",
      "attempt : 0\n",
      "gpt-4o-mini\n",
      "Định dạng JSON hợp lệ!\n",
      "{'sga': ['Điều 85 Luật hôn nhân và gia đình năm 2014', 'Bị kết án về tội xâm phạm tính mạng, sức khỏe, nhân phẩm, danh dự của con', 'Vi phạm nghiêm trọng nghĩa vụ trông nom, chăm sóc, nuôi dưỡng, giáo dục con', 'Phá tán tài sản của con', 'Có lối sống đồi trụy', 'Xúi giục, ép buộc con làm việc trái pháp luật, trái đạo đức xã hội'], 'anwser': ['quyền của cha, mẹ đối với con chưa thành niên có thể bị hạn chế', 'lạm dụng quyền của cha, mẹ', 'ngược đãi, bạo hành, bóc lột sức lao động', 'không thực hiện nghĩa vụ chăm sóc, giáo dục con', 'lối sống không lành mạnh', 'nghiện ma túy, rượu bia, cờ bạc, mại dâm', 'các trường hợp khác theo quy định của pháp luật', 'quyết định của tòa án'], 'Explain': 'Câu trả lời của sinh viên đã đề cập đến nhiều trường hợp hạn chế quyền của cha, mẹ đối với con chưa thành niên, nhưng không hoàn toàn chính xác so với đáp án đúng. Một số thông tin quan trọng như các tội xâm phạm tính mạng, sức khỏe, nhân phẩm của con và việc phá tán tài sản của con không được nêu rõ. Mặc dù sinh viên đã đề cập đến lạm dụng quyền, không thực hiện nghĩa vụ chăm sóc và lối sống không lành mạnh, nhưng các trường hợp cụ thể theo quy định của pháp luật không được nêu rõ. Tổng thể, câu trả lời có khoảng 60% thông tin đúng nhưng thiếu một số từ khóa quan trọng.', 'Score': '7'}\n",
      "attempt : 0\n",
      "gpt-4o-mini\n",
      "Định dạng JSON hợp lệ!\n",
      "{'sga': ['Điều 86 Luật hôn nhân và gia đình năm 2014', 'hạn chế quyền của cha, mẹ đối với con chưa thành niên', 'người giám hộ của con chưa thành niên', 'người thân thích', 'cơ quan quản lý nhà nước về gia đình', 'cơ quan quản lý nhà nước về trẻ em', 'Hội liên hiệp phụ nữ', 'hành vi vi phạm quy định tại khoản 1 Điều 85', 'phạm tội xâm phạm tính mạng, sức khỏe, nhân phẩm, danh dự của con', 'vi phạm nghiêm trọng nghĩa vụ trông nom, chăm sóc, nuôi dưỡng, giáo dục con', 'báo ngay chính quyền, đoàn thể cơ sở'], 'anwser': ['quyền yêu cầu cơ quan có thẩm quyền can thiệp', 'báo cáo với cơ quan chức năng', 'thông báo sự việc đến cơ quan công an, Ủy ban nhân dân xã/phường', 'yêu cầu Tòa án hạn chế quyền của cha mẹ', 'hành vi ngược đãi, bạo hành con cái', 'người có quyền lợi và nghĩa vụ liên quan', 'cung cấp thông tin, bằng chứng cho các cơ quan chức năng', 'thu thập bằng chứng', 'bảo vệ trẻ em khỏi bạo hành'], 'Explain': 'Câu trả lời của sinh viên đã trích xuất một số từ khóa và thông tin quan trọng liên quan đến quyền yêu cầu can thiệp của hàng xóm trong trường hợp bạo hành trẻ em. Tuy nhiên, câu trả lời thiếu các quy định cụ thể từ Luật hôn nhân và gia đình, như Điều 86 và các điều khoản liên quan đến quyền hạn chế của cha mẹ. Mặc dù sinh viên đã đề cập đến việc báo cáo và thu thập bằng chứng, nhưng không nêu rõ các đối tượng có quyền yêu cầu Tòa án, như người thân thích và cơ quan quản lý nhà nước. Do đó, thông tin quan trọng trong câu trả lời chỉ đạt khoảng 50% so với đáp án đúng.', 'Score': '6'}\n",
      "attempt : 0\n",
      "gpt-4o-mini\n",
      "Định dạng JSON hợp lệ!\n",
      "{'sga': ['Luật hôn nhân và gia đình năm 2014', 'quyền và nghĩa vụ của bên nhờ mang thai hộ', 'Điều 98', 'khoản 5', 'yêu cầu Tòa án buộc bên mang thai hộ giao con'], 'anwser': ['Thương lượng và Hòa giải', 'kiểm tra lại văn bản thỏa thuận', 'Tư vấn Pháp lý', 'Khởi kiện ra Tòa án', 'Thực hiện Quyết định của Tòa án'], 'Explain': 'Câu trả lời của sinh viên đã đưa ra một số bước cụ thể mà vợ chồng anh A và chị M có thể thực hiện để giải quyết vấn đề, nhưng không đề cập đến quy định pháp luật cụ thể liên quan đến quyền yêu cầu Tòa án buộc bên mang thai hộ giao con như trong đáp án đúng. Mặc dù sinh viên đã nêu ra các bước như thương lượng, kiểm tra thỏa thuận, tư vấn pháp lý và khởi kiện, nhưng thiếu thông tin quan trọng về quyền yêu cầu Tòa án theo Điều 98 của Luật hôn nhân và gia đình năm 2014. Do đó, thông tin quan trọng trong câu trả lời đúng không được phản ánh đầy đủ trong câu trả lời của sinh viên.', 'Score': '5'}\n",
      "attempt : 0\n",
      "gpt-4o-mini\n",
      "Định dạng JSON hợp lệ!\n",
      "{'sga': ['Khoản 3 Điều 102 Luật hôn nhân và gia đình năm 2014', 'Cá nhân, cơ quan, tổ chức có quyền yêu cầu Tòa án xác định cha, mẹ cho con chưa thành niên, con đã thành niên mất năng lực hành vi dân sự', 'Cha, mẹ, con, người giám hộ', 'Cơ quan quản lý nhà nước về gia đình', 'Cơ quan quản lý nhà nước về trẻ em', 'Hội liên hiệp phụ nữ'], 'anwser': ['Các tổ chức và cá nhân có quyền yêu cầu xác định cha, mẹ cho con chưa thành niên hoặc con đã thành niên mất năng lực hành vi dân sự', 'Người giám hộ', 'Người đại diện theo pháp luật', 'Cơ quan, tổ chức có thẩm quyền', 'Chính bản thân người có quyền lợi liên quan'], 'Explain': 'Câu trả lời của sinh viên đã nêu ra một số tổ chức và cá nhân có quyền yêu cầu xác định cha, mẹ cho con chưa thành niên và con đã thành niên mất năng lực hành vi dân sự. Tuy nhiên, câu trả lời thiếu thông tin cụ thể về các cơ quan và tổ chức theo quy định của Luật hôn nhân và gia đình năm 2014, như cơ quan quản lý nhà nước về gia đình, trẻ em và Hội liên hiệp phụ nữ. Mặc dù có một số từ khóa quan trọng được đề cập, nhưng thông tin không đầy đủ và thiếu chính xác về các quy định cụ thể trong luật. Do đó, câu trả lời chỉ đạt khoảng 50% thông tin quan trọng của đáp án đúng.', 'Score': '6'}\n",
      "attempt : 0\n",
      "gpt-4o-mini\n",
      "Định dạng JSON hợp lệ!\n",
      "{'sga': ['Nghĩa vụ cấp dưỡng', 'cha, mẹ và con', 'anh, chị, em', 'ông bà nội, ông bà ngoại và cháu', 'cô, dì, chú, cậu, bác ruột và cháu ruột', 'vợ và chồng', 'Điều 110', 'Điều 111', 'Điều 112', 'Điều 113', 'Điều 114', 'Điều 115', 'không thể thay thế bằng nghĩa vụ khác', 'không thể chuyển giao cho người khác'], 'anwser': ['Nghĩa vụ cấp dưỡng', 'quy định', 'quyền lợi', 'con cái', 'ly hôn', 'cha hoặc mẹ không trực tiếp nuôi con', 'các thành viên khác trong gia đình', 'mức cấp dưỡng', 'thỏa thuận', 'tòa án', 'phương thức cấp dưỡng', 'tiền mặt, tài sản', 'thay đổi mức cấp dưỡng', 'chấm dứt nghĩa vụ cấp dưỡng', 'quy định của pháp luật'], 'Explain': 'Câu trả lời của sinh viên đã đề cập đến nhiều khía cạnh quan trọng của nghĩa vụ cấp dưỡng trong Luật hôn nhân và gia đình, như đối tượng cấp dưỡng, người có nghĩa vụ, mức cấp dưỡng, phương thức cấp dưỡng, và chấm dứt nghĩa vụ. Tuy nhiên, câu trả lời thiếu các điều khoản cụ thể từ Luật (Điều 110, 111, 112, 113, 114, 115) và không đề cập đến các mối quan hệ cụ thể giữa các bên như trong đáp án đúng. Mặc dù có nhiều thông tin đúng, nhưng thiếu sót này làm giảm tính chính xác và đầy đủ của câu trả lời.', 'Score': '7'}\n",
      "attempt : 0\n",
      "gpt-4o-mini\n",
      "Định dạng JSON hợp lệ!\n",
      "{'sga': ['Điều 116 Luật hôn nhân và gia đình năm 2014', 'mức cấp dưỡng nuôi con', 'thỏa thuận căn cứ vào thu nhập', 'khả năng thực tế của chồng chị A', 'nhu cầu thiết yếu của người con', 'yêu cầu Tòa án giải quyết', 'thay đổi mức cấp dưỡng', 'các bên thỏa thuận'], 'anwser': ['Luật Hôn nhân và Gia đình năm 2014', 'việc cấp dưỡng cho con sau khi ly hôn', 'nghĩa vụ cấp dưỡng', 'không phụ thuộc vào việc cha mẹ có sống chung với con hay không', 'mức cấp dưỡng do cha mẹ thỏa thuận', 'thu nhập, khả năng thực tế của người có nghĩa vụ cấp dưỡng', 'nhu cầu thiết yếu của người được cấp dưỡng', 'Tòa án sẽ quyết định mức cấp dưỡng', 'hình thức cấp dưỡng', 'thay đổi mức cấp dưỡng', 'yêu cầu Tòa án giải quyết', 'căn cứ vào thu nhập, khả năng thực tế của người chồng và nhu cầu của con'], 'Explain': 'Câu trả lời của sinh viên đã đề cập đến nhiều thông tin quan trọng liên quan đến quy định về cấp dưỡng nuôi con theo Luật Hôn nhân và Gia đình năm 2014. Sinh viên đã nêu rõ nguyên tắc cấp dưỡng, mức cấp dưỡng, hình thức cấp dưỡng và khả năng thay đổi mức cấp dưỡng, điều này cho thấy sinh viên đã hiểu rõ về nội dung pháp luật. Tuy nhiên, câu trả lời không nhắc đến cụ thể Điều 116 của Luật, mà chỉ nói chung về Luật Hôn nhân và Gia đình. Mặc dù vậy, thông tin về việc yêu cầu Tòa án giải quyết khi không thỏa thuận được mức cấp dưỡng đã được đề cập đầy đủ. Tổng thể, câu trả lời có khoảng 80% thông tin chính xác và liên quan đến đáp án đúng.', 'Score': '8'}\n"
     ]
    }
   ],
   "source": [
    "for i in range(len(TULUAN_HYBRID)):\n",
    "\n",
    "    test = PROMPT['evaluation_from_test_kw'].replace(\"<<q>>\", TULUAN_HYBRID[i]['q']).replace(\"<<sga>>\", TULUAN_HYBRID[i]['a']).replace(\"<<a>>\", TULUAN_HYBRID[i]['baseline'])\n",
    "\n",
    "    res = get_valid_json_gpt40mini(test)\n",
    "\n",
    "    print(res)\n",
    "\n",
    "    TULUAN_GPT.append(res)"
   ]
  },
  {
   "cell_type": "code",
   "execution_count": null,
   "metadata": {
    "id": "6uFdygWYtWxq"
   },
   "outputs": [],
   "source": []
  },
  {
   "cell_type": "code",
   "execution_count": 125,
   "metadata": {
    "colab": {
     "base_uri": "https://localhost:8080/"
    },
    "executionInfo": {
     "elapsed": 321,
     "status": "ok",
     "timestamp": 1734860440342,
     "user": {
      "displayName": "Khải Đặng",
      "userId": "00827885371675823732"
     },
     "user_tz": -420
    },
    "id": "rkkXwN1RtW0p",
    "outputId": "b3768050-f6a6-4743-c182-513fa509922e"
   },
   "outputs": [
    {
     "data": {
      "text/plain": [
       "28"
      ]
     },
     "execution_count": 125,
     "metadata": {},
     "output_type": "execute_result"
    }
   ],
   "source": [
    "len(TULUAN_GPT)"
   ]
  },
  {
   "cell_type": "code",
   "execution_count": 122,
   "metadata": {
    "colab": {
     "base_uri": "https://localhost:8080/"
    },
    "executionInfo": {
     "elapsed": 321,
     "status": "ok",
     "timestamp": 1734860298057,
     "user": {
      "displayName": "Khải Đặng",
      "userId": "00827885371675823732"
     },
     "user_tz": -420
    },
    "id": "1-GxcbECtW9V",
    "outputId": "c0123603-6628-4196-ff71-aef98f08d8f5"
   },
   "outputs": [
    {
     "data": {
      "text/plain": [
       "8.035714285714286"
      ]
     },
     "execution_count": 122,
     "metadata": {},
     "output_type": "execute_result"
    }
   ],
   "source": [
    "score = 0\n",
    "\n",
    "for i in range(len(TULUAN_GPT)):\n",
    "    if TULUAN_GPT[i] != \"Not\":\n",
    "        score += int(TULUAN_GPT[i]['Score'])\n",
    "\n",
    "score/len(TULUAN_GPT)\n",
    "#8.035714285714286"
   ]
  },
  {
   "cell_type": "code",
   "execution_count": 126,
   "metadata": {
    "colab": {
     "base_uri": "https://localhost:8080/"
    },
    "executionInfo": {
     "elapsed": 385,
     "status": "ok",
     "timestamp": 1734860449049,
     "user": {
      "displayName": "Khải Đặng",
      "userId": "00827885371675823732"
     },
     "user_tz": -420
    },
    "id": "_ES3Lixzsx9r",
    "outputId": "823765d3-9ed2-4098-c2fc-855a8fbc7d5f"
   },
   "outputs": [
    {
     "data": {
      "text/plain": [
       "8.0"
      ]
     },
     "execution_count": 126,
     "metadata": {},
     "output_type": "execute_result"
    }
   ],
   "source": [
    "# Lần 2\n",
    "\n",
    "score = 0\n",
    "\n",
    "for i in range(len(TULUAN_GPT)):\n",
    "    if TULUAN_GPT[i] != \"Not\":\n",
    "        score += int(TULUAN_GPT[i]['Score'])\n",
    "\n",
    "score/len(TULUAN_GPT)\n",
    "# 8.0"
   ]
  },
  {
   "cell_type": "code",
   "execution_count": 129,
   "metadata": {
    "colab": {
     "base_uri": "https://localhost:8080/"
    },
    "executionInfo": {
     "elapsed": 431,
     "status": "ok",
     "timestamp": 1734860668196,
     "user": {
      "displayName": "Khải Đặng",
      "userId": "00827885371675823732"
     },
     "user_tz": -420
    },
    "id": "V2kqTYYJsyA2",
    "outputId": "6250b938-368c-4192-84bf-a56ccb601f91"
   },
   "outputs": [
    {
     "data": {
      "text/plain": [
       "6.964285714285714"
      ]
     },
     "execution_count": 129,
     "metadata": {},
     "output_type": "execute_result"
    }
   ],
   "source": [
    "# Lần 3\n",
    "\n",
    "score = 0\n",
    "\n",
    "for i in range(len(TULUAN_GPT)):\n",
    "    if TULUAN_GPT[i] != \"Not\":\n",
    "        score += int(TULUAN_GPT[i]['Score'])\n",
    "\n",
    "score/len(TULUAN_GPT)\n",
    "# 6.964285714285714"
   ]
  },
  {
   "cell_type": "code",
   "execution_count": null,
   "metadata": {
    "id": "G3IEL1vvso0m"
   },
   "outputs": [],
   "source": []
  },
  {
   "cell_type": "code",
   "execution_count": null,
   "metadata": {
    "id": "ud0WUYo2wTia"
   },
   "outputs": [],
   "source": []
  },
  {
   "cell_type": "markdown",
   "metadata": {
    "id": "akrWvPe2wUPi"
   },
   "source": [
    "# Baseline GPT-4o-mini"
   ]
  },
  {
   "cell_type": "code",
   "execution_count": 130,
   "metadata": {
    "colab": {
     "base_uri": "https://localhost:8080/"
    },
    "collapsed": true,
    "executionInfo": {
     "elapsed": 170891,
     "status": "ok",
     "timestamp": 1734860912393,
     "user": {
      "displayName": "Khải Đặng",
      "userId": "00827885371675823732"
     },
     "user_tz": -420
    },
    "id": "vJSnsKjDwTlZ",
    "outputId": "0bc68746-bba2-4757-ad8a-0b5a28d1c9dc"
   },
   "outputs": [
    {
     "name": "stdout",
     "output_type": "stream",
     "text": [
      "gpt-4o-mini\n",
      "gpt-4o-mini\n",
      "gpt-4o-mini\n",
      "gpt-4o-mini\n",
      "gpt-4o-mini\n",
      "gpt-4o-mini\n",
      "gpt-4o-mini\n",
      "gpt-4o-mini\n",
      "gpt-4o-mini\n",
      "gpt-4o-mini\n",
      "gpt-4o-mini\n",
      "gpt-4o-mini\n",
      "gpt-4o-mini\n",
      "gpt-4o-mini\n",
      "gpt-4o-mini\n",
      "gpt-4o-mini\n",
      "gpt-4o-mini\n",
      "gpt-4o-mini\n",
      "gpt-4o-mini\n",
      "gpt-4o-mini\n",
      "gpt-4o-mini\n",
      "gpt-4o-mini\n",
      "gpt-4o-mini\n",
      "gpt-4o-mini\n",
      "gpt-4o-mini\n",
      "gpt-4o-mini\n",
      "gpt-4o-mini\n",
      "gpt-4o-mini\n"
     ]
    }
   ],
   "source": [
    "for i in TULUAN_HYBRID:\n",
    "    q = i['q']\n",
    "\n",
    "    res = get_completion(q, model = 'gpt-4o-mini')\n",
    "\n",
    "    i['mini'] = res"
   ]
  },
  {
   "cell_type": "code",
   "execution_count": 133,
   "metadata": {
    "colab": {
     "base_uri": "https://localhost:8080/"
    },
    "collapsed": true,
    "executionInfo": {
     "elapsed": 704,
     "status": "ok",
     "timestamp": 1734860954816,
     "user": {
      "displayName": "Khải Đặng",
      "userId": "00827885371675823732"
     },
     "user_tz": -420
    },
    "id": "BGbnRNcCwTof",
    "outputId": "20392bf3-a39b-4d81-c005-c729a14d5b23"
   },
   "outputs": [
    {
     "data": {
      "text/plain": [
       "[{'q': 'Theo Luật hôn nhân và gia đình năm 2014, những nguyên tắc cơ bản của chế độ hôn nhân và gia đình ở nước ta được quy định như thế nào?',\n",
       "  'hybrid': '## Nguyên Tắc Cơ Bản của Chế Độ Hôn Nhân và Gia Đình theo Luật Hôn Nhân và Gia Đình Năm 2014\\n\\nLuật Hôn nhân và Gia đình năm 2014, có hiệu lực từ ngày 01/01/2015, đã quy định một cách rõ ràng các nguyên tắc cơ bản trong chế độ hôn nhân và gia đình tại Việt Nam. Những nguyên tắc này không chỉ bảo đảm quyền và nghĩa vụ của các bên trong quan hệ hôn nhân mà còn thể hiện sự bình đẳng và công bằng giữa các thành viên trong gia đình. Dưới đây là một số nguyên tắc cơ bản được quy định trong bộ luật này.\\n\\n### 1. Nguyên Tắc Một Vợ Một Chồng\\n\\nLuật quy định rằng chế độ hôn nhân tại Việt Nam là hôn nhân một vợ một chồng. Điều này nhấn mạnh rằng mỗi người chỉ có thể kết hôn với một người khác tại cùng một thời điểm, nhằm bảo vệ quyền lợi hợp pháp và đạo đức trong quan hệ hôn nhân.\\n\\n### 2. Nguyên Tắc Bình Đẳng Giữa Vợ và Chồng\\n\\nLuật Hôn nhân và Gia đình năm 2014 quy định nguyên tắc bình đẳng giữa vợ và chồng trong mọi lĩnh vực của cuộc sống hôn nhân. Các quyền và nghĩa vụ của hai bên trong quan hệ hôn nhân được xác định là tương đương và ngang bằng, điều này có ý nghĩa quan trọng trong việc bảo vệ sự công bằng.\\n\\n### 3. Quyền và Nghĩa Vụ nuôi dưỡng, chăm sóc và giáo dục trẻ em\\n\\nLuật nhấn mạnh rằng cha mẹ có nghĩa vụ nuôi dưỡng, chăm sóc và giáo dục con cái. Điều này không chỉ mang tính chất pháp lý mà còn thể hiện trách nhiệm của mỗi bậc phụ huynh trong việc đảm bảo quyền sống, quyền học tập và phát triển của trẻ em.\\n\\n### 4. Không Phân Biệt Đối Xử\\n\\nLuật cũng quy định rõ rằng mọi thành viên trong gia đình, không phân biệt giới tính, độ tuổi hay tình trạng sức khỏe, đều có quyền và nghĩa vụ bình đẳng trong quan hệ gia đình. Điều này hướng đến việc đảm bảo sự công bằng và nhân phẩm cho tất cả các thành viên.\\n\\n### 5.  Bảo Vệ Quyền Lợi Hợp Pháp của Mọi Thành Viên\\n\\nLuật Hôn nhân và Gia đình năm 2014 khẳng định rằng mọi hoạt động liên quan đến hôn nhân và gia đình đều phải được tiến hành với sự tôn trọng quyền lợi hợp pháp của tất cả các thành viên. Điều này bao gồm quyền yêu cầu bảo vệ quyền lợi của mình trong các trường hợp xung đột hoặc tranh chấp.\\n\\n### Kết Luận\\n\\nNhìn chung, Luật Hôn nhân và Gia đình năm 2014 đã xây dựng được một khung pháp lý quan trọng nhằm bảo vệ quyền lợi của các bên trong quan hệ hôn nhân và gia đình, đồng thời tạo ra một môi trường pháp lý thuận lợi cho sự phát triển của gia đình trong xã hội hiện đại Việt Nam. Việc thực hiện nguyên tắc bình đẳng và bảo vệ quyền lợi của các thành viên gia đình là điều thiết yếu để xây dựng gia đình hạnh phúc và phát triển bền vững.',\n",
       "  'a': 'Chế độ hôn nhân và gia đình là toàn bộ những quy định của pháp luật về kết hôn, ly hôn; quyền và nghĩa vụ giữa vợ và chồng, giữa cha mẹ và con, giữa các thành viên khác trong gia đình; cấp dưỡng; xác định cha, mẹ, con; quan hệ hôn nhân và gia đình có yếu tố nước ngoài và những vấn đề khác liên quan đến hôn nhân và gia đình (Khoản 3 Điều 3 Luật hôn nhân và gia đình năm 2014).\\nLuật hôn nhân và gia đình năm 2014 tiếp tục kế thừa một số nguyên tắc cơ bản của Luật hôn nhân và gia đình năm 2000, tuy nhiên có sửa đổi, bổ sung điểm mới cho phù hợp với thực tiễn hiện nay nhằm bảo vệ và phát huy hiệu quả của hôn nhân và gia đình Việt Nam bền vững trong giai đoạn mới.\\nTheo đó, tại Điều 2 Luật hôn nhân và gia đình năm 2014 thì những nguyên tắc cơ bản của chế độ hôn nhân và gia đình được quy định như sau:\\na. Hôn nhân tự nguyện, tiến bộ, một vợ một chồng, vợ chồng bình đẳng.\\nb. Hôn nhân giữa công dân Việt Nam thuộc các dân tộc, tôn giáo, giữa người theo tôn giáo với người không theo tôn giáo, giữa người có tín ngưỡng với người không có tín ngưỡng, giữa công dân Việt Nam với người nước ngoài được tôn trọng và được pháp luật bảo vệ.\\nc. Xây dựng gia đình ấm no, tiến bộ, hạnh phúc; các thành viên gia đình có nghĩa vụ tôn trọng, quan tâm, chăm sóc, giúp đỡ nhau; không phân biệt đối xử giữa các con.\\nd. Nhà nước, xã hội và gia đình có trách nhiệm bảo vệ, hỗ trợ trẻ em, người cao tuổi, người khuyết tật thực hiện các quyền về hôn nhân và gia đình; giúp đỡ các bà mẹ thực hiện tốt chức năng cao quý của người mẹ; thực hiện kế hoạch hóa gia đình.\\nđ. Kế thừa, phát huy truyền thống văn hóa, đạo đức tốt đẹp của dân tộc Việt Nam về hôn nhân và gia đình.',\n",
       "  'baseline': 'Theo Luật Hôn nhân và Gia đình năm 2014 của Việt Nam, những nguyên tắc cơ bản của chế độ hôn nhân và gia đình được quy định như sau:\\n\\n1. **Tự nguyện, tiến bộ, một vợ một chồng, vợ chồng bình đẳng**: Hôn nhân phải dựa trên sự tự nguyện của cả hai bên, không ai được ép buộc, lừa dối. Mối quan hệ vợ chồng phải bình đẳng, tôn trọng lẫn nhau.\\n\\n2. **Bảo vệ quyền lợi của phụ nữ và trẻ em**: Luật nhấn mạnh việc bảo vệ quyền lợi hợp pháp của phụ nữ và trẻ em trong gia đình, đảm bảo cho họ có điều kiện phát triển toàn diện.\\n\\n3. **Bảo vệ chế độ hôn nhân và gia đình**: Nhà nước và xã hội có trách nhiệm bảo vệ chế độ hôn nhân và gia đình, ngăn chặn các hành vi xâm phạm đến chế độ này.\\n\\n4. **Kế thừa và phát huy truyền thống văn hóa tốt đẹp của dân tộc**: Luật khuyến khích việc kế thừa và phát huy các giá trị văn hóa, đạo đức tốt đẹp của dân tộc trong hôn nhân và gia đình.\\n\\n5. **Bình đẳng giới**: Đảm bảo bình đẳng giới trong hôn nhân và gia đình, không phân biệt đối xử dựa trên giới tính.\\n\\n6. **Tôn trọng quyền tự do tín ngưỡng, tôn giáo**: Mọi người có quyền tự do tín ngưỡng, tôn giáo trong hôn nhân và gia đình, miễn là không vi phạm pháp luật và đạo đức xã hội.\\n\\nNhững nguyên tắc này nhằm xây dựng một chế độ hôn nhân và gia đình tiến bộ, văn minh, phù hợp với sự phát triển của xã hội và bảo vệ quyền lợi của các thành viên trong gia đình.',\n",
       "  'mini': 'Theo Luật Hôn nhân và Gia đình năm 2014 của Việt Nam, những nguyên tắc cơ bản của chế độ hôn nhân và gia đình được quy định như sau:\\n\\n1. **Bình đẳng giới**: Hôn nhân và gia đình phải được xây dựng trên cơ sở bình đẳng giữa vợ và chồng, không phân biệt giới tính, tôn giáo, dân tộc.\\n\\n2. **Tự nguyện**: Hôn nhân phải được thiết lập trên cơ sở tự nguyện, không bị ép buộc, cưỡng bức.\\n\\n3. **Một vợ, một chồng**: Chế độ hôn nhân ở Việt Nam là chế độ một vợ, một chồng, trừ trường hợp có quy định khác trong pháp luật.\\n\\n4. **Gia đình là tế bào của xã hội**: Gia đình có vai trò quan trọng trong việc giáo dục, nuôi dưỡng và bảo vệ các thành viên, đồng thời là nền tảng của xã hội.\\n\\n5. **Bảo vệ quyền và lợi ích hợp pháp của các thành viên**: Nhà nước có trách nhiệm bảo vệ quyền và lợi ích hợp pháp của các thành viên trong gia đình, đặc biệt là phụ nữ, trẻ em và người cao tuổi.\\n\\n6. **Tôn trọng và bảo vệ quyền tự do, quyền con người**: Các quyền và lợi ích hợp pháp của các thành viên trong gia đình phải được tôn trọng và bảo vệ.\\n\\nNhững nguyên tắc này thể hiện sự tiến bộ và nhân văn trong việc xây dựng và phát triển chế độ hôn nhân và gia đình ở Việt Nam, đồng thời phù hợp với các quy định quốc tế về quyền con người và quyền phụ nữ.'},\n",
       " {'q': 'Để bảo vệ chế độ hôn nhân và gia đình, Nhà nước ta cấm thực hiện những hành vi nào?',\n",
       "  'hybrid': 'Để bảo vệ chế độ hôn nhân và gia đình, Nhà nước Việt Nam đã quy định cụ thể những hành vi bị cấm trong Luật Hôn nhân và Gia đình năm 2014. Các hành vi này nhằm đảm bảo tính hợp pháp, đạo đức và trách nhiệm xã hội trong mối quan hệ hôn nhân và gia đình, đồng thời bảo vệ quyền lợi của các bên liên quan. Dưới đây là những hành vi cụ thể bị cấm:\\n\\n### 1. Kết Hôn Giả Tạo\\nKết hôn giả tạo là một trong những hành vi bị cấm nhằm loại bỏ các hình thức lợi dụng luật hôn nhân để trục lợi. Điều này bao gồm các trường hợp mà một hoặc cả hai bên không có ý định thực sự về việc kết hôn mà chỉ thực hiện nhằm đạt được mục đích cá nhân nào đó.\\n\\n### 2. Tảo Hôn\\nTảo hôn là việc kết hôn giữa người chưa đủ độ tuổi theo quy định của pháp luật. Đây là hành vi vi phạm quyền công dân và bị xem là bất hợp pháp, ảnh hưởng tiêu cực đến sức khỏe và việc học tập cũng như phát triển của trẻ em.\\n\\n### 3. Cưỡng Ép Kết Hôn\\nCưỡng ép kết hôn là hành vi ép buộc một cá nhân phải kết hôn với người khác mà không có sự tự nguyện. Pháp luật Việt Nam nghiêm cấm hành vi này bởi nó mâu thuẫn với nguyên tắc hôn nhân tự nguyện và bình đẳng được quy định trong Luật Hôn nhân và Gia đình.\\n\\n### 4. Hôn Nhân Trong Trường Hợp Người Đang Có Vợ Hoặc Chồng\\nTheo quy định, một người đang có vợ hoặc chồng không được kết hôn với người khác. Điều này nhằm bảo vệ sự ổn định của gia đình hiện tại và quyền lợi của các bên liên quan trong mối quan hệ vợ chồng.\\n\\n### 5. Kết Hôn Giữa Những Người Có Quan Hệ Huyết Thống\\nHôn nhân giữa những cá nhân có quan hệ huyết thống gần gũi, chẳng hạn như anh chị em, ông bà, cha mẹ với con cái, cũng bị cấm theo quy định của pháp luật.\\n\\nNhững hành vi này không chỉ vi phạm pháp luật mà còn ảnh hưởng đến cấu trúc xã hội và tinh thần cộng đồng. Với những quy định rõ ràng và nghiêm khắc, Nhà nước Việt Nam mong muốn duy trì và bảo vệ một nền tảng hôn nhân và gia đình vững chắc, nâng cao nhận thức về trách nhiệm và nghĩa vụ của các thành viên trong gia đình, từ đó xây dựng một xã hội văn minh và tiến bộ hơn.',\n",
       "  'a': 'Theo quy định tại Điều 5 Luật hôn nhân và gia đình năm 2014, quan hệ hôn nhân và gia đình được xác lập, thực hiện theo quy định của Luật hôn nhân và gia đình, được tôn trọng và được pháp luật bảo vệ.\\nCấm các hành vi sau đây:\\n- Kết hôn giả tạo, ly hôn giả tạo;\\n- Tảo hôn, cưỡng ép kết hôn, lừa dối kết hôn, cản trở kết hôn;\\n- Người đang có vợ, có chồng mà kết hôn hoặc chung sống như vợ chồng với người khác hoặc chưa có vợ, chưa có chồng mà kết hôn hoặc chung sống như vợ chồng với người đang có chồng, có vợ;\\n- Kết hôn hoặc chung sống như vợ chồng giữa những người cùng dòng máu về trực hệ; giữa những người có họ trong phạm vi ba đời; giữa cha, mẹ nuôi với con nuôi; giữa người đã từng là cha, mẹ nuôi với con nuôi, cha chồng với con dâu, mẹ vợ với con rể, cha dượng với con riêng của vợ, mẹ kế với con riêng của chồng;\\n- Yêu sách của cải trong kết hôn;\\n- Cưỡng ép ly hôn, lừa dối ly hôn, cản trở ly hôn;\\n- Thực hiện sinh con bằng kỹ thuật hỗ trợ sinh sản vì mục đích thương mại, mang thai hộ vì mục đích thương mại, lựa chọn giới tính thai nhi, sinh sản vô tính;\\n- Bạo lực gia đình;\\n- Lợi dụng việc thực hiện quyền về hôn nhân và gia đình để mua bán người, bóc lột sức lao động, xâm phạm tình dục hoặc có hành vi khác nhằm mục đích trục lợi.\\nMọi hành vi vi phạm pháp luật về hôn nhân và gia đình phải được xử lý nghiêm minh, đúng pháp luật.',\n",
       "  'baseline': 'Để bảo vệ chế độ hôn nhân và gia đình, pháp luật Việt Nam cấm thực hiện các hành vi sau:\\n\\n1. **Kết hôn giả tạo**: Kết hôn không nhằm mục đích xây dựng gia đình mà để đạt được mục đích khác.\\n\\n2. **Tảo hôn, cưỡng ép kết hôn, lừa dối kết hôn, cản trở kết hôn**: Kết hôn khi chưa đủ tuổi theo quy định, ép buộc hoặc lừa dối người khác để kết hôn, hoặc ngăn cản người khác kết hôn tự nguyện.\\n\\n3. **Đang có vợ, có chồng mà kết hôn hoặc chung sống như vợ chồng với người khác**: Vi phạm chế độ một vợ một chồng.\\n\\n4. **Kết hôn hoặc chung sống như vợ chồng giữa những người có quan hệ huyết thống hoặc quan hệ họ hàng trong phạm vi ba đời**: Cấm kết hôn giữa những người có quan hệ huyết thống gần gũi.\\n\\n5. **Lợi dụng việc thực hiện quyền về hôn nhân và gia đình để mua bán người, bóc lột sức lao động, xâm phạm tình dục hoặc thực hiện các hành vi trái pháp luật khác**: Sử dụng hôn nhân và gia đình như một phương tiện để thực hiện các hành vi vi phạm pháp luật.\\n\\nNhững quy định này nhằm bảo vệ quyền lợi và sự ổn định của gia đình, cũng như đảm bảo trật tự xã hội.',\n",
       "  'mini': 'Để bảo vệ chế độ hôn nhân và gia đình, Nhà nước Việt Nam cấm thực hiện một số hành vi sau đây:\\n\\n1. **Kết hôn trái pháp luật**: Kết hôn khi chưa đủ tuổi hoặc không đủ điều kiện theo quy định của pháp luật.\\n\\n2. **Ly hôn trái pháp luật**: Thực hiện ly hôn mà không tuân thủ quy định của pháp luật.\\n\\n3. **Bạo lực gia đình**: Các hành vi bạo lực, ngược đãi, xâm hại thân thể, tinh thần đối với thành viên trong gia đình.\\n\\n4. **Xâm phạm quyền và lợi ích hợp pháp của thành viên gia đình**: Bao gồm việc ngăn cản quyền tự do, quyền lựa chọn của các thành viên trong gia đình.\\n\\n5. **Thực hiện hành vi gian dối trong hôn nhân**: Như lừa dối về tình trạng hôn nhân, tài sản, hoặc các vấn đề khác có liên quan.\\n\\n6. **Hành vi buôn bán, môi giới hôn nhân trái phép**: Các hoạt động liên quan đến việc mua bán, môi giới hôn nhân không theo quy định của pháp luật.\\n\\n7. **Lạm dụng quyền nuôi dưỡng, chăm sóc con cái**: Như việc ngăn cản quyền thăm nom, chăm sóc của cha mẹ đối với con cái.\\n\\nNhững hành vi này được quy định trong Luật Hôn nhân và Gia đình và các văn bản pháp luật liên quan nhằm bảo vệ quyền lợi của các thành viên trong gia đình và duy trì sự ổn định của xã hội.'},\n",
       " {'q': 'Một số nơi ở vùng đồng bào dân tộc thiểu số, vẫn còn trường hợp thách cưới cao mang tính chất gả bán (như đòi bạc trắng, tiền mặt, của hồi môn, trâu, bò, chiêng ché…để dẫn cưới ). Vậy, xin hỏi việc áp dụng tập quán về hôn nhân và gia đình được pháp luật quy định như thế nào? Việc thách cưới trên có vi phạm pháp luật không?',\n",
       "  'hybrid': '### Áp dụng tập quán trong hôn nhân và gia đình\\n\\nViệc áp dụng các tập quán về hôn nhân và gia đình ở vùng đồng bào dân tộc thiểu số nằm trong khuôn khổ của hệ thống pháp luật Việt Nam, nhưng đồng thời cũng cần phải tuân thủ các nguyên tắc và chuẩn mực pháp lý do Nhà nước quy định. Theo Luật Hôn nhân và Gia đình 2014, chế độ hôn nhân và gia đình phải đảm bảo nguyên tắc tự nguyện, tiến bộ và bình đẳng giữa các bên.\\n\\nNgoài ra, Luật Hôn nhân và Gia đình cũng quy định rằng các tập quán truyền thống không được trái với pháp luật, có nghĩa là những phong tục thách cưới hoặc bất kỳ quy định nào khác phải đảm bảo quyền lợi và sự tự do của cá nhân. Việc thách cưới cao mang tính chất gả bán, chẳng hạn như yêu cầu về tiền mặt, của hồi môn, hoặc các động vật như trâu bò, chiêng ché, cần được xem xét trong bối cảnh pháp luật hiện hành có quy định ngăn cấm các hành vi mua bán hay trao đổi như vậy.\\n\\n### Vi phạm pháp luật về thách cưới\\n\\nViệc thách cưới quá cao, đặc biệt là mang tinh chất gả bán, không chỉ là một phong tục mà còn có thể coi là hành vi vi phạm pháp luật. Theo quy định của pháp luật, việc buộc phải trả một khoản thù lao quá mức có thể được xem là xâm phạm quyền tự do trong lựa chọn bạn đời và việc kết hôn tự nguyện, dẫn đến nhiều hệ lụy cho các nạn nhân của nó.\\n\\nNếu điều này diễn ra dưới hình thức ép buộc, điều đó càng xác nhận vi phạm nghiêm trọng về quyền con người, dẫn tới việc bị xử lý theo quy định của pháp luật. Hơn nữa, các tập quán này trong một số trường hợp có thể trở thành căn cứ để yêu cầu hủy bỏ các giao dịch hôn nhân nếu chúng vi phạm các điều khoản của Luật Hôn nhân và Gia đình.\\n\\n### Kết luận\\n\\nDo đó, các phong tục tập quán về hôn nhân tại các vùng đồng bào dân tộc thiểu số cần được cân nhắc và xem xét để đảm bảo sự phù hợp với các quy định của pháp luật, nhằm bảo vệ quyền lợi và tự do của từng cá nhân trong mối quan hệ hôn nhân. Nếu có hành vi thách cưới mang tính chất gả bán, điều này rõ ràng vi phạm pháp luật và cần được sự can thiệp của các cơ quan chức năng.',\n",
       "  'a': 'Tập quán về hôn nhân và gia đình là quy tắc xử sự có nội dung rõ ràng về quyền, nghĩa vụ của các bên trong quan hệ hôn nhân và gia đình, được lặp đi, lặp lại trong một thời gian dài và được thừa nhận rộng rãi trong một vùng, miền hoặc cộng đồng.\\nTheo Điều 7 Luật hôn nhân và gia đình năm 2014 thì áp dụng tập quán về hôn nhân và gia đình được quy định như sau: Trong trường hợp pháp luật không quy định và các bên không có thỏa thuận thì tập quán tốt đẹp thể hiện bản sắc của mỗi dân tộc, không trái với nguyên tắc quy định tại Điều 2 và không vi phạm điều cấm của Luật này được áp dụng.\\nThực tế hiện nay, các phong tục, tập quán tốt đẹp về hôn nhân và gia đình của các dân tộc như: nam nữ tự do tìm hiểu, tự do lựa chọn người bạn đời; hoặc sau khi kết hôn, tùy theo sự sắp xếp, thỏa thuận giữa hai gia đình, vợ, chồng có thể cư trú ở nhà vợ hoặc ở nhà chồng (tục đổi sữa mẹ); cha mẹ có trách nhiệm nuôi dưỡng, giáo dục con nên người, có trách nhiệm bồi thường thiệt hại do con gây ra… vẫn được thực hiện và phù hợp với pháp luật của nhà nước ta không bị nghiêm cấm mà khuyến khích phát huy, áp dụng.\\nCăn cứ vào quy định nêu trên thì việc thách cưới là phong tục, tập quán lạc hậu, trái với quy định của Luật hôn nhân và gia đình, bị nghiêm cấm, theo quy định tại khoản 2 Điều 9 Nghị định số 32/2002/NĐ-CP ngày 27/3/2002 của Chính phủ quy định việc áp dụng Luật hôn nhân nhân và gia đình đối với các dân tộc thiểu số. Quy định này nhằm vận động, xóa bỏ phong tục tập quán lạc hậu, làm ảnh hưởng đến hôn nhân gia đình tiến bộ, bình đẳng và hạnh phúc.',\n",
       "  'baseline': 'Việc áp dụng tập quán về hôn nhân và gia đình trong vùng đồng bào dân tộc thiểu số cần tuân thủ theo quy định của pháp luật Việt Nam. Theo Luật Hôn nhân và Gia đình năm 2014, các tập quán về hôn nhân và gia đình chỉ được chấp nhận nếu không vi phạm các nguyên tắc cơ bản của luật này, không trái với đạo đức xã hội và không xâm phạm đến quyền và lợi ích hợp pháp của các bên liên quan.\\n\\nViệc thách cưới với yêu cầu cao mang tính chất gả bán có thể vi phạm pháp luật nếu nó đi ngược lại các nguyên tắc trên. Cụ thể, nếu việc thách cưới gây áp lực tài chính quá lớn, dẫn đến việc coi con người như một món hàng để trao đổi, thì có thể bị coi là vi phạm đạo đức xã hội và quyền con người. Pháp luật Việt Nam không cho phép việc mua bán người dưới bất kỳ hình thức nào, bao gồm cả việc gả bán trong hôn nhân.\\n\\nNgoài ra, theo quy định của pháp luật, việc thách cưới không được phép trở thành điều kiện bắt buộc để tiến hành hôn nhân. Nếu có tranh chấp hoặc khiếu nại liên quan đến việc thách cưới, các bên có thể yêu cầu sự can thiệp của cơ quan chức năng để giải quyết theo quy định của pháp luật.',\n",
       "  'mini': 'Việc áp dụng tập quán về hôn nhân và gia đình trong các cộng đồng dân tộc thiểu số ở Việt Nam được quy định tại Điều 8 của Bộ luật Dân sự năm 2015. Theo đó, tập quán có thể được áp dụng trong các quan hệ hôn nhân và gia đình, nhưng phải phù hợp với các quy định của pháp luật và không trái với đạo đức xã hội.\\n\\nVề việc thách cưới, nếu việc thách cưới diễn ra với mức độ hợp lý và không gây áp lực hay tổn hại đến quyền lợi của bên còn lại, thì có thể được xem là một phần của tập quán văn hóa. Tuy nhiên, nếu việc thách cưới mang tính chất gả bán, yêu cầu một khoản tiền hoặc tài sản quá lớn, gây khó khăn cho bên nhận cưới, hoặc vi phạm quyền tự do lựa chọn bạn đời của cá nhân, thì có thể coi là vi phạm pháp luật.\\n\\nCụ thể, theo Điều 3 của Luật Hôn nhân và Gia đình năm 2014, việc kết hôn phải dựa trên sự tự nguyện, bình đẳng và không bị ép buộc. Nếu thách cưới trở thành một hình thức ép buộc, gây áp lực cho bên nhận cưới, thì có thể bị coi là vi phạm pháp luật.\\n\\nTóm lại, việc thách cưới trong hôn nhân và gia đình ở các vùng dân tộc thiểu số cần được thực hiện trong khuôn khổ pháp luật, tôn trọng quyền lợi và sự tự nguyện của các bên liên quan. Nếu thách cưới mang tính chất gả bán hoặc vi phạm quyền tự do lựa chọn bạn đời, thì sẽ bị coi là vi phạm pháp luật.'},\n",
       " {'q': 'M sắp tròn 17 tuổi, hiện đang ở nhà phụ giúp bố mẹ làm vườn. Bố mẹ tôi ép tôi kết hôn với anh S vì hai gia đình đã hứa hôn từ khi M và S còn nhỏ. Xin hỏi, điều kiện kết hôn được quy định như thế nào? Theo quy định của pháp luật thì M đã đủ tuổi kết hôn chưa? Việc bố mẹ M ép M cưới anh S đúng hay sai?',\n",
       "  'hybrid': 'Để trả lời câu hỏi của bạn về điều kiện kết hôn theo quy định của pháp luật Việt Nam, trước tiên chúng ta cần tìm hiểu các quy định tại Luật Hôn nhân và Gia đình 2014. Theo đó, điều kiện để một cặp đôi có thể kết hôn hợp pháp được quy định như sau:\\n\\n1. **Độ tuổi**: Luật quy định rằng nam giới phải đủ 20 tuổi và nữ giới phải đủ 18 tuổi để có thể đăng ký kết hôn. Trong trường hợp của bạn, nếu M chuẩn bị tròn 17 tuổi, tức là chưa đủ 18 tuổi, theo quy định này, M vẫn chưa đủ tuổi kết hôn.\\n\\n2. **Sự tự nguyện**: Ngoài độ tuổi, việc kết hôn còn yêu cầu sự tự nguyện của cả hai bên. Đây là một trong những nguyên tắc cơ bản của Luật Hôn nhân và Gia đình. Việc một bên bị ép buộc kết hôn, mặc dù hai bên có thể đáp ứng đủ điều kiện về độ tuổi và sức khỏe, thì cuộc hôn nhân sẽ không được coi là hợp pháp.\\n\\nTheo những thông tin đã nêu, việc bố mẹ M ép M kết hôn với anh S khi M chưa đủ tuổi kết hôn là vi phạm quy định của pháp luật. M có quyền từ chối kết hôn nếu không muốn và có thể yêu cầu sự can thiệp của cơ quan chức năng nếu cần thiết.\\n\\n**Tóm lại**, M chưa đủ tuổi kết hôn theo quy định của pháp luật. Việc bố mẹ M ép buộc kết hôn với anh S là không đúng quy định và M có quyền bảo vệ quyền lợi của mình. Nếu cần, M có thể tham khảo ý kiến của luật sư hoặc các tổ chức hỗ trợ pháp lý để được tư vấn thêm về quyền lợi của mình trong trường hợp này.',\n",
       "  'a': 'Theo Điều 8 Luật hôn nhân và gia đình năm 2014 thì nam, nữ kết hôn phải tuân theo các điều kiện sau đây:\\na) Nam từ đủ 20 tuổi trở lên, nữ từ đủ 18 tuổi trở lên;\\nb) Việc kết hôn do nam và nữ tự nguyện quyết định;\\nc) Không bị mất năng lực hành vi dân sự;\\nd) Việc kết hôn không thuộc một trong các trường hợp cấm kết hôn theo quy định tại các điểm a, b, c và d khoản 2 Điều 5 của Luật này, gồm:\\n- Kết hôn giả tạo, ly hôn giả tạo;\\n- Tảo hôn, cưỡng ép kết hôn, lừa dối kết hôn, cản trở kết hôn;\\n- Người đang có vợ, có chồng mà kết hôn hoặc chung sống như vợ chồng với người khác hoặc chưa có vợ, chưa có chồng mà kết hôn hoặc chung sống như vợ chồng với người đang có chồng, có vợ;\\n- Kết hôn hoặc chung sống như vợ chồng giữa những người cùng dòng máu về trực hệ; giữa những người có họ trong phạm vi ba đời; giữa cha, mẹ nuôi với con nuôi; giữa người đã từng là cha, mẹ nuôi với con nuôi, cha chồng với con dâu, mẹ vợ với con rể, cha dượng với con riêng của vợ, mẹ kế với con riêng của chồng\\nNgoài ra, Nhà nước không thừa nhận hôn nhân giữa những người cùng giới tính.\\nM chưa đủ 17 tuổi, như vậy, M chưa đủ tuổi để kết hôn theo Luật hôn nhân và gia đình năm 2014. Một trong những hành vi bị cấm trong lĩnh vực hôn nhân và gia đình là cưỡng ép kết hôn, đồng thời một trong những điều kiện kết hôn là việc kết hôn do nam, nữ tự nguyện quyết định. Như vậy, việc bố, mẹ ép M kết hôn là không đúng pháp luật.',\n",
       "  'baseline': 'Theo quy định của pháp luật Việt Nam, cụ thể là Luật Hôn nhân và Gia đình năm 2014, điều kiện kết hôn được quy định như sau:\\n\\n1. Nam từ đủ 20 tuổi trở lên, nữ từ đủ 18 tuổi trở lên.\\n2. Việc kết hôn phải do nam và nữ tự nguyện quyết định.\\n3. Không được kết hôn giữa những người cùng dòng máu về trực hệ; giữa những người có họ trong phạm vi ba đời; giữa cha, mẹ nuôi với con nuôi; giữa cha chồng với con dâu, mẹ vợ với con rể, bố dượng với con riêng của vợ, mẹ kế với con riêng của chồng.\\n\\nDựa trên các quy định này, M hiện chưa đủ 18 tuổi, do đó chưa đủ tuổi để kết hôn theo quy định của pháp luật Việt Nam.\\n\\nViệc bố mẹ M ép M cưới anh S là không đúng theo quy định pháp luật, vì việc kết hôn phải do nam và nữ tự nguyện quyết định. Ép buộc kết hôn là vi phạm quyền tự do kết hôn của cá nhân và có thể bị xử lý theo quy định của pháp luật.',\n",
       "  'mini': 'Theo quy định của pháp luật Việt Nam, điều kiện kết hôn được quy định tại Bộ luật Dân sự năm 2015. Cụ thể, điều kiện kết hôn bao gồm:\\n\\n1. **Đủ tuổi kết hôn**: Theo Điều 8 của Bộ luật Dân sự, nam phải đủ 20 tuổi, nữ phải đủ 18 tuổi. Như vậy, nếu M sắp tròn 17 tuổi, thì M chưa đủ tuổi kết hôn theo quy định của pháp luật.\\n\\n2. **Có năng lực hành vi dân sự**: Cả hai bên phải có năng lực hành vi dân sự đầy đủ, tức là không bị mất năng lực hành vi dân sự hoặc bị hạn chế năng lực hành vi dân sự.\\n\\n3. **Tự nguyện**: Việc kết hôn phải được thực hiện trên cơ sở tự nguyện của cả hai bên, không bị ép buộc, đe dọa hoặc lừa dối.\\n\\nVề việc bố mẹ M ép M kết hôn với anh S, điều này là không đúng theo quy định của pháp luật. Việc kết hôn phải dựa trên sự tự nguyện của cả hai bên, và M chưa đủ tuổi kết hôn theo quy định. Do đó, việc ép buộc M kết hôn là vi phạm quyền tự do lựa chọn của M và không hợp pháp.\\n\\nNếu M không muốn kết hôn và cảm thấy bị ép buộc, M có thể tìm kiếm sự hỗ trợ từ các tổ chức bảo vệ quyền lợi cho trẻ em hoặc tư vấn pháp lý để được hướng dẫn và bảo vệ quyền lợi của mình.'},\n",
       " {'q': 'Xử lý việc kết hôn trái pháp luật được quy định như thế nào?',\n",
       "  'hybrid': '### Xử Lý Kết Hôn Trái Pháp Luật\\n\\nViệc kết hôn trái pháp luật tại Việt Nam là một vấn đề nghiêm trọng và được quy định cụ thể trong Luật Hôn Nhân và Gia Đình 2014. Luật này không chỉ xác định những trường hợp nào được coi là kết hôn trái pháp luật mà còn quy định cả các biện pháp xử lý trong tình huống này.\\n\\n#### Khái Niệm Kết Hôn Trái Pháp Luật\\n\\nKết hôn trái pháp luật được định nghĩa là việc xác lập quan hệ hôn nhân không tuân thủ các quy định của pháp luật, chẳng hạn như việc kết hôn với người chưa đủ tuổi hoặc việc kết hôn khi đã có vợ hoặc chồng hợp pháp. Những mối quan hệ này không được pháp luật công nhận và do đó kéo theo nhiều hệ lụy cho các bên liên quan, như quyền lợi về tài sản, nuôi dưỡng con cái,…\\n\\n#### Quy Định Pháp Luật Về Xử Lý Kết Hôn Trái Pháp Luật\\n\\nTheo Luật Hôn Nhân và Gia Đình, các cặp đôi kết hôn trái pháp luật không được công nhận trong hệ thống pháp luật. Điều này có nghĩa là họ không có quyền lợi pháp lý như những cặp hôn nhân hợp pháp khác. Cụ thể:\\n\\n1. **Không Công Nhận Quyền Lợi Tài Sản**: Các tài sản mà cặp đôi kết hôn trái pháp luật tạo ra trong quá trình sống chung sẽ không được công nhận là tài sản chung theo pháp luật. Điều này có thể dẫn đến tranh chấp tài sản trong trường hợp các bên muốn phân chia tài sản sau này.\\n\\n2. **Khiếu Nại và Yêu Cầu Hủy Bỏ**: Các bên có thể yêu cầu Tòa án xem xét và hủy bỏ việc kết hôn trái pháp luật nếu có đủ bằng chứng để chứng minh các sai phạm trong việc xác lập quan hệ hôn nhân.\\n\\n3. **Chăm Sóc Con Cái**: Nếu cặp đôi có con chung, trách nhiệm nuôi dưỡng và chăm sóc con cái vẫn được quy định rõ ràng. Tòa án sẽ căn cứ vào các yếu tố để quyết định ai sẽ là người nuôi dưỡng, bất kể việc kết hôn giữa cha mẹ có hợp pháp hay không.\\n\\n4. **Phạt Hành Chính**: Tùy thuộc vào mức độ vi phạm, các cá nhân có thể bị xử phạt hành chính theo quy định của pháp luật đối với hành vi tổ chức tảo hôn, vi phạm quy định về kết hôn.\\n\\n#### Vai Trò Của Chính Quyền và Các Tổ Chức\\n\\nChính quyền địa phương, cơ quan chức năng và các tổ chức xã hội như Hội Liên hiệp phụ nữ có trách nhiệm tuyên truyền, giáo dục về hôn nhân và gia đình nhằm giảm thiểu tình trạng kết hôn trái pháp luật. Họ cũng tạo ra các chương trình hỗ trợ cho những nạn nhân của các trường hợp tổ chức hôn nhân trái pháp luật, bảo vệ quyền lợi và nâng cao nhận thức cộng đồng.\\n\\n### Kết Luận\\n\\nViệc xử lý kết hôn trái pháp luật sẽ không chỉ đòi hỏi sự can thiệp từ cơ quan nhà nước mà còn cần có sự hiểu biết và trách nhiệm từ phía các cá nhân trong xã hội. Việc nâng cao nhận thức về pháp luật và thực hiện đúng quy định sẽ góp phần bảo vệ các cá nhân, gia đình và xã hội khỏi những hệ lụy tiêu cực do hôn nhân trái pháp luật gây ra.',\n",
       "  'a': 'Kết hôn trái pháp luật là việc nam, nữ đã đăng ký kết hôn tại cơ quan nhà nước có thẩm quyền nhưng một bên hoặc cả hai bên vi phạm điều kiện kết hôn theo quy định tại Điều 8 của Luật hôn nhân và gia đình.\\nTheo Điều 11 Luật hôn nhân và gia đình năm 2014 thì xử lý việc kết hôn trái pháp luật được quy định như sau:\\n1. Xử lý việc kết hôn trái pháp luật được Tòa án thực hiện theo quy định tại Luật hôn nhân và gia đình, pháp luật về tố tụng dân sự.\\n2. Trong trường hợp tại thời điểm Tòa án giải quyết yêu cầu hủy việc kết hôn trái pháp luật mà cả hai bên kết hôn đã có đủ các điều kiện kết hôn theo quy định tại Điều 8 của Luật này và hai bên yêu cầu công nhận quan hệ hôn nhân thì Tòa án công nhận quan hệ hôn nhân đó. Trong trường hợp này, quan hệ hôn nhân được xác lập từ thời điểm các bên đủ điều kiện kết hôn.\\n3. Quyết định của Tòa án về việc hủy kết hôn trái pháp luật hoặc công nhận quan hệ hôn nhân phải được gửi cho cơ quan đã thực hiện việc đăng ký kết hôn để ghi vào sổ hộ tịch; hai bên kết hôn trái pháp luật; cá nhân, cơ quan, tổ chức liên quan theo quy định của pháp luật về tố tụng dân sự.',\n",
       "  'baseline': 'Việc xử lý kết hôn trái pháp luật được quy định trong pháp luật hôn nhân và gia đình của Việt Nam. Theo Luật Hôn nhân và Gia đình năm 2014, kết hôn trái pháp luật là việc nam, nữ xác lập quan hệ vợ chồng mà vi phạm các điều kiện kết hôn do pháp luật quy định. Các điều kiện kết hôn bao gồm:\\n\\n1. Nam từ đủ 20 tuổi trở lên, nữ từ đủ 18 tuổi trở lên.\\n2. Việc kết hôn do nam và nữ tự nguyện quyết định.\\n3. Không bị mất năng lực hành vi dân sự.\\n4. Không thuộc các trường hợp cấm kết hôn như: kết hôn giả tạo, tảo hôn, cưỡng ép kết hôn, lừa dối kết hôn, người đang có vợ hoặc có chồng, kết hôn giữa những người có quan hệ huyết thống gần gũi, hoặc giữa cha mẹ nuôi và con nuôi.\\n\\nNếu một cuộc hôn nhân bị coi là trái pháp luật, cơ quan có thẩm quyền có thể yêu cầu hủy bỏ việc kết hôn đó. Quyết định hủy bỏ kết hôn trái pháp luật có thể được thực hiện bởi tòa án nhân dân theo yêu cầu của một trong hai bên, người thứ ba có quyền lợi liên quan, hoặc cơ quan, tổ chức có thẩm quyền.\\n\\nHậu quả pháp lý của việc hủy bỏ kết hôn trái pháp luật bao gồm:\\n\\n- Quan hệ giữa hai bên nam nữ chấm dứt từ thời điểm quyết định của tòa án có hiệu lực pháp luật.\\n- Quyền và nghĩa vụ đối với con cái được giải quyết như trường hợp cha mẹ ly hôn.\\n- Tài sản chung được giải quyết theo thỏa thuận của hai bên; nếu không thỏa thuận được thì giải quyết theo quy định của pháp luật về chia tài sản khi ly hôn.\\n\\nNgoài ra, các cá nhân vi phạm có thể bị xử phạt hành chính hoặc chịu trách nhiệm hình sự tùy theo mức độ vi phạm và hậu quả gây ra.',\n",
       "  'mini': 'Việc kết hôn trái pháp luật ở Việt Nam được quy định tại Bộ luật Dân sự và Luật Hôn nhân và Gia đình. Dưới đây là một số điểm chính liên quan đến việc xử lý kết hôn trái pháp luật:\\n\\n1. **Khái niệm kết hôn trái pháp luật**: Kết hôn trái pháp luật là việc kết hôn không đáp ứng đủ các điều kiện theo quy định của pháp luật, chẳng hạn như một trong hai bên chưa đủ tuổi kết hôn, hoặc một trong hai bên đã có vợ/chồng, hoặc không có sự đồng ý của cha mẹ (đối với người chưa đủ tuổi).\\n\\n2. **Hậu quả pháp lý**: Kết hôn trái pháp luật sẽ không được công nhận, và các quyền lợi phát sinh từ mối quan hệ hôn nhân này sẽ không được pháp luật bảo vệ. Tuy nhiên, nếu có con chung, quyền lợi và nghĩa vụ của cha mẹ đối với con vẫn được công nhận.\\n\\n3. **Xử lý**: Các bên có thể yêu cầu Tòa án tuyên bố hôn nhân vô hiệu. Khi hôn nhân bị tuyên bố vô hiệu, các bên sẽ trở lại tình trạng pháp lý như trước khi kết hôn.\\n\\n4. **Bảo vệ quyền lợi**: Trong trường hợp có tranh chấp về tài sản hoặc quyền lợi liên quan đến con cái, Tòa án sẽ xem xét và giải quyết theo quy định của pháp luật, đảm bảo quyền lợi hợp pháp của các bên liên quan.\\n\\n5. **Xử lý vi phạm**: Ngoài ra, những hành vi kết hôn trái pháp luật có thể bị xử lý theo quy định của pháp luật, tùy thuộc vào tính chất và mức độ vi phạm.\\n\\nNếu bạn cần thông tin chi tiết hơn về một khía cạnh cụ thể, hãy cho tôi biết!'},\n",
       " {'q': 'Mặc dù chưa ly hôn với vợ nhưng anh A đã cưới và kết hôn với chị C. Theo yêu cầu của vợ anh A, Tòa án đã tuyên bố hủy kết hôn trái pháp luật giữa anh A và chị C. Xin hỏi, theo quy định của pháp luật, quan hệ giữa anh A và chị C được giải quyết như thế nào?',\n",
       "  'hybrid': '### Giải Quyết Quan Hệ Hôn Nhân Giữa Anh A và Chị C\\n\\nTheo quy định của Luật Hôn nhân và Gia đình năm 2014 tại Việt Nam, việc kết hôn giữa anh A và chị C được xem là trái pháp luật, do anh A vẫn chưa ly hôn với vợ. Trong trường hợp này, Tòa án có thẩm quyền xem xét và quyết định về yêu cầu hủy kết hôn trái pháp luật.\\n\\n#### Xử lý Hủy Kết Hôn\\n\\n1. **Hủy Kết Hôn Trái Pháp Luật**:\\n   - Khi tòa án tuyên bố hủy kết hôn giữa anh A và chị C, điều này đồng nghĩa với việc mối quan hệ hôn nhân này sẽ không được công nhận về mặt pháp lý. Hôn nhân giữa anh A và chị C không có giá trị hợp pháp từ thời điểm kết hôn.\\n   - Tòa án sẽ đưa ra quyết định xử lý các vấn đề phát sinh liên quan đến tài sản, nghĩa vụ của các bên sau khi hủy kết hôn.\\n\\n2. **Hậu Quả Pháp Lý**:\\n   - Theo Điều 12 của Luật Hôn nhân và Gia đình, các quyền và nghĩa vụ của cha, mẹ, con, cùng với các vấn đề tài sản giữa các bên sẽ được quy định cụ thể. \\n   - Trong trường hợp về tài sản, tài sản chung sẽ được xử lý theo quy định tại thời điểm kết hôn của anh A với chị C và các nghĩa vụ liên quan sẽ được giải quyết theo các điều khoản luật pháp hiện hành.\\n\\n3. **Quan Hệ Với Vợ Của Anh A**:\\n   - Cùng với việc hủy kết hôn với chị C, anh A vẫn giữ mối quan hệ hôn nhân hợp pháp với vợ. Anh A phải thực hiện nghĩa vụ đối với vợ của mình theo quy định hiện hành về quyền nuôi con, cấp dưỡng và các nghĩa vụ tài chính khác.\\n\\n### Kết Luận\\n\\nKết luận, việc hủy kết hôn giữa anh A và chị C nghĩa là Tòa án đã công nhận rằng quan hệ này là không hợp pháp. Mọi quyền lợi và nghĩa vụ phát sinh từ mối quan hệ này sẽ được Tòa án giải quyết theo quy định của Luật Hôn nhân và Gia đình. Đồng thời, anh A vẫn có nghĩa vụ pháp lý và trách nhiệm đối với vợ của mình, cũng như các quyền và nghĩa vụ liên quan đến cuộc sống gia đình cần được tuân thủ.',\n",
       "  'a': 'Theo Điều 12 Luật hôn nhân và gia đình năm 2014, khi bị hủy kết hôn trái pháp luật, anh A và chị C phải chấm dứt quan hệ như vợ chồng.\\nTrong trường hợp anh A và chị C đã có con chung thì quyền, nghĩa vụ của cha, mẹ, con được giải quyết theo quy định về quyền, nghĩa vụ của cha, mẹ, con khi ly hôn.\\nQuan hệ tài sản, nghĩa vụ và hợp đồng giữa anh A và chị C được giải quyết theo quy định sau:\\n- Quan hệ tài sản, nghĩa vụ và hợp đồng của anh A và chị C được giải quyết theo thỏa thuận giữa các bên; trong trường hợp không có thỏa thuận thì giải quyết theo quy định của Bộ luật dân sự và các quy định khác của pháp luật có liên quan.\\n- Việc giải quyết quan hệ tài sản phải bảo đảm quyền, lợi ích hợp pháp của phụ nữ và con; công việc nội trợ và công việc khác có liên quan để duy trì đời sống chung được coi như lao động có thu nhập.',\n",
       "  'baseline': 'Theo quy định của pháp luật Việt Nam, cụ thể là Luật Hôn nhân và Gia đình, khi một cuộc hôn nhân bị tuyên bố là vô hiệu (trong trường hợp này là do anh A đã kết hôn với chị C trong khi chưa ly hôn với vợ), thì quan hệ giữa hai bên sẽ được giải quyết như sau:\\n\\n1. **Quan hệ hôn nhân**: Cuộc hôn nhân giữa anh A và chị C bị coi là vô hiệu ngay từ thời điểm kết hôn. Điều này có nghĩa là về mặt pháp lý, cuộc hôn nhân này chưa từng tồn tại.\\n\\n2. **Quyền và nghĩa vụ của các bên**: Các bên không có quyền và nghĩa vụ của vợ chồng. Tuy nhiên, nếu một trong hai bên không biết về việc hôn nhân bị vô hiệu (ví dụ, chị C không biết anh A đã có vợ), thì bên đó có thể yêu cầu bồi thường thiệt hại.\\n\\n3. **Con chung**: Nếu có con chung giữa anh A và chị C, quyền và nghĩa vụ đối với con cái sẽ được giải quyết như trong trường hợp ly hôn. Điều này có nghĩa là tòa án sẽ xem xét và quyết định về quyền nuôi con, cấp dưỡng, và các vấn đề liên quan khác dựa trên lợi ích tốt nhất của đứa trẻ.\\n\\n4. **Tài sản chung**: Tài sản chung sẽ được giải quyết theo thỏa thuận của các bên. Nếu không thỏa thuận được, tòa án sẽ giải quyết theo nguyên tắc chia tài sản chung của vợ chồng khi ly hôn, có tính đến công sức đóng góp của mỗi bên, quyền lợi chính đáng của mỗi bên trong sản xuất, kinh doanh và nghề nghiệp để các bên có điều kiện tiếp tục lao động tạo thu nhập.\\n\\nNhư vậy, mặc dù cuộc hôn nhân bị coi là vô hiệu, các vấn đề liên quan đến con cái và tài sản vẫn được giải quyết theo các quy định tương tự như trong trường hợp ly hôn.',\n",
       "  'mini': 'Theo quy định của pháp luật Việt Nam, việc kết hôn giữa anh A và chị C là trái pháp luật do anh A vẫn đang có vợ và chưa ly hôn. Khi Tòa án tuyên bố hủy kết hôn trái pháp luật, quan hệ giữa anh A và chị C sẽ được giải quyết như sau:\\n\\n1. **Hủy kết hôn**: Kết hôn giữa anh A và chị C sẽ được coi là không có hiệu lực pháp luật kể từ thời điểm Tòa án tuyên bố hủy kết hôn. Điều này có nghĩa là về mặt pháp lý, quan hệ hôn nhân giữa anh A và chị C không tồn tại.\\n\\n2. **Quyền lợi và nghĩa vụ**: Theo quy định tại Bộ luật Dân sự, khi hủy kết hôn trái pháp luật, các bên sẽ không có quyền và nghĩa vụ phát sinh từ quan hệ hôn nhân đó. Tuy nhiên, nếu trong thời gian chung sống, anh A và chị C có con chung, quyền và nghĩa vụ liên quan đến con cái sẽ vẫn được thực hiện theo quy định của pháp luật.\\n\\n3. **Tài sản chung**: Nếu anh A và chị C có tài sản chung trong thời gian chung sống, việc phân chia tài sản sẽ được giải quyết theo quy định của pháp luật về tài sản chung và riêng, có thể thông qua thỏa thuận hoặc yêu cầu Tòa án giải quyết.\\n\\n4. **Trách nhiệm pháp lý**: Anh A có thể phải chịu trách nhiệm pháp lý nếu có hành vi vi phạm quy định về hôn nhân và gia đình, chẳng hạn như tội vi phạm chế độ một vợ một chồng theo quy định của Bộ luật Hình sự.\\n\\nTóm lại, quan hệ giữa anh A và chị C sẽ bị hủy bỏ và không còn hiệu lực pháp luật, và các vấn đề liên quan sẽ được giải quyết theo quy định của pháp luật hiện hành.'},\n",
       " {'q': 'Gia đình chồng tôi theo đạo tin lành, sau khi kết hôn, chồng tôi và gia đình chồng ép tôi phải theo đạo tin lành. Xin hỏi, việc làm của họ có đúng không và pháp luật quy định vấn đề này như thế nào?',\n",
       "  'hybrid': '### Luật Hôn Nhân và Gia Đình tại Việt Nam\\n\\nTheo Luật Hôn nhân và gia đình năm 2014, trong quan hệ hôn nhân, một trong những nguyên tắc quan trọng là **quyền tự do tín ngưỡng và tôn giáo**. Mỗi cá nhân có quyền tự do theo đuổi và thực hành tín ngưỡng của riêng mình mà không bị áp đặt hay cưỡng ép bởi bất kỳ ai khác, bao gồm cả người phối ngẫu và thành viên trong gia đình.\\n\\n### Trách nhiệm pháp lý của các bên\\n\\nCụ thể, việc ép buộc một cá nhân phải theo một tín ngưỡng, tôn giáo cụ thể mà không có sự đồng thuận từ cá nhân đó có thể được coi là vi phạm quyền tự do cá nhân. Hành vi này không chỉ đi ngược lại với nguyên tắc dân chủ và bình đẳng mà còn có thể gây căng thẳng và xung đột trong quan hệ vợ chồng.\\n\\n### Quy định pháp luật về tự do tín ngưỡng\\n\\nLuật pháp Việt Nam nghiêm cấm hành vi ép buộc người khác theo tín ngưỡng hoặc tôn giáo. Theo quy định trong Hiến pháp, quyền tự do tín ngưỡng và tôn giáo là một quyền cơ bản của công dân. Mọi cá nhân đều có quyền tự do lựa chọn tôn giáo mà họ theo đuổi mà không bị cản trở. Nếu có hành vi ép buộc xảy ra, bạn có quyền phản ánh và yêu cầu sự can thiệp từ các cơ quan nhà nước bảo vệ quyền lợi của công dân, chẳng hạn như Hội Liên hiệp phụ nữ hoặc các tổ chức có trách nhiệm về công tác gia đình và xã hội.\\n\\n### Biện pháp khuyến nghị\\n\\nTrong trường hợp của bạn, để giải quyết vấn đề này, bạn có thể thực hiện một số bước sau:\\n\\n1. **Trò chuyện và thương lượng**: Cố gắng nói chuyện trực tiếp với chồng bạn và gia đình anh ấy về quan điểm của bạn, nhấn mạnh rằng bạn muốn tôn trọng niềm tin của họ nhưng cũng mong muốn được tôn trọng quyền tự do tín ngưỡng của chính mình.\\n\\n2. **Tìm kiếm hỗ trợ**: Nếu phần trò chuyện không đạt được kết quả, bạn có thể cần tìm kiếm nha tư vấn pháp lý hoặc các tổ chức hỗ trợ khác để hiểu rõ hơn về quyền lợi của mình và cách bảo vệ chúng.\\n\\n3. **Liên hệ cơ quan chức năng**: Nếu tình trạng ép buộc vẫn tiếp diễn và gây ra áp lực tâm lý nghiêm trọng, bạn có thể xem xét thông báo cho các cơ quan chức năng để can thiệp.\\n\\nTóm lại, hành vi ép buộc theo tôn giáo của chồng bạn và gia đình chồng là không hợp pháp theo quy định của pháp luật hiện hành tại Việt Nam. Bạn có quyền bảo vệ quyền lợi của chính mình và yêu cầu sự tôn trọng đối với quyền tự do tín ngưỡng cá nhân.',\n",
       "  'a': 'Chính sách của Đảng và pháp luật của Nhà nước ta luôn coi trọng quyền tự do tín ngưỡng, tôn giáo của mọi công dân. Điều đó được thể hiện trong các Hiến pháp và được cụ thể hóa trong Luật hôn nhân và gia đình năm 2014 tại Điều 22 quy định: “Vợ, chồng có nghĩa vụ tôn trọng quyền tự do tín ngưỡng, tôn giáo của nhau”. Như vậy, theo quy định này, bạn có quyền tự do quyết định theo hoặc không theo đạo tin lành. Việc chồng và gia đình chồng ép bạn phải theo tôn giáo của họ là trái với quy định của pháp luật. Trong trường hợp này bạn có thể giải thích, thuyết phục với chồng và gia đình chồng để họ hiểu và tôn trọng quyền tự do tín ngưỡng của bạn. Nếu như bạn không tự thuyết phục được thì nên nhờ sự giúp đỡ của những người có uy tín trong cộng đồng, chính quyền, đoàn thể nơi bạn đang sinh sống.',\n",
       "  'baseline': 'Theo pháp luật Việt Nam, mọi người đều có quyền tự do tín ngưỡng, tôn giáo. Điều này được quy định rõ trong Hiến pháp năm 2013, cụ thể tại Điều 24, khoản 1: \"Mọi người có quyền tự do tín ngưỡng, tôn giáo, theo hoặc không theo một tôn giáo nào. Các tôn giáo đều bình đẳng trước pháp luật.\"\\n\\nViệc ép buộc người khác phải theo một tôn giáo nào đó là vi phạm quyền tự do tín ngưỡng, tôn giáo của cá nhân. Pháp luật Việt Nam không cho phép bất kỳ ai, kể cả gia đình, ép buộc người khác phải thay đổi tôn giáo hoặc theo một tôn giáo mà họ không mong muốn.\\n\\nNếu bạn cảm thấy bị ép buộc phải theo đạo Tin Lành, bạn có quyền từ chối và bảo vệ quyền tự do tín ngưỡng của mình. Trong trường hợp cần thiết, bạn có thể tìm đến các cơ quan chức năng hoặc tổ chức bảo vệ quyền con người để được hỗ trợ và tư vấn thêm.',\n",
       "  'mini': 'Việc ép buộc một người theo một tôn giáo nào đó, bao gồm cả việc theo đạo Tin Lành, là không đúng và vi phạm quyền tự do tín ngưỡng, tôn giáo của cá nhân. Theo quy định của pháp luật Việt Nam, quyền tự do tín ngưỡng, tôn giáo được bảo đảm bởi Hiến pháp và các văn bản pháp luật liên quan.\\n\\nCụ thể, Điều 24 của Hiến pháp Việt Nam năm 2013 quy định rằng mọi người có quyền tự do tín ngưỡng, tôn giáo, hoặc không theo tôn giáo nào. Việc ép buộc một người theo một tôn giáo cụ thể có thể được coi là hành vi vi phạm quyền tự do cá nhân.\\n\\nNếu bạn cảm thấy bị áp lực hoặc bị ép buộc, bạn có thể tìm kiếm sự hỗ trợ từ các tổ chức bảo vệ quyền lợi cá nhân hoặc các cơ quan chức năng để được tư vấn và giúp đỡ. Quan trọng nhất là bạn có quyền quyết định về tín ngưỡng và tôn giáo của mình mà không bị ép buộc từ bất kỳ ai.'},\n",
       " {'q': 'Vợ chồng anh A, chị H cùng mở nhà hàng kinh doanh dịch vụ ăn uống. Trong đó, anh A trực tiếp quản lý nhà hàng. Xin hỏi, anh A có là đại diện hợp pháp của hai vợ chồng trong quan hệ kinh doanh đó không? Trường hợp vợ chồng anh A, chị H có thỏa thuận về việc đưa tài sản chung vào kinh doanh thì anh A có quyền tự mình thực hiện giao dịch liên quan đến tài sản chung đó không? Vợ anh A có phải chịu trách nhiệm liên đới đối với những giao dịch trong quan hệ kinh doanh do anh A thực hiện không?',\n",
       "  'hybrid': 'Trong bối cảnh pháp lý tại Việt Nam, anh A và chị H là hai thành viên trong một quan hệ hôn nhân hợp pháp. Khi họ cùng mở nhà hàng kinh doanh dịch vụ ăn uống, có một số điều cần xem xét liên quan đến quyền đại diện, quyền thực hiện giao dịch và trách nhiệm liên đới của các bên trong quan hệ này.\\n\\n### Quyền Đại Diện của Anh A\\n\\nTheo quy định của Luật Hôn nhân và Gia đình năm 2014, anh A mặc dù trực tiếp quản lý nhà hàng, nhưng không tự động được coi là đại diện hợp pháp cho cả hai trong mọi quan hệ kinh doanh. Để có quyền đại diện hợp pháp, cần có sự thỏa thuận rõ ràng giữa anh A và chị H về việc anh A sẽ đại diện cho cả hai vợ chồng trong các giao dịch liên quan đến nhà hàng. Nếu không có thỏa thuận như vậy, anh A chỉ có thể thực hiện các giao dịch mà chị H đã đồng ý hoặc chấp thuận.\\n\\n### Quyền Tự Thực Hiện Giao Dịch\\n\\nKhi vợ chồng anh A, chị H đã thỏa thuận về việc đưa tài sản chung vào kinh doanh, thì quyền tự mình thực hiện giao dịch liên quan đến tài sản chung phụ thuộc vào những điều khoản trong thỏa thuận đó. Thông thường, nếu có thỏa thuận chấp thuận và quy định rõ ràng, anh A sẽ có quyền tự mình thực hiện giao dịch liên quan đến tài sản chung mà không cần phải có sự chấp thuận từng lần từ chị H.\\n\\n### Trách Nhiệm Liên Đới của Chị H\\n\\nVề trách nhiệm liên đới, chị H có thể phải chịu trách nhiệm pháp lý về các giao dịch mà anh A thực hiện trong quan hệ kinh doanh, đặc biệt nếu những giao dịch đó liên quan đến tài sản chung của cả hai. Theo các quy định của Luật Hôn nhân và Gia đình, vợ chồng có nghĩa vụ chung trong việc giải quyết các nghĩa vụ tài chính và quyền lợi trong quan hệ kinh doanh. Do đó, nếu một trong hai bên thực hiện giao dịch liên quan đến tài sản chung, bên còn lại sẽ chịu trách nhiệm mặc định đối với các nghĩa vụ phát sinh từ giao dịch đó, trừ khi có sự thỏa thuận khác.\\n\\n### Kết luận\\n\\nTóm lại, trong trường hợp vợ chồng anh A, chị H cần thiết lập rõ ràng các thỏa thuận về quyền đại diện và nghĩa vụ tài chính liên quan đến giao dịch kinh doanh. Điều này không chỉ giúp bảo vệ quyền lợi của cả hai bên mà còn tránh phát sinh những tranh chấp pháp lý tiềm năng trong tương lai. Để quản lý rủi ro một cách hiệu quả, tốt nhất là họ nên tham khảo ý kiến của một luật sư để lập một thỏa thuận kinh doanh chi tiết.',\n",
       "  'a': 'Theo quy định tại Điều 25 Luật hôn nhân và gia đình năm 2014, trong trường hợp vợ, chồng kinh doanh chung thì vợ, chồng trực tiếp tham gia quan hệ kinh doanh là người đại diện hợp pháp của nhau trong quan hệ kinh doanh đó, trừ trường hợp trước khi tham gia quan hệ kinh doanh, vợ chồng có thỏa thuận khác hoặc Luật hôn nhân và gia đình và các luật liên quan có quy định khác. \\n        Như vậy, trong trường hợp nêu trên, anh A là người đại diện hợp pháp của hai vợ chồng trong quan hệ kinh doanh của nhà hàng.\\n    Theo Điều 36 Luật hôn nhân và gia đình năm 2014, trong trường hợp vợ chồng anh A có thỏa thuận về việc một bên đưa tài sản chung vào kinh doanh thì anh A có quyền tự mình thực hiện giao dịch liên quan đến tài sản chung đó. Thỏa thuận này phải lập thành văn bản.\\nTheo quy định tại Điều 27 Luật hôn nhân và gia đình, vợ anh A chịu trách nhiệm liên đới đối với giao dịch trong quan hệ kinh doanh do anh A đại diện thực hiện.',\n",
       "  'baseline': 'Trong trường hợp vợ chồng cùng mở nhà hàng kinh doanh dịch vụ ăn uống, việc anh A có phải là đại diện hợp pháp của hai vợ chồng trong quan hệ kinh doanh hay không phụ thuộc vào thỏa thuận giữa hai vợ chồng và quy định của pháp luật.\\n\\n1. **Đại diện hợp pháp**: Theo quy định của pháp luật Việt Nam, nếu vợ chồng không có thỏa thuận khác, thì cả hai vợ chồng đều có quyền và nghĩa vụ ngang nhau trong việc quản lý tài sản chung. Tuy nhiên, nếu anh A trực tiếp quản lý nhà hàng và có sự thỏa thuận giữa hai vợ chồng rằng anh A là người đại diện, thì anh A có thể được coi là đại diện hợp pháp trong quan hệ kinh doanh đó.\\n\\n2. **Thỏa thuận về tài sản chung**: Nếu vợ chồng anh A, chị H có thỏa thuận về việc đưa tài sản chung vào kinh doanh, thì anh A có quyền thực hiện các giao dịch liên quan đến tài sản chung đó trong phạm vi thỏa thuận. Tuy nhiên, nếu không có thỏa thuận cụ thể, theo quy định của pháp luật, việc định đoạt tài sản chung cần có sự đồng ý của cả hai vợ chồng.\\n\\n3. **Trách nhiệm liên đới**: Theo quy định của pháp luật hôn nhân và gia đình Việt Nam, nếu anh A thực hiện các giao dịch trong quan hệ kinh doanh mà sử dụng tài sản chung của vợ chồng, thì chị H cũng có thể phải chịu trách nhiệm liên đới đối với những nghĩa vụ phát sinh từ các giao dịch đó, trừ khi có thỏa thuận khác giữa hai vợ chồng hoặc pháp luật có quy định khác.\\n\\nTóm lại, để xác định rõ ràng quyền và nghĩa vụ của mỗi bên trong quan hệ kinh doanh, vợ chồng nên có thỏa thuận cụ thể và rõ ràng, đồng thời tuân thủ các quy định của pháp luật hiện hành.',\n",
       "  'mini': 'Trong trường hợp của anh A và chị H, việc xác định anh A có phải là đại diện hợp pháp của cả hai vợ chồng trong quan hệ kinh doanh hay không phụ thuộc vào hình thức kinh doanh mà họ đã lựa chọn.\\n\\n1. **Đại diện hợp pháp trong quan hệ kinh doanh**: Nếu anh A và chị H cùng mở nhà hàng và không có thỏa thuận nào khác, theo quy định của Luật Hôn nhân và Gia đình, cả hai vợ chồng đều có quyền và nghĩa vụ đối với tài sản chung, bao gồm cả việc kinh doanh. Tuy nhiên, trong trường hợp này, anh A có thể được coi là người đại diện cho cả hai trong các giao dịch liên quan đến nhà hàng nếu chị H đã ủy quyền cho anh A hoặc nếu có thỏa thuận rõ ràng về việc này.\\n\\n2. **Quyền thực hiện giao dịch liên quan đến tài sản chung**: Nếu vợ chồng anh A, chị H có thỏa thuận về việc đưa tài sản chung vào kinh doanh, anh A có quyền tự mình thực hiện giao dịch liên quan đến tài sản chung đó. Tuy nhiên, để bảo vệ quyền lợi của cả hai bên, tốt nhất là nên có sự đồng ý hoặc ủy quyền rõ ràng từ chị H.\\n\\n3. **Trách nhiệm liên đới**: Vợ anh A (chị H) có thể phải chịu trách nhiệm liên đới đối với những giao dịch trong quan hệ kinh doanh do anh A thực hiện nếu các giao dịch đó liên quan đến tài sản chung của hai vợ chồng và không có thỏa thuận nào khác. Theo quy định của pháp luật, trong trường hợp vợ chồng cùng kinh doanh, cả hai đều có trách nhiệm đối với các nghĩa vụ phát sinh từ hoạt động kinh doanh, trừ khi có thỏa thuận khác.\\n\\nTóm lại, anh A có thể là đại diện hợp pháp của cả hai trong quan hệ kinh doanh nếu có sự đồng ý của chị H. Anh A có quyền thực hiện giao dịch liên quan đến tài sản chung nếu có thỏa thuận rõ ràng, và chị H có thể phải chịu trách nhiệm liên đới đối với các giao dịch đó.'},\n",
       " {'q': 'Vợ chồng chịu trách nhiệm liên đới trong những trường hợp nào?',\n",
       "  'hybrid': 'Trách nhiệm liên đới của vợ chồng trong quan hệ hôn nhân là một phần quan trọng trong việc điều chỉnh các nghĩa vụ và quyền lợi của các bên. Dưới đây là những trường hợp cụ thể mà vợ chồng sẽ chịu trách nhiệm liên đới theo quy định của Luật Hôn nhân và Gia đình tại Việt Nam.\\n\\n### 1. Nghĩa vụ tài sản chung\\nTheo Luật Hôn nhân và Gia đình 2014, vợ chồng có nghĩa vụ tài sản chung trong quá trình quản lý và sử dụng tài sản chung đã tạo lập trong thời gian hôn nhân. Điều này có nghĩa là nếu một bên thực hiện giao dịch kinh tế hoặc vay nợ liên quan đến tài sản chung, cả hai vợ chồng đều sẽ chịu trách nhiệm với bên thứ ba. Điều này bao gồm việc thanh toán nợ nần hoặc bồi thường thiệt hại.\\n\\n### 2. Thực hiện nghĩa vụ cấp dưỡng\\nCả hai vợ chồng đều có trách nhiệm thực hiện nghĩa vụ cấp dưỡng cho con cái trong trường hợp hôn nhân không còn tồn tại, hoặc nếu một trong hai bên không đủ khả năng tài chính. Trách nhiệm này không chỉ áp dụng cho trường hợp đang sống chung mà còn trong các trường hợp ly hôn, nơi mà một bên có thể yêu cầu cấp dưỡng hoặc giao quyền nuôi dưỡng cho bên kia.\\n\\n### 3. Quyền và nghĩa vụ trong việc nuôi dưỡng và giáo dục con\\nCả vợ chồng đều có trách nhiệm liên đới trong việc nuôi dưỡng, chăm sóc và giáo dục con cái. Quyền lợi của trẻ em luôn là ưu tiên hàng đầu, và cả hai bên cha mẹ cần làm việc cùng nhau để đảm bảo quyền lợi tối ưu cho con cái trong mọi hoàn cảnh.\\n\\n### 4. Trách nhiệm về bạo lực gia đình\\nTrong các trường hợp bạo lực gia đình, nếu một trong hai bên thực hiện hành vi bạo lực, ngoài việc phải chịu trách nhiệm pháp lý, có thể tác động đến quyền lợi và nghĩa vụ khi phân chia tài sản trong quá trình ly hôn hoặc giải quyết tranh chấp.\\n\\n### 5. Các nghĩa vụ trong các giao dịch dân sự\\nTrong mọi giao dịch dân sự mà vợ chồng tham gia, ví dụ như mua bán, cho thuê hoặc thế chấp tài sản, cả hai bên đều sẽ bị ràng buộc và phải thực hiện nghĩa vụ liên đới. Điều này có nghĩa là nếu một bên không thực hiện trách nhiệm của mình, bên còn lại có trách nhiệm thay thế để đảm bảo quyền lợi của bên thứ ba.\\n\\nTrên đây là một số trường hợp chính mà vợ chồng sẽ chịu trách nhiệm liên đới theo quy định của pháp luật hiện hành tại Việt Nam. Sự chia sẻ trách nhiệm trong xã hội ngày nay không chỉ là một nghĩa vụ pháp lý mà còn thể hiện sự tôn trọng và đoàn kết trong mối quan hệ hôn nhân.',\n",
       "  'a': 'Theo quy định tại Điều 27 Luật hôn nhân và gia đình năm 2014 thì vợ chồng chịu trách nhiệm liên đới trong những trường hợp sau đây:\\na) Vợ chồng chịu trách nhiệm liên đới đối với giao dịch do một bên thực hiện nhằm đáp ứng nhu cầu thiết yếu của gia đình hoặc giao dịch khác phù hợp với quy định về đại diện giữa vợ chồng trong các trường hợp sau:\\n- Trường hợp xác lập, thực hiện và chấm dứt giao dịch mà theo quy định của Luật hôn nhân và gia đình, Bộ luật dân sự và các luật khác có liên quan phải có sự đồng ý của cả hai vợ chồng;\\n- Trường hợp vợ chồng kinh doanh chung;\\n- Trường hợp đại diện giữa vợ và chồng trong việc xác lập, thực hiện và chấm dứt giao dịch liên quan đến tài sản chung có giấy chứng nhận quyền sở hữu, giấy chứng nhận quyền sử dụng tài sản chỉ ghi tên vợ hoặc chồng;\\nb) Vợ chồng chịu trách nhiệm liên đới về các nghĩa vụ chung đối với tài sản của vợ chồng sau đây:\\n- Nghĩa vụ phát sinh từ giao dịch do vợ chồng cùng thỏa thuận xác lập, nghĩa vụ bồi thường thiệt hại mà theo quy định của pháp luật vợ chồng cùng phải chịu trách nhiệm;\\n- Nghĩa vụ do vợ hoặc chồng thực hiện nhằm đáp ứng nhu cầu thiết yếu của gia đình;\\n- Nghĩa vụ phát sinh từ việc chiếm hữu, sử dụng, định đoạt tài sản chung;\\n- Nghĩa vụ phát sinh từ việc sử dụng tài sản riêng để duy trì, phát triển khối tài sản chung hoặc để tạo ra nguồn thu nhập chủ yếu của gia đình;\\n- Nghĩa vụ bồi thường thiệt hại do con gây ra mà theo quy định của Bộ luật dân sự thì cha mẹ phải bồi thường;\\n- Nghĩa vụ khác theo quy định của các luật có liên quan.',\n",
       "  'baseline': 'Trong pháp luật Việt Nam, vợ chồng chịu trách nhiệm liên đới trong một số trường hợp nhất định, đặc biệt liên quan đến tài sản chung và nghĩa vụ chung. Dưới đây là một số trường hợp phổ biến:\\n\\n1. **Nghĩa vụ tài chính chung**: Vợ chồng chịu trách nhiệm liên đới đối với các nghĩa vụ tài chính phát sinh trong thời kỳ hôn nhân nhằm đáp ứng nhu cầu thiết yếu của gia đình, như chi phí sinh hoạt, chăm sóc con cái, và các khoản nợ chung khác.\\n\\n2. **Giao dịch liên quan đến tài sản chung**: Khi một trong hai người thực hiện giao dịch liên quan đến tài sản chung của vợ chồng mà không có sự đồng ý của người kia, cả hai vẫn có thể phải chịu trách nhiệm liên đới nếu giao dịch đó nhằm đáp ứng nhu cầu thiết yếu của gia đình.\\n\\n3. **Nghĩa vụ bồi thường thiệt hại**: Trong một số trường hợp, nếu một trong hai người gây ra thiệt hại cho bên thứ ba trong quá trình thực hiện nghĩa vụ chung của gia đình, cả hai có thể phải chịu trách nhiệm bồi thường liên đới.\\n\\n4. **Nghĩa vụ nuôi dưỡng và chăm sóc con cái**: Cả hai vợ chồng đều có trách nhiệm liên đới trong việc nuôi dưỡng, chăm sóc và giáo dục con cái.\\n\\n5. **Các nghĩa vụ khác theo thỏa thuận**: Nếu vợ chồng có thỏa thuận cụ thể về việc chịu trách nhiệm liên đới trong một số nghĩa vụ khác, thì thỏa thuận đó cũng có thể được pháp luật công nhận.\\n\\nLuật Hôn nhân và Gia đình Việt Nam quy định rõ ràng về các trách nhiệm và nghĩa vụ của vợ chồng, nhằm bảo vệ quyền lợi của cả hai bên cũng như của gia đình và con cái.',\n",
       "  'mini': 'Vợ chồng chịu trách nhiệm liên đới trong một số trường hợp nhất định theo quy định của pháp luật, đặc biệt là trong lĩnh vực dân sự và thương mại. Dưới đây là một số trường hợp phổ biến:\\n\\n1. **Nghĩa vụ tài chính**: Nếu một trong hai vợ chồng vay nợ hoặc ký hợp đồng mà không có sự đồng ý của người còn lại, thì người còn lại có thể phải chịu trách nhiệm liên đới nếu khoản nợ đó được xác định là phục vụ cho nhu cầu chung của gia đình.\\n\\n2. **Tài sản chung**: Tài sản được hình thành trong thời kỳ hôn nhân thường được coi là tài sản chung. Nếu một trong hai vợ chồng bán hoặc chuyển nhượng tài sản chung mà không có sự đồng ý của người còn lại, thì người còn lại có thể yêu cầu quyền lợi của mình.\\n\\n3. **Trách nhiệm bồi thường thiệt hại**: Nếu một trong hai vợ chồng gây ra thiệt hại cho bên thứ ba trong quá trình thực hiện nghĩa vụ hoặc công việc liên quan đến lợi ích chung của gia đình, cả hai vợ chồng có thể bị yêu cầu bồi thường.\\n\\n4. **Nghĩa vụ thuế**: Trong một số trường hợp, cả hai vợ chồng có thể phải chịu trách nhiệm liên đới về nghĩa vụ thuế nếu thu nhập hoặc tài sản chung của họ bị cơ quan thuế yêu cầu.\\n\\n5. **Trách nhiệm hình sự**: Nếu một trong hai vợ chồng phạm tội trong khi thực hiện nghĩa vụ chung hoặc vì lợi ích chung của gia đình, người còn lại có thể bị xem xét trách nhiệm liên đới tùy thuộc vào từng trường hợp cụ thể.\\n\\nCác quy định cụ thể về trách nhiệm liên đới của vợ chồng có thể khác nhau tùy theo từng quốc gia và hệ thống pháp luật. Do đó, để có thông tin chính xác và chi tiết hơn, bạn nên tham khảo ý kiến của luật sư hoặc chuyên gia pháp lý.'},\n",
       " {'q': 'Anh A là lao động chủ lực trong gia đình, còn chị T – vợ anh A chỉ ở nhà nội trợ, chăm sóc con cái. Vì vậy, anh A tự cho mình có quyền quyết định đối với việc sử dụng, định đoạt tài sản chung của gia đình. Như vậy có đúng không?',\n",
       "  'hybrid': 'Trong gia đình, quyền và nghĩa vụ của các thành viên, đặc biệt là giữa vợ và chồng, được quy định rõ trong Luật Hôn nhân và Gia đình năm 2014. Luật này nhấn mạnh nguyên tắc bình đẳng giữa vợ và chồng trong việc quản lý, sử dụng tài sản chung. Điều này có nghĩa là cả hai vợ chồng đều có quyền và nghĩa vụ ngang nhau trong việc quyết định về tài sản chung của gia đình, không phụ thuộc vào việc ai là lao động chính hay ai là người nội trợ.\\n\\nTheo Luật Hôn nhân và Gia đình 2014, cả vợ và chồng đều có quyền biểu quyết và đưa ra quyết định liên quan đến tài sản chung. Thậm chí, việc sử dụng và định đoạt tài sản chung của gia đình nên được thực hiện dựa trên sự đồng thuận và thỏa thuận giữa hai bên. Việc anh A tự quyết định mà không tham khảo ý kiến của chị T có thể vi phạm quyền lợi hợp pháp của chị trong quan hệ hôn nhân.\\n\\nThêm vào đó, Luật còn quy định rằng việc chăm sóc con cái và các công việc nội trợ mà chị T thực hiện cũng có giá trị lớn trong việc xây dựng và duy trì gia đình, góp phần vào tài sản chung. Do đó, việc anh A tự cho mình quyền quyết định mà không tham khảo ý kiến của chị T là không phù hợp với quy định pháp luật, có thể dẫn đến những xung đột trong mối quan hệ vợ chồng.\\n\\n### Kết luận\\nTheo quy định của Luật Hôn nhân và Gia đình, anh A không có quyền tự ý quyết định về tài sản chung mà không có sự đồng thuận của chị T. Tình huống này cần sự giải quyết thông qua đối thoại và thương thảo giữa các bên để tôn trọng quyền lợi hợp pháp của cả hai.',\n",
       "  'a': 'Việc anh A tự cho mình có quyền quyết định đối với việc sử dụng, định đoạt tài sản chung của gia đình là không đúng và trái với nguyên tắc chung về chế độ tài sản của vợ chồng quy định tại Điều 29 Luật hôn nhân và gia đình năm 2014, như sau:\\n- Vợ, chồng bình đẳng với nhau về quyền, nghĩa vụ trong việc tạo lập, chiếm hữu, sử dụng, định đoạt tài sản chung; không phân biệt giữa lao động\\ntrong gia đình và lao động có thu nhập.\\n- Vợ, chồng có nghĩa vụ bảo đảm điều kiện để đáp ứng nhu cầu thiết yếu của gia đình.\\n- Việc thực hiện quyền, nghĩa vụ về tài sản của vợ chồng mà xâm phạm đến quyền, lợi ích hợp pháp của vợ, chồng, gia đình và của người khác thì phải bồi thường.',\n",
       "  'baseline': 'Theo quy định của pháp luật hôn nhân và gia đình tại Việt Nam, tài sản chung của vợ chồng là tài sản được tạo lập trong thời kỳ hôn nhân và cả hai vợ chồng đều có quyền và nghĩa vụ ngang nhau trong việc chiếm hữu, sử dụng và định đoạt tài sản chung này. Điều này có nghĩa là cả anh A và chị T đều có quyền bình đẳng trong việc quyết định sử dụng và định đoạt tài sản chung của gia đình, bất kể ai là người lao động chủ lực hay ai là người nội trợ.\\n\\nViệc anh A tự cho mình quyền quyết định đối với tài sản chung mà không có sự đồng ý của chị T là không đúng theo quy định của pháp luật. Quyền quyết định tài sản chung cần có sự thỏa thuận và đồng thuận của cả hai vợ chồng.',\n",
       "  'mini': 'Trong một gia đình, việc quyết định và sử dụng tài sản chung không chỉ phụ thuộc vào việc ai là lao động chủ lực mà còn phải dựa trên nguyên tắc bình đẳng và sự thỏa thuận giữa các thành viên trong gia đình. Theo quy định của pháp luật Việt Nam, cả vợ và chồng đều có quyền và nghĩa vụ đối với tài sản chung của gia đình, bất kể ai là người kiếm tiền chính.\\n\\nViệc anh A tự cho mình quyền quyết định mà không tham khảo ý kiến của chị T có thể dẫn đến những mâu thuẫn trong quan hệ vợ chồng và không đảm bảo quyền lợi hợp pháp của cả hai bên. Do đó, trong một gia đình, việc quản lý và sử dụng tài sản chung nên được thực hiện dựa trên sự đồng thuận và tôn trọng lẫn nhau giữa vợ và chồng.'},\n",
       " {'q': 'Bố mẹ anh T cho riêng anh T ngôi nhà mà hiện nay là nơi ở duy nhất của vợ chồng anh T. Trong trường hợp này, khi anh T thực hiện các giao dịch liên quan đến ngôi nhà thì có phải thỏa thuận với vợ không?',\n",
       "  'hybrid': 'Trong trường hợp của anh T, việc thực hiện các giao dịch liên quan đến ngôi nhà mà bố mẹ đã cho riêng anh T sẽ phụ thuộc vào quy định về tài sản riêng và tài sản chung trong Luật Hôn nhân và Gia đình Việt Nam.\\n\\n### Quyền sở hữu và quản lý tài sản\\n\\nTheo Luật Hôn nhân và Gia đình 2014, tài sản mà một bên vợ hoặc chồng có được trước hôn nhân sẽ được xem là tài sản riêng của người đó, trừ khi có thỏa thuận khác. Vì vậy, nếu ngôi nhà được bố mẹ anh T cho riêng anh, ngôi nhà này sẽ được coi là tài sản riêng của anh T. \\n\\n### Giao dịch tài sản riêng\\n\\nKhi thực hiện các giao dịch liên quan đến tài sản riêng, như ngôi nhà này, anh T không cần phải xin phép hay có sự thỏa thuận của vợ. Tuy nhiên, nếu ngôi nhà này là nơi cư trú của cả hai vợ chồng, việc giao dịch có thể cần xem xét đến quyền lợi của vợ trong trường hợp đó. Dù là tài sản riêng, nhưng anh T cũng cần thông báo cho vợ mình về các giao dịch liên quan, để duy trì sự minh bạch trong quan hệ vợ chồng và tránh các xung đột có thể xảy ra.\\n\\n### Khuyến nghị\\n\\nNgoài ra, để đảm bảo quyền lợi và nghĩa vụ giữa anh T và vợ trong mối quan hệ hôn nhân, việc thỏa thuận rõ ràng về quyền sử dụng và giao dịch tài sản là rất cần thiết. Điều này giúp tránh những tranh chấp trong tương lai, đặc biệt trong trường hợp có xung đột về tài sản.\\n\\nTóm lại, anh T có quyền thực hiện giao dịch liên quan đến ngôi nhà mà không cần sự thỏa thuận từ vợ, nhưng việc thông báo và giữ cho nhau thông tin sẽ giúp duy trì sự hòa hợp trong gia đình.',\n",
       "  'a': 'Theo quy định tại Điều 31 Luật hôn nhân và gia đình năm 2014, trong trường hợp ngôi nhà là nơi ở duy nhất của vợ chồng thuộc tài sản chung của vợ chồng anh thì việc xác lập, thực hiện, chấm dứt các giao dịch liên quan đến nhà phải có sự thỏa thuận của vợ chồng.\\nTrường hợp nêu trên, nhà thuộc sở hữu riêng của anh T thì anh T có quyền xác lập, thực hiện, chấm dứt giao dịch liên quan đến nhà đó nhưng phải bảo đảm chỗ ở cho vợ và các con của mình.',\n",
       "  'baseline': 'Theo quy định của pháp luật Việt Nam, cụ thể là Luật Hôn nhân và Gia đình, tài sản được tặng cho riêng trong thời kỳ hôn nhân thường được coi là tài sản riêng của người được tặng cho, trừ khi có thỏa thuận khác giữa hai vợ chồng.\\n\\nTuy nhiên, nếu ngôi nhà là nơi ở duy nhất của vợ chồng, thì theo quy định của pháp luật, việc thực hiện các giao dịch liên quan đến ngôi nhà này (như bán, cho thuê, thế chấp, v.v.) thường cần có sự đồng ý của cả hai vợ chồng, ngay cả khi ngôi nhà là tài sản riêng của một người. Điều này nhằm bảo vệ quyền lợi về chỗ ở của cả hai vợ chồng và gia đình.\\n\\nDo đó, trong trường hợp này, anh T cần thỏa thuận với vợ khi thực hiện các giao dịch liên quan đến ngôi nhà, mặc dù ngôi nhà là tài sản riêng của anh.',\n",
       "  'mini': 'Theo quy định của pháp luật Việt Nam, tài sản mà một người sở hữu riêng (như ngôi nhà được bố mẹ cho riêng) sẽ thuộc quyền sở hữu của người đó. Tuy nhiên, trong trường hợp vợ chồng anh T đang sống chung, việc thực hiện các giao dịch liên quan đến ngôi nhà có thể cần sự thỏa thuận của cả hai vợ chồng.\\n\\nCụ thể, theo Bộ luật Dân sự Việt Nam, tài sản riêng của một bên vợ hoặc chồng có thể được sử dụng, định đoạt mà không cần sự đồng ý của bên còn lại, trừ khi có thỏa thuận khác. Tuy nhiên, nếu ngôi nhà đó là nơi ở duy nhất của vợ chồng, việc thực hiện các giao dịch như bán, cho thuê, hoặc thế chấp có thể cần sự đồng ý của cả hai bên để đảm bảo quyền lợi và nghĩa vụ của cả hai trong mối quan hệ hôn nhân.\\n\\nDo đó, mặc dù về mặt pháp lý anh T có quyền thực hiện giao dịch mà không cần thỏa thuận với vợ, nhưng để tránh mâu thuẫn và đảm bảo sự đồng thuận trong gia đình, anh T nên thảo luận và có sự đồng ý của vợ trước khi thực hiện các giao dịch liên quan đến ngôi nhà.'},\n",
       " {'q': 'Tài sản chung của vợ chồng bao gồm những tài sản nào? Trong trường hợp không có căn cứ để chứng minh tài sản mà vợ, chồng đang có tranh chấp là tài sản riêng của mỗi bên thì tài sản đó có được coi là tài sản chung không? Việc chiếm hữu, sử dụng, định đoạt tài sản chung của vợ chồng thực hiện như thế nào?',\n",
       "  'hybrid': '### Tài Sản Chung của Vợ Chồng\\n\\nTài sản chung của vợ chồng bao gồm tất cả những tài sản mà cả hai bên cùng tạo ra hoặc sở hữu trong thời gian hôn nhân, trừ khi có thỏa thuận khác giữa hai bên. Theo điều 33 của Luật Hôn nhân và Gia đình 2014, tài sản chung được xác định là tài sản mà vợ chồng cùng nhau tạo ra, bao gồm tài sản hiện có trong thời kỳ hôn nhân và các tài sản thừa kế hoặc được tặng cho, nếu không có thỏa thuận khác.\\n\\n### Quy định về Tranh Chấp Tài Sản\\n\\nTrong trường hợp không có căn cứ hoặc chứng cứ để chứng minh tài sản mà vợ chồng đang có tranh chấp là tài sản riêng của mỗi bên, thì theo quy định tại Khoản 3 Điều 33 Luật Hôn nhân và Gia đình 2014, tài sản đó sẽ được coi là tài sản chung của vợ chồng. Điều này đảm bảo rằng tài sản không được xác định rõ ràng sẽ được xem là tài sản chung nhằm bảo vệ quyền lợi của cả hai bên trong quan hệ hôn nhân.\\n\\n### Chiếm Hữu, Sử Dụng, và Định Đoạt Tài Sản Chung\\n\\nViệc chiếm hữu, sử dụng và định đoạt tài sản chung của vợ chồng được thực hiện theo nguyên tắc bình đẳng giữa hai bên. Cụ thể, mỗi vợ chồng có quyền quản lý, sử dụng tài sản chung một cách hợp lý và tự nguyện, tuy nhiên, các giao dịch quan trọng liên quan đến tài sản như bán, cho thuê hoặc chuyển nhượng thì cần có sự đồng ý của cả hai bên.\\n\\nLuật Hôn nhân và Gia đình cũng nhấn mạnh rằng trong trường hợp có bất kỳ tranh chấp nào liên quan đến việc chia sẻ hoặc quản lý tài sản chung, vợ chồng có quyền yêu cầu tòa án can thiệp để giải quyết tranh chấp mà không phải chờ đến khi ly hôn. Điều này thể hiện sự tôn trọng và bảo vệ quyền lợi của cả hai bên trong mối quan hệ hôn nhân về tài sản chung.\\n\\n### Kết\\n\\nTóm lại, tài sản chung của vợ chồng là những tài sản tích lũy và tạo ra trong thời kỳ hôn nhân, và trong trường hợp có tranh chấp, tài sản không có chứng cứ rõ ràng sẽ được coi là tài sản chung. Quyền hạn về chiếm hữu, sử dụng và định đoạt tài sản chung cần được thực hiện theo nguyên tắc bình đẳng và có sự đồng thuận giữa hai bên để đảm bảo quyền lợi chung trong hôn nhân.',\n",
       "  'a': 'Theo quy định tại Điều 33 Luật hôn nhân và gia đình năm 2014, tài sản chung của vợ chồng gồm tài sản do vợ, chồng tạo ra, thu nhập do lao động, hoạt động sản xuất, kinh doanh, hoa lợi, lợi tức phát sinh từ tài sản riêng và thu nhập hợp pháp khác trong thời kỳ hôn nhân; tài sản mà vợ chồng được thừa kế chung hoặc được tặng cho chung và tài sản khác mà vợ chồng thỏa thuận là tài sản chung.\\nQuyền sử dụng đất mà vợ, chồng có được sau khi kết hôn là tài sản chung của vợ chồng, trừ trường hợp vợ hoặc chồng được thừa kế riêng, được tặng cho riêng hoặc có được thông qua giao dịch bằng tài sản riêng.\\nTài sản chung của vợ chồng thuộc sở hữu chung hợp nhất, được dùng để bảo đảm nhu cầu của gia đình, thực hiện nghĩa vụ chung của vợ chồng.\\nTrong trường hợp không có căn cứ để chứng minh tài sản mà vợ, chồng đang có tranh chấp là tài sản riêng của mỗi bên thì tài sản đó được coi là tài sản chung của vợ chồng.\\nTheo Điều 35 Luật hôn nhân và gia đình năm 2014, việc chiếm hữu, sử dụng, định đoạt tài sản chung do vợ chồng thỏa thuận.\\nViệc định đoạt tài sản chung phải có sự thỏa thuận bằng văn bản của vợ chồng trong những trường hợp sau đây:\\n- Bất động sản;\\n- Động sản mà theo quy định của pháp luật phải đăng ký quyền sở hữu;\\n- Tài sản đang là nguồn tạo ra thu nhập chủ yếu của gia đình.',\n",
       "  'baseline': 'Tài sản chung của vợ chồng thường bao gồm những tài sản được tạo ra, thu nhập từ lao động, hoạt động sản xuất, kinh doanh và những nguồn thu nhập hợp pháp khác trong thời kỳ hôn nhân. Ngoài ra, tài sản mà vợ chồng được thừa kế chung hoặc được tặng cho chung cũng được coi là tài sản chung, trừ khi có thỏa thuận khác.\\n\\nTrong trường hợp không có căn cứ để chứng minh tài sản mà vợ, chồng đang có tranh chấp là tài sản riêng của mỗi bên, thì theo quy định của pháp luật, tài sản đó được coi là tài sản chung. Điều này có nghĩa là nếu không có bằng chứng rõ ràng để chứng minh tài sản là tài sản riêng, thì mặc định tài sản đó thuộc sở hữu chung của cả hai vợ chồng.\\n\\nViệc chiếm hữu, sử dụng, định đoạt tài sản chung của vợ chồng thường phải được thực hiện trên cơ sở thỏa thuận giữa hai bên. Cả hai vợ chồng có quyền và nghĩa vụ ngang nhau trong việc quản lý và sử dụng tài sản chung. Trong trường hợp không có thỏa thuận khác, việc định đoạt tài sản chung phải có sự đồng ý của cả hai vợ chồng. Điều này nhằm đảm bảo quyền lợi của cả hai bên và tránh các tranh chấp không đáng có liên quan đến tài sản chung.',\n",
       "  'mini': 'Tài sản chung của vợ chồng theo quy định của pháp luật Việt Nam bao gồm những tài sản được hình thành trong thời kỳ hôn nhân, trừ những tài sản mà pháp luật quy định là tài sản riêng của mỗi bên. Cụ thể, tài sản chung có thể bao gồm:\\n\\n1. Tài sản do vợ chồng cùng tạo ra trong thời kỳ hôn nhân.\\n2. Tài sản do một bên vợ hoặc chồng tạo ra trong thời kỳ hôn nhân, trừ trường hợp tài sản đó được xác định là tài sản riêng.\\n3. Thu nhập từ lao động, sản xuất, kinh doanh của vợ chồng trong thời kỳ hôn nhân.\\n4. Tài sản được tặng cho, thừa kế cho cả hai vợ chồng trong thời kỳ hôn nhân.\\n\\nTrong trường hợp không có căn cứ để chứng minh tài sản mà vợ, chồng đang có tranh chấp là tài sản riêng của mỗi bên, tài sản đó sẽ được coi là tài sản chung. Điều này có nghĩa là nếu không có chứng cứ rõ ràng để xác định tài sản đó thuộc về ai, thì tài sản đó sẽ được xem là tài sản chung của vợ chồng.\\n\\nVề việc chiếm hữu, sử dụng, định đoạt tài sản chung của vợ chồng, theo quy định của Bộ luật Dân sự Việt Nam, việc này được thực hiện như sau:\\n\\n1. **Chiếm hữu và sử dụng**: Vợ chồng có quyền chiếm hữu, sử dụng tài sản chung theo thỏa thuận. Nếu không có thỏa thuận, việc chiếm hữu, sử dụng tài sản chung sẽ được thực hiện theo nguyên tắc bình đẳng, tức là cả hai vợ chồng đều có quyền và nghĩa vụ như nhau đối với tài sản chung.\\n\\n2. **Định đoạt**: Việc định đoạt tài sản chung (bao gồm việc bán, cho thuê, cho mượn, hoặc chuyển nhượng tài sản) cần có sự đồng ý của cả hai vợ chồng. Nếu một bên tự ý định đoạt tài sản chung mà không có sự đồng ý của bên kia, bên bị thiệt hại có quyền yêu cầu hủy bỏ giao dịch đó.\\n\\nTóm lại, tài sản chung của vợ chồng được xác định dựa trên nguyên tắc chung và việc quản lý, sử dụng tài sản chung cần có sự đồng thuận giữa hai bên.'},\n",
       " {'q': 'Người yêu của tôi làm nghề buôn bán kinh doanh và tính ưa mạo hiểm. Đã có lần anh ấy phải bán hết tài sản đi để trả nợ vì làm ăn thua lỗ. Sắp tới, chúng tôi sẽ kết hôn với nhau. Tuy nhiên, tôi vẫn luôn bị ám ảnh bởi câu chuyện phá sản của anh ấy nên trước khi kết hôn tôi muốn có bản thỏa thuận rõ ràng về chế độ tài sản giữa hai người. Xin hỏi, tôi có được quyền làm như vậy không? Pháp luật quy định về vấn đề này như thế nào?',\n",
       "  'hybrid': '### Quyền Lập Thỏa Thuận Trước Hôn Nhân\\n\\nTheo quy định của Luật Hôn nhân và Gia đình 2014 tại Việt Nam, bạn hoàn toàn có quyền yêu cầu lập một văn bản thỏa thuận về chế độ tài sản trước khi kết hôn. Điều này không chỉ nhằm bảo vệ quyền lợi của bạn mà còn giúp cả hai bên có một cái nhìn rõ ràng về trách nhiệm tài chính trong hôn nhân. \\n\\nThỏa thuận về chế độ tài sản có thể được thực hiện dưới hai hình thức chính: **chế độ tài sản chung** và **chế độ tài sản riêng**. Luật quy định rằng mỗi cặp đôi có quyền thỏa thuận chế độ tài sản mà họ sẽ áp dụng trong hôn nhân của mình. Nếu không có thỏa thuận thì theo Điều 33 của Luật Hôn nhân và Gia đình, tài sản sẽ được coi là tài sản chung của vợ chồng. \\n\\n### Nội Dung Thỏa Thuận\\n\\nKhi lập thỏa thuận, các bên có thể quy định một số vấn đề cơ bản như: \\n\\n1. **Tài sản nào sẽ là tài sản chung** và **tài sản nào sẽ là tài sản riêng**. Trong trường hợp của bạn, bạn có thể đề nghị rằng tài sản của mỗi người sẽ được giữ riêng và không bị ảnh hưởng bởi các hoạt động kinh doanh có rủi ro của người còn lại.\\n   \\n2. **Quy định về việc quản lý, sử dụng và định đoạt tài sản chung**. Cụ thể, bạn có thể yêu cầu rằng mọi tài sản chung phải được cả hai bên đồng ý trước khi thực hiện bất kỳ giao dịch nào.\\n\\n3. **Hậu quả pháp lý của việc phá sản hoặc nợ nần**. Thỏa thuận có thể quy định rõ ràng rằng trong trường hợp một bên gặp khó khăn về tài chính, tài sản của bên còn lại sẽ không bị ảnh hưởng.\\n\\n### Pháp Lý Bảo Vệ Quyền Lợi\\n\\nTheo quy định của pháp luật, việc lập thỏa thuận giữa hai bên nhằm mục đích bảo vệ quyền lợi hợp pháp của cả hai. Nếu trong tương lai có tranh chấp xảy ra, thỏa thuận này có thể được sử dụng như một căn cứ pháp lý để bảo vệ quyền lợi của bạn.\\n\\nNgoài ra, bạn cũng nên tham khảo ý kiến từ bộ phận pháp lý, như luật sư hoặc tổ chức tư vấn pháp luật, để đảm bảo rằng mọi điều khoản trong hợp đồng được soạn thảo rõ ràng và hợp lý, tránh những rủi ro không đáng có trong tương lai.\\n\\n### Kết Luận\\n\\nBạn hoàn toàn có quyền yêu cầu lập thỏa thuận về chế độ tài sản trước hôn nhân. Pháp luật hiện hành cho phép các cặp đôi tự xác định chế độ tài sản, và việc này sẽ giúp hai bạn có một nền tảng vững chắc hơn cho cuộc sống hôn nhân sau này. Hãy chắc chắn rằng tất cả những thỏa thuận đều được ghi nhận bằng văn bản để có giá trị pháp lý và bảo vệ quyền lợi cho cả hai bên.',\n",
       "  'a': 'Theo quy định tại Điều 47 Luật hôn nhân và gia đình năm 2014, bạn được quyền lựa chọn chế độ tài sản theo thỏa thuận khi kết hôn. Trong trường hợp này, thỏa thuận xác lập chế độ tài sản của vợ chồng phải được lập trước khi kết hôn, bằng hình thức văn bản có công chứng hoặc chứng thực. Chế độ tài sản của vợ chồng theo thỏa thuận được xác lập kể từ ngày đăng ký kết hôn.\\nKhoản 1 Điều 48 Luật hôn nhân và gia đình năm 2014 quy định nội dung cơ bản của thỏa thuận về chế độ tài sản bao gồm:\\na) Tài sản được xác định là tài sản chung, tài sản riêng của vợ, chồng;\\nb) Quyền, nghĩa vụ của vợ chồng đối với tài sản chung, tài sản riêng và giao dịch có liên quan; tài sản để bảo đảm nhu cầu thiết yếu của gia đình;\\nc) Điều kiện, thủ tục và nguyên tắc phân chia tài sản khi chấm dứt chế độ tài sản;\\nd) Nội dung khác có liên quan.\\nKhi thực hiện chế độ tài sản theo thỏa thuận mà phát sinh những vấn đề chưa được vợ chồng thỏa thuận hoặc thỏa thuận không rõ ràng thì áp dụng quy định về nguyên tắc chung về chế độ tài sản của vợ chồng (Điều 29), quyền, nghĩa vụ của vợ, chồng trong việc đáp ứng nhu cầu thiết yếu của gia đình (Điều 30); giao dịch liên quan đến nhà là nơi ở duy nhất của vợ chồng (Điều 31); giao dịch với người thứ ba ngay tình liên quan đến tài khoản ngân hàng, tài khoản chứng khoán và động sản khác mà theo quy định của pháp luật không phải đăng ký quyền sở hữu, quyền sử dụng (Điều 32) của Luật hôn nhân và gia đình năm 2014 và quy định tương ứng của chế độ tài sản theo luật định.',\n",
       "  'baseline': 'Bạn hoàn toàn có quyền yêu cầu một bản thỏa thuận rõ ràng về chế độ tài sản trước khi kết hôn. Tại Việt Nam, pháp luật cho phép các cặp đôi thỏa thuận về chế độ tài sản của vợ chồng trước khi kết hôn. Điều này được quy định trong Luật Hôn nhân và Gia đình năm 2014.\\n\\nTheo Điều 47 của Luật Hôn nhân và Gia đình, vợ chồng có quyền lựa chọn áp dụng chế độ tài sản theo luật định hoặc chế độ tài sản theo thỏa thuận. Nếu chọn chế độ tài sản theo thỏa thuận, hai bên cần lập văn bản thỏa thuận trước khi kết hôn, và văn bản này phải được công chứng hoặc chứng thực.\\n\\nNội dung của thỏa thuận có thể bao gồm các vấn đề như: tài sản chung, tài sản riêng, quyền và nghĩa vụ tài chính của mỗi bên, việc phân chia tài sản trong trường hợp ly hôn, và các vấn đề tài chính khác mà hai bên quan tâm.\\n\\nViệc lập thỏa thuận này không chỉ giúp bạn cảm thấy an tâm hơn mà còn giúp hai bên hiểu rõ quyền và nghĩa vụ của mình trong hôn nhân, tránh những tranh chấp không đáng có trong tương lai. Tuy nhiên, bạn nên thảo luận kỹ lưỡng với người yêu và có thể tham khảo ý kiến của luật sư để đảm bảo thỏa thuận được lập ra một cách hợp pháp và công bằng cho cả hai bên.',\n",
       "  'mini': 'Theo quy định của pháp luật Việt Nam, bạn hoàn toàn có quyền yêu cầu một bản thỏa thuận rõ ràng về chế độ tài sản giữa hai vợ chồng trước khi kết hôn. Điều này được quy định trong Bộ luật Dân sự 2015.\\n\\nCụ thể, bạn có thể thỏa thuận về chế độ tài sản trong hôn nhân theo các hình thức sau:\\n\\n1. **Chế độ tài sản chung**: Theo quy định, tài sản mà hai vợ chồng có được trong thời kỳ hôn nhân sẽ là tài sản chung. Tuy nhiên, bạn có thể thỏa thuận để xác định rõ tài sản nào là tài sản chung và tài sản nào là tài sản riêng của mỗi người.\\n\\n2. **Thỏa thuận về tài sản riêng**: Bạn có thể yêu cầu anh ấy cam kết rằng tài sản nào sẽ là tài sản riêng của mỗi người, và cách thức quản lý, sử dụng tài sản chung trong hôn nhân.\\n\\n3. **Lập hợp đồng hôn nhân**: Bạn có thể lập hợp đồng hôn nhân để quy định rõ ràng về chế độ tài sản, quyền và nghĩa vụ của mỗi bên trong hôn nhân. Hợp đồng này cần được lập thành văn bản và có thể được công chứng để đảm bảo tính pháp lý.\\n\\n4. **Thỏa thuận về nợ nần**: Nếu bạn lo ngại về khả năng phát sinh nợ nần trong tương lai, bạn có thể yêu cầu thỏa thuận rõ ràng về việc ai sẽ chịu trách nhiệm đối với các khoản nợ phát sinh trong thời kỳ hôn nhân.\\n\\nViệc có một bản thỏa thuận rõ ràng sẽ giúp bạn yên tâm hơn trong cuộc sống hôn nhân và bảo vệ quyền lợi của mình. Bạn nên trao đổi thẳng thắn với người yêu về vấn đề này và có thể tìm đến sự tư vấn của luật sư để đảm bảo rằng các thỏa thuận được thực hiện đúng quy định của pháp luật.'},\n",
       " {'q': 'Chồng tôi có quan hệ bất chính với người phụ nữ khác. Khi tôi phát hiện ra mối quan hệ này, chồng tôi đã xin lỗi và hứa chấm dứt mối quan hệ đó. Tôi đã tin và tha thứ cho anh ấy. Xong một thời gian sau, anh ta vẫn chứng nào, tật ấy, lén lút hẹn hò với cô gái khác. Không thể sống với người chồng luôn phản bội vợ, tôi muốn ly hôn, song hiện tôi đang mang thai cháu thứ hai. Vậy xin hỏi tôi có thể ly hôn trong điều kiện hiện tại không?',\n",
       "  'hybrid': 'Trong tình huống của bạn, việc xem xét yêu cầu ly hôn cần căn cứ vào quy định của Luật Hôn Nhân và Gia Đình 2014. Theo quy định tại khoản 2 Điều 51 của Luật này, có một số điểm quan trọng bạn cần lưu ý khi yêu cầu ly hôn trong khi đang mang thai.\\n\\n### Quyền yêu cầu ly hôn\\n\\nTheo Điều 51, vợ, chồng có quyền yêu cầu Tòa án giải quyết ly hôn. Tuy nhiên, trong trường hợp cụ thể của bạn, có quy định rằng chồng không có quyền yêu cầu ly hôn khi vợ đang có thai, sinh con hoặc đang nuôi con dưới 12 tháng tuổi. Điều này có nghĩa rằng, trong trường hợp bạn là người yêu cầu ly hôn, bạn hoàn toàn có quyền thực hiện yêu cầu này mặc dù bạn đang mang thai.\\n\\n### Lý do ly hôn\\n\\nNgoài ra, lý do mà bạn dự định ly hôn là vì chồng bạn có quan hệ bất chính và đã không tuân thủ lời hứa, chứng tỏ sự không chung thủy trong hôn nhân. Theo quy định tại Luật Hôn Nhân và Gia Đình, hành vi vi phạm này của chồng bạn có thể được xem như là căn cứ hợp pháp để yêu cầu ly hôn. Quyền lợi của bạn và đứa trẻ cũng cần được bảo vệ trong quá trình xin ly hôn.\\n\\n### Quy trình ly hôn\\n\\nBạn có thể đến Tòa án nhân dân nơi mình cư trú để nộp đơn ly hôn. Trong đơn, bạn trình bày rõ lý do ly hôn và những điều kiện của bạn về việc chi phí nuôi dưỡng, chăm sóc con cái. Tòa án sẽ thụ lý đơn và có thể tiến hành hòa giải, trước khi ra quyết định cuối cùng về việc ly hôn và phân chia tài sản nếu có.\\n\\n### Kết luận\\n\\nTóm lại, bạn hoàn toàn có quyền yêu cầu ly hôn trong bối cảnh hiện tại của mình. Tuy nhiên, việc ly hôn trong thời gian mang thai sẽ yêu cầu bạn nhẹ nhàng và cẩn thận trong việc xử lý các vấn đề về quyền lợi trong gia đình, để đảm bảo cho sự ổn định cho bạn và đứa trẻ. Bạn nên cân nhắc việc tham khảo ý kiến của một luật sư để được tư vấn thêm và hỗ trợ trong quá trình thực hiện yêu cầu ly hôn.',\n",
       "  'a': 'Tại Điều 51 Luật hôn nhân và gia đình năm 2014 quy định về quyền yêu cầu giải quyết ly hôn như sau:\\n1. Vợ, chồng hoặc cả hai người có quyền yêu cầu Tòa án giải quyết ly hôn.\\n2. Cha, mẹ, người thân thích khác có quyền yêu cầu Tòa án giải quyết ly hôn khi một bên vợ, chồng do bị bệnh tâm thần hoặc mắc bệnh khác mà không thể nhận thức, làm chủ được hành vi của mình, đồng thời là nạn nhân của bạo lực gia đình do chồng, vợ của họ gây ra làm ảnh hưởng nghiêm trọng đến tính mạng, sức khỏe, tinh thần của họ.\\n3. Chồng không có quyền yêu cầu ly hôn trong trường hợp vợ đang có thai, sinh con hoặc đang nuôi con dưới 12 tháng tuổi.\\nNhư vậy, pháp luật chỉ quy định người chồng không có quyền yêu cầu ly hôn trong trường hợp vợ có thai, sinh con, hoặc đang nuôi con dưới 12 tháng tuổi. Ở trường hợp của bạn, bạn có thể yêu cầu giải quyết ly hôn với chồng nếu tình trạng hôn nhân của bạn lâm vào tình trạng trầm trọng, đời sống chung không thể kéo dài, mục đích của hôn nhân không đạt được.',\n",
       "  'baseline': 'Tôi rất tiếc khi nghe về tình huống khó khăn mà bạn đang trải qua. Về mặt pháp lý, bạn hoàn toàn có quyền yêu cầu ly hôn ngay cả khi đang mang thai. Tuy nhiên, có một số điều cần lưu ý:\\n\\n1. **Quyền yêu cầu ly hôn**: Theo pháp luật Việt Nam, bạn có quyền yêu cầu ly hôn bất cứ lúc nào nếu cảm thấy cuộc sống hôn nhân không thể tiếp tục. Tuy nhiên, trong trường hợp bạn đang mang thai hoặc có con dưới 12 tháng tuổi, chồng bạn không có quyền yêu cầu ly hôn.\\n\\n2. **Thủ tục ly hôn**: Bạn cần chuẩn bị các giấy tờ cần thiết như đơn xin ly hôn, giấy chứng nhận kết hôn, giấy khai sinh của con (nếu có), và các tài liệu chứng minh tài sản chung (nếu có tranh chấp về tài sản).\\n\\n3. **Quyền lợi của con cái**: Khi ly hôn, tòa án sẽ xem xét và quyết định về quyền nuôi con, cấp dưỡng và các vấn đề liên quan khác để đảm bảo quyền lợi tốt nhất cho con cái.\\n\\n4. **Tư vấn pháp lý**: Bạn nên tìm đến một luật sư hoặc chuyên gia pháp lý để được tư vấn cụ thể và hỗ trợ trong quá trình ly hôn.\\n\\nLy hôn là một quyết định quan trọng và có thể ảnh hưởng lớn đến cuộc sống của bạn và con cái. Hãy cân nhắc kỹ lưỡng và tìm sự hỗ trợ từ gia đình, bạn bè và các chuyên gia để có quyết định đúng đắn nhất cho bản thân và gia đình.',\n",
       "  'mini': 'Trong trường hợp của bạn, việc ly hôn trong thời gian bạn đang mang thai là hoàn toàn có thể. Theo quy định của pháp luật Việt Nam, việc ly hôn không bị cấm trong thời gian mang thai. Tuy nhiên, bạn cần lưu ý một số điểm sau:\\n\\n1. **Thủ tục ly hôn**: Bạn có thể thực hiện thủ tục ly hôn đơn phương hoặc ly hôn thuận tình, tùy thuộc vào tình hình thực tế và sự đồng thuận của chồng bạn. Nếu chồng bạn không đồng ý ly hôn, bạn sẽ phải nộp đơn ly hôn đơn phương tại Tòa án.\\n\\n2. **Quyền nuôi con**: Khi ly hôn, quyền nuôi con sẽ được xem xét dựa trên lợi ích tốt nhất cho trẻ. Nếu bạn đang mang thai, bạn có thể yêu cầu quyền nuôi con sau khi sinh.\\n\\n3. **Chia tài sản**: Tòa án sẽ xem xét việc phân chia tài sản chung của hai vợ chồng theo quy định của pháp luật.\\n\\n4. **Tư vấn pháp lý**: Bạn nên tìm kiếm sự tư vấn từ luật sư hoặc các tổ chức hỗ trợ pháp lý để được hướng dẫn cụ thể về quy trình và quyền lợi của mình.\\n\\nNếu bạn cảm thấy không thể tiếp tục sống với người chồng đã phản bội bạn nhiều lần, việc ly hôn có thể là lựa chọn tốt nhất cho bạn và cho cả đứa trẻ trong tương lai. Hãy đảm bảo rằng bạn có sự chuẩn bị tốt về mặt tinh thần và pháp lý trước khi quyết định.'},\n",
       " {'q': 'Nguyên tắc giải quyết tài sản của vợ chồng khi ly hôn được pháp luật quy định như thế nào?',\n",
       "  'hybrid': 'Nguyên tắc giải quyết tài sản giữa vợ chồng khi ly hôn là một vấn đề pháp lý quan trọng và có được sự quy định cụ thể trong Luật Hôn nhân và Gia đình năm 2014 tại Việt Nam. Các quy định này không chỉ tạo ra khuôn khổ pháp lý cho việc phân chia tài sản mà còn bảo vệ quyền lợi hợp pháp của các bên liên quan.\\n\\n### 1. Quy định về tài sản chung và riêng\\n\\nPháp luật Việt Nam phân chia tài sản thành hai loại: tài sản chung và tài sản riêng. Tài sản chung bao gồm tài sản hình thành trong thời kỳ hôn nhân từ sự đóng góp của cả vợ và chồng, trong khi tài sản riêng là tài sản mà mỗi bên có trước khi kết hôn hoặc tài sản được thừa kế hoặc tặng cho riêng.\\n\\n### 2. Nguyên tắc phân chia tài sản\\n\\nKhi ly hôn, việc phân chia tài sản cần tuân theo một số nguyên tắc cơ bản:\\n\\n- **Công bằng và hợp lý**: Tài sản sẽ được chia sẻ theo tỷ lệ hợp lý nhằm tránh những thiệt thòi cho một bên. Pháp luật khuyến khích việc phân chia công bằng dựa trên đóng góp kinh tế của từng bên trong thời gian hôn nhân.\\n  \\n- **Dựa trên sự thỏa thuận**: Nếu hai bên có thể nhất trí về việc phân chia tài sản, họ có thể lập một thỏa thuận, và trong trường hợp không thể thỏa thuận, Tòa án sẽ quyết định dựa trên các quy định pháp luật hiện hành.\\n\\n- **Tham khảo luật định**: Nếu không có thỏa thuận cụ thể, Tòa án sẽ áp dụng các nguyên tắc pháp lý đã được quy định trong Luật Hôn nhân và Gia đình, cụ thể là các Điều 29 đến 32 mà nêu rõ về các điều kiện và quy trình phân chia tài sản.\\n\\n### 3. Quy trình thực hiện\\n\\nKhi thực hiện việc phân chia tài sản, các bên thường cần tuân theo một quy trình cụ thể, bao gồm:\\n\\n- **Xác định tài sản chung và riêng**: Rõ ràng tài sản nào thuộc về ai, từ đó định hình cách chia của từng loại tài sản.\\n\\n- **Tham gia sự giám sát của Tòa án**: Trường hợp có tranh chấp, tòa án sẽ tham gia kiểm tra và quyết định, đồng thời bảo vệ quyền lợi của trẻ em trong trường hợp có con chung.\\n\\n- **Căn cứ vào luật và thỏa thuận**: Tòa án sẽ xem xét để giúp các bên có được sự đồng thuận hợp lý dựa trên các quy định pháp luật.\\n\\n### 4. Bảo vệ quyền lợi hợp pháp\\n\\nLuật Hôn nhân và Gia đình không chỉ dừng lại ở việc phân chia tài sản mà còn quy định việc bảo vệ quyền lợi hợp pháp của các bên, đặc biệt là phụ nữ và trẻ em. Nếu có sự xuất hiện của bạo lực gia đình hoặc tình huống cần được bảo vệ, pháp luật sẽ can thiệp mạnh mẽ hơn để đảm bảo sự an toàn cho bên yếu thế.\\n\\n### Kết luận\\n\\nNguyên tắc giải quyết tài sản giữa vợ chồng khi ly hôn được quy định chặt chẽ nhằm đảm bảo công bằng, bình đẳng và hợp lý. Đây là một phần quan trọng trong việc bảo vệ quyền lợi của mỗi cá nhân và xây dựng một quy trình ly hôn dân chủ và công bằng hơn.',\n",
       "  'a': 'Nguyên tắc giải quyết tài sản của vợ chồng khi ly hôn được quy định tại Điều 59 Luật hôn nhân và gia đình năm 2014 như sau:\\n1. Trong trường hợp chế độ tài sản của vợ chồng theo luật định thì việc giải quyết tài sản do các bên thỏa thuận; nếu không thỏa thuận được thì theo yêu cầu của vợ, chồng hoặc của hai vợ chồng, Tòa án giải quyết theo quy định tại các khoản 2, 3, 4 và 5 Điều này và tại các điều 60, 61, 62, 63 và 64 của Luật hôn nhân và gia đình.\\nTrong trường hợp chế độ tài sản của vợ chồng theo thỏa thuận thì việc giải quyết tài sản khi ly hôn được áp dụng theo thỏa thuận đó; nếu thỏa thuận không đầy đủ, rõ ràng thì áp dụng quy định tương ứng tại các khoản 2, 3, 4 và 5 Điều này và tại các điều 60, 61, 62, 63 và 64 của Luật hôn nhân và gia đình để giải quyết.\\n2. Tài sản chung của vợ chồng được chia đôi nhưng có tính đến các yếu tố sau đây:\\na) Hoàn cảnh của gia đình và của vợ, chồng;\\nb) Công sức đóng góp của vợ, chồng vào việc tạo lập, duy trì và phát triển khối tài sản chung. Lao động của vợ, chồng trong gia đình được coi như lao động có thu nhập;\\nc) Bảo vệ lợi ích chính đáng của mỗi bên trong sản xuất, kinh doanh và nghề nghiệp để các bên có điều kiện tiếp tục lao động tạo thu nhập;\\nd) Lỗi của mỗi bên trong vi phạm quyền, nghĩa vụ của vợ chồng.\\n3. Tài sản chung của vợ chồng được chia bằng hiện vật, nếu không chia được bằng hiện vật thì chia theo giá trị; bên nào nhận phần tài sản bằng hiện vật có giá trị lớn hơn phần mình được hưởng thì phải thanh toán cho bên kia phần chênh lệch.\\n4. Tài sản riêng của vợ, chồng thuộc quyền sở hữu của người đó, trừ trường hợp tài sản riêng đã nhập vào tài sản chung.\\nTrong trường hợp có sự sáp nhập, trộn lẫn giữa tài sản riêng với tài sản chung mà vợ, chồng có yêu cầu về chia tài sản thì được thanh toán phần giá trị tài sản của mình đóng góp vào khối tài sản đó, trừ trường hợp vợ chồng có thỏa thuận khác.\\n5. Bảo vệ quyền, lợi ích hợp pháp của vợ, con chưa thành niên, con đã thành niên mất năng lực hành vi dân sự hoặc không có khả năng lao động và không có tài sản để tự nuôi mình.\\n',\n",
       "  'baseline': 'Khi ly hôn, việc giải quyết tài sản của vợ chồng được pháp luật quy định dựa trên một số nguyên tắc cơ bản nhằm đảm bảo tính công bằng và hợp lý. Dưới đây là một số nguyên tắc chính thường được áp dụng:\\n\\n1. **Thỏa thuận giữa các bên**: Trước tiên, pháp luật khuyến khích vợ chồng tự thỏa thuận về việc phân chia tài sản. Nếu hai bên đạt được thỏa thuận, tòa án sẽ công nhận và tôn trọng sự thỏa thuận đó, miễn là không vi phạm pháp luật và đạo đức xã hội.\\n\\n2. **Nguyên tắc bình đẳng**: Nếu không có thỏa thuận hoặc thỏa thuận không đầy đủ, tòa án sẽ phân chia tài sản dựa trên nguyên tắc bình đẳng, tức là tài sản chung của vợ chồng sẽ được chia đôi, nhưng có tính đến các yếu tố như công sức đóng góp của mỗi bên, hoàn cảnh gia đình, và lợi ích chính đáng của mỗi bên.\\n\\n3. **Bảo vệ quyền lợi của phụ nữ và trẻ em**: Pháp luật thường ưu tiên bảo vệ quyền lợi của phụ nữ và trẻ em trong quá trình phân chia tài sản, đặc biệt là khi có sự chênh lệch về khả năng lao động và thu nhập giữa vợ và chồng.\\n\\n4. **Tài sản riêng**: Tài sản riêng của mỗi bên trước khi kết hôn hoặc tài sản được thừa kế, tặng cho riêng trong thời kỳ hôn nhân sẽ không bị phân chia mà thuộc về sở hữu riêng của người đó.\\n\\n5. **Trách nhiệm chung về nghĩa vụ tài chính**: Các khoản nợ chung phát sinh trong thời kỳ hôn nhân cũng sẽ được xem xét và phân chia hợp lý giữa hai bên.\\n\\nNhững nguyên tắc này có thể có sự khác biệt tùy theo quy định cụ thể của từng quốc gia hoặc vùng lãnh thổ, do đó, việc tham khảo luật pháp địa phương hoặc tư vấn từ luật sư là cần thiết để có thông tin chính xác và phù hợp nhất.',\n",
       "  'mini': 'Khi ly hôn, việc giải quyết tài sản của vợ chồng được quy định trong Bộ luật Dân sự Việt Nam. Dưới đây là một số nguyên tắc cơ bản:\\n\\n1. **Chia tài sản chung**: Tài sản chung của vợ chồng sẽ được chia theo nguyên tắc bình đẳng, trừ trường hợp có thỏa thuận khác. Nếu không có thỏa thuận, tài sản sẽ được chia theo tỷ lệ 50/50.\\n\\n2. **Tài sản riêng**: Tài sản riêng của mỗi bên (bao gồm tài sản trước khi kết hôn, tài sản được thừa kế, quà tặng riêng) sẽ không bị chia và thuộc quyền sở hữu của bên đó.\\n\\n3. **Thỏa thuận**: Vợ chồng có quyền thỏa thuận về việc phân chia tài sản. Thỏa thuận này phải được lập thành văn bản và có thể được công chứng hoặc chứng thực để đảm bảo tính pháp lý.\\n\\n4. **Xem xét quyền lợi của trẻ em**: Khi phân chia tài sản, tòa án cũng sẽ xem xét quyền lợi của trẻ em (nếu có) để đảm bảo các điều kiện sống và phát triển của trẻ.\\n\\n5. **Tòa án giải quyết**: Nếu vợ chồng không thể tự thỏa thuận về việc chia tài sản, một trong hai bên có thể yêu cầu tòa án giải quyết. Tòa án sẽ căn cứ vào các yếu tố như công sức đóng góp, tình trạng tài chính, và các yếu tố khác để đưa ra quyết định công bằng.\\n\\n6. **Thời gian yêu cầu chia tài sản**: Thời gian yêu cầu chia tài sản chung của vợ chồng sau khi ly hôn là 2 năm kể từ ngày có hiệu lực của bản án ly hôn.\\n\\nNhững nguyên tắc này nhằm đảm bảo quyền lợi hợp pháp của cả hai bên trong quá trình ly hôn và phân chia tài sản.'},\n",
       " {'q': 'Luật hôn nhân và gia đình năm 2014 quy định về chia quyền sử dụng đất của vợ chồng khi ly hôn như thế nào?',\n",
       "  'hybrid': '### Luật Hôn Nhân và Gia Đình năm 2014 về Chia Quyền Sử Dụng Đất Khi Ly Hôn\\n\\nLuật Hôn Nhân và Gia Đình năm 2014 đã quy định cụ thể về việc chia quyền sử dụng đất của vợ chồng trong trường hợp ly hôn. Các quy định này nhằm bảo vệ quyền lợi hợp pháp của các bên liên quan, đảm bảo sự công bằng trong quá trình phân chia tài sản, đặc biệt là tài sản đất đai.\\n\\n#### 1. Quy định chung về chia quyền sử dụng đất\\n\\nTheo Điều 62 của Luật Hôn Nhân và Gia Đình năm 2014, việc chia quyền sử dụng đất được thực hiện như sau:\\n\\n- **Đối với đất nông nghiệp trồng cây hàng năm và nuôi trồng thủy sản**: \\n  - Nếu cả hai bên đều có nhu cầu và có khả năng sử dụng đất, thì việc chia sẽ diễn ra theo thỏa thuận của hai bên.\\n  - Nếu không thể đạt được thỏa thuận, một trong hai bên có quyền yêu cầu Tòa án giải quyết vấn đề này theo quy định tại điều 59 của Luật.\\n\\n- **Trường hợp chỉ một bên có nhu cầu sử dụng đất**: \\n  - Bên đó sẽ tiếp tục sử dụng nhưng phải thanh toán cho bên kia giá trị quyền sử dụng đất mà họ được hưởng.\\n\\n- **Chia quyền sử dụng đất chung với hộ gia đình**:\\n  - Trong trường hợp vợ chồng có quyền sử dụng đất nông nghiệp chung với hộ gia đình, phần quyền sử dụng đất sẽ được tách ra và chia theo quy định nêu trên.\\n\\n#### 2. Các loại đất khác và quy định phân chia\\n\\n- **Đối với đất nông nghiệp trồng cây lâu năm và đất ở**: Các quy định sẽ được áp dụng theo điều 59 của Luật này, nhằm đảm bảo tính hợp pháp và sự minh bạch trong phân chia.\\n\\n- **Đối với loại đất khác**: Việc phân chia sẽ tuân theo các quy định của pháp luật về đất đai hiện hành.\\n\\n#### 3. Nguyên tắc chung\\n\\nLuật quy định rằng tài sản chung của vợ chồng cần được chia đôi nhưng với sự xem xét đến hoàn cảnh của gia đình và công sức của từng bên trong việc tạo lập tài sản. Quyền lợi và nghĩa vụ của các bên, cũng như quyền lợi của con chưa thành niên hoặc các bên không có khả năng lao động cũng được xem xét trong quá trình phân chia. \\n\\n### Kết luận\\n\\nLuật Hôn Nhân và Gia Đình năm 2014 cung cấp một khung pháp lý rõ ràng và hợp lý nhằm đảm bảo rằng quyền sử dụng đất của vợ chồng sẽ được chia sẻ công bằng và hợp pháp trong trường hợp ly hôn. Các quy định này không chỉ giúp bảo vệ quyền lợi của các bên mà còn góp phần duy trì sự công bằng và ổn định trong cộng đồng.',\n",
       "  'a': 'Theo Điều 62 Luật hôn nhân và gia đình năm 2014 quy định về chia quyền sử dụng đất của vợ chồng khi ly hôn như sau:\\n1. Quyền sử dụng đất là tài sản riêng của bên nào thì khi ly hôn vẫn thuộc về bên đó.\\n2. Việc chia quyền sử dụng đất là tài sản chung của vợ chồng khi ly hôn được thực hiện như sau:\\na) Đối với đất nông nghiệp trồng cây hàng năm, nuôi trồng thủy sản, nếu cả hai bên đều có nhu cầu và có điều kiện trực tiếp sử dụng đất thì được chia theo thỏa thuận của hai bên; nếu không thỏa thuận được thì yêu cầu Tòa án giải quyết theo quy định tại Điều 59 của Luật hôn nhân và gia đình về nguyên tắc giải quyết tài sản của vợ chồng khi ly hôn.\\n.Trong trường hợp chỉ một bên có nhu cầu và có điều kiện trực tiếp sử dụng đất thì bên đó được tiếp tục sử dụng nhưng phải thanh toán cho bên kia phần giá trị quyền sử dụng đất mà họ được hưởng;\\nb) Trong trường hợp vợ chồng có quyền sử dụng đất nông nghiệp trồng cây hàng năm, nuôi trồng thủy sản chung với hộ gia đình thì khi ly hôn phần quyền sử dụng đất của vợ chồng được tách ra và chia theo quy định tại điểm a mục 2 nêu trên;\\nc) Đối với đất nông nghiệp trồng cây lâu năm, đất lâm nghiệp để trồng rừng, đất ở thì được chia theo quy định tại Điều 59 của Luật hôn nhân và gia đình về nguyên tắc giải quyết tài sản của vợ chồng khi ly hôn;\\nd) Đối với loại đất khác thì được chia theo quy định của pháp luật về đất đai.\\n3. Trong trường hợp vợ chồng sống chung với gia đình mà không có quyền sử dụng đất chung với hộ gia đình thì khi ly hôn quyền lợi của bên không có quyền sử dụng đất và không tiếp tục sống chung với gia đình được giải quyết theo quy định tại Điều 61 của Luật hôn nhân và gia đình về chia tài sản trong trường hợp vợ chồng sống chung với gia đình',\n",
       "  'baseline': 'Luật Hôn nhân và Gia đình năm 2014 của Việt Nam quy định về việc chia tài sản chung của vợ chồng khi ly hôn, bao gồm cả quyền sử dụng đất, như sau:\\n\\n1. **Nguyên tắc chia tài sản chung**: Tài sản chung của vợ chồng được chia đôi nhưng có tính đến các yếu tố như công sức đóng góp của mỗi bên vào việc tạo lập, duy trì và phát triển khối tài sản chung; hoàn cảnh của mỗi bên; bảo vệ lợi ích chính đáng của mỗi bên trong sản xuất, kinh doanh và nghề nghiệp để các bên có điều kiện tiếp tục lao động tạo thu nhập; và lỗi của mỗi bên trong vi phạm quyền, nghĩa vụ của vợ chồng.\\n\\n2. **Quyền sử dụng đất**: \\n   - Nếu quyền sử dụng đất là tài sản chung của vợ chồng thì được chia theo nguyên tắc chia tài sản chung.\\n   - Nếu quyền sử dụng đất là tài sản riêng của một bên thì vẫn thuộc về bên đó, trừ khi có thỏa thuận khác giữa hai vợ chồng.\\n\\n3. **Đất nông nghiệp**: Đối với đất nông nghiệp trồng cây hàng năm, nuôi trồng thủy sản, nếu cả hai vợ chồng đều có nhu cầu và điều kiện trực tiếp sử dụng thì được chia theo thỏa thuận của các bên; nếu không thỏa thuận được thì Tòa án quyết định theo quy định của pháp luật.\\n\\n4. **Đất ở**: Việc chia quyền sử dụng đất ở cần xem xét đến nhu cầu về chỗ ở của mỗi bên và các thành viên trong gia đình, đặc biệt là con cái.\\n\\n5. **Thỏa thuận giữa các bên**: Vợ chồng có quyền tự thỏa thuận về việc chia tài sản chung, bao gồm quyền sử dụng đất. Nếu không thỏa thuận được, Tòa án sẽ giải quyết theo quy định của pháp luật.\\n\\nNhững quy định này nhằm đảm bảo sự công bằng và bảo vệ quyền lợi hợp pháp của cả hai bên khi ly hôn.',\n",
       "  'mini': 'Theo Luật Hôn nhân và Gia đình năm 2014 của Việt Nam, quyền sử dụng đất của vợ chồng khi ly hôn được quy định tại Điều 59. Cụ thể, quyền sử dụng đất được xác định là tài sản chung của vợ chồng nếu đất đó được hình thành trong thời kỳ hôn nhân, trừ trường hợp đất được tặng cho, thừa kế riêng cho một bên.\\n\\nKhi ly hôn, việc chia quyền sử dụng đất sẽ được thực hiện theo nguyên tắc chia tài sản chung. Tòa án sẽ xem xét các yếu tố như công sức đóng góp của mỗi bên, điều kiện kinh tế, nhu cầu nuôi dưỡng con cái (nếu có) và các yếu tố khác để đưa ra quyết định hợp lý.\\n\\nNếu vợ chồng có thỏa thuận về việc chia quyền sử dụng đất, thỏa thuận đó sẽ được tôn trọng, miễn là không vi phạm quy định của pháp luật. Nếu không có thỏa thuận, tòa án sẽ quyết định việc chia tài sản theo quy định của pháp luật.\\n\\nNgoài ra, cần lưu ý rằng quyền sử dụng đất phải được đăng ký theo quy định của pháp luật về đất đai, và việc chia quyền sử dụng đất cũng phải tuân thủ các quy định liên quan đến chuyển nhượng quyền sử dụng đất.'},\n",
       " {'q': 'Sau khi cưới nhau, vợ chồng anh A, chị B được bố mẹ hai bên gia đình hỗ trợ tiền để mua một căn nhà tại Hà Nội, trong Giấy chứng nhận quyền sở hữu nhà ghi tên của cả hai vợ chồng. Đầu năm 2014, anh A đột ngột qua đời vì tai nạn giao thông. Chị B chuyển về quê ở Thái Bình sinh sống và có ý định bán căn nhà chung của hai vợ chồng. Khi biết chuyện, gia đình anh A đã yêu cầu chị B phải chia căn nhà đó theo pháp luật về thừa kế. Vậy xin hỏi Luật hôn nhân và gia đình năm 2014 quy định như thế nào về vấn đề này?',\n",
       "  'hybrid': '### Quy định về tài sản chung trong Luật Hôn nhân và Gia đình năm 2014\\n\\nLuật Hôn nhân và Gia đình năm 2014 quy định rõ ràng về quyền sở hữu và chế độ tài sản chung giữa vợ và chồng. Theo luật, tài sản chung của vợ chồng bao gồm tài sản do hai bên tạo ra trong thời kỳ hôn nhân, cũng như tài sản được thừa kế, tặng cho, nếu không có thỏa thuận khác. Căn nhà mà anh A và chị B mua bằng sự hỗ trợ của cả hai bên gia đình, do được ghi trong Giấy chứng nhận quyền sở hữu nhà dưới tên cả hai, sẽ được coi là tài sản chung.\\n\\n### Quyền phân chia tài sản sau khi một bên qua đời\\n\\nTrong trường hợp một trong hai bên vợ chồng qua đời (như anh A trong tình huống của bạn), tài sản chung sẽ được chia theo quy định của pháp luật về thừa kế. Theo Điều 66 của Luật này, khi một bên vợ hoặc chồng mất, quyền sở hữu tài sản chung sẽ được xác định trên cơ sở thỏa thuận giữa các bên, hoặc theo quy định pháp luật về chế độ thừa kế.\\n\\nCụ thể hơn, nếu anh A đã qua đời và không có di chúc ghi rõ quyền về tài sản, chị B sẽ được hưởng một phần trong tài sản chung và tiếp tục quản lý tài sản đó. Gia đình anh A sẽ có quyền yêu cầu chia tài sản theo phần thừa kế mà anh A để lại. Việc phân chia tài sản sẽ căn cứ vào luật thừa kế, trong đó các thành viên trong gia đình của anh A (cha mẹ, anh chị em) cũng sẽ được xem xét theo quy định pháp luật.\\n\\n### Chia sẻ tài sản và quyền của các bên\\n\\nChị B có quyền bán căn nhà chung, nhưng cần phải xem xét giấy tờ liên quan và sự đồng ý của các bên thừa kế nếu có yêu cầu chia tài sản. Nếu có xung đột giữa gia đình anh A và chị B, họ có thể phải thông qua các thủ tục pháp lý tại Tòa án để xác định quyền lợi và nghĩa vụ trong việc chia tài sản thừa kế.\\n\\nTóm lại, Luật Hôn nhân và Gia đình năm 2014 đã cung cấp một khuôn khổ pháp lý rõ ràng về quyền và nghĩa vụ trong quan hệ sở hữu tài sản chung cũng như các vấn đề pháp lý liên quan đến tài sản thừa kế mà chị B và gia đình anh A cần tuân thủ.',\n",
       "  'a': 'Điều 66 Luật hôn nhân và gia đình năm 2014 quy định giải quyết tài sản của vợ chồng trong trường hợp một bên chết hoặc bị Tòa án tuyên bố là đã chết như sau:\\n1. Khi một bên vợ, chồng chết hoặc bị Tòa án tuyên bố là đã chết thì bên còn sống quản lý tài sản chung của vợ chồng, trừ trường hợp trong di chúc có chỉ định người khác quản lý di sản hoặc những người thừa kế thỏa thuận cử người khác quản lý di sản.\\n2. Khi có yêu cầu về chia di sản thì tài sản chung của vợ chồng được chia đôi, trừ trường hợp vợ chồng có thỏa thuận về chế độ tài sản. Phần tài sản của vợ, chồng chết hoặc bị Tòa án tuyên bố là đã chết được chia theo quy định của pháp luật về thừa kế.\\n3. Trong trường hợp việc chia di sản ảnh hưởng nghiêm trọng đến đời sống của vợ hoặc chồng còn sống, gia đình thì vợ, chồng còn sống có quyền yêu cầu Tòa án hạn chế phân chia di sản theo quy định của Bộ luật dân sự.\\n4. Tài sản của vợ chồng trong kinh doanh được giải quyết theo quy định tại các mục 1, 2 và 3 nêu trên, trừ trường hợp pháp luật về kinh doanh có quy định khác.\\nCăn cứ vào quy định trên, khi có yêu cầu của gia đình anh A về chia di sản thừa kế thì căn nhà thuộc sở hữu chung của anh A và chị B sẽ được chia đôi. Phần tài sản của anh A sẽ được chia theo pháp luật về thừa kế với hàng thừa kế thứ nhất theo quy định của Bộ luật dân sự gồm: vợ, cha đẻ, mẹ đẻ, cha nuôi, mẹ nuôi, con đẻ, con nuôi của anh A.',\n",
       "  'baseline': 'Theo Luật Hôn nhân và Gia đình năm 2014 của Việt Nam, tài sản chung của vợ chồng được quy định tại Điều 33. Theo đó, tài sản chung của vợ chồng bao gồm tài sản do vợ chồng tạo ra, thu nhập do lao động, hoạt động sản xuất, kinh doanh và những thu nhập hợp pháp khác trong thời kỳ hôn nhân, cũng như tài sản mà vợ chồng được thừa kế chung hoặc được tặng cho chung và những tài sản khác mà vợ chồng thỏa thuận là tài sản chung.\\n\\nTrong trường hợp của anh A và chị B, căn nhà được mua trong thời kỳ hôn nhân và được ghi tên của cả hai vợ chồng trong Giấy chứng nhận quyền sở hữu nhà, do đó, căn nhà này được coi là tài sản chung của vợ chồng.\\n\\nKhi anh A qua đời, phần tài sản của anh A trong khối tài sản chung sẽ được giải quyết theo pháp luật về thừa kế. Theo Bộ luật Dân sự 2015, phần tài sản của anh A sẽ được chia thừa kế theo di chúc nếu có, hoặc theo pháp luật nếu không có di chúc. Những người thừa kế theo pháp luật bao gồm hàng thừa kế thứ nhất là vợ, con và cha mẹ của người đã mất.\\n\\nDo đó, gia đình anh A có quyền yêu cầu chia phần tài sản của anh A trong căn nhà theo quy định về thừa kế. Chị B có quyền sở hữu phần tài sản của mình trong căn nhà và phần tài sản mà chị được thừa kế từ anh A. Việc bán căn nhà cần có sự đồng ý của tất cả những người đồng sở hữu và những người thừa kế hợp pháp của anh A.',\n",
       "  'mini': 'Theo quy định của Luật Hôn nhân và Gia đình năm 2014, tài sản chung của vợ chồng được xác định là tài sản hình thành trong thời kỳ hôn nhân, bao gồm tài sản do hai vợ chồng tạo ra, tài sản được tặng cho hoặc thừa kế cho cả hai vợ chồng. Trong trường hợp của anh A và chị B, căn nhà được mua bằng tiền hỗ trợ từ gia đình hai bên và được đứng tên cả hai vợ chồng, nên căn nhà này được coi là tài sản chung của vợ chồng.\\n\\nKhi anh A qua đời, tài sản chung của vợ chồng sẽ được chia theo quy định của pháp luật về thừa kế. Theo Điều 66 của Luật Hôn nhân và Gia đình năm 2014, khi một bên vợ hoặc chồng chết, phần tài sản chung sẽ được chia theo quy định của Bộ luật Dân sự về thừa kế.\\n\\nCụ thể, nếu anh A qua đời mà không để lại di chúc, tài sản chung sẽ được chia cho những người thừa kế theo quy định của Bộ luật Dân sự. Theo đó, chị B sẽ được hưởng một phần tài sản chung (căn nhà) và phần còn lại sẽ được chia cho những người thừa kế hợp pháp của anh A, bao gồm cha mẹ, con cái (nếu có) và các thành viên khác theo quy định của pháp luật.\\n\\nNếu chị B muốn bán căn nhà, chị cần phải thực hiện việc chia tài sản theo quy định của pháp luật, tức là phải có sự đồng ý của các đồng thừa kế khác (nếu có) hoặc thực hiện các thủ tục cần thiết để phân chia tài sản trước khi tiến hành bán.\\n\\nTóm lại, trong trường hợp này, chị B cần phải thực hiện các thủ tục chia tài sản thừa kế trước khi có thể bán căn nhà chung của hai vợ chồng.'},\n",
       " {'q': 'Theo quy định của Luật hôn nhân và gia đình năm 2014, cha mẹ có nghĩa vụ và quyền gì?',\n",
       "  'hybrid': 'Theo quy định của Luật Hôn nhân và Gia đình năm 2014 tại Việt Nam, cha mẹ đảm nhận một vai trò quan trọng trong việc nuôi dưỡng, chăm sóc, và bảo vệ quyền lợi của con cái. Dưới đây là một số nghĩa vụ và quyền mà cha mẹ được giao:\\n\\n### Nghĩa vụ của cha mẹ\\n1. **Nuôi dưỡng và chăm sóc**: Cha mẹ có nghĩa vụ phải nuôi dưỡng và chăm sóc cho con cái, đảm bảo cho trẻ em một môi trường sống an toàn và thân thiện, cũng như cung cấp các nhu cầu thiết yếu như ăn, học, và phát triển tâm lý.\\n   \\n2. **Giáo dục**: Cha mẹ có trách nhiệm giáo dục con cái về đạo đức, lối sống, và kiến thức xã hội, giúp trẻ phát triển một cách toàn diện.\\n\\n3. **Quản lý tài sản**: Cha mẹ có nghĩa vụ quản lý tài sản riêng của trẻ chưa thành niên. Họ phải định đoạt tài sản theo hướng có lợi cho con cái và căn cứ vào nguyện vọng của trẻ nếu trẻ đủ 9 tuổi trở lên.\\n\\n4. **Cấp dưỡng**: Theo quy định của pháp luật, cha mẹ cần thực hiện nghĩa vụ cấp dưỡng cho con, cả khi sống chung và khi ly hôn, bảo đảm quyền lợi cho trẻ em.\\n\\n5. **Bồi thường thiệt hại**: Trong trường hợp con cái gây ra thiệt hại, cha mẹ có nghĩa vụ bồi thường nếu thiệt hại đó xảy ra khi trẻ chưa đủ năng lực hành vi dân sự.\\n\\n### Quyền của cha mẹ\\n1. **Quyền định đoạt tài sản**: Cha mẹ có quyền định đoạt tài sản riêng của con chưa thành niên, riêng đối với trẻ từ 15 tuổi trở lên, trẻ có thể tự định đoạt tài sản riêng của mình nhưng cần có sự đồng ý bằng văn bản của cha mẹ đối với các giao dịch quan trọng.\\n\\n2. **Quyền nuôi con**: Cha mẹ có quyền yêu cầu được nuôi dưỡng khi có sự ly hôn hoặc tranh chấp về quyền nuôi con. Tòa án sẽ xem xét và quyết định dựa trên lợi ích của trẻ.\\n\\n3. **Giám sát quyền lợi hợp pháp**: Cha mẹ có quyền đảm bảo quyền lợi hợp pháp cho con cái trong các giao dịch nhà nước, hay trong bảo vệ quyền lợi cá nhân của con.\\n\\n### Tóm tắt\\nLuật Hôn nhân và Gia đình năm 2014 đã quy định một cách rõ ràng về nghĩa vụ và quyền lợi của cha mẹ đối với con cái. Điều này không chỉ đảm bảo sự phát triển tốt nhất cho trẻ mà còn tạo ra một khung pháp lý chặt chẽ hỗ trợ cha mẹ trong việc thực hiện trách nhiệm của họ. Việc xác định rõ ràng cả nghĩa vụ và quyền của cha mẹ giúp bảo vệ lợi ích hợp pháp của trẻ em, đồng thời củng cố mối quan hệ gia đình bền vững.',\n",
       "  'a': 'Theo quy định tại các điều 69, 71,72 Luật hôn nhân và gia đình năm 2014 thì cha mẹ có các nghĩa vụ và quyền sau đây:\\n- Thương yêu con, tôn trọng ý kiến của con; chăm lo việc học tập, giáo dục để con phát triển lành mạnh về thể chất, trí tuệ, đạo đức, trở thành người con hiếu thảo của gia đình, công dân có ích cho xã hội.\\n- Trông nom, nuôi dưỡng, chăm sóc, bảo vệ quyền, lợi ích hợp pháp của con chưa thành niên, con đã thành niên mất năng lực hành vi dân sự hoặc không có khả năng lao động và không có tài sản để tự nuôi mình.\\n- Giám hộ hoặc đại diện theo quy định của Bộ luật dân sự cho con chưa thành niên, con đã thành niên mất năng lực hành vi dân sự.\\n- Không được phân biệt đối xử với con trên cơ sở giới hoặc theo tình trạng hôn nhân của cha mẹ; không được lạm dụng sức lao động của con chưa thành niên, con đã thành niên mất năng lực hành vi dân sự hoặc không có khả năng lao động; không được xúi giục, ép buộc con làm việc trái pháp luật, trái đạo đức xã hội.\\n- Cha, mẹ có nghĩa vụ và quyền ngang nhau, cùng nhau chăm sóc, nuôi dưỡng con chưa thành niên, con đã thành niên mất năng lực hành vi dân sự hoặc không có khả năng lao động và không có tài sản để tự nuôi mình.\\n- Cha mẹ có nghĩa vụ và quyền giáo dục con, chăm lo và tạo điều kiện cho con học tập. Cha mẹ tạo điều kiện cho con được sống trong môi trường gia đình đầm ấm, hòa thuận; làm gương tốt cho con về mọi mặt; phối hợp chặt chẽ với nhà trường, cơ quan, tổ chức trong việc giáo dục con.\\n- Cha mẹ hướng dẫn con chọn nghề; tôn trọng quyền chọn nghề, quyền tham gia hoạt động chính trị, kinh tế, văn hóa, xã hội của con.\\n- Cha mẹ có thể đề nghị cơ quan, tổ chức hữu quan giúp đỡ để thực hiện việc giáo dục con khi gặp khó khăn không thể tự giải quyết được.',\n",
       "  'baseline': 'Theo quy định của Luật Hôn nhân và Gia đình năm 2014 của Việt Nam, cha mẹ có các nghĩa vụ và quyền cơ bản sau đây đối với con cái:\\n\\n1. **Nghĩa vụ và quyền chăm sóc, nuôi dưỡng con**: Cha mẹ có trách nhiệm chăm sóc, nuôi dưỡng con chưa thành niên hoặc con đã thành niên nhưng mất năng lực hành vi dân sự, không có khả năng lao động và không có tài sản để tự nuôi mình.\\n\\n2. **Nghĩa vụ và quyền giáo dục con**: Cha mẹ có trách nhiệm giáo dục con về đạo đức, lối sống, văn hóa và pháp luật. Họ cần tạo điều kiện cho con học tập và phát triển toàn diện.\\n\\n3. **Nghĩa vụ và quyền bảo vệ quyền và lợi ích hợp pháp của con**: Cha mẹ có trách nhiệm bảo vệ quyền và lợi ích hợp pháp của con, đại diện cho con trong các giao dịch dân sự theo quy định của pháp luật.\\n\\n4. **Nghĩa vụ và quyền quản lý tài sản của con**: Cha mẹ quản lý tài sản của con chưa thành niên hoặc con đã thành niên nhưng mất năng lực hành vi dân sự, trừ trường hợp pháp luật có quy định khác.\\n\\n5. **Nghĩa vụ và quyền tôn trọng ý kiến của con**: Cha mẹ cần lắng nghe và tôn trọng ý kiến của con, đặc biệt trong các vấn đề liên quan đến quyền và lợi ích của con.\\n\\nNhững nghĩa vụ và quyền này nhằm đảm bảo sự phát triển toàn diện và bảo vệ quyền lợi của trẻ em, đồng thời tạo điều kiện cho trẻ em phát triển trong môi trường gia đình lành mạnh và an toàn.',\n",
       "  'mini': 'Theo quy định của Luật Hôn nhân và Gia đình năm 2014 của Việt Nam, cha mẹ có những nghĩa vụ và quyền cơ bản như sau:\\n\\n### Nghĩa vụ của cha mẹ:\\n1. **Nuôi dưỡng, chăm sóc và giáo dục con cái**: Cha mẹ có trách nhiệm nuôi dưỡng, chăm sóc sức khỏe, giáo dục và phát triển toàn diện cho con cái.\\n2. **Bảo vệ quyền và lợi ích hợp pháp của con**: Cha mẹ phải bảo vệ quyền lợi của con, đảm bảo con được sống trong môi trường an toàn và lành mạnh.\\n3. **Tạo điều kiện cho con phát triển**: Cha mẹ cần tạo điều kiện cho con được học tập, phát triển tài năng và sở thích cá nhân.\\n4. **Thực hiện nghĩa vụ tài chính**: Cha mẹ có trách nhiệm thực hiện nghĩa vụ tài chính đối với con cái, bao gồm chi phí học tập, y tế và các nhu cầu thiết yếu khác.\\n\\n### Quyền của cha mẹ:\\n1. **Quyền quyết định về giáo dục và chăm sóc con**: Cha mẹ có quyền quyết định về phương pháp giáo dục, chăm sóc và nuôi dưỡng con cái.\\n2. **Quyền đại diện cho con**: Cha mẹ có quyền đại diện cho con trong các giao dịch dân sự và các vấn đề pháp lý khác.\\n3. **Quyền yêu cầu bảo vệ quyền lợi cho con**: Cha mẹ có quyền yêu cầu cơ quan nhà nước và tổ chức xã hội bảo vệ quyền lợi hợp pháp của con cái.\\n4. **Quyền thăm nom, chăm sóc con**: Trong trường hợp cha mẹ ly hôn, họ vẫn có quyền thăm nom, chăm sóc và nuôi dưỡng con cái theo quy định của pháp luật.\\n\\nNhững quy định này nhằm đảm bảo rằng cha mẹ thực hiện đầy đủ trách nhiệm của mình đối với con cái, đồng thời bảo vệ quyền lợi của trẻ em trong gia đình và xã hội.'},\n",
       " {'q': 'Bố mẹ chồng tôi mất có để lại di chúc cho con trai 6 tuổi của tôi quyền sử dụng mảnh đất 100 m2. Không may sau đó cháu mắc một bệnh hiểm nghèo, cần nhiều tiền để chữa trị. Vợ chồng đã thống nhất với nhau là sẽ chuyển nhượng quyền sử dụng mảnh đất này để lấy tiền chữa bệnh cho cháu. Xin hỏi, vợ chồng tôi có được đại diện cho con để thực hiện việc chuyển quyền sử dụng mảnh đất đó không? Luật hôn nhân và gia đình năm 2014 quy định như thế nào về vấn đề này?',\n",
       "  'hybrid': 'Luật Hôn nhân và Gia đình năm 2014 tại Việt Nam quy định rõ về quyền và nghĩa vụ của cha mẹ trong việc đại diện cho con chưa thành niên trong các giao dịch pháp lý. Cụ thể, theo quy định tại Điều 70 Luật Hôn nhân và Gia đình 2014, quyền và nghĩa vụ của cha mẹ đối với con cái bao gồm việc chăm sóc, nuôi dưỡng và đại diện cho con trong các giao dịch tài sản. \\n\\n### Đại diện cho quyền sử dụng mảnh đất\\n\\nTrong trường hợp của bạn, với việc mảnh đất 100 m2 thuộc quyền sử dụng của con trai bạn theo di chúc của ông bà, việc chuyển nhượng quyền sử dụng đất này có thể được thực hiện bởi bạn và chồng bạn với tư cách là đại diện hợp pháp cho con. Tuy nhiên, cần lưu ý rằng việc chuyển nhượng tài sản của con chưa thành niên như đất đai cũng phải tuân theo quy định pháp luật và cần có sự đồng ý của con (nếu con đã đủ khả năng hiểu biết hoặc trên 9 tuổi). \\n\\n### Thủ tục cần thiết\\n\\n1. **Đại diện hợp pháp**: Bạn cần chứng minh rằng bạn và chồng bạn là đại diện hợp pháp cho con. Điều này thường được thực hiện thông qua việc có tài liệu chứng minh quyền nuôi con (thường là giấy khai sinh).\\n\\n2. **Thủ tục chuyển nhượng**: Bạn sẽ cần thực hiện thủ tục chuyển nhượng quyền sử dụng đất tại cơ quan nhà nước có thẩm quyền, bao gồm việc làm giấy tờ chuyển nhượng, đăng ký tại văn phòng đăng ký đất đai.\\n\\n3. **Lợi ích của con**: Trong trường hợp này, bạn cần chỉ ra rằng việc bán đất nhằm mục đích chữa trị cho bệnh của cháu là lợi ích thiết thực cho cháu.\\n\\n### Kết luận\\n\\nTóm lại, vợ chồng bạn có quyền đại diện cho con để tiến hành chuyển nhượng quyền sử dụng mảnh đất, nhưng cần đảm bảo thực hiện đúng các quy định của pháp luật để bảo vệ quyền lợi hợp pháp của con. Trong trường hợp cần thiết, có thể tham khảo thêm ý kiến của luật sư để đảm bảo tính pháp lý cho các thủ tục này, đặc biệt trong bối cảnh chữa trị cho cháu là ưu tiên hàng đầu.',\n",
       "  'a': 'Theo Điều 73 Luật hôn nhân và gia đình năm 2014 quy định về việc cha mẹ đại diện cho con như sau:\\n1. Cha mẹ là người đại diện theo pháp luật của con chưa thành niên, con đã thành niên mất năng lực hành vi dân sự, trừ trường hợp con có người khác làm giám hộ hoặc có người khác đại diện theo pháp luật.\\n2. Cha hoặc mẹ có quyền tự mình thực hiện giao dịch nhằm đáp ứng nhu cầu thiết yếu của con chưa thành niên, con đã thành niên mất năng lực hành vi dân sự hoặc không có khả năng lao động và không có tài sản để tự nuôi mình.\\n3. Đối với giao dịch liên quan đến tài sản là bất động sản, động sản có đăng ký quyền sở hữu, quyền sử dụng, tài sản đưa vào kinh doanh của con chưa thành niên, con đã thành niên mất năng lực hành vi dân sự thì phải có sự thỏa thuận của cha mẹ.\\n4. Cha, mẹ phải chịu trách nhiệm liên đới về việc thực hiện giao dịch liên quan đến tài sản của con được quy định tại mục 2 và mục 3 nêu trên và theo quy định của Bộ luật dân sự.',\n",
       "  'baseline': 'Theo Luật Hôn nhân và Gia đình năm 2014 của Việt Nam, cha mẹ là người đại diện theo pháp luật của con chưa thành niên. Tuy nhiên, việc chuyển nhượng quyền sử dụng đất của con chưa thành niên cần tuân thủ một số quy định pháp luật để đảm bảo quyền lợi tốt nhất cho trẻ.\\n\\nCụ thể, theo Điều 77 của Luật Hôn nhân và Gia đình năm 2014, cha mẹ có quyền đại diện cho con trong các giao dịch dân sự, nhưng phải đảm bảo lợi ích tốt nhất cho con. Trong trường hợp này, việc chuyển nhượng quyền sử dụng đất cần được thực hiện với sự đồng ý của cả cha và mẹ, và phải đảm bảo rằng việc chuyển nhượng này là cần thiết và có lợi cho con, chẳng hạn như để chữa bệnh cho con.\\n\\nNgoài ra, theo quy định của pháp luật về đất đai và dân sự, việc chuyển nhượng quyền sử dụng đất của người chưa thành niên có thể cần sự phê duyệt của cơ quan có thẩm quyền, chẳng hạn như Tòa án nhân dân, để đảm bảo rằng giao dịch này không gây thiệt hại đến quyền lợi của trẻ.\\n\\nDo đó, vợ chồng bạn nên liên hệ với luật sư hoặc cơ quan chức năng có thẩm quyền để được tư vấn cụ thể và thực hiện các thủ tục cần thiết theo quy định của pháp luật.',\n",
       "  'mini': 'Theo quy định của Luật Hôn nhân và Gia đình năm 2014, việc đại diện cho con chưa thành niên (trong trường hợp này là con trai 6 tuổi của bạn) thực hiện các giao dịch dân sự, bao gồm cả việc chuyển nhượng quyền sử dụng đất, cần tuân thủ các quy định về quyền và nghĩa vụ của cha mẹ đối với con cái.\\n\\nCụ thể, theo Điều 28 của Luật Hôn nhân và Gia đình năm 2014, cha mẹ có quyền đại diện cho con chưa thành niên trong các giao dịch dân sự, nhưng phải đảm bảo rằng việc đại diện này là vì lợi ích của con. Trong trường hợp của bạn, việc chuyển nhượng quyền sử dụng mảnh đất để lấy tiền chữa bệnh cho con là một lý do chính đáng và có thể được coi là vì lợi ích của con.\\n\\nTuy nhiên, để thực hiện việc chuyển nhượng quyền sử dụng đất, bạn cần lưu ý một số điểm sau:\\n\\n1. **Thỏa thuận của cả hai vợ chồng**: Việc chuyển nhượng cần có sự đồng ý của cả hai vợ chồng, điều này bạn đã nêu là đã thống nhất với nhau.\\n\\n2. **Lợi ích của con**: Bạn cần chứng minh rằng việc chuyển nhượng này là vì lợi ích của con, tức là số tiền thu được sẽ được sử dụng cho việc chữa bệnh của cháu.\\n\\n3. **Thủ tục pháp lý**: Bạn cần thực hiện đầy đủ các thủ tục pháp lý theo quy định của pháp luật về đất đai và dân sự, bao gồm việc lập hợp đồng chuyển nhượng, công chứng (nếu cần) và thực hiện các thủ tục đăng ký quyền sử dụng đất tại cơ quan nhà nước có thẩm quyền.\\n\\n4. **Giấy tờ liên quan**: Bạn cần chuẩn bị đầy đủ giấy tờ liên quan đến quyền sử dụng đất, di chúc của bố mẹ chồng, giấy tờ chứng minh tình trạng sức khỏe của con để làm căn cứ cho việc chuyển nhượng.\\n\\nNếu có bất kỳ thắc mắc nào hoặc cần tư vấn chi tiết hơn, bạn nên tham khảo ý kiến của luật sư hoặc chuyên gia pháp lý để đảm bảo thực hiện đúng quy định của pháp luật.'},\n",
       " {'q': 'Bố chồng tôi qua đời, có di chúc để lại cho con trai 10 tuổi của tôi một ngôi nhà nhưng lại giao cho mẹ chồng tôi quản lý cho đến khi cháu tròn 18 tuổi. Xin hỏi Luật hôn nhân và gia đình năm 2014 quy định như thế nào về quản lý tài sản riêng của con? Vợ chồng tôi có được quyền quản lý ngôi nhà này của con tôi không?',\n",
       "  'hybrid': 'Trong Luật Hôn nhân và Gia đình năm 2014 của Việt Nam, quyền và nghĩa vụ liên quan đến tài sản của con chưa thành niên đều được quy định rõ ràng, nhằm bảo vệ quyền lợi hợp pháp của trẻ em trong lĩnh vực tài sản.\\n\\n### Quy định về quyền quản lý tài sản của con\\nTheo Điều 75 và các điều liên quan, trẻ em dưới 18 tuổi thuộc diện chưa thành niên có quyền sở hữu tài sản riêng, bao gồm cả tài sản được để lại như di chúc. Tuy nhiên, việc quản lý và định đoạt tài sản này thường thuộc về cha mẹ hoặc người giám hộ. Cụ thể:\\n\\n1. **Người đại diện**: Cha mẹ có quyền đại diện hợp pháp cho con chưa thành niên trong các giao dịch liên quan đến tài sản. Trong trường hợp tài sản được để lại cho trẻ em, người giám hộ (ở đây là mẹ chồng bạn) sẽ đảm nhiệm việc quản lý tài sản đó cho đến khi trẻ đủ 18 tuổi.\\n\\n2. **Quyền hạn ng\\xadười giám hộ**: Người giám hộ có nhiệm vụ bảo vệ quyền lợi và tài sản của trẻ, đảm bảo tài sản được sử dụng vào những mục đích hợp pháp nhằm phục vụ cho việc nuôi dưỡng và phát triển của trẻ. Nếu quyền lợi của trẻ bị vi phạm, người giám hộ có trách nhiệm bảo vệ trẻ, và có thể bị yêu cầu giải trình về việc quản lý tài sản.\\n\\n### Quyền quản lý của vợ chồng bạn\\nTrong trường hợp của bạn và chồng bạn:\\n\\n- Khi tài sản đã được truyền lại cho con bạn theo di chúc, quyền quản lý tài sản này về cơ bản thuộc về mẹ chồng bạn cho đến khi con bạn đủ 18 tuổi. Điều này cũng có nghĩa là các quyết định quan trọng liên quan đến bất động sản này (như chuyển nhượng, bán, hoặc cho thuê) thường cần có sự đồng ý của người giám hộ.\\n\\n- Tuy nhiên, vợ chồng bạn có thể tham gia vào việc quản lý tài sản bằng cách phối hợp với mẹ chồng trong việc quản lý và sử dụng bất động sản này nhằm đảm bảo nó được giữ gìn và phát triển tốt nhất tới khi con bạn đủ tuổi trưởng thành.\\n\\n### Kết luận\\nTóm lại, theo quy định của Luật Hôn nhân và Gia đình năm 2014, bạn và chồng bạn không có quyền trực tiếp quản lý ngôi nhà mà con bạn được thừa kế, trừ khi có sự đồng ý hoặc ủy quyền từ mẹ chồng bạn. Mẹ chồng có trách nhiệm quản lý tài sản cho đến khi con bạn đủ 18 tuổi, và bạn có thể tham gia hỗ trợ nhưng không thể quyết định đơn phương về tài sản này.',\n",
       "  'a': 'Điều 76 Luật hôn nhân và gia đình năm 2014 quy định việc quản lý tài sản riêng của con như sau:\\n1. Con từ đủ 15 tuổi trở lên có thể tự mình quản lý tài sản riêng hoặc nhờ cha mẹ quản lý.\\n2. Tài sản riêng của con dưới 15 tuổi, con mất năng lực hành vi dân sự do cha mẹ quản lý. Cha mẹ có thể ủy quyền cho người khác quản lý tài sản riêng của con. Tài sản riêng của con do cha mẹ hoặc người khác quản lý được giao lại cho con khi con từ đủ 15 tuổi trở lên hoặc khi con khôi phục năng lực hành vi dân sự đầy đủ, trừ trường hợp cha mẹ và con có thỏa thuận khác.\\n3. Cha mẹ không quản lý tài sản riêng của con trong trường hợp con đang được người khác giám hộ theo quy định của Bộ luật dân sự; người tặng cho tài sản hoặc để lại tài sản thừa kế theo di chúc cho người con đã chỉ định người khác quản lý tài sản đó hoặc trường hợp khác theo quy định của pháp luật.\\n4. Trong trường hợp cha mẹ đang quản lý tài sản riêng của con chưa thành niên, con đã thành niên mất năng lực hành vi dân sự mà con được giao cho người khác giám hộ thì tài sản riêng của con được giao lại cho người giám hộ quản lý theo quy định của Bộ luật dân sự.\\nNhư vậy, con bạn dưới 15 tuổi thì cha mẹ có quyền quản lý tài sản riêng của con. Tuy nhiên, đây là tài sản con bạn được thừa kế từ ông nội, mà trong di chúc của bố chồng bạn có ghi rõ mẹ chồng bạn là người quản lý tài sản này thì vợ chồng bạn không có quyền quản lý tài sản này nữa.',\n",
       "  'baseline': 'Theo Luật Hôn nhân và Gia đình năm 2014 của Việt Nam, việc quản lý tài sản riêng của con chưa thành niên được quy định như sau:\\n\\n1. **Quyền quản lý tài sản của con chưa thành niên**: Cha mẹ là người đại diện theo pháp luật của con chưa thành niên và có quyền quản lý tài sản riêng của con. Tuy nhiên, nếu có di chúc hoặc thỏa thuận khác quy định người khác quản lý tài sản này, thì người được chỉ định sẽ có quyền quản lý.\\n\\n2. **Trường hợp của bạn**: Trong trường hợp này, bố chồng bạn đã để lại di chúc chỉ định mẹ chồng bạn là người quản lý ngôi nhà cho đến khi con bạn đủ 18 tuổi. Điều này có nghĩa là quyền quản lý tài sản thuộc về mẹ chồng bạn theo di chúc.\\n\\n3. **Quyền của cha mẹ**: Vợ chồng bạn không có quyền quản lý ngôi nhà này trừ khi có sự đồng ý của người được chỉ định quản lý (mẹ chồng bạn) hoặc có quyết định khác từ tòa án.\\n\\nNếu bạn có bất kỳ thắc mắc nào hoặc cần giải quyết vấn đề liên quan đến quyền quản lý tài sản, bạn nên tham khảo ý kiến của luật sư hoặc cơ quan pháp luật có thẩm quyền để được tư vấn cụ thể và chính xác hơn.',\n",
       "  'mini': 'Theo quy định tại Luật Hôn nhân và Gia đình năm 2014, tài sản mà bố chồng bạn để lại cho con trai bạn (ngôi nhà) được coi là tài sản riêng của con bạn. Theo Điều 21 của Luật này, tài sản riêng của con cái được quản lý bởi cha mẹ hoặc người giám hộ cho đến khi con cái đủ 18 tuổi.\\n\\nTrong trường hợp này, mẹ chồng bạn được giao quyền quản lý ngôi nhà cho đến khi cháu trai bạn tròn 18 tuổi. Điều này có nghĩa là mẹ chồng bạn có trách nhiệm quản lý tài sản này và không ai khác có quyền can thiệp vào việc quản lý tài sản này mà không có sự đồng ý của bà.\\n\\nVợ chồng bạn không có quyền quản lý ngôi nhà này của con bạn, trừ khi có sự đồng ý của mẹ chồng bạn hoặc có quy định khác trong di chúc. Tuy nhiên, bạn và chồng bạn có thể tham gia vào việc giám sát và hỗ trợ mẹ chồng trong việc quản lý tài sản này, nhưng quyền quyết định cuối cùng vẫn thuộc về mẹ chồng bạn.\\n\\nNếu có bất kỳ tranh chấp nào liên quan đến việc quản lý tài sản này, bạn có thể tham khảo ý kiến của luật sư hoặc cơ quan có thẩm quyền để được tư vấn cụ thể hơn.'},\n",
       " {'q': 'Ba của H qua đời đã lâu. Từ lúc còn nhỏ, H đã sống với mẹ và ba dượng. Mẹ H và ba dượng không có con. Nay, mẹ H qua đời, H đã lập gia đình và ở riêng. Vậy, theo quy định của pháp luật, H phải có trách nhiệm chăm sóc, nuôi dưỡng ba dượng hay không?',\n",
       "  'hybrid': 'Theo quy định của Luật Hôn nhân và Gia đình năm 2014 tại Việt Nam, trách nhiệm chăm sóc và nuôi dưỡng giữa các thành viên trong gia đình được quy định rõ ràng, đặc biệt là giữa cha mẹ và con cái. Trong trường hợp của bạn H, các yếu tố liên quan đến nghĩa vụ chăm sóc ba dượng cần được xem xét cụ thể như sau:\\n\\n### Trách nhiệm của H đối với ba dượng\\n\\n1. **Nghĩa vụ chăm sóc người lớn tuổi**:\\n   Pháp luật Việt Nam công nhận nghĩa vụ của con cái trong việc chăm sóc, nuôi dưỡng cha mẹ; tuy nhiên, trong bối cảnh này, mẹ của H đã qua đời và ba dượng có thể được coi như một thành viên trong gia đình không trực tiếp có quan hệ huyết thống với H. \\n\\n2. **Mối quan hệ huyết thống và liên kết gia đình**:\\n   Mặc dù ba dượng không phải là cha đẻ của H, nhưng vai trò của ba dượng trong gia đình và sự nuôi dưỡng H trong suốt thời thơ ấu có thể tạo ra một trách nhiệm đạo đức và tinh thần đối với H trong việc chăm sóc ba dượng.\\n\\n3. **Quy định mà H cần tuân thủ**:\\n   Theo quy định tại khoản 3, điều 69 của Luật Hôn nhân và Gia đình năm 2014, H có thể có trách nhiệm tài chính và chăm sóc cho người dượng nếu có thỏa thuận hoặc cam kết giữa các bên, đặc biệt trong trường hợp ba dượng không còn khả năng tự chăm sóc cho bản thân.\\n\\n### Kết luận\\n\\nVề mặt pháp lý, H không bị ràng buộc phải chăm sóc ba dượng nếu không có quy định rõ ràng trong luật hoặc không có sự thỏa thuận nào. Tuy nhiên, xét về mặt đạo đức và tình nghĩa gia đình, H có thể xem xét trách nhiệm chăm sóc ba dượng, đặc biệt nếu ba dượng đang gặp khó khăn hoặc cần sự hỗ trợ về sinh hoạt hàng ngày sau khi mẹ H qua đời.\\n\\nH nên chủ động tham khảo thêm ý kiến từ những luật sư hoặc tổ chức pháp lý có uy tín để hiểu rõ hơn về quyền lợi cũng như nghĩa vụ của mình trong mối quan hệ này.',\n",
       "  'a': 'Theo Điều 79 Luật hôn nhân và gia đình năm 2014 quy định quyền, nghĩa vụ của bố dượng, mẹ kế và con riêng của vợ hoặc của chồng như sau:\\n1. Cha dượng, mẹ kế có quyền và nghĩa vụ trông nom, nuôi dưỡng, chăm sóc, giáo dục con riêng của bên kia cùng sống chung với mình theo quy định tại các điều 69, 71 và 72 của Luật hôn nhân và gia đình.\\n2. Con riêng có quyền và nghĩa vụ chăm sóc, phụng dưỡng cha dượng, mẹ kế cùng sống chung với mình theo quy định tại Điều 70 và Điều 71 của Luật hôn nhân và gia đình.\\nTrong đó, khoản 2 Điều 71 Luật hôn nhân và gia đình quy định nghĩa vụ và quyền của con: Con có nghĩa vụ chăm sóc, nuôi dưỡng cha mẹ, đặc biệt khi cha mẹ mất năng lực hành vi dân sự, ốm đau, già yếu, khuyết tật; trường hợp gia đình có nhiều con thì các con phải cùng nhau chăm sóc, nuôi dưỡng cha mẹ.\\nNhư vậy, trong trường hợp này, H phải có nghĩa vụ chăm sóc, nuôi dưỡng ba dượng của mình.',\n",
       "  'baseline': 'Theo quy định của pháp luật Việt Nam, cụ thể là Luật Hôn nhân và Gia đình, con riêng có nghĩa vụ chăm sóc, nuôi dưỡng cha dượng hoặc mẹ kế nếu giữa họ có quan hệ chăm sóc, nuôi dưỡng nhau như cha con, mẹ con. Điều này có nghĩa là nếu trong quá trình sống chung, ba dượng đã chăm sóc, nuôi dưỡng H như con ruột thì H có trách nhiệm chăm sóc, nuôi dưỡng ba dượng khi ông cần sự giúp đỡ.\\n\\nTuy nhiên, nếu không có sự chăm sóc, nuôi dưỡng như cha con giữa H và ba dượng, thì H không có nghĩa vụ pháp lý phải chăm sóc, nuôi dưỡng ba dượng. Trách nhiệm này phụ thuộc vào mối quan hệ thực tế giữa H và ba dượng trong thời gian sống chung.\\n\\nĐể xác định rõ hơn về trách nhiệm cụ thể, có thể cần xem xét thêm các yếu tố khác hoặc tham khảo ý kiến tư vấn pháp lý từ luật sư.',\n",
       "  'mini': 'Theo quy định của pháp luật Việt Nam, trách nhiệm chăm sóc và nuôi dưỡng cha dượng (hoặc mẹ kế) không được quy định rõ ràng như đối với cha mẹ ruột. Tuy nhiên, trong một số trường hợp, nếu cha dượng đã có vai trò như một người cha trong cuộc sống của H, thì H có thể có trách nhiệm chăm sóc và nuôi dưỡng ông ấy, đặc biệt nếu ông ấy không có nguồn thu nhập hoặc không có ai khác để chăm sóc.\\n\\nCụ thể, theo Bộ luật Dân sự Việt Nam, nghĩa vụ nuôi dưỡng thường chỉ áp dụng cho các mối quan hệ huyết thống hoặc quan hệ hôn nhân. Tuy nhiên, nếu H và ba dượng có mối quan hệ gần gũi và ba dượng đã đóng vai trò quan trọng trong cuộc sống của H, thì H có thể tự nguyện chăm sóc ông ấy.\\n\\nNgoài ra, nếu ba dượng gặp khó khăn về tài chính hoặc sức khỏe, H cũng có thể xem xét việc hỗ trợ ông ấy về mặt vật chất hoặc tinh thần, nhưng đây sẽ là trách nhiệm tự nguyện hơn là nghĩa vụ pháp lý bắt buộc. \\n\\nTóm lại, H không có trách nhiệm pháp lý phải chăm sóc ba dượng, nhưng nếu có tình cảm và mối quan hệ gắn bó, H có thể tự nguyện thực hiện việc này.'},\n",
       " {'q': 'Sau khi ly hôn, vợ tôi được Tòa án cho nuôi con vì con tôi còn nhỏ. Tuy nhiên sau đó, vợ tôi lại thường xuyên phải đi công tác xa, để con lại cho mẹ cô ấy chăm sóc, cuộc sống của cháu thiếu thốn cả về vật chất và tình cảm. Vậy tôi có quyền yêu cầu Tòa án cho phép tôi nuôi con được không?',\n",
       "  'hybrid': 'Sau khi ly hôn, quyền nuôi con thường được quyết định dựa trên lợi ích tốt nhất của trẻ. Theo quy định trong Luật Hôn Nhân và Gia Đình 2014, bạn có quyền yêu cầu Tòa án xem xét lại vấn đề quyền nuôi con nếu có đủ cơ sở chứng minh rằng tình hình hiện tại không đảm bảo cho sự phát triển của trẻ.\\n\\nTrường hợp của bạn, việc vợ bạn thường xuyên đi công tác xa và để con lại cho bà nội chăm sóc có thể là một yếu tố quan trọng mà Tòa án sẽ xem xét. Nếu bạn có thể chứng minh rằng cháu đang phải sống trong điều kiện thiếu thốn cả về vật chất và tình cảm dưới sự chăm sóc hiện tại, đây có thể là nền tảng để yêu cầu tái xem xét quyền nuôi con.\\n\\nTheo Điều 81 của Luật Hôn Nhân và Gia Đình, Tòa án sẽ xem xét lại quyền nuôi con khi có sự thay đổi về hoàn cảnh hoặc điều kiện sống của cả cha và mẹ, nhằm bảo đảm lợi ích tối đa cho trẻ. Bạn cần cung cấp chứng cứ rõ ràng, chẳng hạn như hình ảnh, tài liệu về điều kiện sống của cháu hoặc những khó khăn mà cháu đang gặp phải để chứng minh rằng, việc giao quyền nuôi con cho bạn sẽ mang lại môi trường tốt hơn cho sự phát triển của trẻ.\\n\\nĐể thực hiện yêu cầu này, bạn cần nộp đơn đến Tòa án có thẩm quyền kèm theo những chứng cứ và thông tin liên quan. Chính Tòa án sẽ đánh giá tất cả các yếu tố để đưa ra quyết định phù hợp nhất cho trẻ.\\n\\nTrong trường hợp bạn cần thêm hỗ trợ pháp lý, việc tìm kiếm sự tư vấn từ một luật sư chuyên về hôn nhân và gia đình sẽ là một lựa chọn tốt, giúp bạn hiểu rõ hơn về các quy trình và quyền lợi của mình trong vụ việc này.',\n",
       "  'a': 'Theo quy định tại Điều 84 Luật hôn nhân và gia đình năm 2014, trong trường hợp có yêu cầu của cha, mẹ hoặc cá nhân, cơ quan, tổ chức như cơ quan quản lý nhà nước về gia đình; cơ quan quản lý nhà nước về trẻ em; Hội liên hiệp phụ nữ, Tòa án có thể quyết định việc thay đổi người trực tiếp nuôi con.\\nViệc thay đổi người trực tiếp nuôi con sau ly hôn được giải quyết khi có một trong các căn cứ sau đây:\\n- Cha, mẹ có thỏa thuận về việc thay đổi người trực tiếp nuôi con phù hợp với lợi ích của con;\\n- Người trực tiếp nuôi con không còn đủ điều kiện trực tiếp trông nom, chăm sóc, nuôi dưỡng, giáo dục con.\\nNhư vậy, bạn có thể thỏa thuận với vợ cũ về việc cho phép bạn trực tiếp nuôi con để bảo đảm lợi ích của con và yêu cầu Tòa án giải quyết việc đó; nếu không thỏa thuận được thì bạn có thể tự mình yêu cầu hoặc đề nghị người thân thích, cơ quan quản lý nhà nước về gia đình, cơ quan quản lý nhà nước về trẻ em, Hội liên hiệp phụ nữ yêu cầu Tòa án quyết định thay đổi người trực tiếp nuôi con.',\n",
       "  'baseline': 'Trong trường hợp này, bạn có quyền yêu cầu Tòa án xem xét lại quyền nuôi con nếu bạn có đủ căn cứ chứng minh rằng việc thay đổi người nuôi dưỡng sẽ tốt hơn cho con về cả vật chất và tinh thần. Dưới đây là một số bước bạn có thể thực hiện:\\n\\n1. **Thu thập bằng chứng**: Bạn cần thu thập các bằng chứng chứng minh rằng vợ cũ của bạn không thể chăm sóc con một cách tốt nhất, chẳng hạn như việc thường xuyên đi công tác xa, để con cho người khác chăm sóc, và điều này ảnh hưởng tiêu cực đến cuộc sống của con.\\n\\n2. **Chứng minh khả năng của bạn**: Bạn cần chứng minh rằng bạn có khả năng và điều kiện tốt hơn để chăm sóc con, bao gồm cả về tài chính, thời gian và môi trường sống.\\n\\n3. **Nộp đơn lên Tòa án**: Bạn có thể nộp đơn yêu cầu thay đổi quyền nuôi con lên Tòa án. Trong đơn, bạn cần nêu rõ lý do và cung cấp các bằng chứng hỗ trợ cho yêu cầu của mình.\\n\\n4. **Tham gia phiên tòa**: Tòa án sẽ xem xét yêu cầu của bạn và có thể tổ chức một phiên tòa để lắng nghe ý kiến từ cả hai bên. Bạn cần chuẩn bị kỹ lưỡng để trình bày trường hợp của mình.\\n\\n5. **Lợi ích tốt nhất của trẻ**: Tòa án sẽ đưa ra quyết định dựa trên lợi ích tốt nhất của trẻ. Do đó, bạn cần tập trung vào việc chứng minh rằng việc bạn nuôi con sẽ mang lại lợi ích tốt nhất cho con.\\n\\nNếu bạn không chắc chắn về quy trình pháp lý, bạn nên tìm kiếm sự tư vấn từ một luật sư chuyên về hôn nhân và gia đình để được hỗ trợ tốt nhất.',\n",
       "  'mini': 'Theo quy định của pháp luật Việt Nam, sau khi ly hôn, quyền nuôi con sẽ được Tòa án quyết định dựa trên lợi ích tốt nhất của trẻ. Nếu bạn nhận thấy rằng việc nuôi dưỡng của vợ bạn không đáp ứng được nhu cầu của con, bạn có quyền yêu cầu Tòa án xem xét lại quyết định nuôi con.\\n\\nĐể yêu cầu Tòa án thay đổi quyền nuôi con, bạn cần chuẩn bị các tài liệu và chứng cứ chứng minh rằng việc nuôi dưỡng của vợ bạn không đảm bảo cho sự phát triển tốt nhất của trẻ. Các yếu tố có thể được xem xét bao gồm:\\n\\n1. **Tình trạng chăm sóc của vợ bạn**: Nếu vợ bạn thường xuyên đi công tác và không có thời gian chăm sóc con, điều này có thể ảnh hưởng đến sự phát triển của trẻ.\\n\\n2. **Môi trường sống của trẻ**: Nếu môi trường sống của trẻ không đảm bảo về vật chất và tinh thần, bạn có thể đưa ra làm lý do.\\n\\n3. **Khả năng nuôi dưỡng của bạn**: Bạn cần chứng minh rằng bạn có khả năng và điều kiện tốt hơn để nuôi dưỡng con.\\n\\nBạn nên nộp đơn yêu cầu thay đổi quyền nuôi con tại Tòa án nơi có thẩm quyền. Tòa án sẽ xem xét và quyết định dựa trên lợi ích tốt nhất của trẻ. Bạn cũng có thể cần sự hỗ trợ của luật sư để đảm bảo quyền lợi của mình được bảo vệ tốt nhất trong quá trình này.'},\n",
       " {'q': 'Pháp luật quy định những trường hợp nào thì hạn chế quyền của cha, mẹ đối với con chưa thành niên?',\n",
       "  'hybrid': '### Quy định về hạn chế quyền của cha, mẹ đối với con chưa thành niên\\n\\nPháp luật Việt Nam quy định rất rõ về quyền và nghĩa vụ của cha mẹ đối với con chưa thành niên. Tuy nhiên, trong một số trường hợp nhất định, quyền của cha mẹ có thể bị hạn chế nhằm bảo vệ lợi ích tốt nhất cho trẻ em. Dưới đây là các trường hợp cụ thể:\\n\\n1. **Vi phạm quyền lợi của con**: Cha mẹ có thể bị hạn chế quyền thăm nom hoặc quyền nuôi dưỡng nếu họ vi phạm quyền lợi hoặc gây ảnh hưởng tiêu cực đến sự phát triển của con cái. Ví dụ, nếu một trong hai bên có hành vi bạo lực, lạm dụng hoặc có vấn đề về tâm thần có thể ảnh hưởng tới an toàn của trẻ.\\n\\n2. **Thiếu khả năng nuôi dưỡng**: Nếu cha mẹ không thể thực hiện trách nhiệm chăm sóc và nuôi dưỡng con cái do các lý do như sức khỏe không đảm bảo hoặc không có điều kiện tài chính, Tòa án có thể quyết định hạn chế quyền của họ đối với sự nuôi dưỡng của trẻ.\\n\\n3. **Hành vi trái pháp luật**: Nếu cha mẹ vi phạm pháp luật trong công tác nuôi dưỡng, như nghiện ma túy hoặc có hành vi phạm tội, Tòa án có thể can thiệp và hạn chế quyền nuôi dưỡng của họ.\\n\\n4. **Tình trạng tâm lý không ổn định**: Cha mẹ mắc các vấn đề tâm lý nghiêm trọng có thể không đủ khả năng đảm bảo sự ổn định về mặt tinh thần và cảm xúc cho con, dẫn đến việc Tòa án quyết định hạn chế các quyền của họ.\\n\\nTrong trường hợp quyền của cha mẹ bị hạn chế, Tòa án sẽ can thiệp để đảm bảo sự an toàn và sự phát triển toàn diện của trẻ em. Cha mẹ cũng có thể yêu cầu Tòa án xem xét và xác định lại quyền của họ nếu tình hình đã cải thiện.\\n\\n### Kết luận\\n\\nViệc hạn chế quyền của cha mẹ là một biện pháp nhằm bảo vệ quyền lợi và sự an toàn cho trẻ em. Các quy định pháp lý về vấn đề này không chỉ nhấn mạnh trách nhiệm của cha mẹ trong việc nuôi dưỡng và giáo dục con cái mà còn đảm bảo rằng quyền lợi của trẻ em được đặt lên hàng đầu trong mọi quyết định của Tòa án.',\n",
       "  'a': 'Theo quy định tại Điều 85 Luật hôn nhân và gia đình năm 2014, cha, mẹ bị hạn chế quyền đối với con chưa thành niên trong các trường hợp sau đây:\\n        - Bị kết án về một trong các tội xâm phạm tính mạng, sức khỏe, nhân phẩm, danh dự của con với lỗi cố ý hoặc có hành vi vi phạm nghiêm trọng nghĩa vụ trông nom, chăm sóc, nuôi dưỡng, giáo dục con;\\n- Phá tán tài sản của con;\\n- Có lối sống đồi trụy;\\n- Xúi giục, ép buộc con làm những việc trái pháp luật, trái đạo đức xã hội.',\n",
       "  'baseline': 'Theo pháp luật Việt Nam, quyền của cha, mẹ đối với con chưa thành niên có thể bị hạn chế trong một số trường hợp nhất định nhằm bảo vệ quyền lợi tốt nhất cho trẻ em. Cụ thể, theo Luật Hôn nhân và Gia đình năm 2014, các trường hợp hạn chế quyền của cha, mẹ đối với con chưa thành niên bao gồm:\\n\\n1. **Lạm dụng quyền của cha, mẹ**: Khi cha, mẹ lạm dụng quyền của mình để ngược đãi, bạo hành, bóc lột sức lao động hoặc có hành vi khác gây tổn hại đến sức khỏe, danh dự, nhân phẩm của con.\\n\\n2. **Không thực hiện nghĩa vụ chăm sóc, giáo dục con**: Khi cha, mẹ không thực hiện nghĩa vụ chăm sóc, nuôi dưỡng, giáo dục con, dẫn đến việc con bị bỏ rơi, không được chăm sóc đầy đủ.\\n\\n3. **Có lối sống không lành mạnh**: Khi cha, mẹ có lối sống không lành mạnh, ảnh hưởng xấu đến sự phát triển của con, chẳng hạn như nghiện ma túy, rượu bia, cờ bạc, mại dâm.\\n\\n4. **Các trường hợp khác theo quy định của pháp luật**: Ngoài các trường hợp trên, pháp luật cũng có thể quy định các trường hợp khác mà quyền của cha, mẹ có thể bị hạn chế để bảo vệ lợi ích tốt nhất cho trẻ em.\\n\\nViệc hạn chế quyền của cha, mẹ đối với con chưa thành niên thường được thực hiện thông qua quyết định của tòa án, dựa trên các bằng chứng và tình huống cụ thể. Quyết định này nhằm đảm bảo môi trường sống và phát triển tốt nhất cho trẻ em.',\n",
       "  'mini': 'Theo quy định của pháp luật Việt Nam, quyền của cha, mẹ đối với con chưa thành niên có thể bị hạn chế trong một số trường hợp nhất định. Cụ thể, Điều 85 của Bộ luật Dân sự 2015 quy định về quyền và nghĩa vụ của cha, mẹ đối với con chưa thành niên. Các trường hợp hạn chế quyền của cha, mẹ đối với con chưa thành niên bao gồm:\\n\\n1. **Cha, mẹ có hành vi vi phạm pháp luật**: Nếu cha, mẹ có hành vi vi phạm nghiêm trọng pháp luật, gây ảnh hưởng xấu đến sự phát triển của con, quyền và lợi ích hợp pháp của con có thể bị hạn chế.\\n\\n2. **Cha, mẹ không đủ khả năng nuôi dưỡng con**: Nếu cha, mẹ không đủ điều kiện về vật chất hoặc tinh thần để nuôi dưỡng, chăm sóc con, quyền nuôi dưỡng có thể được xem xét lại.\\n\\n3. **Cha, mẹ có hành vi bạo lực gia đình**: Nếu cha, mẹ có hành vi bạo lực gia đình hoặc có hành vi xâm hại đến sức khỏe, tinh thần của con, quyền của họ đối với con có thể bị hạn chế.\\n\\n4. **Cha, mẹ bị xử lý hành chính hoặc hình sự**: Trong trường hợp cha, mẹ bị xử lý hành chính hoặc hình sự mà ảnh hưởng đến khả năng chăm sóc, nuôi dưỡng con.\\n\\n5. **Các trường hợp khác theo quy định của pháp luật**: Ngoài các trường hợp nêu trên, còn có thể có các quy định khác theo luật định hoặc quyết định của tòa án.\\n\\nViệc hạn chế quyền của cha, mẹ đối với con chưa thành niên thường phải được xem xét và quyết định bởi cơ quan có thẩm quyền, nhằm bảo vệ quyền lợi tốt nhất cho trẻ em.'},\n",
       " {'q': 'Tại khu dân cư nơi tôi đang sinh sống, có trường hợp người vợ vì căm ghét chồng do bị chồng phản bội, mà đánh đập, ngược đãi con rất tàn nhẫn. Gia đình, hàng xóm đã nhiều lần khuyên can nhưng tình trạng trên vẫn tiếp diễn. Vậy xin hỏi, tôi là hàng xóm thì có quyền yêu cầu Tòa án hạn chế quyền của người mẹ đối với con chưa thành niên hay không?',\n",
       "  'hybrid': '### Quyền yêu cầu Tòa án hạn chế quyền của người mẹ đối với con chưa thành niên\\n\\nTheo quy định tại Luật Hôn Nhân và Gia Đình 2014, bảo vệ quyền lợi của trẻ em và xử lý các hành vi bạo lực gia đình là rất quan trọng. Trong tình huống bạn đã mô tả, khi có dấu hiệu bạo lực và ngược đãi trẻ em từ phía người mẹ, việc yêu cầu can thiệp từ Tòa án là hoàn toàn chính đáng.\\n\\n1. **Căn cứ yêu cầu**: Luật quy định rằng, bất kỳ cá nhân, tổ chức nào, bao gồm cả hàng xóm, có quyền yêu cầu Tòa án hạn chế quyền nuôi con của một trong hai cha mẹ khi có bằng chứng cho thấy hành vi của họ gây nguy hiểm đến sức khỏe, tính mạng của trẻ. Trong tình huống hiện tại, tình trạng ngược đãi và đánh đập trẻ em là lý do đủ mạnh để bạn có thể khởi kiện. \\n\\n2. **Thủ tục yêu cầu**: Bạn có thể nộp đơn yêu cầu đến Tòa án nơi cư trú của gia đình để giải quyết. Trong đơn cần nêu rõ các lý do, chứng cứ về hành vi ngược đãi của người mẹ đối với con cái. Tòa án sẽ xem xét và quyết định dựa trên sự bảo vệ quyền lợi của trẻ em.\\n\\n3. **Vai trò của các tổ chức xã hội**: Ngoài việc yêu cầu Tòa án can thiệp, bạn cũng có thể thông báo cho các tổ chức xã hội hoặc Cơ sở hỗ trợ nạn nhân bạo lực gia đình tại địa phương để họ có thể can thiệp kịp thời, giúp bảo vệ trẻ em khỏi tình trạng bạo lực trong gia đình.\\n\\n### Kết luận\\n\\nBạn hoàn toàn có quyền yêu cầu Tòa án hạn chế quyền nuôi con của người mẹ dựa trên hoạt động ngược đãi mà bạn đã trình bày. Nên thực hiện ngay để đảm bảo an toàn cho trẻ em và thực hiện các quy trình pháp lý theo quy định của pháp luật.',\n",
       "  'a': 'Theo quy định tại Điều 86 Luật hôn nhân và gia đình năm 2014, khi có các biểu hiện cần hạn chế quyền của cha, mẹ đối với con chưa thành niên thì cha, mẹ, người giám hộ của con chưa thành niên; người thân thích, cơ quan quản lý nhà nước về gia đình; cơ quan quản lý nhà nước về trẻ em; Hội liên hiệp phụ nữ có quyền yêu cầu Tòa án hạn chế quyền của cha, mẹ đối với con chưa thành niên.\\nCá nhân, cơ quan, tổ chức khác khi phát hiện cha, mẹ có hành vi vi phạm quy định tại khoản 1 Điều 85 của Luật hôn nhân và gia đình (như phạm tội xâm phạm tính mạng, sức khỏe, nhân phẩm, danh dự của con với lỗi cố ý; vi phạm nghiêm trọng nghĩa vụ trông nom, chăm sóc, nuôi dưỡng, giáo dục con; phá tán tài sản của con; có lối sống đồi trụy; xúi giục, ép buộc con làm những việc trái pháp luật, trái đạo đức xã hội) có quyền đề nghị cơ quan quản lý nhà nước về gia đình, cơ quan quản lý nhà nước về trẻ em và Hội liên hiệp phụ nữ yêu cầu Tòa án hạn chế quyền của cha, mẹ đối với con chưa thành niên.\\nNhư vậy, trường hợp trên, với trách nhiệm của một công dân, bạn nên báo ngay chính quyền, đoàn thể cơ sở để can thiệp kịp thời, đồng thời bạn có quyền đề nghị cơ quan quản lý nhà nước về gia đình, cơ quan quản lý nhà nước về trẻ em, Hội liên hiệp phụ nữ địa phương yêu cầu Tòa án hạn chế quyền của người mẹ đối với đứa trẻ đang bị bạo hành.',\n",
       "  'baseline': 'Theo quy định của pháp luật Việt Nam, bạn có quyền yêu cầu cơ quan có thẩm quyền can thiệp trong trường hợp phát hiện hành vi bạo hành, ngược đãi trẻ em. Cụ thể, bạn có thể thực hiện các bước sau:\\n\\n1. **Báo cáo với cơ quan chức năng**: Bạn có thể thông báo sự việc đến cơ quan công an, Ủy ban nhân dân xã/phường, hoặc các tổ chức bảo vệ trẻ em để họ có biện pháp can thiệp kịp thời.\\n\\n2. **Yêu cầu Tòa án hạn chế quyền của cha mẹ**: Theo Luật Hôn nhân và Gia đình Việt Nam, Tòa án có thể hạn chế quyền của cha mẹ đối với con chưa thành niên nếu cha mẹ có hành vi ngược đãi, bạo hành con cái. Tuy nhiên, việc yêu cầu này thường do người có quyền lợi và nghĩa vụ liên quan, như người thân thích của đứa trẻ, hoặc cơ quan, tổ chức bảo vệ trẻ em thực hiện. Là hàng xóm, bạn có thể không trực tiếp yêu cầu Tòa án nhưng có thể cung cấp thông tin, bằng chứng cho các cơ quan chức năng để họ có cơ sở thực hiện việc này.\\n\\n3. **Thu thập bằng chứng**: Nếu có thể, bạn nên thu thập các bằng chứng liên quan đến hành vi ngược đãi, bạo hành để cung cấp cho cơ quan chức năng. Điều này có thể bao gồm hình ảnh, video, hoặc lời khai của những người chứng kiến.\\n\\nViệc bảo vệ trẻ em khỏi bạo hành là trách nhiệm của toàn xã hội, do đó, việc bạn chủ động báo cáo và cung cấp thông tin là rất quan trọng để bảo vệ quyền lợi của trẻ.',\n",
       "  'mini': 'Theo quy định của pháp luật Việt Nam, bạn có thể yêu cầu Tòa án can thiệp trong trường hợp người mẹ có hành vi ngược đãi, đánh đập con cái. Cụ thể, Luật Hôn nhân và Gia đình năm 2014 quy định rằng quyền và nghĩa vụ của cha mẹ đối với con cái phải được thực hiện trên cơ sở tôn trọng quyền lợi và sự phát triển của trẻ em. Nếu có dấu hiệu ngược đãi, bạo hành trẻ em, bạn có thể thực hiện các bước sau:\\n\\n1. **Tố cáo hành vi ngược đãi**: Bạn có thể tố cáo hành vi ngược đãi của người mẹ đến cơ quan chức năng như công an, ủy ban nhân dân phường/xã nơi cư trú hoặc các tổ chức bảo vệ trẻ em.\\n\\n2. **Yêu cầu Tòa án can thiệp**: Bạn có thể làm đơn yêu cầu Tòa án hạn chế quyền của người mẹ đối với con chưa thành niên. Đơn này cần nêu rõ các hành vi ngược đãi, bạo lực mà trẻ em phải chịu đựng, kèm theo các chứng cứ nếu có.\\n\\n3. **Tham gia các hoạt động bảo vệ trẻ em**: Bạn có thể liên hệ với các tổ chức xã hội, tổ chức bảo vệ trẻ em để được hỗ trợ và tư vấn thêm.\\n\\nLưu ý rằng, việc yêu cầu Tòa án can thiệp cần có căn cứ rõ ràng và chứng minh được rằng hành vi của người mẹ gây ảnh hưởng nghiêm trọng đến sự phát triển và an toàn của trẻ.'},\n",
       " {'q': 'Vợ chồng anh A, chị M lấy nhau đã được hơn 4 năm nhưng không có con. Anh chị có làm văn bản thỏa thuận với chị B – em họ chị M về việc mang thai hộ. Văn bản thỏa thuận này đã đáp ứng đầy đủ các điều kiện về việc mang thai hộ vì mục đích nhân đạo. Trong thỏa thuận, hai bên thống nhất với nhau về việc giao con cho bên nhờ mang thai hộ là khi con sinh ra được 4 tháng tuổi. Tuy nhiên, sau khi sinh con, chị B lại muốn tự mình nuôi và chăm sóc con nên đã không giao con cho vợ chồng anh A, chị M. Trong trường hợp này, vợ chồng anh A, chị M nên làm gì?',\n",
       "  'hybrid': 'Trong trường hợp của vợ chồng anh A và chị M, việc chị B không giao con cho họ sau khi sinh ra có thể gây ra những vấn đề pháp lý phức tạp. Dưới đây là những hướng giải quyết mà vợ chồng anh A và chị M có thể cân nhắc:\\n\\n### 1. Tham khảo Ý kiến Luật Sư\\nVợ chồng anh A và chị M nên tìm kiếm sự hỗ trợ pháp lý từ một luật sư chuyên về hôn nhân và gia đình hoặc luật sư có kinh nghiệm trong vấn đề liên quan đến mang thai hộ. Luật sư sẽ giúp họ hiểu rõ quyền lợi và nghĩa vụ của mình theo quy định của pháp luật, từ đó đưa ra những bước tiếp theo phù hợp.\\n\\n### 2. Đàm phán với Chị B\\nTrước khi tiến hành các thủ tục pháp lý, anh A và chị M có thể xem xét việc nói chuyện trực tiếp với chị B. Nếu có thể, hãy giải thích tình huống của họ và thuyết phục chị B về thỏa thuận đã ký kết. Đây là một phương pháp giải quyết vấn đề mang tính hợp tác và có thể dẫn đến một thỏa thuận mới hoặc sự đồng thuận về việc giao con cho anh A và chị M.\\n\\n### 3. Thực hiện các Thủ tục Pháp lý\\nNếu việc thương thảo không thành công, vợ chồng anh A và chị M có thể xem xét việc khởi kiện ra Tòa án. Họ cần chuẩn bị các tài liệu và bằng chứng liên quan đến thỏa thuận mang thai hộ, cũng như các tài liệu chứng minh quyền lợi của mình trong việc nuôi con. \\n\\n- **Khởi kiện yêu cầu giao con**: Anh A và chị M có thể đề nghị Tòa án yêu cầu chị B giao con cho họ theo nội dung đã thỏa thuận.\\n- **Đưa ra bằng chứng**: Cần chứng minh rằng thỏa thuận mang thai hộ đáp ứng các điều kiện pháp lý và rằng họ có đủ điều kiện để nuôi dưỡng trẻ em.\\n\\n### 4. Xem Xét Tình Hình của Chị B\\nTrong quá trình giải quyết vấn đề, việc xem xét tình trạng của chị B cũng rất quan trọng. Nếu chị B không có khả năng nuôi dưỡng con (về tài chính, tâm lý, hoặc bất kỳ lý do nào khác), điều này có thể được sử dụng làm lập luận trong vụ kiện pháp lý.\\n\\n### 5. Nghĩa Vụ và Quyền Lợi\\nPháp luật Việt Nam quy định rõ rằng mỗi bên trong quan hệ mang thai hộ cần có trách nhiệm pháp lý và đảm bảo quyền lợi cho trẻ em. Vợ chồng anh A và chị M cần nhấn mạnh rằng việc nuôi dưỡng trẻ em sẽ mang lại điều kiện tốt hơn cho sự phát triển của trẻ.\\n\\n### Tóm tắt \\nMặc dù tình huống trong trường hợp này khá nhạy cảm và có thể phức tạp, việc tìm kiếm sự hỗ trợ pháp lý, đàm phán hòa giải, và có thể khởi kiện là những bước mà vợ chồng anh A và chị M cần cân nhắc để bảo vệ quyền lợi của mình và quyền lợi cho con trẻ.',\n",
       "  'a': 'Luật hôn nhân và gia đình năm 2014 đã quy định cụ thể về quyền và nghĩa vụ của bên nhờ mang thai hộ vì mục đích nhân đạo (Điều 98), theo đó tại khoản 5 của Điều này có quy định :\\n“Trong trường hợp bên mang thai hộ từ chối giao con thì bên nhờ mang thai hộ có quyền yêu cầu Tòa án buộc bên mang thai hộ giao con”\\nNhư vậy, trong trường hợp này, vợ chồng anh A có thể yêu cầu Tòa án buộc chị B giao con cho anh chị như đã thỏa thuận.',\n",
       "  'baseline': 'Trong trường hợp này, vợ chồng anh A và chị M có thể thực hiện các bước sau để giải quyết vấn đề:\\n\\n1. **Thương lượng và Hòa giải**: Trước tiên, vợ chồng anh A và chị M nên cố gắng thương lượng và hòa giải với chị B. Họ có thể nhờ sự hỗ trợ của gia đình hoặc một bên thứ ba đáng tin cậy để làm trung gian hòa giải, nhằm tìm ra giải pháp mà cả hai bên đều đồng ý.\\n\\n2. **Xem xét Thỏa thuận**: Kiểm tra lại văn bản thỏa thuận đã ký kết giữa hai bên về việc mang thai hộ. Đảm bảo rằng các điều khoản trong thỏa thuận đã được tuân thủ và không có điều khoản nào bị vi phạm.\\n\\n3. **Tư vấn Pháp lý**: Nếu thương lượng không thành công, vợ chồng anh A và chị M nên tìm đến luật sư hoặc chuyên gia pháp lý để được tư vấn về quyền lợi và các bước pháp lý tiếp theo. Luật sư có thể giúp họ hiểu rõ hơn về quyền và nghĩa vụ của các bên theo quy định của pháp luật về mang thai hộ.\\n\\n4. **Khởi kiện ra Tòa án**: Nếu không thể giải quyết bằng thương lượng, vợ chồng anh A và chị M có thể nộp đơn khởi kiện ra tòa án có thẩm quyền để yêu cầu thực hiện thỏa thuận mang thai hộ. Tòa án sẽ xem xét các chứng cứ và ra phán quyết dựa trên quy định của pháp luật.\\n\\n5. **Thực hiện Quyết định của Tòa án**: Nếu tòa án ra phán quyết có lợi cho vợ chồng anh A và chị M, họ có quyền yêu cầu thi hành quyết định của tòa án để nhận lại con.\\n\\nĐiều quan trọng là vợ chồng anh A và chị M cần hành động theo đúng quy định của pháp luật và giữ bình tĩnh trong quá trình giải quyết tranh chấp này.',\n",
       "  'mini': 'Trong trường hợp này, vợ chồng anh A, chị M có thể thực hiện các bước sau để bảo vệ quyền lợi của mình và giải quyết tình huống:\\n\\n1. **Thương lượng với chị B**: Trước tiên, anh A và chị M nên cố gắng thương lượng với chị B để tìm ra giải pháp hòa bình. Họ có thể giải thích về thỏa thuận ban đầu và lý do tại sao họ cần con. Đôi khi, sự thấu hiểu và cảm thông có thể giúp giải quyết vấn đề mà không cần đến pháp lý.\\n\\n2. **Tư vấn pháp lý**: Nếu thương lượng không thành công, anh A và chị M nên tìm kiếm sự tư vấn từ một luật sư chuyên về luật gia đình hoặc luật dân sự. Luật sư có thể giúp họ hiểu rõ quyền lợi và nghĩa vụ của mình theo quy định của pháp luật về mang thai hộ.\\n\\n3. **Khởi kiện ra tòa**: Nếu chị B vẫn từ chối giao con và không có sự thỏa thuận nào khác, anh A và chị M có thể xem xét việc khởi kiện ra tòa án để yêu cầu xác nhận quyền nuôi con. Tòa án sẽ xem xét các tài liệu, chứng cứ liên quan đến thỏa thuận mang thai hộ và quyết định dựa trên lợi ích tốt nhất của đứa trẻ.\\n\\n4. **Chuẩn bị hồ sơ**: Trong trường hợp khởi kiện, anh A và chị M cần chuẩn bị hồ sơ đầy đủ, bao gồm văn bản thỏa thuận mang thai hộ, các tài liệu chứng minh mối quan hệ gia đình, tình trạng sức khỏe, khả năng nuôi dưỡng của mình, và bất kỳ chứng cứ nào khác có thể hỗ trợ cho yêu cầu của họ.\\n\\n5. **Chờ đợi quyết định của tòa án**: Sau khi nộp đơn, họ sẽ phải chờ đợi quyết định của tòa án. Tòa án sẽ xem xét các yếu tố liên quan và đưa ra phán quyết cuối cùng.\\n\\nTrong mọi trường hợp, việc giữ bình tĩnh và tìm kiếm giải pháp hòa bình là rất quan trọng, nhưng cũng cần phải bảo vệ quyền lợi hợp pháp của mình.'},\n",
       " {'q': 'Tổ chức, cá nhân nào có quyền yêu cầu xác định cha, mẹ cho con chưa thành niên, con đã thành niên mất năng lực hành vi dân sự hoặc xác định con cho cha mẹ mất năng lực hành vi dân sự?',\n",
       "  'hybrid': 'Theo quy định của pháp luật Việt Nam, các cá nhân, cơ quan và tổ chức sau đây có quyền yêu cầu xác định cha, mẹ cho con chưa thành niên hoặc con đã thành niên mất năng lực hành vi dân sự:\\n\\n1. **Cha, mẹ**: Cha, mẹ của đứa trẻ có quyền yêu cầu xác định mối quan hệ giữa họ và con của mình.\\n   \\n2. **Người giám hộ của đứa trẻ**: Trong trường hợp cha hoặc mẹ không thể thực hiện quyền này, người giám hộ hợp pháp có quyền yêu cầu xác định cha, mẹ cho con chưa thành niên.\\n\\n3. **Người có quyền lợi và nghĩa vụ liên quan**: Những cá nhân hoặc tổ chức có quyền lợi và nghĩa vụ liên quan đến việc xác định mối quan hệ cha mẹ - con cũng có thể yêu cầu xác nhận.\\n\\n4. **Các tổ chức xã hội**: Một số tổ chức xã hội như Hội Liên hiệp Phụ nữ cũng có quyền yêu cầu xác định chuyên môn này để bảo vệ quyền lợi cho trẻ em.\\n\\n5. **Cơ quan nhà nước có thẩm quyền**: Cơ quan quản lý nhà nước về gia đình có quyền yêu cầu xác định quan hệ cha - mẹ - con trong một số trường hợp cần thiết.\\n\\nNgoài ra, theo quy định của Luật Hôn nhân và Gia đình, việc xác định cha, mẹ cho con còn được thực hiện thông qua Tòa án, trái với ý muốn của những người không có đủ tư cách pháp lý để thực hiện yêu cầu này. Tòa án sẽ xem xét và đưa ra phán quyết dựa trên các chứng cứ và quy định pháp luật hiện hành. \\n\\nNhư vậy, cơ chế bảo vệ quyền lợi cho các cháu chưa thành niên và người đã mất năng lực hành vi dân sự là rất chặt chẽ, với nhiều chủ thể được phép tham gia vào quá trình này nhằm đảm bảo quyền lợi của các em.',\n",
       "  'a': 'Khoản 3 Điều 102 Luật hôn nhân và gia đình năm 2014 quy định như sau:\\nCá nhân, cơ quan, tổ chức sau đây theo quy định của pháp luật về tố tụng dân sự, có quyền yêu cầu Tòa án xác định cha, mẹ cho con chưa thành niên, con đã thành niên mất năng lực hành vi dân sự; xác định con cho cha, mẹ chưa thành niên hoặc mất năng lực hành vi dân sự trong các trường hợp được quy định tại khoản 2 Điều 101 của Luật này:\\n- Cha, mẹ, con, người giám hộ;\\n- Cơ quan quản lý nhà nước về gia đình;\\n- Cơ quan quản lý nhà nước về trẻ em;\\n- Hội liên hiệp phụ nữ.',\n",
       "  'baseline': 'Theo quy định của pháp luật Việt Nam, các tổ chức và cá nhân có quyền yêu cầu xác định cha, mẹ cho con chưa thành niên hoặc con đã thành niên mất năng lực hành vi dân sự, cũng như xác định con cho cha mẹ mất năng lực hành vi dân sự bao gồm:\\n\\n1. **Người giám hộ**: Trong trường hợp con chưa thành niên hoặc con đã thành niên mất năng lực hành vi dân sự, người giám hộ của họ có quyền yêu cầu xác định cha, mẹ.\\n\\n2. **Người đại diện theo pháp luật**: Đối với cha mẹ mất năng lực hành vi dân sự, người đại diện theo pháp luật của họ có quyền yêu cầu xác định con.\\n\\n3. **Cơ quan, tổ chức có thẩm quyền**: Các cơ quan, tổ chức bảo vệ quyền và lợi ích hợp pháp của trẻ em hoặc người mất năng lực hành vi dân sự cũng có thể đứng ra yêu cầu xác định cha, mẹ, con.\\n\\n4. **Chính bản thân người có quyền lợi liên quan**: Trong một số trường hợp, chính bản thân người có quyền lợi liên quan, nếu có đủ năng lực hành vi dân sự, cũng có thể tự mình yêu cầu xác định cha, mẹ, con.\\n\\nCác quy định cụ thể có thể được tìm thấy trong Bộ luật Dân sự và các văn bản pháp luật liên quan của Việt Nam.',\n",
       "  'mini': 'Theo quy định của Bộ luật Dân sự Việt Nam, các tổ chức, cá nhân có quyền yêu cầu xác định cha, mẹ cho con chưa thành niên, con đã thành niên mất năng lực hành vi dân sự hoặc xác định con cho cha mẹ mất năng lực hành vi dân sự bao gồm:\\n\\n1. **Cha, mẹ** của trẻ em hoặc người đã mất năng lực hành vi dân sự.\\n2. **Người có quyền lợi và nghĩa vụ liên quan** đến việc xác định cha, mẹ (ví dụ: ông bà, người giám hộ).\\n3. **Cơ quan nhà nước có thẩm quyền** (như Tòa án) khi có yêu cầu từ các bên liên quan hoặc khi cần xác định quyền lợi cho trẻ em.\\n\\nViệc xác định cha, mẹ có thể được thực hiện thông qua các thủ tục pháp lý tại Tòa án hoặc cơ quan có thẩm quyền khác theo quy định của pháp luật.'},\n",
       " {'q': 'Nghĩa vụ cấp dưỡng được thực hiện như thế nào trong Luật hôn nhân và gia đình?',\n",
       "  'hybrid': '### Nghĩa vụ cấp dưỡng theo Luật Hôn nhân và Gia đình\\n\\nNghĩa vụ cấp dưỡng là một yếu tố quan trọng trong Luật Hôn nhân và Gia đình tại Việt Nam, điều chỉnh mối quan hệ tài chính giữa các thành viên trong gia đình, đặc biệt sau khi ly hôn hoặc trong trường hợp nuôi dưỡng trẻ em. \\n\\n#### Định nghĩa\\n\\nTheo Luật Hôn nhân và Gia đình 2014, nghĩa vụ cấp dưỡng có thể hiểu là việc một bên (vợ hoặc chồng, cha hoặc mẹ) có trách nhiệm phải hỗ trợ tài chính cho bên kia hoặc cho con cái trong gia đình để đảm bảo các nhu cầu cơ bản như sinh hoạt, giáo dục và chăm sóc sức khỏe. \\n\\n#### Đối tượng và hình thức cấp dưỡng\\n\\nNghĩa vụ cấp dưỡng có thể bao gồm:\\n1. **Giữa vợ và chồng**: Các bên có nghĩa vụ thực hiện nghĩa vụ cấp dưỡng cho nhau. Điều này thể hiện trách nhiệm tài chính không chỉ trong thời gian hôn nhân mà còn cả khi ly hôn.\\n   \\n2. **Giữa cha mẹ và con cái**: Cha mẹ có nghĩa vụ cấp dưỡng cho con cái của mình, nhằm bảo đảm rằng trẻ em có đủ điều kiện sinh hoạt, giáo dục và phát triển.\\n\\n3. **Giữa con cái với cha mẹ**: Trong một số trường hợp, con cái cũng có thể có nghĩa vụ cấp dưỡng cho cha mẹ khi họ không có khả năng lao động hoặc tài chính đầy đủ để tự nuôi sống bản thân.\\n\\n#### Quy định trong Luật Hôn nhân và Gia đình \\n\\nCụ thể, Luật Hôn nhân và Gia đình quy định rằng:\\n- Nghĩa vụ cấp dưỡng có thể được thực hiện thông qua việc chi trả một khoản tiền định kỳ hoặc một khoản tiền một lần tùy vào thỏa thuận hoặc yêu cầu của bên nhận cấp dưỡng.\\n- Trong trường hợp không đạt được thỏa thuận, Tòa án có thẩm quyền quyết định về nghĩa vụ cấp dưỡng dựa trên các yếu tố như khả năng tài chính của bên cấp dưỡng và nhu cầu của bên nhận.\\n\\n#### Quy trình yêu cầu cấp dưỡng\\n\\nKhi một trong các bên muốn yêu cầu cấp dưỡng:\\n1. Có thể thực hiện thông qua thỏa thuận trực tiếp với bên còn lại.\\n2. Nếu không đạt được yêu cầu, bên yêu cầu có thể nộp đơn yêu cầu Tòa án xem xét và giải quyết xung đột về nghĩa vụ cấp dưỡng.\\n\\n#### Kết luận\\n\\nNghĩa vụ cấp dưỡng là một phần không thể thiếu trong việc duy trì sự ổn định tài chính cho các thành viên trong gia đình, đảm bảo quyền lợi và trách nhiệm giữa các bên. Luật Hôn nhân và Gia đình cung cấp một khung pháp lý rõ ràng để bảo vệ quyền lợi của những đối tượng cần được cấp dưỡng và thiết lập một hệ thống minh bạch trong việc thực hiện nghĩa vụ này. \\n\\nCùng với các cơ sở pháp lý khác, vấn đề cấp dưỡng giúp duy trì trách nhiệm xã hội trong các mối quan hệ gia đình, đặc biệt là trong bối cảnh ly hôn hoặc khi trẻ em bị ảnh hưởng từ các quyết định của cha mẹ.',\n",
       "  'a': 'Luật hôn nhân và gia đình năm 2014 quy định về nghĩa vụ cấp dưỡng như sau:\\nNghĩa vụ cấp dưỡng được thực hiện giữa cha, mẹ và con; giữa anh, chị, em với nhau; giữa ông bà nội, ông bà ngoại và cháu; giữa cô, dì, chú, cậu, bác ruột và cháu ruột; giữa vợ và chồng, cụ thể như sau:\\n- Nghĩa vụ cấp dưỡng của cha, mẹ đối với con (Điều 110):\\nCha, mẹ có nghĩa vụ cấp dưỡng cho con chưa thành niên, con đã thành niên không có khả năng lao động và không có tài sản để tự nuôi mình trong trường hợp không sống chung với con hoặc sống chung với con nhưng vi phạm nghĩa vụ nuôi dưỡng con.\\n- Nghĩa vụ cấp dưỡng của con đối với cha, mẹ (Điều 111):\\nCon đã thành niên không sống chung với cha, mẹ có nghĩa vụ cấp dưỡng cho cha, mẹ trong trường hợp cha, mẹ không có khả năng lao động và không có tài sản để tự nuôi mình.\\n- Nghĩa vụ cấp dưỡng giữa anh, chị, em (Điều 112):\\nTrong trường hợp không còn cha mẹ hoặc cha mẹ không có khả năng lao động và không có tài sản để cấp dưỡng cho con thì anh, chị đã thành niên không sống chung với em có nghĩa vụ cấp dưỡng cho em chưa thành niên không có tài sản để tự nuôi mình hoặc em đã thành niên không có khả năng lao động và không có tài sản để tự nuôi mình; em đã thành niên không sống chung với anh, chị có nghĩa vụ cấp dưỡng cho anh, chị không có khả năng lao động và không có tài sản để tự nuôi mình.\\n- Nghĩa vụ cấp dưỡng giữa ông bà nội, ông bà ngoại và cháu (Điều 113):\\n+ Ông bà nội, ông bà ngoại không sống chung với cháu có nghĩa vụ cấp dưỡng cho cháu trong trường hợp cháu chưa thành niên hoặc cháu đã thành niên\\nkhông có khả năng lao động, không có tài sản để tự nuôi mình và không có người cấp dưỡng theo quy định tại Điều 112 của Luật hôn nhân và gia đình.\\n+ Cháu đã thành niên không sống chung với ông bà nội, ông bà ngoại có nghĩa vụ cấp dưỡng cho ông bà nội, ông bà ngoại trong trường hợp ông bà không có khả năng lao động, không có tài sản để tự nuôi mình và không có người khác cấp dưỡng theo quy định của Luật hôn nhân và gia đình.\\n- Nghĩa vụ cấp dưỡng giữa cô, dì, chú, cậu, bác ruột và cháu ruột (Điều 114):\\n+ Cô, dì, chú, cậu, bác ruột không sống chung với cháu ruột có nghĩa vụ cấp dưỡng cho cháu trong trường hợp cháu chưa thành niên hoặc cháu đã thành niên không có khả năng lao động và không có tài sản để tự nuôi mình mà không có người khác cấp dưỡng theo quy định của Luật này.\\n+ Cháu đã thành niên không sống chung với cô, dì, chú, cậu, bác ruột có nghĩa vụ cấp dưỡng cho cô, dì, chú, cậu, bác ruột trong trường hợp người cần được cấp dưỡng không có khả năng lao động và không có tài sản để tự nuôi mình mà không có người khác cấp dưỡng theo quy định của Luật này.\\n- Nghĩa vụ cấp dưỡng giữa vợ và chồng khi ly hôn (Điều 115):\\nKhi ly hôn nếu bên khó khăn, túng thiếu có yêu cầu cấp dưỡng mà có lý do chính đáng thì bên kia có nghĩa vụ cấp dưỡng theo khả năng của mình.\\nNghĩa vụ cấp dưỡng không thể thay thế bằng nghĩa vụ khác và không thể chuyển giao cho người khác.\\nTrong trường hợp người có nghĩa vụ nuôi dưỡng trốn tránh nghĩa vụ thì theo yêu cầu của cá nhân, cơ quan, tổ chức được quy định tại Điều 119 của Luật hôn nhân và gia đình, Tòa án buộc người đó phải thực hiện nghĩa vụ cấp dưỡng theo quy định của Luật này.',\n",
       "  'baseline': 'Trong Luật Hôn nhân và Gia đình của Việt Nam, nghĩa vụ cấp dưỡng được quy định nhằm đảm bảo quyền lợi của các bên liên quan, đặc biệt là con cái, trong trường hợp ly hôn hoặc khi một bên không thể tự mình đảm bảo cuộc sống. Dưới đây là một số điểm chính về nghĩa vụ cấp dưỡng:\\n\\n1. **Đối tượng cấp dưỡng**: Nghĩa vụ cấp dưỡng thường áp dụng cho con cái chưa thành niên, con đã thành niên nhưng không có khả năng lao động và không có tài sản để tự nuôi mình, và trong một số trường hợp, có thể áp dụng cho vợ/chồng hoặc cha mẹ.\\n\\n2. **Người có nghĩa vụ cấp dưỡng**: Thông thường, cha hoặc mẹ không trực tiếp nuôi con sẽ có nghĩa vụ cấp dưỡng cho con. Ngoài ra, nghĩa vụ này cũng có thể áp dụng cho các thành viên khác trong gia đình tùy theo hoàn cảnh cụ thể.\\n\\n3. **Mức cấp dưỡng**: Mức cấp dưỡng thường được thỏa thuận giữa các bên dựa trên nhu cầu của người được cấp dưỡng và khả năng tài chính của người cấp dưỡng. Nếu không thỏa thuận được, tòa án sẽ quyết định mức cấp dưỡng dựa trên các yếu tố này.\\n\\n4. **Phương thức cấp dưỡng**: Cấp dưỡng có thể được thực hiện dưới nhiều hình thức, bao gồm tiền mặt, tài sản hoặc các hình thức khác phù hợp với điều kiện của các bên.\\n\\n5. **Thay đổi mức cấp dưỡng**: Trong trường hợp có sự thay đổi về hoàn cảnh, nhu cầu của người được cấp dưỡng hoặc khả năng của người cấp dưỡng, các bên có thể thỏa thuận thay đổi mức cấp dưỡng hoặc yêu cầu tòa án điều chỉnh.\\n\\n6. **Chấm dứt nghĩa vụ cấp dưỡng**: Nghĩa vụ cấp dưỡng có thể chấm dứt khi người được cấp dưỡng đã có khả năng tự nuôi sống bản thân, hoặc khi có các điều kiện khác theo quy định của pháp luật.\\n\\nLuật Hôn nhân và Gia đình quy định rõ ràng về nghĩa vụ cấp dưỡng nhằm bảo vệ quyền lợi của những người không thể tự mình đảm bảo cuộc sống, đồng thời tạo điều kiện cho các bên thực hiện nghĩa vụ một cách công bằng và hợp lý.',\n",
       "  'mini': 'Trong Luật Hôn nhân và Gia đình Việt Nam, nghĩa vụ cấp dưỡng là trách nhiệm của một bên trong quan hệ hôn nhân hoặc quan hệ nuôi dưỡng đối với bên còn lại hoặc đối với con cái. Nghĩa vụ này được quy định cụ thể trong các điều khoản của luật và thường bao gồm các nội dung sau:\\n\\n1. **Đối tượng cấp dưỡng**: Nghĩa vụ cấp dưỡng có thể áp dụng đối với vợ/chồng, con cái hoặc các thành viên khác trong gia đình. Cụ thể, vợ/chồng có thể có nghĩa vụ cấp dưỡng cho nhau trong trường hợp ly hôn, và cha mẹ có nghĩa vụ cấp dưỡng cho con cái cho đến khi con đủ 18 tuổi hoặc đến khi con có khả năng tự lập.\\n\\n2. **Hình thức cấp dưỡng**: Cấp dưỡng có thể được thực hiện dưới nhiều hình thức, bao gồm tiền mặt, tài sản, hoặc các hình thức hỗ trợ khác như chăm sóc, giáo dục, y tế cho người được cấp dưỡng.\\n\\n3. **Mức cấp dưỡng**: Mức cấp dưỡng thường được xác định dựa trên khả năng tài chính của người cấp dưỡng và nhu cầu thực tế của người được cấp dưỡng. Trong trường hợp có tranh chấp, Tòa án có thể can thiệp để xác định mức cấp dưỡng hợp lý.\\n\\n4. **Thời gian cấp dưỡng**: Thời gian cấp dưỡng có thể được quy định cụ thể trong thỏa thuận giữa các bên hoặc theo quyết định của Tòa án. Thời gian này có thể kéo dài cho đến khi người được cấp dưỡng không còn nhu cầu hoặc có khả năng tự lập.\\n\\n5. **Thay đổi nghĩa vụ cấp dưỡng**: Trong một số trường hợp, nghĩa vụ cấp dưỡng có thể được thay đổi hoặc chấm dứt nếu có sự thay đổi về hoàn cảnh kinh tế, sức khỏe hoặc nhu cầu của người được cấp dưỡng.\\n\\n6. **Xử lý vi phạm nghĩa vụ cấp dưỡng**: Nếu bên có nghĩa vụ cấp dưỡng không thực hiện đúng nghĩa vụ của mình, bên còn lại có quyền yêu cầu Tòa án can thiệp để buộc thực hiện nghĩa vụ cấp dưỡng.\\n\\nLuật Hôn nhân và Gia đình Việt Nam quy định rõ ràng về nghĩa vụ cấp dưỡng nhằm bảo vệ quyền lợi của các bên trong quan hệ hôn nhân và gia đình, đảm bảo sự công bằng và hỗ trợ cho những người yếu thế trong gia đình.'},\n",
       " {'q': 'Vợ chồng chị A đã chung sống với nhau được 3 năm và hiện đang có một con lên 2 tuổi. Tuy nhiên, trong suốt quá trình sinh sống, cả hai người đều không thấy hạnh phúc và đã nộp đơn yêu cầu Tòa án giải quyết ly hôn. Chị A và chồng thống nhất để chị A trực tiếp nuôi con, chồng chị A có nghĩa vụ cấp dưỡng đối với con. Tuy nhiên, hai vợ chồng chị A không thống nhất được mức cấp dưỡng. Xin hỏi pháp luật quy định về vấn đề này như thế nào?',\n",
       "  'hybrid': '### Quy Định Của Pháp Luật Về Cấp Dưỡng Trẻ Em Khi Ly Hôn\\n\\nKhi vợ chồng quyết định ly hôn, một trong những vấn đề quan trọng thường phát sinh là nghĩa vụ cấp dưỡng cho con cái. Theo Luật Hôn nhân và Gia đình năm 2014 của Việt Nam, quyền và nghĩa vụ nuôi dưỡng con cái, cũng như việc xác định mức cấp dưỡng được quy định rất rõ ràng nhằm bảo vệ quyền lợi tốt nhất của trẻ em.\\n\\n#### 1. Nguyên tắc cơ bản về nghĩa vụ cấp dưỡng\\n\\nTheo Điều 110 của Luật Hôn nhân và Gia đình 2014, cha mẹ có nghĩa vụ cấp dưỡng cho con chưa thành niên. Nghĩa vụ này không chỉ thuộc về người đang nuôi con, mà còn thuộc về người không nuôi, nhằm đảm bảo trẻ em được sống trong điều kiện tốt nhất về tinh thần và vật chất, bất kể cha mẹ có còn sống chung hay không.\\n\\nĐiều này có nghĩa là, trong trường hợp của chị A và chồng chị, mặc dù chị A được quyền nuôi dưỡng con, chồng chị vẫn phải thực hiện nghĩa vụ cấp dưỡng để bảo đảm cho sinh hoạt và phát triển của đứa con.\\n\\n#### 2. Xác định mức cấp dưỡng\\n\\nĐiều 116 của Luật cũng quy định rằng mức cấp dưỡng sẽ được xác định dựa trên khả năng tài chính của người cấp dưỡng và nhu cầu thực tế của trẻ em. Các bên có thể tự thỏa thuận về mức cấp dưỡng, tuy nhiên, trong trường hợp không thống nhất được, Tòa án sẽ là cơ quan có thẩm quyền để giải quyết.\\n\\nTòa án sẽ căn cứ vào mức thu nhập, tài sản và điều kiện kinh tế của cha mẹ để đưa ra quyết định hợp lý. Đồng thời, cũng xem xét nhu cầu cụ thể của trẻ em, bao gồm chi phí sinh hoạt, học tập, và các nhu cầu khác trong đời sống hàng ngày.\\n\\n#### 3. Các tình huống tranh chấp về cấp dưỡng\\n\\nNếu chị A và chồng không thể thống nhất về mức cấp dưỡng, chị A có thể yêu cầu Tòa án giải quyết. Tòa sẽ đánh giá từng trường hợp cụ thể, tính đến các yếu tố như:\\n\\n- Tình trạng tài chính của mỗi bên.\\n- Tình hình sống của trẻ sau khi bố mẹ ly hôn.\\n- Các yếu tố cá nhân khác ảnh hưởng đến đời sống của trẻ.\\n\\nTại phiên tòa, cả hai bên có thể trình bày quan điểm của mình và cung cấp các chứng cứ liên quan để xác định số tiền cấp dưỡng hợp lý.\\n\\n### Kết Luận\\n\\nDo đó, trong trường hợp của chị A, nếu không thể thống nhất với chồng về mức cấp dưỡng, việc đưa vấn đề này ra Tòa án là một lựa chọn hợp lý để đảm bảo quyền lợi hợp pháp cho trẻ. Tòa án sẽ xem xét và đưa ra quyết định phù hợp, vừa bảo vệ quyền lợi của trẻ, vừa cân nhắc khả năng tài chính của cha mẹ.',\n",
       "  'a': 'Theo quy định tại Điều 116 Luật hôn nhân và gia đình năm 2014, mức cấp dưỡng nuôi con do chị A và chồng chị A thỏa thuận căn cứ vào thu nhập, khả năng thực tế của chồng chị A và nhu cầu thiết yếu của người con; nếu không thỏa thuận được thì yêu cầu Tòa án giải quyết.\\nKhi có lý do chính đáng, mức cấp dưỡng có thể thay đổi. Việc thay đổi mức cấp dưỡng do các bên thỏa thuận; nếu không thỏa thuận được thì yêu cầu Tòa án giải quyết.',\n",
       "  'baseline': 'Theo quy định của pháp luật Việt Nam, cụ thể là Luật Hôn nhân và Gia đình năm 2014, việc cấp dưỡng cho con sau khi ly hôn được quy định như sau:\\n\\n1. **Nguyên tắc cấp dưỡng**: Cha mẹ có nghĩa vụ cấp dưỡng cho con chưa thành niên hoặc con đã thành niên nhưng không có khả năng lao động và không có tài sản để tự nuôi mình. Việc cấp dưỡng là nghĩa vụ bắt buộc và không phụ thuộc vào việc cha mẹ có sống chung với con hay không.\\n\\n2. **Mức cấp dưỡng**: Mức cấp dưỡng do cha mẹ thỏa thuận dựa trên thu nhập, khả năng thực tế của người có nghĩa vụ cấp dưỡng và nhu cầu thiết yếu của người được cấp dưỡng. Nếu không thỏa thuận được, Tòa án sẽ quyết định mức cấp dưỡng dựa trên các yếu tố này.\\n\\n3. **Hình thức cấp dưỡng**: Việc cấp dưỡng có thể được thực hiện định kỳ hàng tháng, hàng quý, nửa năm, hàng năm hoặc một lần. Hình thức cấp dưỡng cũng do các bên thỏa thuận, nếu không thỏa thuận được thì Tòa án sẽ quyết định.\\n\\n4. **Thay đổi mức cấp dưỡng**: Trong trường hợp có lý do chính đáng, mức cấp dưỡng có thể được thay đổi theo thỏa thuận của các bên hoặc theo quyết định của Tòa án.\\n\\nTrong trường hợp của chị A, nếu hai vợ chồng không thể thỏa thuận được mức cấp dưỡng, họ có thể yêu cầu Tòa án giải quyết. Tòa án sẽ căn cứ vào thu nhập, khả năng thực tế của người chồng và nhu cầu của con để đưa ra quyết định phù hợp.',\n",
       "  'mini': 'Theo quy định của pháp luật Việt Nam, cụ thể là Bộ luật Dân sự năm 2015 và Luật Hôn nhân và Gia đình năm 2014, việc cấp dưỡng cho con sau khi ly hôn là một nghĩa vụ của cha mẹ đối với con cái. Trong trường hợp của chị A, khi hai vợ chồng đã thống nhất chị A sẽ trực tiếp nuôi con, chồng chị A có nghĩa vụ cấp dưỡng cho con.\\n\\nVề mức cấp dưỡng, pháp luật không quy định cụ thể một mức cố định mà phụ thuộc vào nhiều yếu tố như:\\n\\n1. **Nhu cầu thiết yếu của con**: Bao gồm chi phí cho ăn uống, học hành, y tế, và các nhu cầu khác của trẻ.\\n2. **Khả năng tài chính của bên cấp dưỡng**: Chồng chị A cần xem xét khả năng tài chính của mình để đảm bảo có thể thực hiện nghĩa vụ cấp dưỡng.\\n3. **Thỏa thuận giữa hai bên**: Chị A và chồng có thể tự thỏa thuận về mức cấp dưỡng. Nếu không đạt được thỏa thuận, một trong hai bên có thể yêu cầu Tòa án xác định mức cấp dưỡng.\\n\\nNếu hai vợ chồng không thể thống nhất được mức cấp dưỡng, chị A có thể yêu cầu Tòa án giải quyết và xác định mức cấp dưỡng phù hợp dựa trên các yếu tố nêu trên. Tòa án sẽ xem xét các chứng cứ, tài liệu liên quan đến thu nhập, chi phí sinh hoạt của cả hai bên và nhu cầu của con để đưa ra quyết định hợp lý.\\n\\nNgoài ra, mức cấp dưỡng có thể được điều chỉnh theo thời gian nếu có sự thay đổi về điều kiện kinh tế hoặc nhu cầu của con.'}]"
      ]
     },
     "execution_count": 133,
     "metadata": {},
     "output_type": "execute_result"
    }
   ],
   "source": [
    "TULUAN_HYBRID"
   ]
  },
  {
   "cell_type": "code",
   "execution_count": 137,
   "metadata": {
    "executionInfo": {
     "elapsed": 408,
     "status": "ok",
     "timestamp": 1734861092715,
     "user": {
      "displayName": "Khải Đặng",
      "userId": "00827885371675823732"
     },
     "user_tz": -420
    },
    "id": "6XJElH_WxQFq"
   },
   "outputs": [],
   "source": [
    "TULUAN_GPT_MINI = []"
   ]
  },
  {
   "cell_type": "code",
   "execution_count": 138,
   "metadata": {
    "colab": {
     "base_uri": "https://localhost:8080/"
    },
    "collapsed": true,
    "executionInfo": {
     "elapsed": 166866,
     "status": "ok",
     "timestamp": 1734861261786,
     "user": {
      "displayName": "Khải Đặng",
      "userId": "00827885371675823732"
     },
     "user_tz": -420
    },
    "id": "eplFU7wjxQIx",
    "outputId": "fc63ab82-1791-4f98-ade3-57dce758c115"
   },
   "outputs": [
    {
     "name": "stdout",
     "output_type": "stream",
     "text": [
      "attempt : 0\n",
      "gpt-4o-mini\n",
      "Định dạng JSON hợp lệ!\n",
      "{'sga': ['hôn nhân tự nguyện', 'một vợ một chồng', 'bình đẳng vợ chồng', 'hôn nhân giữa công dân Việt Nam', 'gia đình ấm no, tiến bộ, hạnh phúc', 'trách nhiệm bảo vệ trẻ em, người cao tuổi, người khuyết tật', 'kế thừa truyền thống văn hóa, đạo đức'], 'anwser': ['bình đẳng giới', 'tự nguyện', 'một vợ, một chồng', 'gia đình là tế bào của xã hội', 'bảo vệ quyền và lợi ích hợp pháp của các thành viên', 'tôn trọng và bảo vệ quyền tự do, quyền con người'], 'Explain': 'Câu trả lời của sinh viên đã trích xuất được một số từ khóa và thông tin quan trọng liên quan đến nguyên tắc cơ bản của chế độ hôn nhân và gia đình theo Luật hôn nhân và gia đình năm 2014. Tuy nhiên, một số thông tin quan trọng như trách nhiệm bảo vệ trẻ em, người cao tuổi, người khuyết tật và kế thừa truyền thống văn hóa, đạo đức không được đề cập. Mặc dù có một số điểm tương đồng về nội dung, nhưng câu trả lời vẫn thiếu sót và không hoàn toàn chính xác so với đáp án đúng.', 'Score': '6'}\n",
      "attempt : 0\n",
      "gpt-4o-mini\n",
      "Định dạng JSON hợp lệ!\n",
      "{'sga': ['Kết hôn giả tạo', 'ly hôn giả tạo', 'Tảo hôn', 'cưỡng ép kết hôn', 'lừa dối kết hôn', 'cản trở kết hôn', 'Người đang có vợ, có chồng mà kết hôn hoặc chung sống như vợ chồng với người khác', 'Kết hôn hoặc chung sống như vợ chồng giữa những người cùng dòng máu về trực hệ', 'Yêu sách của cải trong kết hôn', 'Cưỡng ép ly hôn', 'lừa dối ly hôn', 'cản trở ly hôn', 'Thực hiện sinh con bằng kỹ thuật hỗ trợ sinh sản vì mục đích thương mại', 'Bạo lực gia đình', 'Lợi dụng việc thực hiện quyền về hôn nhân và gia đình để mua bán người'], 'anwser': ['Kết hôn trái pháp luật', 'Ly hôn trái pháp luật', 'Bạo lực gia đình', 'Xâm phạm quyền và lợi ích hợp pháp của thành viên gia đình', 'Thực hiện hành vi gian dối trong hôn nhân', 'Hành vi buôn bán, môi giới hôn nhân trái phép', 'Lạm dụng quyền nuôi dưỡng, chăm sóc con cái'], 'Explain': \"Câu trả lời của sinh viên đã đề cập đến một số hành vi bị cấm trong hôn nhân và gia đình, nhưng không đầy đủ và có sự khác biệt so với đáp án đúng. Một số từ khóa quan trọng như 'Kết hôn giả tạo', 'ly hôn giả tạo', 'tảo hôn', 'cưỡng ép kết hôn', và các hành vi liên quan đến việc kết hôn và ly hôn không đúng quy định đã không được đề cập. Mặc dù có một số thông tin đúng như 'bạo lực gia đình' và 'thực hiện hành vi gian dối trong hôn nhân', nhưng tổng thể câu trả lời thiếu nhiều nội dung quan trọng và không phản ánh đầy đủ các hành vi bị cấm theo quy định của Luật hôn nhân và gia đình. Do đó, câu trả lời chỉ đạt khoảng 50% thông tin chính xác.\", 'Score': '5'}\n",
      "attempt : 0\n",
      "gpt-4o-mini\n",
      "Định dạng JSON hợp lệ!\n",
      "{'sga': ['tập quán về hôn nhân và gia đình', 'quy tắc xử sự', 'quyền, nghĩa vụ của các bên', 'Điều 7 Luật hôn nhân và gia đình năm 2014', 'tập quán tốt đẹp', 'không trái với nguyên tắc quy định tại Điều 2', 'không vi phạm điều cấm', 'thách cưới', 'phong tục, tập quán lạc hậu', 'nghiêm cấm', 'Nghị định số 32/2002/NĐ-CP'], 'anwser': ['tập quán về hôn nhân và gia đình', 'Điều 8 của Bộ luật Dân sự năm 2015', 'phù hợp với các quy định của pháp luật', 'không trái với đạo đức xã hội', 'thách cưới', 'mức độ hợp lý', 'không gây áp lực', 'quyền tự do lựa chọn bạn đời', 'Điều 3 của Luật Hôn nhân và Gia đình năm 2014', 'sự tự nguyện', 'bình đẳng', 'không bị ép buộc'], 'Explain': \"Câu trả lời của sinh viên đã đề cập đến một số khái niệm quan trọng như 'tập quán về hôn nhân và gia đình', 'thách cưới', và các điều luật liên quan. Tuy nhiên, sinh viên đã nhầm lẫn khi trích dẫn Điều 8 của Bộ luật Dân sự năm 2015 thay vì Điều 7 của Luật hôn nhân và gia đình năm 2014. Mặc dù sinh viên đã nêu rõ rằng thách cưới có thể vi phạm pháp luật nếu mang tính chất gả bán, nhưng không đề cập đến việc thách cưới bị nghiêm cấm theo quy định cụ thể trong Nghị định số 32/2002/NĐ-CP. Tổng thể, câu trả lời có nhiều thông tin quan trọng nhưng thiếu một số điểm chính yếu từ đáp án đúng.\", 'Score': '7'}\n",
      "attempt : 0\n",
      "gpt-4o-mini\n",
      "Định dạng JSON hợp lệ!\n",
      "{'sga': ['Điều 8 Luật hôn nhân và gia đình năm 2014', 'Nam từ đủ 20 tuổi, nữ từ đủ 18 tuổi', 'M chưa đủ 17 tuổi', 'Cưỡng ép kết hôn là hành vi bị cấm', 'Kết hôn phải tự nguyện'], 'anwser': ['Bộ luật Dân sự năm 2015', 'Nam phải đủ 20 tuổi, nữ phải đủ 18 tuổi', 'M chưa đủ tuổi kết hôn', 'Có năng lực hành vi dân sự', 'Việc kết hôn phải tự nguyện'], 'Explain': 'Câu trả lời của sinh viên đã trích xuất một số từ khóa và thông tin quan trọng liên quan đến điều kiện kết hôn, nhưng có một số điểm không chính xác. Sinh viên đã nhầm lẫn khi đề cập đến Bộ luật Dân sự năm 2015 thay vì Luật hôn nhân và gia đình năm 2014, mặc dù nội dung về độ tuổi kết hôn là chính xác. Thông tin về năng lực hành vi dân sự và sự tự nguyện cũng được đề cập, nhưng không đầy đủ như trong đáp án đúng. Việc sinh viên không nhắc đến các trường hợp cấm kết hôn cũng là một thiếu sót. Tổng thể, câu trả lời có khoảng 60% thông tin đúng, nhưng vẫn còn thiếu sót và sai lệch.', 'Score': '6'}\n",
      "attempt : 0\n",
      "gpt-4o-mini\n",
      "Định dạng JSON hợp lệ!\n",
      "{'sga': ['Kết hôn trái pháp luật', 'điều kiện kết hôn', 'Luật hôn nhân và gia đình', 'Tòa án', 'hủy việc kết hôn trái pháp luật', 'công nhận quan hệ hôn nhân', 'quyết định của Tòa án', 'sổ hộ tịch'], 'anwser': ['Kết hôn trái pháp luật', 'không đáp ứng đủ các điều kiện', 'không được công nhận', 'quyền lợi phát sinh không được bảo vệ', 'yêu cầu Tòa án tuyên bố hôn nhân vô hiệu', 'trở lại tình trạng pháp lý như trước khi kết hôn', 'tranh chấp về tài sản', 'xử lý theo quy định của pháp luật'], 'Explain': 'Câu trả lời của sinh viên đã đề cập đến khái niệm kết hôn trái pháp luật và một số hậu quả pháp lý liên quan, nhưng thiếu thông tin cụ thể về quy trình xử lý tại Tòa án theo Luật hôn nhân và gia đình. Mặc dù có một số từ khóa quan trọng, nhưng không đủ để phản ánh đầy đủ nội dung của đáp án đúng. Câu trả lời cũng không đề cập đến việc công nhận quan hệ hôn nhân nếu đủ điều kiện, điều này là một phần quan trọng trong quy định xử lý kết hôn trái pháp luật. Do đó, câu trả lời này có khoảng 50% thông tin chính xác và còn thiếu sót.', 'Score': '6'}\n",
      "attempt : 0\n",
      "gpt-4o-mini\n",
      "Định dạng JSON hợp lệ!\n",
      "{'sga': ['hủy kết hôn trái pháp luật', 'chấm dứt quan hệ như vợ chồng', 'quyền, nghĩa vụ của cha, mẹ, con', 'quan hệ tài sản, nghĩa vụ và hợp đồng', 'thỏa thuận giữa các bên', 'Bộ luật dân sự', 'quyền, lợi ích hợp pháp của phụ nữ và con'], 'anwser': ['kết hôn trái pháp luật', 'hủy kết hôn', 'không có hiệu lực pháp luật', 'quyền lợi và nghĩa vụ', 'con chung', 'tài sản chung', 'phân chia tài sản', 'trách nhiệm pháp lý', 'vi phạm chế độ một vợ một chồng'], 'Explain': 'Câu trả lời của sinh viên đã trích xuất được nhiều từ khóa và thông tin quan trọng liên quan đến việc hủy kết hôn trái pháp luật và các vấn đề phát sinh từ đó. Tuy nhiên, một số thông tin quan trọng trong đáp án đúng như việc chấm dứt quan hệ như vợ chồng, quyền lợi của phụ nữ và con, và quy định cụ thể về tài sản chưa được đề cập đầy đủ. Mặc dù có một số thông tin đúng, nhưng vẫn còn thiếu sót và không hoàn toàn chính xác so với đáp án đúng.', 'Score': '7'}\n",
      "attempt : 0\n",
      "gpt-4o-mini\n",
      "Định dạng JSON hợp lệ!\n",
      "{'sga': ['quyền tự do tín ngưỡng, tôn giáo', 'Hiến pháp', 'Luật hôn nhân và gia đình năm 2014', 'Điều 22', 'vợ, chồng có nghĩa vụ tôn trọng quyền tự do tín ngưỡng, tôn giáo của nhau', 'ép buộc theo tôn giáo là trái với quy định của pháp luật', 'giải thích, thuyết phục', 'nhờ sự giúp đỡ của những người có uy tín'], 'anwser': ['ép buộc theo tôn giáo là không đúng', 'vi phạm quyền tự do tín ngưỡng, tôn giáo', 'quyền tự do tín ngưỡng, tôn giáo được bảo đảm bởi Hiến pháp', 'Điều 24 của Hiến pháp Việt Nam năm 2013', 'mọi người có quyền tự do tín ngưỡng, tôn giáo', 'tìm kiếm sự hỗ trợ từ các tổ chức bảo vệ quyền lợi cá nhân'], 'Explain': 'Câu trả lời của sinh viên đã đề cập đến quyền tự do tín ngưỡng, tôn giáo và nhấn mạnh rằng việc ép buộc theo một tôn giáo là không đúng, điều này phù hợp với nội dung của đáp án đúng. Tuy nhiên, sinh viên đã không trích dẫn đúng Điều 22 của Luật hôn nhân và gia đình năm 2014 mà thay vào đó là Điều 24 của Hiến pháp năm 2013. Mặc dù thông tin về quyền tự do tín ngưỡng được đề cập là chính xác, nhưng việc thiếu thông tin cụ thể về Luật hôn nhân và gia đình làm giảm độ chính xác của câu trả lời. Tổng thể, câu trả lời của sinh viên có khoảng 60-70% thông tin đúng và liên quan, nhưng vẫn thiếu một số chi tiết quan trọng.', 'Score': '7'}\n",
      "attempt : 0\n",
      "gpt-4o-mini\n",
      "Định dạng JSON hợp lệ!\n",
      "{'sga': ['đại diện hợp pháp', 'vợ chồng kinh doanh chung', 'thỏa thuận khác', 'quyền tự mình thực hiện giao dịch', 'tài sản chung', 'chị H chịu trách nhiệm liên đới'], 'anwser': ['đại diện hợp pháp', 'hình thức kinh doanh', 'quyền và nghĩa vụ đối với tài sản chung', 'ủy quyền', 'thỏa thuận về việc đưa tài sản chung vào kinh doanh', 'chị H có thể phải chịu trách nhiệm liên đới'], 'Explain': \"Câu trả lời của sinh viên đã trích xuất được một số từ khóa quan trọng như 'đại diện hợp pháp', 'tài sản chung', và 'chị H chịu trách nhiệm liên đới', nhưng cũng có một số thông tin không chính xác hoặc không đầy đủ. Ví dụ, sinh viên đã đề cập đến 'hình thức kinh doanh' và 'ủy quyền', nhưng không nêu rõ rằng theo quy định của Luật Hôn nhân và Gia đình, anh A là đại diện hợp pháp của cả hai vợ chồng trong trường hợp không có thỏa thuận khác. Mặc dù câu trả lời có nhiều thông tin đúng, nhưng một số thông tin quan trọng đã bị thiếu hoặc diễn đạt không chính xác, dẫn đến việc không đạt được mức độ cao hơn.\", 'Score': '6'}\n",
      "attempt : 0\n",
      "gpt-4o-mini\n",
      "Định dạng JSON hợp lệ!\n",
      "{'sga': ['vợ chồng chịu trách nhiệm liên đới', 'giao dịch do một bên thực hiện', 'nhu cầu thiết yếu của gia đình', 'đồng ý của cả hai vợ chồng', 'vợ chồng kinh doanh chung', 'tài sản chung', 'nghĩa vụ phát sinh từ giao dịch', 'nghĩa vụ bồi thường thiệt hại', 'nghĩa vụ do vợ hoặc chồng thực hiện', 'nghĩa vụ phát sinh từ việc chiếm hữu, sử dụng, định đoạt tài sản chung', 'nghĩa vụ bồi thường thiệt hại do con gây ra'], 'anwser': ['vợ chồng chịu trách nhiệm liên đới', 'nghĩa vụ tài chính', 'tài sản chung', 'trách nhiệm bồi thường thiệt hại', 'nghĩa vụ thuế', 'trách nhiệm hình sự'], 'Explain': 'Câu trả lời của sinh viên đã đề cập đến một số trường hợp mà vợ chồng chịu trách nhiệm liên đới, nhưng không đầy đủ và thiếu nhiều thông tin quan trọng từ đáp án đúng. Sinh viên đã nêu ra các trường hợp như nghĩa vụ tài chính, tài sản chung, trách nhiệm bồi thường thiệt hại, nghĩa vụ thuế và trách nhiệm hình sự, nhưng không đề cập đến các quy định cụ thể về giao dịch do một bên thực hiện, đồng ý của cả hai vợ chồng, và các nghĩa vụ phát sinh từ tài sản chung. Do đó, mặc dù có một số từ khóa quan trọng, nhưng thông tin còn thiếu và không chính xác hoàn toàn.', 'Score': '5'}\n",
      "attempt : 0\n",
      "gpt-4o-mini\n",
      "Định dạng JSON hợp lệ!\n",
      "{'sga': ['quyền quyết định', 'tài sản chung', 'không đúng', 'nguyên tắc bình đẳng', 'Điều 29 Luật hôn nhân và gia đình năm 2014', 'vợ, chồng bình đẳng', 'quyền, nghĩa vụ', 'không phân biệt lao động', 'bồi thường'], 'anwser': ['quyết định và sử dụng tài sản chung', 'không chỉ phụ thuộc vào lao động chủ lực', 'nguyên tắc bình đẳng', 'thỏa thuận giữa các thành viên', 'quyền và nghĩa vụ', 'bất kể ai là người kiếm tiền chính', 'mâu thuẫn trong quan hệ vợ chồng', 'quản lý và sử dụng tài sản chung', 'sự đồng thuận và tôn trọng lẫn nhau'], 'Explain': 'Câu trả lời của sinh viên đã trích xuất được nhiều từ khóa và thông tin quan trọng liên quan đến quyền quyết định và sử dụng tài sản chung trong gia đình. Tuy nhiên, một số thông tin cụ thể từ đáp án đúng như việc vi phạm nguyên tắc bình đẳng theo Điều 29 Luật hôn nhân và gia đình năm 2014 không được đề cập rõ ràng. Mặc dù sinh viên đã nhấn mạnh về sự bình đẳng và thỏa thuận giữa các thành viên, nhưng không nêu rõ rằng việc anh A tự quyết định là không đúng và trái với quy định pháp luật. Do đó, thông tin quan trọng trong câu trả lời của sinh viên đạt khoảng 70% so với đáp án đúng, nhưng vẫn còn thiếu một số chi tiết quan trọng.', 'Score': '7'}\n",
      "attempt : 0\n",
      "gpt-4o-mini\n",
      "Định dạng JSON hợp lệ!\n",
      "{'sga': ['Điều 31 Luật hôn nhân và gia đình năm 2014', 'ngôi nhà là nơi ở duy nhất của vợ chồng', 'tài sản chung của vợ chồng', 'thỏa thuận của vợ chồng', 'nhà thuộc sở hữu riêng của anh T', 'quyền xác lập, thực hiện, chấm dứt giao dịch', 'bảo đảm chỗ ở cho vợ và các con'], 'anwser': ['tài sản mà một người sở hữu riêng', 'quyền sở hữu của người đó', 'cần sự thỏa thuận của cả hai vợ chồng', 'Bộ luật Dân sự Việt Nam', 'tài sản riêng của một bên vợ hoặc chồng', 'không cần sự đồng ý của bên còn lại', 'ngôi nhà đó là nơi ở duy nhất của vợ chồng', 'cần sự đồng ý của cả hai bên', 'đảm bảo quyền lợi và nghĩa vụ của cả hai', 'thảo luận và có sự đồng ý của vợ'], 'Explain': 'Câu trả lời của sinh viên đã đề cập đến một số khái niệm quan trọng như quyền sở hữu riêng, sự thỏa thuận của vợ chồng và các quy định trong Bộ luật Dân sự. Tuy nhiên, sinh viên không nhắc đến Điều 31 Luật hôn nhân và gia đình năm 2014, điều này làm giảm độ chính xác của câu trả lời. Mặc dù sinh viên đã nêu rõ rằng việc thực hiện giao dịch có thể cần sự thỏa thuận của cả hai vợ chồng, nhưng không nhấn mạnh rằng nếu ngôi nhà là tài sản riêng của anh T thì anh T vẫn có quyền thực hiện giao dịch mà không cần thỏa thuận, miễn là bảo đảm chỗ ở cho vợ và con. Tổng thể, câu trả lời có khoảng 60% thông tin đúng nhưng thiếu một số yếu tố quan trọng.', 'Score': '6'}\n",
      "attempt : 0\n",
      "gpt-4o-mini\n",
      "Định dạng JSON hợp lệ!\n",
      "{'sga': ['tài sản chung của vợ chồng', 'tài sản do vợ, chồng tạo ra', 'thu nhập do lao động, hoạt động sản xuất, kinh doanh', 'hoa lợi, lợi tức phát sinh từ tài sản riêng', 'tài sản thừa kế chung hoặc được tặng cho chung', 'tài sản khác mà vợ chồng thỏa thuận là tài sản chung', 'quyền sử dụng đất', 'sở hữu chung hợp nhất', 'bảo đảm nhu cầu của gia đình', 'nghĩa vụ chung của vợ chồng', 'không có căn cứ chứng minh tài sản riêng', 'chiếm hữu, sử dụng, định đoạt tài sản chung', 'thỏa thuận bằng văn bản'], 'anwser': ['tài sản chung của vợ chồng', 'tài sản được hình thành trong thời kỳ hôn nhân', 'tài sản do vợ chồng cùng tạo ra', 'tài sản do một bên vợ hoặc chồng tạo ra', 'thu nhập từ lao động, sản xuất, kinh doanh', 'tài sản được tặng cho, thừa kế cho cả hai vợ chồng', 'không có căn cứ để chứng minh tài sản riêng', 'chiếm hữu và sử dụng', 'định đoạt tài sản chung', 'thỏa thuận'], 'Explain': \"Câu trả lời của sinh viên đã trích xuất được nhiều từ khóa và thông tin quan trọng từ đáp án đúng. Các khái niệm về tài sản chung, tài sản riêng, và quyền chiếm hữu, sử dụng, định đoạt tài sản chung đều được đề cập. Tuy nhiên, một số thông tin cụ thể như 'hoa lợi, lợi tức phát sinh từ tài sản riêng' và 'quyền sử dụng đất' không được nêu rõ trong câu trả lời của sinh viên. Mặc dù vậy, câu trả lời vẫn giữ được ý chính và không có thông tin sai lệch lớn. Do đó, có thể đánh giá rằng câu trả lời đạt khoảng 80% thông tin chính xác và đầy đủ.\", 'Score': '8'}\n",
      "attempt : 0\n",
      "gpt-4o-mini\n",
      "Định dạng JSON hợp lệ!\n",
      "{'sga': ['quyền lựa chọn chế độ tài sản theo thỏa thuận khi kết hôn', 'thỏa thuận xác lập chế độ tài sản phải được lập trước khi kết hôn', 'hình thức văn bản có công chứng hoặc chứng thực', 'chế độ tài sản của vợ chồng theo thỏa thuận được xác lập kể từ ngày đăng ký kết hôn', 'nội dung cơ bản của thỏa thuận về chế độ tài sản', 'tài sản chung, tài sản riêng', 'quyền, nghĩa vụ của vợ chồng', 'nguyên tắc chung về chế độ tài sản của vợ chồng'], 'anwser': ['quyền yêu cầu một bản thỏa thuận rõ ràng về chế độ tài sản giữa hai vợ chồng', 'thỏa thuận về chế độ tài sản trong hôn nhân', 'tài sản chung, tài sản riêng', 'lập hợp đồng hôn nhân', 'thỏa thuận về nợ nần', 'cần được lập thành văn bản và có thể được công chứng'], 'Explain': 'Câu trả lời của sinh viên đã đề cập đến quyền yêu cầu thỏa thuận về chế độ tài sản trước khi kết hôn, điều này là chính xác. Tuy nhiên, sinh viên không nhắc đến các quy định cụ thể trong Luật Hôn nhân và Gia đình 2014, mà thay vào đó là Bộ luật Dân sự 2015, điều này có thể gây nhầm lẫn. Các nội dung quan trọng như hình thức lập thỏa thuận, thời điểm có hiệu lực, và các nội dung cơ bản của thỏa thuận về chế độ tài sản không được đề cập đầy đủ. Mặc dù có nhiều thông tin đúng, nhưng thiếu sót về các quy định cụ thể và không đầy đủ về nội dung thỏa thuận đã làm giảm tính chính xác của câu trả lời.', 'Score': '6'}\n",
      "attempt : 0\n",
      "gpt-4o-mini\n",
      "Định dạng JSON hợp lệ!\n",
      "{'sga': ['quyền yêu cầu giải quyết ly hôn', 'vợ, chồng có quyền yêu cầu Tòa án giải quyết ly hôn', 'chồng không có quyền yêu cầu ly hôn khi vợ đang có thai', 'tình trạng hôn nhân trầm trọng', 'đời sống chung không thể kéo dài', 'mục đích của hôn nhân không đạt được'], 'anwser': ['ly hôn trong thời gian mang thai là hoàn toàn có thể', 'việc ly hôn không bị cấm trong thời gian mang thai', 'thủ tục ly hôn đơn phương hoặc ly hôn thuận tình', 'quyền nuôi con sẽ được xem xét dựa trên lợi ích tốt nhất cho trẻ', 'tòa án sẽ xem xét việc phân chia tài sản chung', 'tìm kiếm sự tư vấn từ luật sư'], 'Explain': 'Câu trả lời của sinh viên đã đề cập đến việc ly hôn trong thời gian mang thai là có thể, điều này đúng với quy định pháp luật. Tuy nhiên, sinh viên không nhắc đến các quy định cụ thể về quyền yêu cầu ly hôn của vợ và chồng theo Điều 51 Luật hôn nhân và gia đình, cũng như không đề cập đến việc chồng không có quyền yêu cầu ly hôn khi vợ đang mang thai. Thêm vào đó, sinh viên đã đưa ra một số thông tin bổ sung về thủ tục ly hôn, quyền nuôi con và chia tài sản, nhưng thiếu thông tin về tình trạng hôn nhân trầm trọng và mục đích của hôn nhân không đạt được. Tổng thể, câu trả lời có một số thông tin đúng nhưng thiếu sót về các quy định cụ thể của pháp luật.', 'Score': '6'}\n",
      "attempt : 0\n",
      "gpt-4o-mini\n",
      "Định dạng JSON hợp lệ!\n",
      "{'sga': ['Điều 59 Luật hôn nhân và gia đình năm 2014', 'giải quyết tài sản do các bên thỏa thuận', 'Tòa án giải quyết', 'tài sản chung của vợ chồng được chia đôi', 'hoàn cảnh của gia đình và của vợ, chồng', 'công sức đóng góp của vợ, chồng', 'bảo vệ lợi ích chính đáng', 'lỗi của mỗi bên', 'tài sản riêng của vợ, chồng', 'bảo vệ quyền, lợi ích hợp pháp của vợ, con chưa thành niên'], 'anwser': ['Bộ luật Dân sự Việt Nam', 'chia tài sản chung theo nguyên tắc bình đẳng', 'tài sản riêng không bị chia', 'vợ chồng có quyền thỏa thuận', 'xem xét quyền lợi của trẻ em', 'Tòa án giải quyết', 'thời gian yêu cầu chia tài sản là 2 năm'], 'Explain': 'Câu trả lời của sinh viên đã đề cập đến một số nguyên tắc quan trọng trong việc giải quyết tài sản khi ly hôn, nhưng không hoàn toàn chính xác và đầy đủ so với đáp án đúng. Câu trả lời không nhắc đến Luật hôn nhân và gia đình mà thay vào đó là Bộ luật Dân sự, điều này có thể gây nhầm lẫn về cơ sở pháp lý. Một số thông tin như việc chia tài sản chung theo nguyên tắc bình đẳng và thời gian yêu cầu chia tài sản là 2 năm là đúng, nhưng không đề cập đến các yếu tố quan trọng như hoàn cảnh gia đình, công sức đóng góp, và bảo vệ quyền lợi của trẻ em như trong đáp án đúng. Tổng thể, câu trả lời có một số từ khóa và thông tin quan trọng nhưng thiếu nhiều nội dung thiết yếu.', 'Score': '5'}\n",
      "attempt : 0\n",
      "gpt-4o-mini\n",
      "Định dạng JSON hợp lệ!\n",
      "{'sga': ['Điều 62 Luật hôn nhân và gia đình năm 2014', 'quyền sử dụng đất là tài sản riêng', 'chia quyền sử dụng đất là tài sản chung', 'đất nông nghiệp trồng cây hàng năm', 'thỏa thuận của hai bên', 'Tòa án giải quyết', 'đất nông nghiệp trồng cây lâu năm', 'đất lâm nghiệp', 'đất ở', 'quy định của pháp luật về đất đai', 'quyền lợi của bên không có quyền sử dụng đất'], 'anwser': ['Luật Hôn nhân và Gia đình năm 2014', 'quyền sử dụng đất được xác định là tài sản chung', 'được hình thành trong thời kỳ hôn nhân', 'tặng cho, thừa kế riêng', 'chia tài sản chung', 'công sức đóng góp', 'điều kiện kinh tế', 'nhu cầu nuôi dưỡng con cái', 'thỏa thuận về việc chia quyền sử dụng đất', 'Tòa án sẽ quyết định', 'quy định của pháp luật', 'quyền sử dụng đất phải được đăng ký'], 'Explain': 'Câu trả lời của sinh viên đã đề cập đến một số khái niệm quan trọng như quyền sử dụng đất, tài sản chung và riêng, và quy trình chia tài sản khi ly hôn. Tuy nhiên, sinh viên đã trích dẫn sai Điều 59 thay vì Điều 62 của Luật hôn nhân và gia đình năm 2014, dẫn đến việc thiếu sót thông tin về các quy định cụ thể liên quan đến chia quyền sử dụng đất. Mặc dù có nhiều thông tin đúng, nhưng việc thiếu sót thông tin quan trọng và trích dẫn sai điều luật đã ảnh hưởng đến độ chính xác của câu trả lời.', 'Score': '6'}\n",
      "attempt : 0\n",
      "gpt-4o-mini\n",
      "Định dạng JSON hợp lệ!\n",
      "{'sga': ['Điều 66 Luật hôn nhân và gia đình năm 2014', 'tài sản chung của vợ chồng', 'chia đôi', 'pháp luật về thừa kế', 'hàng thừa kế thứ nhất', 'vợ, cha mẹ, con cái'], 'anwser': ['Luật Hôn nhân và Gia đình năm 2014', 'tài sản chung của vợ chồng', 'chia theo quy định của pháp luật về thừa kế', 'Bộ luật Dân sự', 'chị B sẽ được hưởng một phần tài sản chung', 'các đồng thừa kế hợp pháp'], 'Explain': 'Câu trả lời của sinh viên đã trích xuất được nhiều từ khóa và thông tin quan trọng liên quan đến quy định của Luật Hôn nhân và Gia đình năm 2014, như tài sản chung của vợ chồng, việc chia tài sản theo pháp luật về thừa kế và các thành phần thừa kế. Tuy nhiên, câu trả lời thiếu một số chi tiết quan trọng từ đáp án đúng, chẳng hạn như việc tài sản chung sẽ được chia đôi và cụ thể về hàng thừa kế thứ nhất. Mặc dù có một số thông tin chính xác, nhưng vẫn còn thiếu sót và không hoàn toàn đầy đủ so với đáp án đúng.', 'Score': '7'}\n",
      "attempt : 0\n",
      "gpt-4o-mini\n",
      "Định dạng JSON hợp lệ!\n",
      "{'sga': ['Thương yêu con', 'tôn trọng ý kiến của con', 'chăm lo việc học tập, giáo dục', 'phát triển lành mạnh về thể chất, trí tuệ, đạo đức', 'trông nom, nuôi dưỡng, chăm sóc', 'bảo vệ quyền, lợi ích hợp pháp của con chưa thành niên', 'không được phân biệt đối xử với con', 'không được lạm dụng sức lao động của con', 'cha, mẹ có nghĩa vụ và quyền ngang nhau', 'giáo dục con', 'tạo điều kiện cho con học tập', 'hướng dẫn con chọn nghề', 'tôn trọng quyền chọn nghề'], 'anwser': ['Nuôi dưỡng, chăm sóc và giáo dục con cái', 'Bảo vệ quyền và lợi ích hợp pháp của con', 'Tạo điều kiện cho con phát triển', 'Thực hiện nghĩa vụ tài chính', 'Quyền quyết định về giáo dục và chăm sóc con', 'Quyền đại diện cho con', 'Quyền yêu cầu bảo vệ quyền lợi cho con', 'Quyền thăm nom, chăm sóc con'], 'Explain': 'Câu trả lời của sinh viên đã trích xuất được nhiều từ khóa và thông tin quan trọng liên quan đến nghĩa vụ và quyền của cha mẹ theo Luật Hôn nhân và Gia đình năm 2014. Tuy nhiên, một số thông tin trong câu trả lời đúng không được đề cập, như việc không được phân biệt đối xử với con, không được lạm dụng sức lao động của con, và nghĩa vụ của cha mẹ trong việc tạo điều kiện cho con sống trong môi trường gia đình hòa thuận. Mặc dù câu trả lời của sinh viên có nhiều điểm đúng, nhưng vẫn thiếu một số nội dung quan trọng và có một số thông tin không hoàn toàn chính xác hoặc không đầy đủ. Do đó, điểm số sẽ được đánh giá ở mức 7.', 'Score': 7}\n",
      "attempt : 0\n",
      "gpt-4o-mini\n",
      "Định dạng JSON hợp lệ!\n",
      "{'sga': ['Điều 73 Luật hôn nhân và gia đình năm 2014', 'cha mẹ đại diện theo pháp luật của con chưa thành niên', 'giao dịch nhằm đáp ứng nhu cầu thiết yếu của con chưa thành niên', 'giao dịch liên quan đến tài sản là bất động sản', 'thỏa thuận của cha mẹ', 'chịu trách nhiệm liên đới về việc thực hiện giao dịch'], 'anwser': ['Luật Hôn nhân và Gia đình năm 2014', 'đại diện cho con chưa thành niên', 'chuyển nhượng quyền sử dụng đất', 'vì lợi ích của con', 'thỏa thuận của cả hai vợ chồng', 'thủ tục pháp lý', 'giấy tờ liên quan'], 'Explain': 'Câu trả lời của sinh viên đã đề cập đến nhiều khía cạnh quan trọng liên quan đến việc đại diện cho con chưa thành niên trong giao dịch chuyển nhượng quyền sử dụng đất. Tuy nhiên, sinh viên đã không trích dẫn đúng Điều 73 mà thay vào đó là Điều 28, dẫn đến việc thiếu sót thông tin về trách nhiệm liên đới của cha mẹ trong giao dịch. Mặc dù câu trả lời có nhiều thông tin đúng và liên quan, nhưng việc không nêu rõ các quy định cụ thể trong Điều 73 đã làm giảm độ chính xác của câu trả lời. Tổng thể, khoảng 70% thông tin là chính xác nhưng vẫn có một số thiếu sót quan trọng.', 'Score': '7'}\n",
      "attempt : 0\n",
      "gpt-4o-mini\n",
      "Định dạng JSON hợp lệ!\n",
      "{'sga': ['Điều 76 Luật hôn nhân và gia đình năm 2014', 'quản lý tài sản riêng của con', 'Con từ đủ 15 tuổi', 'tài sản riêng của con dưới 15 tuổi', 'cha mẹ quản lý', 'ủy quyền cho người khác quản lý', 'tài sản riêng của con được giao lại khi con từ đủ 15 tuổi', 'cha mẹ không quản lý tài sản riêng của con', 'người tặng cho tài sản', 'di chúc', 'mẹ chồng bạn là người quản lý tài sản này'], 'anwser': ['Luật Hôn nhân và Gia đình năm 2014', 'tài sản riêng của con bạn', 'quản lý bởi cha mẹ hoặc người giám hộ', 'đủ 18 tuổi', 'mẹ chồng bạn được giao quyền quản lý', 'không ai khác có quyền can thiệp', 'vợ chồng bạn không có quyền quản lý', 'có sự đồng ý của mẹ chồng bạn', 'giám sát và hỗ trợ mẹ chồng', 'quyền quyết định cuối cùng thuộc về mẹ chồng bạn'], 'Explain': 'Câu trả lời của sinh viên đã trích xuất một số từ khóa và thông tin quan trọng liên quan đến việc quản lý tài sản riêng của con theo Luật Hôn nhân và Gia đình năm 2014. Tuy nhiên, sinh viên đã không đề cập đến các điều khoản cụ thể trong Điều 76 mà đáp án đúng đã nêu rõ. Câu trả lời cũng không nhấn mạnh rằng tài sản riêng của con dưới 15 tuổi do cha mẹ quản lý, mà chỉ nói rằng tài sản được quản lý cho đến khi con đủ 18 tuổi. Mặc dù có một số thông tin đúng, nhưng thiếu sót trong việc trích dẫn các quy định cụ thể đã làm giảm độ chính xác của câu trả lời.', 'Score': '6'}\n",
      "attempt : 0\n",
      "gpt-4o-mini\n",
      "Định dạng JSON hợp lệ!\n",
      "{'sga': ['Điều 79 Luật hôn nhân và gia đình năm 2014', 'cha dượng, mẹ kế có quyền và nghĩa vụ trông nom, nuôi dưỡng, chăm sóc, giáo dục con riêng', 'con riêng có quyền và nghĩa vụ chăm sóc, phụng dưỡng cha dượng, mẹ kế', 'Điều 70 và Điều 71 của Luật hôn nhân và gia đình', 'nghĩa vụ chăm sóc, nuôi dưỡng cha mẹ', 'cha mẹ mất năng lực hành vi dân sự, ốm đau, già yếu, khuyết tật', 'các con phải cùng nhau chăm sóc, nuôi dưỡng cha mẹ', 'H phải có nghĩa vụ chăm sóc, nuôi dưỡng ba dượng'], 'anwser': ['trách nhiệm chăm sóc và nuôi dưỡng cha dượng không được quy định rõ ràng', 'nếu cha dượng đã có vai trò như một người cha trong cuộc sống của H', 'H có thể có trách nhiệm chăm sóc và nuôi dưỡng ông ấy', 'Bộ luật Dân sự Việt Nam', 'nghĩa vụ nuôi dưỡng thường chỉ áp dụng cho các mối quan hệ huyết thống hoặc quan hệ hôn nhân', 'H có thể tự nguyện chăm sóc ông ấy', 'nếu ba dượng gặp khó khăn về tài chính hoặc sức khỏe', 'H cũng có thể xem xét việc hỗ trợ ông ấy', 'H không có trách nhiệm pháp lý phải chăm sóc ba dượng'], 'Explain': 'Câu trả lời của sinh viên đã đề cập đến một số khía cạnh quan trọng liên quan đến nghĩa vụ chăm sóc ba dượng, nhưng thiếu các quy định cụ thể từ Luật hôn nhân và gia đình năm 2014 mà đáp án đúng đã nêu rõ. Sinh viên đã không đề cập đến các điều khoản cụ thể (Điều 70, 71) và không nhấn mạnh nghĩa vụ pháp lý của H trong việc chăm sóc ba dượng, mà chỉ nói về khả năng tự nguyện. Mặc dù có một số thông tin đúng, nhưng thông tin quan trọng và từ khóa trong đáp án đúng không được đề cập đầy đủ, dẫn đến việc thiếu sót trong việc giải thích nghĩa vụ pháp lý của H.', 'Score': '5'}\n",
      "attempt : 0\n",
      "gpt-4o-mini\n",
      "Định dạng JSON hợp lệ!\n",
      "{'sga': ['Điều 84 Luật hôn nhân và gia đình năm 2014', 'thay đổi người trực tiếp nuôi con', 'căn cứ thay đổi nuôi con', 'thỏa thuận giữa cha mẹ', 'điều kiện nuôi dưỡng', 'yêu cầu Tòa án', 'cơ quan quản lý nhà nước về gia đình', 'cơ quan quản lý nhà nước về trẻ em', 'Hội liên hiệp phụ nữ'], 'anwser': ['quyền nuôi con', 'Tòa án quyết định dựa trên lợi ích tốt nhất của trẻ', 'yêu cầu Tòa án xem xét lại quyết định nuôi con', 'tài liệu và chứng cứ', 'tình trạng chăm sóc của vợ bạn', 'môi trường sống của trẻ', 'khả năng nuôi dưỡng của bạn', 'nộp đơn yêu cầu thay đổi quyền nuôi con', 'sự hỗ trợ của luật sư'], 'Explain': 'Câu trả lời của sinh viên đã đề cập đến một số thông tin quan trọng liên quan đến quyền nuôi con sau ly hôn, như việc Tòa án quyết định dựa trên lợi ích tốt nhất của trẻ và yêu cầu Tòa án xem xét lại quyết định nuôi con. Tuy nhiên, câu trả lời thiếu các quy định cụ thể từ Luật hôn nhân và gia đình năm 2014, đặc biệt là Điều 84, và các căn cứ cụ thể để thay đổi người nuôi con. Mặc dù sinh viên đã nêu ra các yếu tố cần xem xét, nhưng không đề cập đến việc thỏa thuận giữa cha mẹ hay các cơ quan liên quan như cơ quan quản lý nhà nước về gia đình và trẻ em. Do đó, thông tin quan trọng trong câu trả lời chỉ đạt khoảng 50%, và có nhiều thông tin không đầy đủ hoặc thiếu chính xác.', 'Score': '6'}\n",
      "attempt : 0\n",
      "gpt-4o-mini\n",
      "Định dạng JSON hợp lệ!\n",
      "{'sga': ['Điều 85 Luật hôn nhân và gia đình năm 2014', 'Bị kết án về tội xâm phạm tính mạng, sức khỏe, nhân phẩm, danh dự của con', 'Vi phạm nghiêm trọng nghĩa vụ trông nom, chăm sóc, nuôi dưỡng, giáo dục con', 'Phá tán tài sản của con', 'Có lối sống đồi trụy', 'Xúi giục, ép buộc con làm việc trái pháp luật, trái đạo đức xã hội'], 'anwser': ['quyền của cha, mẹ đối với con chưa thành niên có thể bị hạn chế', 'Điều 85 của Bộ luật Dân sự 2015', 'hành vi vi phạm pháp luật', 'không đủ khả năng nuôi dưỡng con', 'hành vi bạo lực gia đình', 'bị xử lý hành chính hoặc hình sự', 'các trường hợp khác theo quy định của pháp luật'], 'Explain': 'Câu trả lời của sinh viên đã đề cập đến một số trường hợp hạn chế quyền của cha mẹ đối với con chưa thành niên, nhưng không hoàn toàn chính xác và đầy đủ. Sinh viên đã trích dẫn Điều 85 của Bộ luật Dân sự 2015 thay vì Luật hôn nhân và gia đình năm 2014, điều này dẫn đến việc thiếu chính xác trong thông tin. Một số trường hợp được nêu ra như hành vi vi phạm pháp luật, không đủ khả năng nuôi dưỡng, bạo lực gia đình, và bị xử lý hành chính/hình sự có thể liên quan, nhưng không hoàn toàn khớp với các trường hợp cụ thể được quy định trong đáp án đúng. Ngoài ra, sinh viên cũng không đề cập đến các trường hợp cụ thể như phá tán tài sản của con, có lối sống đồi trụy, và xúi giục con làm việc trái pháp luật. Do đó, mặc dù có một số từ khóa và thông tin quan trọng, nhưng vẫn còn thiếu sót và không chính xác.', 'Score': '5'}\n",
      "attempt : 0\n",
      "gpt-4o-mini\n",
      "Định dạng JSON hợp lệ!\n",
      "{'sga': ['Điều 86 Luật hôn nhân và gia đình năm 2014', 'hạn chế quyền của cha, mẹ đối với con chưa thành niên', 'người giám hộ của con chưa thành niên', 'người thân thích', 'cơ quan quản lý nhà nước về gia đình', 'cơ quan quản lý nhà nước về trẻ em', 'Hội liên hiệp phụ nữ', 'hành vi vi phạm quy định tại khoản 1 Điều 85', 'phạm tội xâm phạm tính mạng, sức khỏe, nhân phẩm, danh dự của con', 'vi phạm nghiêm trọng nghĩa vụ trông nom, chăm sóc, nuôi dưỡng, giáo dục con', 'báo ngay chính quyền, đoàn thể cơ sở'], 'anwser': ['quy định của pháp luật Việt Nam', 'yêu cầu Tòa án can thiệp', 'Luật Hôn nhân và Gia đình năm 2014', 'quyền và nghĩa vụ của cha mẹ', 'tôn trọng quyền lợi và sự phát triển của trẻ em', 'tố cáo hành vi ngược đãi', 'cơ quan chức năng', 'yêu cầu Tòa án hạn chế quyền của người mẹ', 'các hành vi ngược đãi, bạo lực', 'chứng cứ', 'tham gia các hoạt động bảo vệ trẻ em', 'các tổ chức xã hội', 'căn cứ rõ ràng', 'ảnh hưởng nghiêm trọng đến sự phát triển và an toàn của trẻ'], 'Explain': 'Câu trả lời của sinh viên đã trích xuất được nhiều từ khóa và thông tin quan trọng liên quan đến quyền yêu cầu Tòa án can thiệp trong trường hợp ngược đãi trẻ em. Tuy nhiên, một số thông tin quan trọng từ đáp án đúng như các quy định cụ thể về quyền yêu cầu của người thân thích, cơ quan quản lý nhà nước về gia đình, và Hội liên hiệp phụ nữ không được đề cập. Mặc dù sinh viên đã nêu ra các bước cần thực hiện, nhưng thiếu thông tin về các đối tượng có quyền yêu cầu Tòa án và các hành vi vi phạm cụ thể theo luật. Do đó, câu trả lời có khoảng 60-70% thông tin chính xác nhưng vẫn thiếu sót một số điểm quan trọng.', 'Score': '7'}\n",
      "attempt : 0\n",
      "gpt-4o-mini\n",
      "Định dạng JSON hợp lệ!\n",
      "{'sga': ['Luật hôn nhân và gia đình năm 2014', 'quyền và nghĩa vụ của bên nhờ mang thai hộ', 'Điều 98', 'khoản 5', 'yêu cầu Tòa án buộc bên mang thai hộ giao con'], 'anwser': ['thương lượng với chị B', 'tư vấn pháp lý', 'khởi kiện ra tòa', 'chuẩn bị hồ sơ', 'chờ đợi quyết định của tòa án'], 'Explain': 'Câu trả lời của sinh viên đã đề cập đến nhiều bước cần thực hiện để bảo vệ quyền lợi của vợ chồng anh A, chị M, nhưng không đề cập đến các quy định pháp lý cụ thể liên quan đến quyền yêu cầu giao con theo thỏa thuận mang thai hộ. Mặc dù sinh viên đã đưa ra các bước như thương lượng, tư vấn pháp lý và khởi kiện, nhưng thiếu thông tin quan trọng về quyền yêu cầu Tòa án theo Điều 98 của Luật hôn nhân và gia đình năm 2014. Do đó, câu trả lời chỉ chứa khoảng 50% thông tin quan trọng và có nhiều thông tin không liên quan.', 'Score': '5'}\n",
      "attempt : 0\n",
      "gpt-4o-mini\n",
      "Định dạng JSON hợp lệ!\n",
      "{'sga': ['Khoản 3 Điều 102 Luật hôn nhân và gia đình năm 2014', 'Cá nhân, cơ quan, tổ chức', 'quyền yêu cầu Tòa án xác định cha, mẹ cho con chưa thành niên', 'con đã thành niên mất năng lực hành vi dân sự', 'xác định con cho cha, mẹ chưa thành niên hoặc mất năng lực hành vi dân sự', 'Cha, mẹ, con, người giám hộ', 'Cơ quan quản lý nhà nước về gia đình', 'Cơ quan quản lý nhà nước về trẻ em', 'Hội liên hiệp phụ nữ'], 'anwser': ['Bộ luật Dân sự Việt Nam', 'các tổ chức, cá nhân có quyền yêu cầu xác định cha, mẹ cho con chưa thành niên', 'con đã thành niên mất năng lực hành vi dân sự', 'xác định con cho cha mẹ mất năng lực hành vi dân sự', 'Cha, mẹ của trẻ em hoặc người đã mất năng lực hành vi dân sự', 'Người có quyền lợi và nghĩa vụ liên quan', 'Cơ quan nhà nước có thẩm quyền', 'Tòa án', 'thủ tục pháp lý'], 'Explain': \"Câu trả lời của sinh viên đã trích xuất được nhiều từ khóa và thông tin quan trọng liên quan đến quyền yêu cầu xác định cha, mẹ cho con chưa thành niên và con đã thành niên mất năng lực hành vi dân sự. Tuy nhiên, câu trả lời không đề cập đến các cơ quan cụ thể như 'Cơ quan quản lý nhà nước về gia đình', 'Cơ quan quản lý nhà nước về trẻ em' và 'Hội liên hiệp phụ nữ' mà là những tổ chức có quyền yêu cầu theo quy định của Luật hôn nhân và gia đình năm 2014. Mặc dù sinh viên đã đề cập đến Tòa án và các tổ chức, cá nhân có liên quan, nhưng thông tin vẫn chưa đầy đủ và chính xác như trong đáp án đúng.\", 'Score': '7'}\n",
      "attempt : 0\n",
      "gpt-4o-mini\n",
      "Định dạng JSON hợp lệ!\n",
      "{'sga': ['Nghĩa vụ cấp dưỡng', 'cha, mẹ và con', 'anh, chị, em', 'ông bà nội, ông bà ngoại và cháu', 'cô, dì, chú, cậu, bác ruột và cháu ruột', 'vợ và chồng', 'Điều 110', 'Điều 111', 'Điều 112', 'Điều 113', 'Điều 114', 'Điều 115', 'không sống chung', 'không có khả năng lao động', 'không có tài sản', 'trốn tránh nghĩa vụ', 'Tòa án'], 'anwser': ['Nghĩa vụ cấp dưỡng', 'trách nhiệm của một bên trong quan hệ hôn nhân hoặc quan hệ nuôi dưỡng', 'vợ/chồng, con cái hoặc các thành viên khác trong gia đình', 'ly hôn', 'cha mẹ có nghĩa vụ cấp dưỡng cho con cái', 'đủ 18 tuổi', 'hình thức cấp dưỡng', 'tiền mặt, tài sản, chăm sóc, giáo dục, y tế', 'mức cấp dưỡng', 'khả năng tài chính', 'nhu cầu thực tế', 'Tòa án can thiệp', 'thời gian cấp dưỡng', 'thỏa thuận giữa các bên', 'thay đổi nghĩa vụ cấp dưỡng', 'hoàn cảnh kinh tế, sức khỏe', 'xử lý vi phạm nghĩa vụ cấp dưỡng', 'Tòa án can thiệp'], 'Explain': 'Câu trả lời của sinh viên đã đề cập đến nhiều khía cạnh quan trọng của nghĩa vụ cấp dưỡng trong Luật hôn nhân và gia đình, bao gồm đối tượng cấp dưỡng, hình thức, mức và thời gian cấp dưỡng, cũng như xử lý vi phạm. Tuy nhiên, câu trả lời thiếu một số thông tin chi tiết về các điều khoản cụ thể (Điều 110, 111, 112, 113, 114, 115) và các mối quan hệ cụ thể giữa các bên liên quan. Mặc dù vậy, sinh viên đã nêu được các khái niệm cơ bản và các yếu tố liên quan đến nghĩa vụ cấp dưỡng, vì vậy có thể đánh giá câu trả lời này đạt khoảng 70% thông tin chính xác.', 'Score': '7'}\n",
      "attempt : 0\n",
      "gpt-4o-mini\n",
      "Định dạng JSON hợp lệ!\n",
      "{'sga': ['Điều 116 Luật hôn nhân và gia đình năm 2014', 'mức cấp dưỡng nuôi con', 'thỏa thuận căn cứ vào thu nhập', 'khả năng thực tế của chồng chị A', 'nhu cầu thiết yếu của người con', 'yêu cầu Tòa án giải quyết', 'lý do chính đáng', 'thay đổi mức cấp dưỡng'], 'anwser': ['Bộ luật Dân sự năm 2015', 'Luật Hôn nhân và Gia đình năm 2014', 'nghĩa vụ của cha mẹ đối với con cái', 'chị A sẽ trực tiếp nuôi con', 'chồng chị A có nghĩa vụ cấp dưỡng', 'mức cấp dưỡng không quy định cụ thể', 'nhu cầu thiết yếu của con', 'khả năng tài chính của bên cấp dưỡng', 'thỏa thuận giữa hai bên', 'yêu cầu Tòa án xác định mức cấp dưỡng', 'điều chỉnh theo thời gian'], 'Explain': 'Câu trả lời của sinh viên đã trích xuất được nhiều từ khóa và thông tin quan trọng liên quan đến quy định về cấp dưỡng nuôi con sau ly hôn. Tuy nhiên, câu trả lời không đề cập đến Điều 116 của Luật hôn nhân và gia đình năm 2014, mà thay vào đó lại nhắc đến Bộ luật Dân sự năm 2015, điều này có thể gây nhầm lẫn về cơ sở pháp lý. Mặc dù có nhiều thông tin đúng và liên quan, nhưng việc thiếu sót thông tin quan trọng từ đáp án đúng và sự nhầm lẫn về cơ sở pháp lý đã ảnh hưởng đến độ chính xác của câu trả lời. Tổng thể, khoảng 70% thông tin là đúng, nhưng vẫn còn thiếu sót và sai lệch.', 'Score': '7'}\n"
     ]
    }
   ],
   "source": [
    "for i in range(len(TULUAN_HYBRID)):\n",
    "\n",
    "    test = PROMPT['evaluation_from_test_kw'].replace(\"<<q>>\", TULUAN_HYBRID[i]['q']).replace(\"<<sga>>\", TULUAN_HYBRID[i]['a']).replace(\"<<a>>\", TULUAN_HYBRID[i]['mini'])\n",
    "\n",
    "    res = get_valid_json_gpt40mini(test)\n",
    "\n",
    "    print(res)\n",
    "\n",
    "    TULUAN_GPT_MINI.append(res)"
   ]
  },
  {
   "cell_type": "code",
   "execution_count": 135,
   "metadata": {
    "colab": {
     "base_uri": "https://localhost:8080/"
    },
    "executionInfo": {
     "elapsed": 296,
     "status": "ok",
     "timestamp": 1734861059219,
     "user": {
      "displayName": "Khải Đặng",
      "userId": "00827885371675823732"
     },
     "user_tz": -420
    },
    "id": "o5_6rjv-wTrX",
    "outputId": "04742606-16ff-4a57-c231-973faaa1244c"
   },
   "outputs": [
    {
     "data": {
      "text/plain": [
       "28"
      ]
     },
     "execution_count": 135,
     "metadata": {},
     "output_type": "execute_result"
    }
   ],
   "source": [
    "len(TULUAN_GPT_MINI)"
   ]
  },
  {
   "cell_type": "code",
   "execution_count": 136,
   "metadata": {
    "colab": {
     "base_uri": "https://localhost:8080/"
    },
    "executionInfo": {
     "elapsed": 392,
     "status": "ok",
     "timestamp": 1734861068652,
     "user": {
      "displayName": "Khải Đặng",
      "userId": "00827885371675823732"
     },
     "user_tz": -420
    },
    "id": "vcl-BKgvwTud",
    "outputId": "a4e39c99-4f8c-40cf-8980-4523852960c0"
   },
   "outputs": [
    {
     "data": {
      "text/plain": [
       "7.285714285714286"
      ]
     },
     "execution_count": 136,
     "metadata": {},
     "output_type": "execute_result"
    }
   ],
   "source": [
    "# Lần 1\n",
    "\n",
    "score = 0\n",
    "\n",
    "for i in range(len(TULUAN_GPT_MINI)):\n",
    "    if TULUAN_GPT_MINI[i] != \"Not\":\n",
    "        score += int(TULUAN_GPT_MINI[i]['Score'])\n",
    "\n",
    "score/len(TULUAN_GPT_MINI)\n",
    "# 7.285714285714286"
   ]
  },
  {
   "cell_type": "code",
   "execution_count": 139,
   "metadata": {
    "colab": {
     "base_uri": "https://localhost:8080/"
    },
    "executionInfo": {
     "elapsed": 422,
     "status": "ok",
     "timestamp": 1734861268962,
     "user": {
      "displayName": "Khải Đặng",
      "userId": "00827885371675823732"
     },
     "user_tz": -420
    },
    "id": "CY6jHP9Bso5B",
    "outputId": "dd9a1bff-3e1f-4fdd-d63f-6d06345a9446"
   },
   "outputs": [
    {
     "data": {
      "text/plain": [
       "6.25"
      ]
     },
     "execution_count": 139,
     "metadata": {},
     "output_type": "execute_result"
    }
   ],
   "source": [
    "# Lần 2 kw\n",
    "\n",
    "score = 0\n",
    "\n",
    "for i in range(len(TULUAN_GPT_MINI)):\n",
    "    if TULUAN_GPT_MINI[i] != \"Not\":\n",
    "        score += int(TULUAN_GPT_MINI[i]['Score'])\n",
    "\n",
    "score/len(TULUAN_GPT_MINI)\n",
    "# 6.25"
   ]
  },
  {
   "cell_type": "code",
   "execution_count": null,
   "metadata": {
    "id": "HVJAfSY9x0Np"
   },
   "outputs": [],
   "source": []
  },
  {
   "cell_type": "code",
   "execution_count": null,
   "metadata": {
    "id": "kEKE0rWZx0SU"
   },
   "outputs": [],
   "source": []
  },
  {
   "cell_type": "code",
   "execution_count": null,
   "metadata": {
    "id": "aMAPJ-Wfso81"
   },
   "outputs": [],
   "source": []
  },
  {
   "cell_type": "code",
   "execution_count": null,
   "metadata": {
    "id": "hmrIgqM4pRqk"
   },
   "outputs": [],
   "source": []
  },
  {
   "cell_type": "code",
   "execution_count": null,
   "metadata": {
    "id": "t4sOrsjXRQXL"
   },
   "outputs": [],
   "source": []
  },
  {
   "cell_type": "code",
   "execution_count": null,
   "metadata": {
    "id": "g3JfuZq9RQaL"
   },
   "outputs": [],
   "source": []
  }
 ],
 "metadata": {
  "colab": {
   "authorship_tag": "ABX9TyP7sRVCqfvs1TQ74+PbQOAo",
   "cell_execution_strategy": "setup",
   "provenance": []
  },
  "kernelspec": {
   "display_name": "Python 3",
   "name": "python3"
  },
  "language_info": {
   "name": "python"
  }
 },
 "nbformat": 4,
 "nbformat_minor": 0
}
